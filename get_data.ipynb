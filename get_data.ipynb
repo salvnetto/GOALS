{
 "cells": [
  {
   "cell_type": "code",
   "execution_count": 20,
   "metadata": {},
   "outputs": [],
   "source": [
    "import os\n",
    "import time\n",
    "import requests\n",
    "from bs4 import BeautifulSoup\n",
    "#from playwright.async_api import async_playwright, TimeoutError as PlaywrightTimeout"
   ]
  },
  {
   "cell_type": "code",
   "execution_count": 21,
   "metadata": {},
   "outputs": [],
   "source": [
    "tabela_url = \"https://fbref.com/en/comps/24/Serie-A-Stats\""
   ]
  },
  {
   "cell_type": "code",
   "execution_count": 22,
   "metadata": {},
   "outputs": [],
   "source": [
    "data = requests.get(tabela_url)"
   ]
  },
  {
   "cell_type": "code",
   "execution_count": 23,
   "metadata": {},
   "outputs": [],
   "source": [
    "soup = BeautifulSoup(data.text)"
   ]
  },
  {
   "cell_type": "code",
   "execution_count": 24,
   "metadata": {},
   "outputs": [],
   "source": [
    "tabela_geral = soup.select('table.stats_table')[0]"
   ]
  },
  {
   "cell_type": "code",
   "execution_count": 25,
   "metadata": {},
   "outputs": [],
   "source": [
    "links = tabela_geral.find_all('a')"
   ]
  },
  {
   "cell_type": "code",
   "execution_count": 26,
   "metadata": {},
   "outputs": [],
   "source": [
    "links = [l.get(\"href\") for l in links]"
   ]
  },
  {
   "cell_type": "code",
   "execution_count": 27,
   "metadata": {},
   "outputs": [],
   "source": [
    "links = [l for l in links if '/squads/' in l]"
   ]
  },
  {
   "cell_type": "code",
   "execution_count": 30,
   "metadata": {},
   "outputs": [
    {
     "data": {
      "text/plain": [
       "['https://fbref.com/en/squads/d9fdd9d9/Botafogo-RJ-Stats',\n",
       " 'https://fbref.com/en/squads/f98930d1/Bragantino-Stats',\n",
       " 'https://fbref.com/en/squads/d5ae3703/Gremio-Stats',\n",
       " 'https://fbref.com/en/squads/abdce579/Palmeiras-Stats',\n",
       " 'https://fbref.com/en/squads/639950ae/Flamengo-Stats',\n",
       " 'https://fbref.com/en/squads/a9d0ab0e/Fortaleza-Stats',\n",
       " 'https://fbref.com/en/squads/84d9701c/Fluminense-Stats',\n",
       " 'https://fbref.com/en/squads/2091c619/Athletico-Paranaense-Stats',\n",
       " 'https://fbref.com/en/squads/422bb734/Atletico-Mineiro-Stats',\n",
       " 'https://fbref.com/en/squads/5f232eb1/Sao-Paulo-Stats',\n",
       " 'https://fbref.com/en/squads/f0e6fb14/Cuiaba-Stats',\n",
       " 'https://fbref.com/en/squads/6f7e1f03/Internacional-Stats',\n",
       " 'https://fbref.com/en/squads/bf4acd28/Corinthians-Stats',\n",
       " 'https://fbref.com/en/squads/712c528f/Santos-Stats',\n",
       " 'https://fbref.com/en/squads/03ff5eeb/Cruzeiro-Stats',\n",
       " 'https://fbref.com/en/squads/157b7fee/Bahia-Stats',\n",
       " 'https://fbref.com/en/squads/83f55dbe/Vasco-da-Gama-Stats',\n",
       " 'https://fbref.com/en/squads/78c617cc/Goias-Stats',\n",
       " 'https://fbref.com/en/squads/d680d257/Coritiba-Stats',\n",
       " 'https://fbref.com/en/squads/1f68d780/America-MG-Stats']"
      ]
     },
     "execution_count": 30,
     "metadata": {},
     "output_type": "execute_result"
    }
   ],
   "source": [
    "times_url = [f\"https://fbref.com{l}\" for l in links]\n",
    "times_url"
   ]
  }
 ],
 "metadata": {
  "kernelspec": {
   "display_name": "base",
   "language": "python",
   "name": "python3"
  },
  "language_info": {
   "codemirror_mode": {
    "name": "ipython",
    "version": 3
   },
   "file_extension": ".py",
   "mimetype": "text/x-python",
   "name": "python",
   "nbconvert_exporter": "python",
   "pygments_lexer": "ipython3",
   "version": "3.11.4"
  }
 },
 "nbformat": 4,
 "nbformat_minor": 2
}

{
 "cells": [
  {
   "cell_type": "code",
   "execution_count": 62,
   "metadata": {},
   "outputs": [],
   "source": [
    "def _get_table_data(link):\n",
    "    try:\n",
    "        data = pd.read_html(link)[0]\n",
    "        data.columns = data.columns.droplevel()\n",
    "        return data\n",
    "    except (ValueError, IndexError):\n",
    "        return None\n",
    "\n",
    "def _get_specific_table_data(anchor, keyword):\n",
    "    links = [l for l in anchor if l and keyword in l]\n",
    "    if links:\n",
    "        return _get_table_data(f\"https://fbref.com{links[0]}\")\n",
    "    return None\n",
    "\n",
    "def _process_team_match(team, season, league_id, name):\n",
    "    team_name = team.split('/')[-1].replace('-Stats', '').replace('-', '_').lower()\n",
    "    team_mh = pd.read_html(team)[1]\n",
    "    team_mh['season'] = season\n",
    "    team_mh['league_id'] = league_id\n",
    "    team_mh['league_name'] = name\n",
    "    team_mh['team'] = team_name\n",
    "    print(f'--{team_name}')\n",
    "\n",
    "    data = requests.get(team)\n",
    "    soup = BeautifulSoup(data.text, features='lxml')\n",
    "    anchor = [link.get(\"href\") for link in soup.find_all('a')]\n",
    "\n",
    "    for keyword, col_rename in [(\"all_comps/shooting/\", {'Date': 'Date', 'Sh': 'Sh', 'SoT': 'SoT'}),\n",
    "                                (\"all_comps/keeper\", {'Date': 'Date', 'Saves': 'Saves'}),\n",
    "                                (\"all_comps/passing\", {'Date': 'Date', 'Cmp': 'Cmp', 'Att': 'Att', 'PrgP': 'PrgP', 'KP': 'KP', '1/3': 'pass_3rd'}),\n",
    "                                (\"all_comps/passing_types\", {'Date': 'Date', 'Sw': 'Sw', 'Crs': 'Crs'}),\n",
    "                                (\"all_comps/gca\", {'Date': 'Date', 'SCA': 'SCA', 'GCA': 'GCA'}),\n",
    "                                (\"all_comps/defense\", {'Date': 'Date', 'Tkl': 'Tkl', 'TklW': 'TklW', 'Def 3rd': 'Tkl_Def_3rd', 'Att 3rd': 'Tkl_Att_3rd', 'Blocks': 'Blocks', 'Int': 'Int'}),\n",
    "                                (\"all_comps/possession\", {'Date': 'Date', 'Att 3rd': 'Touches_Att_3rd'}),\n",
    "                                (\"all_comps/misc\", {'Date': 'Date', 'Fls': 'Fls', 'Off': 'Off', 'Recov': 'Recov'})]:\n",
    "        table_data = _get_specific_table_data(anchor, keyword)\n",
    "        if table_data is not None:\n",
    "            team_mh = team_mh.merge(table_data, on='Date')\n",
    "            team_mh.rename(columns=col_rename, inplace=True)\n",
    "\n",
    "    return team_mh\n",
    "\n",
    "def _get_team_match_history(self, season, urls):\n",
    "    match_history = []\n",
    "    for team in urls:\n",
    "        team_mh = _process_team_match(team, season, self.league_id, self.name)\n",
    "        match_history.append(team_mh)\n",
    "        time.sleep(10)\n",
    "    match_history = pd.concat(match_history)\n",
    "    return match_history\n"
   ]
  },
  {
   "cell_type": "code",
   "execution_count": null,
   "metadata": {},
   "outputs": [],
   "source": []
  }
 ],
 "metadata": {
  "kernelspec": {
   "display_name": "base",
   "language": "python",
   "name": "python3"
  },
  "language_info": {
   "codemirror_mode": {
    "name": "ipython",
    "version": 3
   },
   "file_extension": ".py",
   "mimetype": "text/x-python",
   "name": "python",
   "nbconvert_exporter": "python",
   "pygments_lexer": "ipython3",
   "version": "3.11.5"
  }
 },
 "nbformat": 4,
 "nbformat_minor": 2
}

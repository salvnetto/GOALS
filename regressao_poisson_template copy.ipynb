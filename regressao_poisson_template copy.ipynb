{
 "cells": [
  {
   "cell_type": "code",
   "execution_count": 11,
   "metadata": {},
   "outputs": [],
   "source": [
    "import pandas as pd\n",
    "import numpy as np\n",
    "import matplotlib.pyplot as plt\n",
    "import seaborn as sns\n",
    "import statsmodels.api as sm\n",
    "import statsmodels.formula.api as smf\n",
    "from scipy import stats"
   ]
  },
  {
   "cell_type": "code",
   "execution_count": 4,
   "metadata": {},
   "outputs": [
    {
     "data": {
      "text/html": [
       "<div>\n",
       "<style scoped>\n",
       "    .dataframe tbody tr th:only-of-type {\n",
       "        vertical-align: middle;\n",
       "    }\n",
       "\n",
       "    .dataframe tbody tr th {\n",
       "        vertical-align: top;\n",
       "    }\n",
       "\n",
       "    .dataframe thead th {\n",
       "        text-align: right;\n",
       "    }\n",
       "</style>\n",
       "<table border=\"1\" class=\"dataframe\">\n",
       "  <thead>\n",
       "    <tr style=\"text-align: right;\">\n",
       "      <th></th>\n",
       "      <th>HomeTeam</th>\n",
       "      <th>AwayTeam</th>\n",
       "      <th>HomeGoals</th>\n",
       "      <th>AwayGoals</th>\n",
       "    </tr>\n",
       "  </thead>\n",
       "  <tbody>\n",
       "    <tr>\n",
       "      <th>0</th>\n",
       "      <td>Brentford</td>\n",
       "      <td>Arsenal</td>\n",
       "      <td>2</td>\n",
       "      <td>0</td>\n",
       "    </tr>\n",
       "    <tr>\n",
       "      <th>1</th>\n",
       "      <td>Man United</td>\n",
       "      <td>Leeds</td>\n",
       "      <td>5</td>\n",
       "      <td>1</td>\n",
       "    </tr>\n",
       "    <tr>\n",
       "      <th>2</th>\n",
       "      <td>Burnley</td>\n",
       "      <td>Brighton</td>\n",
       "      <td>1</td>\n",
       "      <td>2</td>\n",
       "    </tr>\n",
       "    <tr>\n",
       "      <th>3</th>\n",
       "      <td>Chelsea</td>\n",
       "      <td>Crystal Palace</td>\n",
       "      <td>3</td>\n",
       "      <td>0</td>\n",
       "    </tr>\n",
       "    <tr>\n",
       "      <th>4</th>\n",
       "      <td>Everton</td>\n",
       "      <td>Southampton</td>\n",
       "      <td>3</td>\n",
       "      <td>1</td>\n",
       "    </tr>\n",
       "  </tbody>\n",
       "</table>\n",
       "</div>"
      ],
      "text/plain": [
       "     HomeTeam        AwayTeam  HomeGoals  AwayGoals\n",
       "0   Brentford         Arsenal          2          0\n",
       "1  Man United           Leeds          5          1\n",
       "2     Burnley        Brighton          1          2\n",
       "3     Chelsea  Crystal Palace          3          0\n",
       "4     Everton     Southampton          3          1"
      ]
     },
     "execution_count": 4,
     "metadata": {},
     "output_type": "execute_result"
    }
   ],
   "source": [
    "epl_1718 = pd.read_csv(\"https://www.football-data.co.uk/mmz4281/2122/E0.csv\")\n",
    "epl_1718 = epl_1718[['HomeTeam','AwayTeam','FTHG','FTAG']]\n",
    "epl_1718 = epl_1718.rename(columns={'FTHG': 'HomeGoals', 'FTAG': 'AwayGoals'})\n",
    "epl_1718.head()"
   ]
  },
  {
   "cell_type": "code",
   "execution_count": 5,
   "metadata": {},
   "outputs": [
    {
     "data": {
      "text/html": [
       "<div>\n",
       "<style scoped>\n",
       "    .dataframe tbody tr th:only-of-type {\n",
       "        vertical-align: middle;\n",
       "    }\n",
       "\n",
       "    .dataframe tbody tr th {\n",
       "        vertical-align: top;\n",
       "    }\n",
       "\n",
       "    .dataframe thead th {\n",
       "        text-align: right;\n",
       "    }\n",
       "</style>\n",
       "<table border=\"1\" class=\"dataframe\">\n",
       "  <thead>\n",
       "    <tr style=\"text-align: right;\">\n",
       "      <th></th>\n",
       "      <th>team</th>\n",
       "      <th>opponent</th>\n",
       "      <th>goals</th>\n",
       "      <th>home</th>\n",
       "    </tr>\n",
       "  </thead>\n",
       "  <tbody>\n",
       "    <tr>\n",
       "      <th>0</th>\n",
       "      <td>Brentford</td>\n",
       "      <td>Arsenal</td>\n",
       "      <td>2</td>\n",
       "      <td>1</td>\n",
       "    </tr>\n",
       "    <tr>\n",
       "      <th>1</th>\n",
       "      <td>Man United</td>\n",
       "      <td>Leeds</td>\n",
       "      <td>5</td>\n",
       "      <td>1</td>\n",
       "    </tr>\n",
       "    <tr>\n",
       "      <th>2</th>\n",
       "      <td>Burnley</td>\n",
       "      <td>Brighton</td>\n",
       "      <td>1</td>\n",
       "      <td>1</td>\n",
       "    </tr>\n",
       "    <tr>\n",
       "      <th>3</th>\n",
       "      <td>Chelsea</td>\n",
       "      <td>Crystal Palace</td>\n",
       "      <td>3</td>\n",
       "      <td>1</td>\n",
       "    </tr>\n",
       "    <tr>\n",
       "      <th>4</th>\n",
       "      <td>Everton</td>\n",
       "      <td>Southampton</td>\n",
       "      <td>3</td>\n",
       "      <td>1</td>\n",
       "    </tr>\n",
       "    <tr>\n",
       "      <th>...</th>\n",
       "      <td>...</td>\n",
       "      <td>...</td>\n",
       "      <td>...</td>\n",
       "      <td>...</td>\n",
       "    </tr>\n",
       "    <tr>\n",
       "      <th>375</th>\n",
       "      <td>Man United</td>\n",
       "      <td>Crystal Palace</td>\n",
       "      <td>0</td>\n",
       "      <td>0</td>\n",
       "    </tr>\n",
       "    <tr>\n",
       "      <th>376</th>\n",
       "      <td>Southampton</td>\n",
       "      <td>Leicester</td>\n",
       "      <td>1</td>\n",
       "      <td>0</td>\n",
       "    </tr>\n",
       "    <tr>\n",
       "      <th>377</th>\n",
       "      <td>Wolves</td>\n",
       "      <td>Liverpool</td>\n",
       "      <td>1</td>\n",
       "      <td>0</td>\n",
       "    </tr>\n",
       "    <tr>\n",
       "      <th>378</th>\n",
       "      <td>Aston Villa</td>\n",
       "      <td>Man City</td>\n",
       "      <td>2</td>\n",
       "      <td>0</td>\n",
       "    </tr>\n",
       "    <tr>\n",
       "      <th>379</th>\n",
       "      <td>Tottenham</td>\n",
       "      <td>Norwich</td>\n",
       "      <td>5</td>\n",
       "      <td>0</td>\n",
       "    </tr>\n",
       "  </tbody>\n",
       "</table>\n",
       "<p>760 rows × 4 columns</p>\n",
       "</div>"
      ],
      "text/plain": [
       "            team        opponent  goals  home\n",
       "0      Brentford         Arsenal      2     1\n",
       "1     Man United           Leeds      5     1\n",
       "2        Burnley        Brighton      1     1\n",
       "3        Chelsea  Crystal Palace      3     1\n",
       "4        Everton     Southampton      3     1\n",
       "..           ...             ...    ...   ...\n",
       "375   Man United  Crystal Palace      0     0\n",
       "376  Southampton       Leicester      1     0\n",
       "377       Wolves       Liverpool      1     0\n",
       "378  Aston Villa        Man City      2     0\n",
       "379    Tottenham         Norwich      5     0\n",
       "\n",
       "[760 rows x 4 columns]"
      ]
     },
     "execution_count": 5,
     "metadata": {},
     "output_type": "execute_result"
    }
   ],
   "source": [
    "goal_model_data = pd.concat([epl_1718[['HomeTeam','AwayTeam','HomeGoals']].assign(home=1).rename(\n",
    "            columns={'HomeTeam':'team', 'AwayTeam':'opponent','HomeGoals':'goals'}),\n",
    "           epl_1718[['AwayTeam','HomeTeam','AwayGoals']].assign(home=0).rename(\n",
    "            columns={'AwayTeam':'team', 'HomeTeam':'opponent','AwayGoals':'goals'})])\n",
    "goal_model_data"
   ]
  },
  {
   "cell_type": "code",
   "execution_count": 6,
   "metadata": {},
   "outputs": [
    {
     "name": "stdout",
     "output_type": "stream",
     "text": [
      "                 Generalized Linear Model Regression Results                  \n",
      "==============================================================================\n",
      "Dep. Variable:                  goals   No. Observations:                  760\n",
      "Model:                            GLM   Df Residuals:                      720\n",
      "Model Family:                 Poisson   Df Model:                           39\n",
      "Link Function:                    Log   Scale:                          1.0000\n",
      "Method:                          IRLS   Log-Likelihood:                -1075.0\n",
      "Date:                Sun, 22 Oct 2023   Deviance:                       794.70\n",
      "Time:                        16:14:32   Pearson chi2:                     694.\n",
      "No. Iterations:                     5   Pseudo R-squ. (CS):             0.2519\n",
      "Covariance Type:            nonrobust                                         \n",
      "==============================================================================================\n",
      "                                 coef    std err          z      P>|z|      [0.025      0.975]\n",
      "----------------------------------------------------------------------------------------------\n",
      "Intercept                      0.2935      0.198      1.480      0.139      -0.095       0.682\n",
      "team[T.Aston Villa]           -0.1541      0.189     -0.816      0.415      -0.525       0.216\n",
      "team[T.Brentford]             -0.2324      0.193     -1.203      0.229      -0.611       0.146\n",
      "team[T.Brighton]              -0.3780      0.201     -1.883      0.060      -0.771       0.015\n",
      "team[T.Burnley]               -0.5809      0.214     -2.711      0.007      -1.001      -0.161\n",
      "team[T.Chelsea]                0.2056      0.172      1.194      0.232      -0.132       0.543\n",
      "team[T.Crystal Palace]        -0.2013      0.191     -1.054      0.292      -0.576       0.173\n",
      "team[T.Everton]               -0.3328      0.199     -1.669      0.095      -0.724       0.058\n",
      "team[T.Leeds]                 -0.3435      0.201     -1.710      0.087      -0.737       0.050\n",
      "team[T.Leicester]              0.0273      0.181      0.151      0.880      -0.327       0.381\n",
      "team[T.Liverpool]              0.4117      0.165      2.501      0.012       0.089       0.734\n",
      "team[T.Man City]               0.4636      0.163      2.845      0.004       0.144       0.783\n",
      "team[T.Man United]            -0.0591      0.185     -0.320      0.749      -0.421       0.303\n",
      "team[T.Newcastle]             -0.3137      0.198     -1.584      0.113      -0.702       0.074\n",
      "team[T.Norwich]               -0.9422      0.245     -3.846      0.000      -1.422      -0.462\n",
      "team[T.Southampton]           -0.3318      0.199     -1.664      0.096      -0.723       0.059\n",
      "team[T.Tottenham]              0.1156      0.176      0.657      0.511      -0.229       0.461\n",
      "team[T.Watford]               -0.5574      0.214     -2.601      0.009      -0.977      -0.137\n",
      "team[T.West Ham]              -0.0136      0.182     -0.075      0.940      -0.370       0.343\n",
      "team[T.Wolves]                -0.4792      0.207     -2.316      0.021      -0.885      -0.074\n",
      "opponent[T.Aston Villa]        0.1092      0.199      0.550      0.583      -0.280       0.499\n",
      "opponent[T.Brentford]          0.1417      0.197      0.719      0.472      -0.244       0.528\n",
      "opponent[T.Brighton]          -0.1058      0.209     -0.506      0.613      -0.515       0.304\n",
      "opponent[T.Burnley]            0.0729      0.199      0.365      0.715      -0.318       0.464\n",
      "opponent[T.Chelsea]           -0.3608      0.226     -1.594      0.111      -0.805       0.083\n",
      "opponent[T.Crystal Palace]    -0.0535      0.207     -0.259      0.796      -0.458       0.351\n",
      "opponent[T.Everton]            0.3015      0.190      1.587      0.112      -0.071       0.674\n",
      "opponent[T.Leeds]              0.4809      0.183      2.624      0.009       0.122       0.840\n",
      "opponent[T.Leicester]          0.2080      0.195      1.068      0.285      -0.174       0.590\n",
      "opponent[T.Liverpool]         -0.5819      0.244     -2.387      0.017      -1.060      -0.104\n",
      "opponent[T.Man City]          -0.5769      0.244     -2.366      0.018      -1.055      -0.099\n",
      "opponent[T.Man United]         0.1684      0.196      0.858      0.391      -0.216       0.553\n",
      "opponent[T.Newcastle]          0.2398      0.193      1.246      0.213      -0.138       0.617\n",
      "opponent[T.Norwich]            0.5235      0.181      2.889      0.004       0.168       0.879\n",
      "opponent[T.Southampton]        0.3166      0.189      1.672      0.095      -0.055       0.688\n",
      "opponent[T.Tottenham]         -0.1749      0.214     -0.816      0.415      -0.595       0.245\n",
      "opponent[T.Watford]            0.4472      0.184      2.428      0.015       0.086       0.808\n",
      "opponent[T.West Ham]           0.0598      0.201      0.297      0.766      -0.335       0.455\n",
      "opponent[T.Wolves]            -0.1327      0.210     -0.631      0.528      -0.545       0.279\n",
      "home                           0.1478      0.061      2.412      0.016       0.028       0.268\n",
      "==============================================================================================\n"
     ]
    }
   ],
   "source": [
    "poisson_model = smf.glm(formula=\"goals ~ home + team + opponent\", data=goal_model_data, \n",
    "                        family=sm.families.Poisson()).fit()\n",
    "\n",
    "print(poisson_model.summary())"
   ]
  },
  {
   "cell_type": "code",
   "execution_count": 7,
   "metadata": {},
   "outputs": [
    {
     "data": {
      "text/plain": [
       "1    2.133813\n",
       "dtype: float64"
      ]
     },
     "execution_count": 7,
     "metadata": {},
     "output_type": "execute_result"
    }
   ],
   "source": [
    "poisson_model.predict(pd.DataFrame(data={'team': 'Arsenal', 'opponent': 'Southampton',\n",
    "                                       'home':1},index=[1]))"
   ]
  },
  {
   "cell_type": "code",
   "execution_count": 8,
   "metadata": {},
   "outputs": [
    {
     "data": {
      "text/plain": [
       "1    0.962409\n",
       "dtype: float64"
      ]
     },
     "execution_count": 8,
     "metadata": {},
     "output_type": "execute_result"
    }
   ],
   "source": [
    "poisson_model.predict(pd.DataFrame(data={'team': 'Southampton', 'opponent': 'Arsenal',\n",
    "                                       'home':0},index=[1]))"
   ]
  },
  {
   "cell_type": "code",
   "execution_count": 12,
   "metadata": {},
   "outputs": [
    {
     "name": "stdout",
     "output_type": "stream",
     "text": [
      "[[0.04521972 0.04351987 0.02094196 0.00671824 0.00161642]\n",
      " [0.09649042 0.09286326 0.04468622 0.01433548 0.00344915]\n",
      " [0.10294625 0.09907641 0.04767602 0.01529461 0.00367992]\n",
      " [0.07322268 0.07047018 0.03391057 0.01087861 0.00261742]\n",
      " [0.03906088 0.03759254 0.0180897  0.00580323 0.00139627]]\n"
     ]
    }
   ],
   "source": [
    "def simulate_match(foot_model, homeTeam, awayTeam, max_goals=10):\n",
    "    home_goals_avg = foot_model.predict(pd.DataFrame(data={'team': homeTeam, \n",
    "                                                            'opponent': awayTeam,'home':1},\n",
    "                                                      index=[1])).values[0]\n",
    "    away_goals_avg = foot_model.predict(pd.DataFrame(data={'team': awayTeam, \n",
    "                                                            'opponent': homeTeam,'home':0},\n",
    "                                                      index=[1])).values[0]\n",
    "    team_pred = [[stats.poisson.pmf(i, team_avg) for i in range(0, max_goals+1)] for team_avg in [home_goals_avg, away_goals_avg]]\n",
    "    return(np.outer(np.array(team_pred[0]), np.array(team_pred[1])))\n",
    "ars_sou = simulate_match(poisson_model, 'Arsenal', 'Southampton', max_goals=10)\n",
    "print(ars_sou[0:5, 0:5])"
   ]
  },
  {
   "cell_type": "code",
   "execution_count": null,
   "metadata": {},
   "outputs": [],
   "source": []
  }
 ],
 "metadata": {
  "kernelspec": {
   "display_name": "base",
   "language": "python",
   "name": "python3"
  },
  "language_info": {
   "codemirror_mode": {
    "name": "ipython",
    "version": 3
   },
   "file_extension": ".py",
   "mimetype": "text/x-python",
   "name": "python",
   "nbconvert_exporter": "python",
   "pygments_lexer": "ipython3",
   "version": "3.11.6"
  }
 },
 "nbformat": 4,
 "nbformat_minor": 2
}

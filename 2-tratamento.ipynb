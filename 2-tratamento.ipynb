{
 "cells": [
  {
   "cell_type": "code",
   "execution_count": 113,
   "metadata": {},
   "outputs": [],
   "source": [
    "import os\n",
    "import pandas as pd\n",
    "from unidecode import unidecode\n",
    "\n",
    "import warnings\n",
    "from pandas.errors import SettingWithCopyWarning\n",
    "warnings.simplefilter(action=\"ignore\", category=SettingWithCopyWarning)\n",
    "warnings.simplefilter(action='ignore', category=FutureWarning)"
   ]
  },
  {
   "cell_type": "code",
   "execution_count": 114,
   "metadata": {},
   "outputs": [],
   "source": [
    "def remover_acentos(texto):\n",
    "    return unidecode(texto)"
   ]
  },
  {
   "cell_type": "code",
   "execution_count": 115,
   "metadata": {},
   "outputs": [],
   "source": [
    "def convert_to_int(value):\n",
    "    try:\n",
    "        return int(value)\n",
    "    except (ValueError, TypeError):\n",
    "        return pd.NA"
   ]
  },
  {
   "cell_type": "markdown",
   "metadata": {},
   "source": [
    "# IMPORTS"
   ]
  },
  {
   "cell_type": "code",
   "execution_count": 116,
   "metadata": {},
   "outputs": [],
   "source": [
    "league = {'brasileirao_a': ['Brasileirao'],\n",
    "          'premier_league': ['Premier_League'],}\n",
    "\n",
    "\n",
    "liga = league['brasileirao_a'][0]"
   ]
  },
  {
   "cell_type": "code",
   "execution_count": 117,
   "metadata": {},
   "outputs": [],
   "source": [
    "historico = pd.read_excel(f'datasets/{liga}/match_history/historico-2015a2023(naotratada).xlsx')"
   ]
  },
  {
   "cell_type": "code",
   "execution_count": 118,
   "metadata": {},
   "outputs": [],
   "source": [
    "historico.drop(historico.columns[0], axis=1, inplace=True)"
   ]
  },
  {
   "cell_type": "markdown",
   "metadata": {},
   "source": [
    "# HISTORICO"
   ]
  },
  {
   "cell_type": "markdown",
   "metadata": {},
   "source": [
    "### Data cleaning"
   ]
  },
  {
   "cell_type": "code",
   "execution_count": 119,
   "metadata": {},
   "outputs": [],
   "source": [
    "historico.drop(\n",
    "  ['notes','captain', 'formation', 'referee', 'match report', 'attendance', 'time'], \n",
    "  axis= 'columns', inplace= True)"
   ]
  },
  {
   "cell_type": "code",
   "execution_count": 120,
   "metadata": {},
   "outputs": [],
   "source": [
    "historico[['gf', 'ga']] = historico[['gf', 'ga']].astype(int)\n",
    "historico['season'] = historico['season'].astype(int)\n",
    "historico['round'] = historico['round'].str.split(' ', expand= True)[1].astype(int)"
   ]
  },
  {
   "cell_type": "code",
   "execution_count": 121,
   "metadata": {},
   "outputs": [],
   "source": [
    "historico['opponent'] = historico['opponent'].apply(remover_acentos)\n",
    "historico['opponent'] = [linha.lower() for linha in historico['opponent']]\n",
    "historico['opponent'] = historico['opponent'].str.replace(' ', '_')\n",
    "historico['opponent'] = historico['opponent'].str.replace('(', '')\n",
    "historico['opponent'] = historico['opponent'].str.replace(')', '')\n",
    "historico['opponent'] = historico['opponent'].str.replace(')', '')\n",
    "\n",
    "# Especifico para o brasileirão\n",
    "historico['opponent'] = historico['opponent'].str.replace('atletico', 'atl')\n",
    "historico['team'] = historico['team'].str.replace('athletico', 'ath')\n",
    "historico['team'] = historico['team'].str.replace('atletico', 'atl')"
   ]
  },
  {
   "cell_type": "code",
   "execution_count": 122,
   "metadata": {},
   "outputs": [
    {
     "data": {
      "text/html": [
       "<div>\n",
       "<style scoped>\n",
       "    .dataframe tbody tr th:only-of-type {\n",
       "        vertical-align: middle;\n",
       "    }\n",
       "\n",
       "    .dataframe tbody tr th {\n",
       "        vertical-align: top;\n",
       "    }\n",
       "\n",
       "    .dataframe thead th {\n",
       "        text-align: right;\n",
       "    }\n",
       "</style>\n",
       "<table border=\"1\" class=\"dataframe\">\n",
       "  <thead>\n",
       "    <tr style=\"text-align: right;\">\n",
       "      <th></th>\n",
       "      <th>date</th>\n",
       "      <th>comp</th>\n",
       "      <th>round</th>\n",
       "      <th>day</th>\n",
       "      <th>venue</th>\n",
       "      <th>result</th>\n",
       "      <th>gf</th>\n",
       "      <th>ga</th>\n",
       "      <th>opponent</th>\n",
       "      <th>xg</th>\n",
       "      <th>xga</th>\n",
       "      <th>poss</th>\n",
       "      <th>sh</th>\n",
       "      <th>sot</th>\n",
       "      <th>season</th>\n",
       "      <th>team</th>\n",
       "    </tr>\n",
       "  </thead>\n",
       "  <tbody>\n",
       "    <tr>\n",
       "      <th>0</th>\n",
       "      <td>2023-04-15</td>\n",
       "      <td>Série A</td>\n",
       "      <td>1</td>\n",
       "      <td>Sat</td>\n",
       "      <td>Home</td>\n",
       "      <td>W</td>\n",
       "      <td>2</td>\n",
       "      <td>1</td>\n",
       "      <td>sao_paulo</td>\n",
       "      <td>0.9</td>\n",
       "      <td>2.0</td>\n",
       "      <td>33.0</td>\n",
       "      <td>12.0</td>\n",
       "      <td>3.0</td>\n",
       "      <td>2023</td>\n",
       "      <td>botafogo_rj</td>\n",
       "    </tr>\n",
       "    <tr>\n",
       "      <th>1</th>\n",
       "      <td>2023-04-24</td>\n",
       "      <td>Série A</td>\n",
       "      <td>2</td>\n",
       "      <td>Mon</td>\n",
       "      <td>Away</td>\n",
       "      <td>W</td>\n",
       "      <td>2</td>\n",
       "      <td>1</td>\n",
       "      <td>bahia</td>\n",
       "      <td>0.2</td>\n",
       "      <td>0.9</td>\n",
       "      <td>42.0</td>\n",
       "      <td>5.0</td>\n",
       "      <td>3.0</td>\n",
       "      <td>2023</td>\n",
       "      <td>botafogo_rj</td>\n",
       "    </tr>\n",
       "    <tr>\n",
       "      <th>2</th>\n",
       "      <td>2023-04-30</td>\n",
       "      <td>Série A</td>\n",
       "      <td>3</td>\n",
       "      <td>Sun</td>\n",
       "      <td>Away</td>\n",
       "      <td>W</td>\n",
       "      <td>3</td>\n",
       "      <td>2</td>\n",
       "      <td>flamengo</td>\n",
       "      <td>1.9</td>\n",
       "      <td>3.1</td>\n",
       "      <td>26.0</td>\n",
       "      <td>11.0</td>\n",
       "      <td>5.0</td>\n",
       "      <td>2023</td>\n",
       "      <td>botafogo_rj</td>\n",
       "    </tr>\n",
       "    <tr>\n",
       "      <th>3</th>\n",
       "      <td>2023-05-07</td>\n",
       "      <td>Série A</td>\n",
       "      <td>4</td>\n",
       "      <td>Sun</td>\n",
       "      <td>Home</td>\n",
       "      <td>W</td>\n",
       "      <td>2</td>\n",
       "      <td>0</td>\n",
       "      <td>atl_mineiro</td>\n",
       "      <td>2.0</td>\n",
       "      <td>0.5</td>\n",
       "      <td>39.0</td>\n",
       "      <td>22.0</td>\n",
       "      <td>7.0</td>\n",
       "      <td>2023</td>\n",
       "      <td>botafogo_rj</td>\n",
       "    </tr>\n",
       "    <tr>\n",
       "      <th>4</th>\n",
       "      <td>2023-05-11</td>\n",
       "      <td>Série A</td>\n",
       "      <td>5</td>\n",
       "      <td>Thu</td>\n",
       "      <td>Home</td>\n",
       "      <td>W</td>\n",
       "      <td>3</td>\n",
       "      <td>0</td>\n",
       "      <td>corinthians</td>\n",
       "      <td>2.6</td>\n",
       "      <td>0.6</td>\n",
       "      <td>53.0</td>\n",
       "      <td>15.0</td>\n",
       "      <td>5.0</td>\n",
       "      <td>2023</td>\n",
       "      <td>botafogo_rj</td>\n",
       "    </tr>\n",
       "  </tbody>\n",
       "</table>\n",
       "</div>"
      ],
      "text/plain": [
       "         date     comp  round  day venue result  gf  ga     opponent   xg  \\\n",
       "0  2023-04-15  Série A      1  Sat  Home      W   2   1    sao_paulo  0.9   \n",
       "1  2023-04-24  Série A      2  Mon  Away      W   2   1        bahia  0.2   \n",
       "2  2023-04-30  Série A      3  Sun  Away      W   3   2     flamengo  1.9   \n",
       "3  2023-05-07  Série A      4  Sun  Home      W   2   0  atl_mineiro  2.0   \n",
       "4  2023-05-11  Série A      5  Thu  Home      W   3   0  corinthians  2.6   \n",
       "\n",
       "   xga  poss    sh  sot  season         team  \n",
       "0  2.0  33.0  12.0  3.0    2023  botafogo_rj  \n",
       "1  0.9  42.0   5.0  3.0    2023  botafogo_rj  \n",
       "2  3.1  26.0  11.0  5.0    2023  botafogo_rj  \n",
       "3  0.5  39.0  22.0  7.0    2023  botafogo_rj  \n",
       "4  0.6  53.0  15.0  5.0    2023  botafogo_rj  "
      ]
     },
     "execution_count": 122,
     "metadata": {},
     "output_type": "execute_result"
    }
   ],
   "source": [
    "historico.head()"
   ]
  },
  {
   "cell_type": "markdown",
   "metadata": {},
   "source": [
    "### Divisão do DF"
   ]
  },
  {
   "cell_type": "markdown",
   "metadata": {},
   "source": [
    "Casa"
   ]
  },
  {
   "cell_type": "code",
   "execution_count": 123,
   "metadata": {},
   "outputs": [],
   "source": [
    "historico_casa = historico[historico['venue'] == 'Home']\n",
    "historico_casa.to_excel(f'datasets/{liga}/match_history/home_only/historico-2015a2023.xlsx', index=False)"
   ]
  },
  {
   "cell_type": "code",
   "execution_count": 128,
   "metadata": {},
   "outputs": [],
   "source": [
    "for season in historico_casa['season'].unique():\n",
    "  if not os.path.exists(f'dataset/{liga}/match_history/home_only/season-{season}'):\n",
    "    os.makedirs(f'dataset/{liga}/match_history/home_only/season-{season}')\n",
    "  df = historico_casa[historico_casa['season'] == season]\n",
    "  df.to_excel(f'dataset/{liga}/match_history/home_only/season-{season}/historico.xlsx', index= False)"
   ]
  },
  {
   "cell_type": "markdown",
   "metadata": {},
   "source": [
    "Por Time"
   ]
  },
  {
   "cell_type": "code",
   "execution_count": null,
   "metadata": {},
   "outputs": [],
   "source": [
    "for time in historico['team']:\n",
    "  df = historico[historico['team'] == time]\n",
    "  df.to_excel(f'dataset/{liga}/match_history/teams/{time}.xlsx', index= False)"
   ]
  },
  {
   "cell_type": "code",
   "execution_count": 7,
   "metadata": {},
   "outputs": [],
   "source": [
    "data_ultimo_jogo = historico['Round'].max()\n",
    "historico.to_excel(f'dados/historico/historico-rodada_{data_ultimo_jogo}.xlsx', sheet_name='historico', index=False)\n"
   ]
  },
  {
   "cell_type": "code",
   "execution_count": null,
   "metadata": {},
   "outputs": [],
   "source": [
    "resultados_rodada = historico_casa[historico_casa['Round'] == rodada]\n",
    "resultados_rodada.to_excel(f'dados/historico/resultados/rodada-{rodada}.xlsx')"
   ]
  },
  {
   "cell_type": "markdown",
   "metadata": {},
   "source": [
    "# TABELA"
   ]
  },
  {
   "cell_type": "code",
   "execution_count": null,
   "metadata": {},
   "outputs": [],
   "source": [
    "tabela_df.drop(['Attendance', 'Top Team Scorer', 'Goalkeeper', 'Notes'], axis= 'columns', inplace= True)\n",
    "tabela_df['xGConv'] = tabela_df['GF'] - tabela_df['xG']   #Conversão de xG\n",
    "tabela_df['xGAConv'] = tabela_df['GA'] - tabela_df['xGA']   #Conversão de xGA\n",
    "tabela_df['GF/MP'] = tabela_df['GF']/tabela_df['MP']    #Gols feitos por partida jogada\n",
    "tabela_df['GA/MP'] = tabela_df['GA']/tabela_df['MP']    #Gols recebidos por partida jogada\n",
    "tabela_df['Squad'] = tabela_df['Squad'].apply(remover_acentos)"
   ]
  },
  {
   "cell_type": "code",
   "execution_count": null,
   "metadata": {},
   "outputs": [],
   "source": [
    "#ATT Rating = (Gols Feitos no campeonato/Partidas Jogadas)/gols_liga\n",
    "#DEF Rating = (Gols Sofridos no campeonato/Partidas Jogadas)/gols_liga\n",
    "#EXPECTED GOALS = ATTxDEFxAVGLeague\n",
    "\n",
    "gols_feitos = tabela_df['GF']/tabela_df['MP']\n",
    "gols_tomados = tabela_df['GA']/tabela_df['MP']\n",
    "gols_liga = tabela_df['GF']/tabela_df['MP'].mean()\n",
    "\n",
    "att_rating = gols_feitos/gols_liga\n",
    "def_rating = gols_tomados/gols_liga\n",
    "\n",
    "tabela_df['expG'] = att_rating*def_rating*gols_liga\n",
    "\n",
    "#xG e Gols, fora e dentro de casa\n",
    "for time in tabela_df['Squad']:\n",
    "  tabela_df.loc[tabela_df['Squad'] == time, 'xG_casa'] = historico_casa[historico_casa['Equipe'] == time]['xG'].mean()\n",
    "  tabela_df.loc[tabela_df['Squad'] == time, 'xG_fora'] = historico_casa[historico_casa['Opponent'] == time]['xGA'].mean()\n",
    "  tabela_df.loc[tabela_df['Squad'] == time, 'xG_total'] = tabela_df['xG_casa'] + tabela_df['xG_fora']\n",
    "\n",
    "  tabela_df.loc[tabela_df['Squad'] == time, 'GF_casa'] = historico_casa[historico_casa['Equipe'] == time]['GF'].mean()\n",
    "  tabela_df.loc[tabela_df['Squad'] == time, 'GF_fora'] = historico_casa[historico_casa['Opponent'] == time]['GA'].mean()\n",
    "  tabela_df.loc[tabela_df['Squad'] == time, 'GF_total'] = tabela_df['GF_casa'] + tabela_df['GF_fora']\n",
    "\n",
    "  tabela_df.loc[tabela_df['Squad'] == time, 'GA_casa'] = historico_casa[historico_casa['Equipe'] == time]['GA'].mean()\n",
    "  tabela_df.loc[tabela_df['Squad'] == time, 'GA_fora'] = historico_casa[historico_casa['Opponent'] == time]['GF'].mean()\n",
    "  tabela_df.loc[tabela_df['Squad'] == time, 'GA_total'] = tabela_df['GA_casa'] + tabela_df['GA_fora']\n",
    "\n",
    "  tabela_df.loc[tabela_df['Squad'] == time, 'xG_sofrido_casa'] = historico_casa[historico_casa['Equipe'] == time]['xGA'].mean()\n",
    "  tabela_df.loc[tabela_df['Squad'] == time, 'xG_sofrido_fora'] = historico_casa[historico_casa['Opponent'] == time]['xG'].mean()\n",
    "  \n",
    "  tabela_df.loc[tabela_df['Squad'] == time, 'Sh_casa'] = historico_casa[historico_casa['Equipe'] == time]['Sh'].mean()\n",
    "  tabela_df.loc[tabela_df['Squad'] == time, 'SoT_casa'] = historico_casa[historico_casa['Equipe'] == time]['SoT'].mean()\n",
    "  tabela_df.loc[tabela_df['Squad'] == time, 'Saves_casa'] = historico_casa[historico_casa['Equipe'] == time]['Saves'].mean()\n",
    "  tabela_df.loc[tabela_df['Squad'] == time, 'GCA_casa'] = historico_casa[historico_casa['Equipe'] == time]['GCA'].mean()\n",
    "  tabela_df.loc[tabela_df['Squad'] == time, 'Tklw_casa'] = historico_casa[historico_casa['Equipe'] == time]['TklW'].mean()\n",
    "  tabela_df.loc[tabela_df['Squad'] == time, 'Sh_fora'] = historico_casa[historico_casa['Opponent'] == time]['Sh'].mean()\n",
    "  tabela_df.loc[tabela_df['Squad'] == time, 'SoT_fora'] = historico_casa[historico_casa['Opponent'] == time]['SoT'].mean()\n",
    "  tabela_df.loc[tabela_df['Squad'] == time, 'Saves_fora'] = historico_casa[historico_casa['Opponent'] == time]['Saves'].mean()\n",
    "  tabela_df.loc[tabela_df['Squad'] == time, 'GCA_fora'] = historico_casa[historico_casa['Opponent'] == time]['GCA'].mean()\n",
    "  tabela_df.loc[tabela_df['Squad'] == time, 'Tklw_fora'] = historico_casa[historico_casa['Opponent'] == time]['TklW'].mean()\n",
    "    \n",
    "\n",
    "#Ultimos 5 jogos, xG e Gols, fora e dentro de casa\n",
    "historico_5jogos = historico_casa[historico_casa['Round'] > rodada-5]\n",
    "\n",
    "for time in tabela_df['Squad']:\n",
    "  tabela_df.loc[tabela_df['Squad'] == time, 'xG_5casa'] = historico_5jogos[historico_5jogos['Equipe'] == time]['xG'].mean()\n",
    "  tabela_df.loc[tabela_df['Squad'] == time, 'xG_5fora'] = historico_5jogos[historico_5jogos['Opponent'] == time]['xGA'].mean()\n",
    "  tabela_df.loc[tabela_df['Squad'] == time, 'xG_5total'] = tabela_df['xG_casa'] + tabela_df['xG_fora']\n",
    "  tabela_df.loc[tabela_df['Squad'] == time, 'GF_5casa'] = historico_5jogos[historico_5jogos['Equipe'] == time]['GF'].mean()\n",
    "  tabela_df.loc[tabela_df['Squad'] == time, 'GF_5fora'] = historico_5jogos[historico_5jogos['Opponent'] == time]['GA'].mean()\n",
    "  tabela_df.loc[tabela_df['Squad'] == time, 'GF_5total'] = tabela_df['GF_5casa'] + tabela_df['GF_5fora']\n",
    "  tabela_df.loc[tabela_df['Squad'] == time, 'GA_5casa'] = historico_5jogos[historico_5jogos['Equipe'] == time]['GA'].mean()\n",
    "  tabela_df.loc[tabela_df['Squad'] == time, 'GA_5fora'] = historico_5jogos[historico_5jogos['Opponent'] == time]['GF'].mean()\n",
    "  tabela_df.loc[tabela_df['Squad'] == time, 'GA_5total'] = tabela_df['GA_5casa'] + tabela_df['GA_5fora']\n",
    "  tabela_df.loc[tabela_df['Squad'] == time, 'xG_5sofrido_casa'] = historico_5jogos[historico_5jogos['Equipe'] == time]['xGA'].mean()\n",
    "  tabela_df.loc[tabela_df['Squad'] == time, 'xG_5sofrido_fora'] = historico_5jogos[historico_5jogos['Opponent'] == time]['xG'].mean()"
   ]
  },
  {
   "cell_type": "code",
   "execution_count": null,
   "metadata": {},
   "outputs": [],
   "source": [
    "tabela_df.to_excel(f'dados/tabela/tabela-rodada_{rodada}.xlsx', sheet_name='tabela', index=False)"
   ]
  },
  {
   "cell_type": "markdown",
   "metadata": {},
   "source": [
    "# RODADAS"
   ]
  },
  {
   "cell_type": "code",
   "execution_count": null,
   "metadata": {},
   "outputs": [],
   "source": [
    "rodadas_df = rodadas_df.loc[rodadas_df['Home'].notna()]\n",
    "rodadas_df = rodadas_df.loc[rodadas_df['Away'].notna()]\n",
    "rodadas_df['Home'] = rodadas_df['Home'].astype(str).apply(remover_acentos)\n",
    "rodadas_df['Away'] = rodadas_df['Away'].astype(str).apply(remover_acentos)\n",
    "\n",
    "substitutions = {\n",
    "    'Botafogo-RJ': 'Botafogo (RJ)',\n",
    "    'Gremio': 'Gremio',\n",
    "    'Athletico-Paranaense': 'Ath Paranaense',\n",
    "    'Atletico-Mineiro': 'Atletico Mineiro',\n",
    "    'Sao-Paulo': 'Sao Paulo',\n",
    "    'Vasco-da-Gama': 'Vasco da Gama',\n",
    "    'America-MG': 'America (MG)'\n",
    "}\n",
    "\n",
    "for key, value in substitutions.items():\n",
    "    rodadas_df['Home'] = rodadas_df['Home'].str.replace(unidecode(key), value, regex=True)\n",
    "    rodadas_df['Away'] = rodadas_df['Away'].str.replace(unidecode(key), value, regex=True)\n",
    "\n",
    "rodadas_df.drop(['Time', 'Attendance', 'Venue', 'Referee', 'Match Report', 'Notes'], axis= 1, inplace= True)\n",
    "rodadas_df[['gols_casa', 'gols_fora']] = rodadas_df['Score'].str.split('–', expand=True)\n",
    "rodadas_df.drop(['Score'], axis= 1, inplace= True)\n",
    "rodadas_df.insert(5, 'gols_casa', rodadas_df.pop('gols_casa'))\n",
    "rodadas_df.insert(6, 'gols_fora', rodadas_df.pop('gols_fora'))\n",
    "rodadas_df = rodadas_df.rename(columns={'xG.1': 'xGFora', 'xG': 'xGCasa'})\n",
    "rodadas_df['gols_casa'] = rodadas_df['gols_casa'].apply(convert_to_int)\n",
    "rodadas_df['gols_fora'] = rodadas_df['gols_fora'].apply(convert_to_int)"
   ]
  },
  {
   "cell_type": "code",
   "execution_count": null,
   "metadata": {},
   "outputs": [],
   "source": [
    "rodadas_df.to_excel(f'dados/rodadas/todas_rodadas.xlsx', sheet_name='tabela', index=False)"
   ]
  },
  {
   "cell_type": "markdown",
   "metadata": {},
   "source": [
    "Rodadas futuras"
   ]
  },
  {
   "cell_type": "code",
   "execution_count": null,
   "metadata": {},
   "outputs": [],
   "source": [
    "rodadas_futuras = rodadas_df[rodadas_df['gols_fora'].isna()]\n",
    "rodadas_futuras.to_excel(f'dados/rodadas/rodadas_futuras-rodada-{rodada+1}.xlsx', sheet_name='tabela', index=False)"
   ]
  },
  {
   "cell_type": "code",
   "execution_count": null,
   "metadata": {},
   "outputs": [],
   "source": [
    "rodada_futura = rodadas_futuras[rodadas_futuras['Wk'] == rodada+1]\n",
    "rodada_futura.to_excel(f'dados/rodadas/rodada-{rodada+1}.xlsx', sheet_name='tabela', index=False)"
   ]
  },
  {
   "cell_type": "markdown",
   "metadata": {},
   "source": [
    "# Tabela em casa"
   ]
  },
  {
   "cell_type": "code",
   "execution_count": null,
   "metadata": {},
   "outputs": [],
   "source": [
    "for time in tabela_df['Squad']:\n",
    "  pontos = 0\n",
    "  ldw = pd.DataFrame(historico_casa[historico_casa['Equipe'] == time]['Result'].value_counts()).reset_index()\n",
    "  for i in range(0, len(ldw)):\n",
    "    if ldw['index'][i] == 'W':\n",
    "      pontos += ldw['Result'][i]*3\n",
    "    if ldw['index'][i] == 'D':\n",
    "      pontos += ldw['Result'][i]\n",
    "  tabela_df.loc[tabela_df['Squad'] == time, 'pontos_casa'] = pontos  \n",
    "\n",
    "tabela_casa = tabela_df.sort_values(by= 'pontos_casa',ascending=\tFalse)\n",
    "tabela_casa['Rk_casa'] = range(1, 21)"
   ]
  },
  {
   "cell_type": "code",
   "execution_count": null,
   "metadata": {},
   "outputs": [],
   "source": [
    "tabela_casa.to_excel(f'dados/tabela/tabela_casa-rodada_{rodada}.xlsx')"
   ]
  }
 ],
 "metadata": {
  "kernelspec": {
   "display_name": "base",
   "language": "python",
   "name": "python3"
  },
  "language_info": {
   "codemirror_mode": {
    "name": "ipython",
    "version": 3
   },
   "file_extension": ".py",
   "mimetype": "text/x-python",
   "name": "python",
   "nbconvert_exporter": "python",
   "pygments_lexer": "ipython3",
   "version": "3.11.6"
  }
 },
 "nbformat": 4,
 "nbformat_minor": 2
}

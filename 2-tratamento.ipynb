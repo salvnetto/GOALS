{
 "cells": [
  {
   "cell_type": "code",
   "execution_count": 1,
   "metadata": {},
   "outputs": [],
   "source": [
    "import os\n",
    "import pandas as pd\n",
    "from unidecode import unidecode"
   ]
  },
  {
   "cell_type": "code",
   "execution_count": 2,
   "metadata": {},
   "outputs": [],
   "source": [
    "historico = pd.read_excel('dados/historico/historico-naotratado.xlsx')\n",
    "tabela_df = pd.read_excel('dados/tabela/tabela-naotratado.xlsx')\n",
    "rodadas_df = pd.read_excel('dados/rodadas/todas_rodadas-naotratado.xlsx')\n",
    "\n",
    "rodada = tabela_df['MP'].max()"
   ]
  },
  {
   "cell_type": "code",
   "execution_count": 3,
   "metadata": {},
   "outputs": [],
   "source": [
    "def remover_acentos(texto):\n",
    "    return unidecode(texto)"
   ]
  },
  {
   "cell_type": "code",
   "execution_count": 4,
   "metadata": {},
   "outputs": [],
   "source": [
    "def convert_to_int(value):\n",
    "    try:\n",
    "        return int(value)\n",
    "    except (ValueError, TypeError):\n",
    "        return pd.NA"
   ]
  },
  {
   "cell_type": "markdown",
   "metadata": {},
   "source": [
    "# HISTORICO"
   ]
  },
  {
   "cell_type": "code",
   "execution_count": 5,
   "metadata": {},
   "outputs": [],
   "source": [
    "historico.drop(\n",
    "  ['Notes','Captain', 'Formation', 'Referee', 'Match Report'], \n",
    "  axis= 'columns', inplace= True)\n",
    "historico[['GF', 'GA']] = historico[['GF', 'GA']].astype(int)\n",
    "historico['Opponent'] = historico['Opponent'].apply(remover_acentos)\n",
    "\n",
    "substitutions = {\n",
    "    'Botafogo-RJ': 'Botafogo (RJ)',\n",
    "    'Gremio': 'Gremio',\n",
    "    'Athletico-Paranaense': 'Ath Paranaense',\n",
    "    'Atletico-Mineiro': 'Atletico Mineiro',\n",
    "    'Sao-Paulo': 'Sao Paulo',\n",
    "    'Vasco-da-Gama': 'Vasco da Gama',\n",
    "    'America-MG': 'America (MG)'\n",
    "}\n",
    "\n",
    "for key, value in substitutions.items():\n",
    "    historico['Equipe'] = historico['Equipe'].str.replace(unidecode(key), value, regex=True)\n",
    "    \n",
    "historico['Round'] = historico['Round'].str.split(' ', expand= True)[1].astype(int)"
   ]
  },
  {
   "cell_type": "code",
   "execution_count": 6,
   "metadata": {},
   "outputs": [],
   "source": [
    "historico_casa = historico[historico['Venue'] == 'Home']"
   ]
  },
  {
   "cell_type": "code",
   "execution_count": 7,
   "metadata": {},
   "outputs": [],
   "source": [
    "data_ultimo_jogo = historico['Round'].max()\n",
    "historico.to_excel(f'dados/historico/historico-rodada_{data_ultimo_jogo}.xlsx', sheet_name='historico', index=False)\n",
    "historico_casa.to_excel(f'dados/historico/historicocasa-rodada_{data_ultimo_jogo}.xlsx', sheet_name='historico', index=False)"
   ]
  },
  {
   "cell_type": "markdown",
   "metadata": {},
   "source": [
    "Historico por time"
   ]
  },
  {
   "cell_type": "code",
   "execution_count": 8,
   "metadata": {},
   "outputs": [],
   "source": [
    "if not os.path.exists(f'dados/historico/times/rodada_{rodada}'):\n",
    "  os.makedirs(f'dados/historico/times/rodada_{rodada}')\n",
    "\n",
    "for time in historico_casa['Equipe']:\n",
    "  df = historico_casa[historico_casa['Equipe'] == time]\n",
    "  df = pd.concat([df, historico_casa[historico_casa['Opponent'] == time]])\n",
    "  df.to_excel(f'dados/historico/times/rodada_{rodada}/{time}.xlsx')"
   ]
  },
  {
   "cell_type": "code",
   "execution_count": null,
   "metadata": {},
   "outputs": [],
   "source": [
    "resultados_rodada = historico_casa[historico_casa['Round'] == rodada]\n",
    "resultados_rodada.to_excel(f'dados/historico/resultados/rodada-{rodada}.xlsx')"
   ]
  },
  {
   "cell_type": "markdown",
   "metadata": {},
   "source": [
    "# TABELA"
   ]
  },
  {
   "cell_type": "code",
   "execution_count": null,
   "metadata": {},
   "outputs": [],
   "source": [
    "tabela_df.drop(['Attendance', 'Top Team Scorer', 'Goalkeeper', 'Notes'], axis= 'columns', inplace= True)\n",
    "tabela_df['xGConv'] = tabela_df['GF'] - tabela_df['xG']   #Conversão de xG\n",
    "tabela_df['xGAConv'] = tabela_df['GA'] - tabela_df['xGA']   #Conversão de xGA\n",
    "tabela_df['GF/MP'] = tabela_df['GF']/tabela_df['MP']    #Gols feitos por partida jogada\n",
    "tabela_df['GA/MP'] = tabela_df['GA']/tabela_df['MP']    #Gols recebidos por partida jogada\n",
    "tabela_df['Squad'] = tabela_df['Squad'].apply(remover_acentos)"
   ]
  },
  {
   "cell_type": "code",
   "execution_count": null,
   "metadata": {},
   "outputs": [],
   "source": [
    "#ATT Rating = (Gols Feitos no campeonato/Partidas Jogadas)/gols_liga\n",
    "#DEF Rating = (Gols Sofridos no campeonato/Partidas Jogadas)/gols_liga\n",
    "#EXPECTED GOALS = ATTxDEFxAVGLeague\n",
    "\n",
    "gols_feitos = tabela_df['GF']/tabela_df['MP']\n",
    "gols_tomados = tabela_df['GA']/tabela_df['MP']\n",
    "gols_liga = tabela_df['GF']/tabela_df['MP'].mean()\n",
    "\n",
    "att_rating = gols_feitos/gols_liga\n",
    "def_rating = gols_tomados/gols_liga\n",
    "\n",
    "tabela_df['expG'] = att_rating*def_rating*gols_liga\n",
    "\n",
    "#xG e Gols, fora e dentro de casa\n",
    "for time in tabela_df['Squad']:\n",
    "  tabela_df.loc[tabela_df['Squad'] == time, 'xG_casa'] = historico_casa[historico_casa['Equipe'] == time]['xG'].mean()\n",
    "  tabela_df.loc[tabela_df['Squad'] == time, 'xG_fora'] = historico_casa[historico_casa['Opponent'] == time]['xGA'].mean()\n",
    "  tabela_df.loc[tabela_df['Squad'] == time, 'xG_total'] = tabela_df['xG_casa'] + tabela_df['xG_fora']\n",
    "  tabela_df.loc[tabela_df['Squad'] == time, 'GF_casa'] = historico_casa[historico_casa['Equipe'] == time]['GF'].mean()\n",
    "  tabela_df.loc[tabela_df['Squad'] == time, 'GF_fora'] = historico_casa[historico_casa['Opponent'] == time]['GA'].mean()\n",
    "  tabela_df.loc[tabela_df['Squad'] == time, 'GF_total'] = tabela_df['GF_casa'] + tabela_df['GF_fora']\n",
    "  tabela_df.loc[tabela_df['Squad'] == time, 'GA_casa'] = historico_casa[historico_casa['Equipe'] == time]['GA'].mean()\n",
    "  tabela_df.loc[tabela_df['Squad'] == time, 'GA_fora'] = historico_casa[historico_casa['Opponent'] == time]['GF'].mean()\n",
    "  tabela_df.loc[tabela_df['Squad'] == time, 'GA_total'] = tabela_df['GA_casa'] + tabela_df['GA_fora']\n",
    "  tabela_df.loc[tabela_df['Squad'] == time, 'xG_sofrido_casa'] = historico_casa[historico_casa['Equipe'] == time]['xGA'].mean()\n",
    "  tabela_df.loc[tabela_df['Squad'] == time, 'xG_sofrido_fora'] = historico_casa[historico_casa['Opponent'] == time]['xG'].mean()\n",
    "  tabela_df.loc[tabela_df['Squad'] == time, 'Sh_casa'] = historico_casa[historico_casa['Equipe'] == time]['Sh'].mean()\n",
    "  tabela_df.loc[tabela_df['Squad'] == time, 'SoT_casa'] = historico_casa[historico_casa['Equipe'] == time]['SoT'].mean()\n",
    "  tabela_df.loc[tabela_df['Squad'] == time, 'Saves_casa'] = historico_casa[historico_casa['Equipe'] == time]['Saves'].mean()\n",
    "  tabela_df.loc[tabela_df['Squad'] == time, 'GCA_casa'] = historico_casa[historico_casa['Equipe'] == time]['GCA'].mean()\n",
    "  tabela_df.loc[tabela_df['Squad'] == time, 'Tklw_casa'] = historico_casa[historico_casa['Equipe'] == time]['TklW'].mean()\n",
    "  tabela_df.loc[tabela_df['Squad'] == time, 'Sh_fora'] = historico_casa[historico_casa['Opponent'] == time]['Sh'].mean()\n",
    "  tabela_df.loc[tabela_df['Squad'] == time, 'SoT_fora'] = historico_casa[historico_casa['Opponent'] == time]['SoT'].mean()\n",
    "  tabela_df.loc[tabela_df['Squad'] == time, 'Saves_fora'] = historico_casa[historico_casa['Opponent'] == time]['Saves'].mean()\n",
    "  tabela_df.loc[tabela_df['Squad'] == time, 'GCA_fora'] = historico_casa[historico_casa['Opponent'] == time]['GCA'].mean()\n",
    "  tabela_df.loc[tabela_df['Squad'] == time, 'Tklw_fora'] = historico_casa[historico_casa['Opponent'] == time]['TklW'].mean()\n",
    "    \n",
    "\n",
    "#Ultimos 5 jogos, xG e Gols, fora e dentro de casa\n",
    "historico_5jogos = historico_casa[historico_casa['Round'] > rodada-5]\n",
    "\n",
    "for time in tabela_df['Squad']:\n",
    "  tabela_df.loc[tabela_df['Squad'] == time, 'xG_5casa'] = historico_5jogos[historico_5jogos['Equipe'] == time]['xG'].mean()\n",
    "  tabela_df.loc[tabela_df['Squad'] == time, 'xG_5fora'] = historico_5jogos[historico_5jogos['Opponent'] == time]['xGA'].mean()\n",
    "  tabela_df.loc[tabela_df['Squad'] == time, 'xG_5total'] = tabela_df['xG_casa'] + tabela_df['xG_fora']\n",
    "  tabela_df.loc[tabela_df['Squad'] == time, 'GF_5casa'] = historico_5jogos[historico_5jogos['Equipe'] == time]['GF'].mean()\n",
    "  tabela_df.loc[tabela_df['Squad'] == time, 'GF_5fora'] = historico_5jogos[historico_5jogos['Opponent'] == time]['GA'].mean()\n",
    "  tabela_df.loc[tabela_df['Squad'] == time, 'GF_5total'] = tabela_df['GF_5casa'] + tabela_df['GF_5fora']\n",
    "  tabela_df.loc[tabela_df['Squad'] == time, 'GA_5casa'] = historico_5jogos[historico_5jogos['Equipe'] == time]['GA'].mean()\n",
    "  tabela_df.loc[tabela_df['Squad'] == time, 'GA_5fora'] = historico_5jogos[historico_5jogos['Opponent'] == time]['GF'].mean()\n",
    "  tabela_df.loc[tabela_df['Squad'] == time, 'GA_5total'] = tabela_df['GA_5casa'] + tabela_df['GA_5fora']\n",
    "  tabela_df.loc[tabela_df['Squad'] == time, 'xG_5sofrido_casa'] = historico_5jogos[historico_5jogos['Equipe'] == time]['xGA'].mean()\n",
    "  tabela_df.loc[tabela_df['Squad'] == time, 'xG_5sofrido_fora'] = historico_5jogos[historico_5jogos['Opponent'] == time]['xG'].mean()"
   ]
  },
  {
   "cell_type": "code",
   "execution_count": null,
   "metadata": {},
   "outputs": [],
   "source": [
    "tabela_df.to_excel(f'dados/tabela/tabela-rodada_{rodada}.xlsx', sheet_name='tabela', index=False)"
   ]
  },
  {
   "cell_type": "markdown",
   "metadata": {},
   "source": [
    "# RODADAS"
   ]
  },
  {
   "cell_type": "code",
   "execution_count": null,
   "metadata": {},
   "outputs": [],
   "source": [
    "rodadas_df = rodadas_df.loc[rodadas_df['Home'].notna()]\n",
    "rodadas_df = rodadas_df.loc[rodadas_df['Away'].notna()]\n",
    "rodadas_df['Home'] = rodadas_df['Home'].astype(str).apply(remover_acentos)\n",
    "rodadas_df['Away'] = rodadas_df['Away'].astype(str).apply(remover_acentos)\n",
    "\n",
    "substitutions = {\n",
    "    'Botafogo-RJ': 'Botafogo (RJ)',\n",
    "    'Gremio': 'Gremio',\n",
    "    'Athletico-Paranaense': 'Ath Paranaense',\n",
    "    'Atletico-Mineiro': 'Atletico Mineiro',\n",
    "    'Sao-Paulo': 'Sao Paulo',\n",
    "    'Vasco-da-Gama': 'Vasco da Gama',\n",
    "    'America-MG': 'America (MG)'\n",
    "}\n",
    "\n",
    "for key, value in substitutions.items():\n",
    "    rodadas_df['Home'] = rodadas_df['Home'].str.replace(unidecode(key), value, regex=True)\n",
    "    rodadas_df['Away'] = rodadas_df['Away'].str.replace(unidecode(key), value, regex=True)\n",
    "\n",
    "rodadas_df.drop(['Time', 'Attendance', 'Venue', 'Referee', 'Match Report', 'Notes'], axis= 1, inplace= True)\n",
    "rodadas_df[['gols_casa', 'gols_fora']] = rodadas_df['Score'].str.split('–', expand=True)\n",
    "rodadas_df.drop(['Score'], axis= 1, inplace= True)\n",
    "rodadas_df.insert(5, 'gols_casa', rodadas_df.pop('gols_casa'))\n",
    "rodadas_df.insert(6, 'gols_fora', rodadas_df.pop('gols_fora'))\n",
    "rodadas_df = rodadas_df.rename(columns={'xG.1': 'xGFora', 'xG': 'xGCasa'})\n",
    "rodadas_df['gols_casa'] = rodadas_df['gols_casa'].apply(convert_to_int)\n",
    "rodadas_df['gols_fora'] = rodadas_df['gols_fora'].apply(convert_to_int)"
   ]
  },
  {
   "cell_type": "code",
   "execution_count": null,
   "metadata": {},
   "outputs": [],
   "source": [
    "rodadas_df.to_excel(f'dados/rodadas/todas_rodadas.xlsx', sheet_name='tabela', index=False)"
   ]
  },
  {
   "cell_type": "markdown",
   "metadata": {},
   "source": [
    "Rodadas futuras"
   ]
  },
  {
   "cell_type": "code",
   "execution_count": null,
   "metadata": {},
   "outputs": [],
   "source": [
    "rodadas_futuras = rodadas_df[rodadas_df['gols_fora'].isna()]\n",
    "rodadas_futuras.to_excel(f'dados/rodadas/rodadas_futuras-rodada-{rodada+1}.xlsx', sheet_name='tabela', index=False)"
   ]
  },
  {
   "cell_type": "code",
   "execution_count": null,
   "metadata": {},
   "outputs": [],
   "source": [
    "rodada_futura = rodadas_futuras[rodadas_futuras['Wk'] == rodada+1]\n",
    "rodada_futura.to_excel(f'dados/rodadas/rodada-{rodada+1}.xlsx', sheet_name='tabela', index=False)"
   ]
  },
  {
   "cell_type": "markdown",
   "metadata": {},
   "source": [
    "# Tabela em casa"
   ]
  },
  {
   "cell_type": "code",
   "execution_count": null,
   "metadata": {},
   "outputs": [],
   "source": [
    "for time in tabela_df['Squad']:\n",
    "  pontos = 0\n",
    "  ldw = pd.DataFrame(historico_casa[historico_casa['Equipe'] == time]['Result'].value_counts()).reset_index()\n",
    "  for i in range(0, len(ldw)):\n",
    "    if ldw['index'][i] == 'W':\n",
    "      pontos += ldw['Result'][i]*3\n",
    "    if ldw['index'][i] == 'D':\n",
    "      pontos += ldw['Result'][i]\n",
    "  tabela_df.loc[tabela_df['Squad'] == time, 'pontos_casa'] = pontos  \n",
    "\n",
    "tabela_casa = tabela_df.sort_values(by= 'pontos_casa',ascending=\tFalse)\n",
    "tabela_casa['Rk_casa'] = range(1, 21)"
   ]
  },
  {
   "cell_type": "code",
   "execution_count": null,
   "metadata": {},
   "outputs": [],
   "source": [
    "tabela_casa.to_excel(f'dados/tabela/tabela_casa-rodada_{rodada}.xlsx')"
   ]
  }
 ],
 "metadata": {
  "kernelspec": {
   "display_name": "base",
   "language": "python",
   "name": "python3"
  },
  "language_info": {
   "codemirror_mode": {
    "name": "ipython",
    "version": 3
   },
   "file_extension": ".py",
   "mimetype": "text/x-python",
   "name": "python",
   "nbconvert_exporter": "python",
   "pygments_lexer": "ipython3",
   "version": "3.11.6"
  }
 },
 "nbformat": 4,
 "nbformat_minor": 2
}

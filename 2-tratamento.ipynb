{
 "cells": [
  {
   "cell_type": "code",
   "execution_count": 143,
   "metadata": {},
   "outputs": [],
   "source": [
    "import os\n",
    "import pandas as pd\n",
    "from unidecode import unidecode\n",
    "\n",
    "import warnings\n",
    "from pandas.errors import SettingWithCopyWarning\n",
    "warnings.simplefilter(action=\"ignore\", category=SettingWithCopyWarning)\n",
    "warnings.simplefilter(action='ignore', category=FutureWarning)"
   ]
  },
  {
   "cell_type": "code",
   "execution_count": 144,
   "metadata": {},
   "outputs": [],
   "source": [
    "league = {'brasileirao_a': ['Brasileirao'],\n",
    "          'premier_league': ['Premier_League'],}\n",
    "\n",
    "\n",
    "liga = league['premier_league'][0]"
   ]
  },
  {
   "cell_type": "markdown",
   "metadata": {},
   "source": [
    "# IMPORTS E FUNCOES"
   ]
  },
  {
   "cell_type": "code",
   "execution_count": 145,
   "metadata": {},
   "outputs": [],
   "source": [
    "def remover_acentos(texto):\n",
    "    return unidecode(texto)"
   ]
  },
  {
   "cell_type": "code",
   "execution_count": 146,
   "metadata": {},
   "outputs": [],
   "source": [
    "def convert_to_int(value):\n",
    "    try:\n",
    "        return int(value)\n",
    "    except (ValueError, TypeError):\n",
    "        return pd.NA"
   ]
  },
  {
   "cell_type": "code",
   "execution_count": 147,
   "metadata": {},
   "outputs": [],
   "source": [
    "historico = pd.read_excel(f'datasets/{liga}/match_history/historico-2015a2023(naotratada).xlsx')\n",
    "tabela = pd.read_excel(f'datasets/{liga}/standings/tabela-2015a2023(naotratada).xlsx')\n",
    "rodadas = pd.read_excel(f'datasets/{liga}/rounds/prox_partidas(naotratada).xlsx')"
   ]
  },
  {
   "cell_type": "code",
   "execution_count": 148,
   "metadata": {},
   "outputs": [],
   "source": [
    "season_atual = historico['season'].max()\n",
    "rodada_recente = historico[historico['season'] == season_atual]['round'].str.split(' ', expand= True)[1].astype(int).max()"
   ]
  },
  {
   "cell_type": "markdown",
   "metadata": {},
   "source": [
    "# HISTORICO"
   ]
  },
  {
   "cell_type": "markdown",
   "metadata": {},
   "source": [
    "### Data cleaning"
   ]
  },
  {
   "cell_type": "code",
   "execution_count": 149,
   "metadata": {},
   "outputs": [],
   "source": [
    "historico.drop(\n",
    "  ['notes','captain', 'formation', 'referee', 'match report', 'attendance', 'time'], \n",
    "  axis= 'columns', inplace= True)"
   ]
  },
  {
   "cell_type": "code",
   "execution_count": 150,
   "metadata": {},
   "outputs": [],
   "source": [
    "historico[['gf', 'ga']] = historico[['gf', 'ga']].astype(int)\n",
    "historico['season'] = historico['season'].astype(int)\n",
    "historico['round'] = historico['round'].str.split(' ', expand= True)[1].astype(int)"
   ]
  },
  {
   "cell_type": "code",
   "execution_count": 151,
   "metadata": {},
   "outputs": [],
   "source": [
    "historico['opponent'] = historico['opponent'].apply(remover_acentos)\n",
    "historico['opponent'] = [linha.lower() for linha in historico['opponent']]\n",
    "historico['opponent'] = historico['opponent'].str.replace(' ', '_')\n",
    "historico['opponent'] = historico['opponent'].str.replace('(', '')\n",
    "historico['opponent'] = historico['opponent'].str.replace(')', '')\n",
    "historico['opponent'] = historico['opponent'].str.replace(')', '')\n",
    "\n",
    "# Especifico para o brasileirão\n",
    "historico['opponent'] = historico['opponent'].str.replace('atletico', 'atl')\n",
    "historico['team'] = historico['team'].str.replace('athletico', 'ath')\n",
    "historico['team'] = historico['team'].str.replace('atletico', 'atl')\n",
    "\n",
    "# Especifico para a Premier League\n",
    "historico['team'] = historico['team'].str.replace('_hotspur', '')\n",
    "historico['team'] = historico['team'].str.replace('rhampton_wanderers', 's')\n",
    "historico['team'] = historico['team'].str.replace('united', 'utd')\n",
    "historico['team'] = historico['team'].str.replace('west_ham_utd', 'west_ham')\n",
    "historico['team'] = historico['team'].str.replace('_and_hove_albion', '')\n",
    "historico['team'] = historico['team'].str.replace('wich_albion', '')\n",
    "historico['team'] = historico['team'].str.replace('_town', '')\n",
    "historico['team'] = historico['team'].str.replace('luton', 'luton_town')\n",
    "historico['opponent'] = historico['opponent'].str.replace('united', 'utd')\n",
    "historico['opponent'] = historico['opponent'].str.replace(\"nott'ham_forest\", \"nottingham_forest\")"
   ]
  },
  {
   "cell_type": "code",
   "execution_count": 152,
   "metadata": {},
   "outputs": [
    {
     "data": {
      "text/plain": [
       "[]"
      ]
     },
     "execution_count": 152,
     "metadata": {},
     "output_type": "execute_result"
    }
   ],
   "source": [
    "[item for item in historico['opponent'].unique() if item not in historico['team'].unique()]"
   ]
  },
  {
   "cell_type": "code",
   "execution_count": 153,
   "metadata": {},
   "outputs": [
    {
     "data": {
      "text/plain": [
       "array(['tottenham', 'manchester_city', 'arsenal', 'liverpool',\n",
       "       'aston_villa', 'newcastle_utd', 'brighton', 'manchester_utd',\n",
       "       'west_ham', 'chelsea', 'crystal_palace', 'wolves', 'fulham',\n",
       "       'brentford', 'nottingham_forest', 'everton', 'luton_town',\n",
       "       'burnley', 'bournemouth', 'sheffield_utd', 'leicester_city',\n",
       "       'leeds_utd', 'southampton', 'watford', 'norwich_city', 'west_brom',\n",
       "       'cardiff_city', 'huddersfield', 'swansea_city', 'stoke_city',\n",
       "       'hull_city', 'middlesbrough', 'sunderland'], dtype=object)"
      ]
     },
     "execution_count": 153,
     "metadata": {},
     "output_type": "execute_result"
    }
   ],
   "source": [
    "historico['team'].unique()"
   ]
  },
  {
   "cell_type": "code",
   "execution_count": 154,
   "metadata": {},
   "outputs": [
    {
     "data": {
      "text/html": [
       "<div>\n",
       "<style scoped>\n",
       "    .dataframe tbody tr th:only-of-type {\n",
       "        vertical-align: middle;\n",
       "    }\n",
       "\n",
       "    .dataframe tbody tr th {\n",
       "        vertical-align: top;\n",
       "    }\n",
       "\n",
       "    .dataframe thead th {\n",
       "        text-align: right;\n",
       "    }\n",
       "</style>\n",
       "<table border=\"1\" class=\"dataframe\">\n",
       "  <thead>\n",
       "    <tr style=\"text-align: right;\">\n",
       "      <th></th>\n",
       "      <th>date</th>\n",
       "      <th>comp</th>\n",
       "      <th>round</th>\n",
       "      <th>day</th>\n",
       "      <th>venue</th>\n",
       "      <th>result</th>\n",
       "      <th>gf</th>\n",
       "      <th>ga</th>\n",
       "      <th>opponent</th>\n",
       "      <th>xg</th>\n",
       "      <th>xga</th>\n",
       "      <th>poss</th>\n",
       "      <th>sh</th>\n",
       "      <th>sot</th>\n",
       "      <th>season</th>\n",
       "      <th>team</th>\n",
       "    </tr>\n",
       "  </thead>\n",
       "  <tbody>\n",
       "    <tr>\n",
       "      <th>0</th>\n",
       "      <td>2023-08-13</td>\n",
       "      <td>Premier League</td>\n",
       "      <td>1</td>\n",
       "      <td>Sun</td>\n",
       "      <td>Away</td>\n",
       "      <td>D</td>\n",
       "      <td>2</td>\n",
       "      <td>2</td>\n",
       "      <td>brentford</td>\n",
       "      <td>1.3</td>\n",
       "      <td>2.2</td>\n",
       "      <td>69</td>\n",
       "      <td>18</td>\n",
       "      <td>6</td>\n",
       "      <td>2023</td>\n",
       "      <td>tottenham</td>\n",
       "    </tr>\n",
       "    <tr>\n",
       "      <th>1</th>\n",
       "      <td>2023-08-19</td>\n",
       "      <td>Premier League</td>\n",
       "      <td>2</td>\n",
       "      <td>Sat</td>\n",
       "      <td>Home</td>\n",
       "      <td>W</td>\n",
       "      <td>2</td>\n",
       "      <td>0</td>\n",
       "      <td>manchester_utd</td>\n",
       "      <td>1.7</td>\n",
       "      <td>2.1</td>\n",
       "      <td>55</td>\n",
       "      <td>17</td>\n",
       "      <td>6</td>\n",
       "      <td>2023</td>\n",
       "      <td>tottenham</td>\n",
       "    </tr>\n",
       "    <tr>\n",
       "      <th>2</th>\n",
       "      <td>2023-08-26</td>\n",
       "      <td>Premier League</td>\n",
       "      <td>3</td>\n",
       "      <td>Sat</td>\n",
       "      <td>Away</td>\n",
       "      <td>W</td>\n",
       "      <td>2</td>\n",
       "      <td>0</td>\n",
       "      <td>bournemouth</td>\n",
       "      <td>2.1</td>\n",
       "      <td>0.7</td>\n",
       "      <td>56</td>\n",
       "      <td>17</td>\n",
       "      <td>6</td>\n",
       "      <td>2023</td>\n",
       "      <td>tottenham</td>\n",
       "    </tr>\n",
       "    <tr>\n",
       "      <th>3</th>\n",
       "      <td>2023-09-02</td>\n",
       "      <td>Premier League</td>\n",
       "      <td>4</td>\n",
       "      <td>Sat</td>\n",
       "      <td>Away</td>\n",
       "      <td>W</td>\n",
       "      <td>5</td>\n",
       "      <td>2</td>\n",
       "      <td>burnley</td>\n",
       "      <td>2.2</td>\n",
       "      <td>1.3</td>\n",
       "      <td>53</td>\n",
       "      <td>21</td>\n",
       "      <td>11</td>\n",
       "      <td>2023</td>\n",
       "      <td>tottenham</td>\n",
       "    </tr>\n",
       "    <tr>\n",
       "      <th>4</th>\n",
       "      <td>2023-09-16</td>\n",
       "      <td>Premier League</td>\n",
       "      <td>5</td>\n",
       "      <td>Sat</td>\n",
       "      <td>Home</td>\n",
       "      <td>W</td>\n",
       "      <td>2</td>\n",
       "      <td>1</td>\n",
       "      <td>sheffield_utd</td>\n",
       "      <td>2.1</td>\n",
       "      <td>0.7</td>\n",
       "      <td>70</td>\n",
       "      <td>28</td>\n",
       "      <td>10</td>\n",
       "      <td>2023</td>\n",
       "      <td>tottenham</td>\n",
       "    </tr>\n",
       "  </tbody>\n",
       "</table>\n",
       "</div>"
      ],
      "text/plain": [
       "         date            comp  round  day venue result  gf  ga  \\\n",
       "0  2023-08-13  Premier League      1  Sun  Away      D   2   2   \n",
       "1  2023-08-19  Premier League      2  Sat  Home      W   2   0   \n",
       "2  2023-08-26  Premier League      3  Sat  Away      W   2   0   \n",
       "3  2023-09-02  Premier League      4  Sat  Away      W   5   2   \n",
       "4  2023-09-16  Premier League      5  Sat  Home      W   2   1   \n",
       "\n",
       "         opponent   xg  xga  poss  sh  sot  season       team  \n",
       "0       brentford  1.3  2.2    69  18    6    2023  tottenham  \n",
       "1  manchester_utd  1.7  2.1    55  17    6    2023  tottenham  \n",
       "2     bournemouth  2.1  0.7    56  17    6    2023  tottenham  \n",
       "3         burnley  2.2  1.3    53  21   11    2023  tottenham  \n",
       "4   sheffield_utd  2.1  0.7    70  28   10    2023  tottenham  "
      ]
     },
     "execution_count": 154,
     "metadata": {},
     "output_type": "execute_result"
    }
   ],
   "source": [
    "historico.head()"
   ]
  },
  {
   "cell_type": "markdown",
   "metadata": {},
   "source": [
    "### Divisão e Export"
   ]
  },
  {
   "cell_type": "markdown",
   "metadata": {},
   "source": [
    "Todos"
   ]
  },
  {
   "cell_type": "code",
   "execution_count": 155,
   "metadata": {},
   "outputs": [],
   "source": [
    "historico.to_excel(f'datasets/{liga}/match_history/all_games/historico-2015a2023.xlsx', index=False)"
   ]
  },
  {
   "cell_type": "code",
   "execution_count": 156,
   "metadata": {},
   "outputs": [],
   "source": [
    "for season in historico['season'].unique():\n",
    "  if not os.path.exists(f'datasets/{liga}/match_history/all_games/season-{season}'):\n",
    "    os.makedirs(f'datasets/{liga}/match_history/all_games/season-{season}')\n",
    "  df = historico[historico['season'] == season]\n",
    "  df.to_excel(f'datasets/{liga}/match_history/all_games/season-{season}/historico.xlsx', index= False)"
   ]
  },
  {
   "cell_type": "markdown",
   "metadata": {},
   "source": [
    "Casa"
   ]
  },
  {
   "cell_type": "code",
   "execution_count": 157,
   "metadata": {},
   "outputs": [],
   "source": [
    "historico_casa = historico[historico['venue'] == 'Home']\n",
    "historico_casa.to_excel(f'datasets/{liga}/match_history/home_only/historico-2015a2023.xlsx', index=False)"
   ]
  },
  {
   "cell_type": "code",
   "execution_count": 158,
   "metadata": {},
   "outputs": [],
   "source": [
    "for season in historico_casa['season'].unique():\n",
    "  if not os.path.exists(f'datasets/{liga}/match_history/home_only/season-{season}'):\n",
    "    os.makedirs(f'datasets/{liga}/match_history/home_only/season-{season}')\n",
    "  df = historico_casa[historico_casa['season'] == season]\n",
    "  df.to_excel(f'datasets/{liga}/match_history/home_only/season-{season}/historico.xlsx', index= False)"
   ]
  },
  {
   "cell_type": "markdown",
   "metadata": {},
   "source": [
    "Por Time"
   ]
  },
  {
   "cell_type": "code",
   "execution_count": 159,
   "metadata": {},
   "outputs": [],
   "source": [
    "for time in historico['team'].unique():\n",
    "  df = historico[historico['team'] == time]\n",
    "  df.to_excel(f'datasets/{liga}/match_history/teams/{time}.xlsx', index= False)"
   ]
  },
  {
   "cell_type": "markdown",
   "metadata": {},
   "source": [
    "# TABELA"
   ]
  },
  {
   "cell_type": "markdown",
   "metadata": {},
   "source": [
    "### Data Cleaning"
   ]
  },
  {
   "cell_type": "code",
   "execution_count": 160,
   "metadata": {},
   "outputs": [],
   "source": [
    "tabela.drop(\n",
    "  ['attendance', 'top team scorer', 'goalkeeper', 'notes', 'last 5'], \n",
    "  axis= 'columns', inplace= True)"
   ]
  },
  {
   "cell_type": "code",
   "execution_count": 161,
   "metadata": {},
   "outputs": [],
   "source": [
    "tabela['squad'] = tabela['squad'].apply(remover_acentos)\n",
    "tabela['squad'] = [linha.lower() for linha in tabela['squad']]\n",
    "tabela['squad'] = tabela['squad'].str.replace(' ', '_')\n",
    "tabela['squad'] = tabela['squad'].str.replace('(', '')\n",
    "tabela['squad'] = tabela['squad'].str.replace(')', '')\n",
    "tabela['squad'] = tabela['squad'].str.replace(')', '')\n",
    "\n",
    "# Especifico para o brasileirão\n",
    "tabela['squad'] = tabela['squad'].str.replace('atletico', 'atl')\n",
    "\n",
    "# Especifico para a Premier League\n",
    "tabela['squad'] = tabela['squad'].str.replace(\"united\", \"utd\")\n",
    "tabela['squad'] = tabela['squad'].str.replace(\"nott'ham_forest\", \"nottingham_forest\")"
   ]
  },
  {
   "cell_type": "code",
   "execution_count": 162,
   "metadata": {},
   "outputs": [
    {
     "data": {
      "text/plain": [
       "[]"
      ]
     },
     "execution_count": 162,
     "metadata": {},
     "output_type": "execute_result"
    }
   ],
   "source": [
    "[item for item in tabela['squad'].unique() if item not in historico['opponent'].unique()]"
   ]
  },
  {
   "cell_type": "code",
   "execution_count": 163,
   "metadata": {},
   "outputs": [
    {
     "data": {
      "text/plain": [
       "array(['brentford', 'manchester_utd', 'bournemouth', 'burnley',\n",
       "       'sheffield_utd', 'arsenal', 'liverpool', 'luton_town', 'fulham',\n",
       "       'crystal_palace', 'newcastle_utd', 'west_ham', 'nottingham_forest',\n",
       "       'wolves', 'brighton', 'everton', 'tottenham', 'manchester_city',\n",
       "       'chelsea', 'aston_villa', 'southampton', 'leicester_city',\n",
       "       'leeds_utd', 'norwich_city', 'watford', 'west_brom',\n",
       "       'huddersfield', 'cardiff_city', 'stoke_city', 'swansea_city',\n",
       "       'hull_city', 'middlesbrough', 'sunderland'], dtype=object)"
      ]
     },
     "execution_count": 163,
     "metadata": {},
     "output_type": "execute_result"
    }
   ],
   "source": [
    "historico['opponent'].unique()"
   ]
  },
  {
   "cell_type": "markdown",
   "metadata": {},
   "source": [
    "### Feature Engineering"
   ]
  },
  {
   "cell_type": "code",
   "execution_count": 164,
   "metadata": {},
   "outputs": [],
   "source": [
    "tabela['xg_conv'] = tabela['gf'] - tabela['xg']      #Conversão de xG\n",
    "tabela['xga_conv'] = tabela['ga'] - tabela['xga']    #Conversão de xGA\n",
    "tabela['att_rating'] = (tabela['gf']/tabela['mp'])/(tabela['gf']/tabela['mp']).mean()  #Media de gols por partida dividido pelo da liga\n",
    "tabela['def_rating'] = (tabela['ga']/tabela['mp'])/(tabela['gf']/tabela['mp']).mean()  #Media de gols tomados por partida dividido pelo da liga\n",
    "tabela['naive_rating'] = tabela['att_rating']*tabela['def_rating']*(tabela['gf']/tabela['mp']).mean()   #att*def*media da liga\n",
    "\n",
    "for time in tabela['squad']:\n",
    "  #xG\n",
    "  tabela.loc[tabela['squad'] == time, 'xg_casa'] = historico_casa[historico_casa['team'] == time]['xg'].mean()        #xG em casa\n",
    "  tabela.loc[tabela['squad'] == time, 'xg_fora'] = historico_casa[historico_casa['opponent'] == time]['xga'].mean()   #xG fora\n",
    "  tabela.loc[tabela['squad'] == time, 'xg_total'] = (tabela['xg_casa'] + tabela['xg_fora'])/2                         #xG total\n",
    "\n",
    "  #xGA\n",
    "  tabela.loc[tabela['squad'] == time, 'xga_casa'] = historico_casa[historico_casa['team'] == time]['xga'].mean()      #xGA em casa\n",
    "  tabela.loc[tabela['squad'] == time, 'xga_fora'] = historico_casa[historico_casa['opponent'] == time]['xg'].mean()   #xGA fora\n",
    "  tabela.loc[tabela['squad'] == time, 'xga_total'] = (tabela['xga_casa'] + tabela['xga_fora'])/2                      #xGA total\n",
    "\n",
    "  #GF\n",
    "  tabela.loc[tabela['squad'] == time, 'gf_casa'] = historico_casa[historico_casa['team'] == time]['gf'].mean()        #GF em casa\n",
    "  tabela.loc[tabela['squad'] == time, 'gf_fora'] = historico_casa[historico_casa['opponent'] == time]['ga'].mean()    #GF fora\n",
    "  tabela.loc[tabela['squad'] == time, 'gf_total'] = tabela['gf_casa'] + tabela['gf_fora']                             #GF total\n",
    "\n",
    "  #GA\n",
    "  tabela.loc[tabela['squad'] == time, 'ga_casa'] = historico_casa[historico_casa['team'] == time]['ga'].mean()        #GA em casa\n",
    "  tabela.loc[tabela['squad'] == time, 'ga_fora'] = historico_casa[historico_casa['opponent'] == time]['gf'].mean()    #GA fora\n",
    "  tabela.loc[tabela['squad'] == time, 'ga_total'] = tabela['ga_casa'] + tabela['ga_fora']                             #GA total\n"
   ]
  },
  {
   "cell_type": "code",
   "execution_count": 165,
   "metadata": {},
   "outputs": [],
   "source": [
    "#Ultimos 5 jogos\n",
    "historico_5jogos = historico_casa[historico_casa['round'] > rodada_recente-5]\n",
    "\n",
    "for time in tabela['squad']:\n",
    "  #xG\n",
    "  tabela.loc[tabela['squad'] == time, 'xg_5casa'] = historico_5jogos[historico_5jogos['team'] == time]['xg'].mean()       #xG em casa\n",
    "  tabela.loc[tabela['squad'] == time, 'xg_5fora'] = historico_5jogos[historico_5jogos['opponent'] == time]['xga'].mean()  #xG fora\n",
    "  tabela.loc[tabela['squad'] == time, 'xg_5total'] = (tabela['xg_5casa'] + tabela['xg_5fora'])/2                          #xG total\n",
    "\n",
    "  #xGA\n",
    "  tabela.loc[tabela['squad'] == time, 'xga_5casa'] = historico_5jogos[historico_5jogos['team'] == time]['xga'].mean()     #xGA em casa\n",
    "  tabela.loc[tabela['squad'] == time, 'xga_5fora'] = historico_5jogos[historico_5jogos['opponent'] == time]['xg'].mean()  #xGA fora\n",
    "  tabela.loc[tabela['squad'] == time, 'xga_5total'] = (tabela['xga_5casa'] + tabela['xga_5fora'])/2                       #xGA total\n",
    "\n",
    "  #GF\n",
    "  tabela.loc[tabela['squad'] == time, 'gf_5casa'] = historico_5jogos[historico_5jogos['team'] == time]['gf'].mean()       #GF em casa\n",
    "  tabela.loc[tabela['squad'] == time, 'gf_5fora'] = historico_5jogos[historico_5jogos['opponent'] == time]['ga'].mean()   #GF fora\n",
    "  tabela.loc[tabela['squad'] == time, 'gf_5total'] = tabela['gf_5casa'] + tabela['gf_5fora']                              #GF total\n",
    "\n",
    "  #GA\n",
    "  tabela.loc[tabela['squad'] == time, 'ga_5casa'] = historico_5jogos[historico_5jogos['team'] == time]['ga'].mean()       #GA em casa\n",
    "  tabela.loc[tabela['squad'] == time, 'ga_5fora'] = historico_5jogos[historico_5jogos['opponent'] == time]['gf'].mean()   #GA fora\n",
    "  tabela.loc[tabela['squad'] == time, 'ga_5total'] = tabela['ga_5casa'] + tabela['ga_5fora']                              #GA total\n",
    "  "
   ]
  },
  {
   "cell_type": "markdown",
   "metadata": {},
   "source": [
    "### Divisões e Exports"
   ]
  },
  {
   "cell_type": "code",
   "execution_count": 166,
   "metadata": {},
   "outputs": [],
   "source": [
    "tabela_atual = tabela[tabela['season'] == 2023]"
   ]
  },
  {
   "cell_type": "code",
   "execution_count": 167,
   "metadata": {},
   "outputs": [],
   "source": [
    "for season in tabela['season'].unique()[1:]:\n",
    "  if not os.path.exists(f'datasets/{liga}/standings/all_standings/season-{season}'):\n",
    "    os.makedirs(f'datasets/{liga}/standings/all_standings/season-{season}')\n",
    "  df = tabela[tabela['season'] == season]\n",
    "  df.to_excel(f'datasets/{liga}/standings/all_standings/season-{season}/tabela.xlsx', index= False)\n",
    "\n",
    "\n",
    "if not os.path.exists(f'datasets/{liga}/standings/all_standings/season-{season_atual}'):\n",
    "  os.makedirs(f'datasets/{liga}/standings/all_standings/season-{season_atual}')\n",
    "tabela_atual.to_excel(f'datasets/{liga}/standings/all_standings/season-{season_atual}/tabela-rodada{rodada_recente}.xlsx', index= False)"
   ]
  },
  {
   "cell_type": "markdown",
   "metadata": {},
   "source": [
    "### Tabelas casa e fora"
   ]
  },
  {
   "cell_type": "code",
   "execution_count": 168,
   "metadata": {},
   "outputs": [],
   "source": [
    "historico_atual = historico[historico['season'] == season_atual]\n",
    "tabela_casa = []\n",
    "tabela_fora = []\n",
    "for time in historico_atual['team'].unique():\n",
    "  tabela_casa.append(sum(historico_atual[historico_atual['venue'] == 'Home'].loc[historico_atual['team'] == time]['result'].map({'W': 3, 'D': 1, 'L': 0})))\n",
    "  tabela_fora.append(sum(historico_atual[historico_atual['venue'] == 'Away'].loc[historico_atual['team'] == time]['result'].map({'W': 3, 'D': 1, 'L': 0})))"
   ]
  },
  {
   "cell_type": "code",
   "execution_count": 169,
   "metadata": {},
   "outputs": [],
   "source": [
    "tabela_atual['pts_casa'] = tabela_casa\n",
    "tabela_atual['pts_fora'] = tabela_fora"
   ]
  },
  {
   "cell_type": "code",
   "execution_count": 170,
   "metadata": {},
   "outputs": [],
   "source": [
    "tabela_fora = tabela_atual.sort_values(by= 'pts_fora', ascending= False, ignore_index= True)\n",
    "tabela_fora['rk'] = range(1,21)"
   ]
  },
  {
   "cell_type": "code",
   "execution_count": 171,
   "metadata": {},
   "outputs": [],
   "source": [
    "tabela_casa = tabela_atual.sort_values(by= 'pts_casa', ascending= False, ignore_index= True)\n",
    "tabela_casa['rk'] = range(1,21)"
   ]
  },
  {
   "cell_type": "code",
   "execution_count": 172,
   "metadata": {},
   "outputs": [],
   "source": [
    "if not os.path.exists(f'datasets/{liga}/standings/home_standings/season-{season_atual}'):\n",
    "  os.makedirs(f'datasets/{liga}/standings/home_standings/season-{season_atual}')\n",
    "if not os.path.exists(f'datasets/{liga}/standings/away_standings/season-{season_atual}'):\n",
    "  os.makedirs(f'datasets/{liga}/standings/away_standings/season-{season_atual}')\n",
    "\n",
    "tabela_casa.to_excel(f'datasets/{liga}/standings/home_standings/season-{season_atual}/tabela-rodada{rodada_recente}.xlsx', index= False)\n",
    "tabela_fora.to_excel(f'datasets/{liga}/standings/away_standings/season-{season_atual}/tabela-rodada{rodada_recente}.xlsx', index= False)"
   ]
  },
  {
   "cell_type": "markdown",
   "metadata": {},
   "source": [
    "# RODADAS"
   ]
  },
  {
   "cell_type": "markdown",
   "metadata": {},
   "source": [
    "### Data Cleaning"
   ]
  },
  {
   "cell_type": "code",
   "execution_count": 173,
   "metadata": {},
   "outputs": [],
   "source": [
    "rodadas = rodadas.loc[rodadas['home'].notna()]"
   ]
  },
  {
   "cell_type": "code",
   "execution_count": 174,
   "metadata": {},
   "outputs": [],
   "source": [
    "rodadas.drop(['day', 'time', 'attendance', 'venue', 'referee', 'match report', 'notes'], axis= 1, inplace= True)"
   ]
  },
  {
   "cell_type": "code",
   "execution_count": 175,
   "metadata": {},
   "outputs": [],
   "source": [
    "rodadas['home'] = rodadas['home'].apply(remover_acentos)\n",
    "rodadas['home'] = [linha.lower() for linha in rodadas['home']]\n",
    "rodadas['home'] = rodadas['home'].str.replace(' ', '_')\n",
    "rodadas['home'] = rodadas['home'].str.replace('(', '')\n",
    "rodadas['home'] = rodadas['home'].str.replace(')', '')\n",
    "rodadas['home'] = rodadas['home'].str.replace(')', '')\n",
    "\n",
    "# Especifico para o brasileirão\n",
    "rodadas['home'] = rodadas['home'].str.replace('atletico', 'atl')\n",
    "\n",
    "# Especifico para a Premier League\n",
    "rodadas['home'] = rodadas['home'].str.replace(\"nott'ham_forest\", \"nottingham_forest\")"
   ]
  },
  {
   "cell_type": "code",
   "execution_count": 176,
   "metadata": {},
   "outputs": [],
   "source": [
    "rodadas['away'] = rodadas['away'].apply(remover_acentos)\n",
    "rodadas['away'] = [linha.lower() for linha in rodadas['away']]\n",
    "rodadas['away'] = rodadas['away'].str.replace(' ', '_')\n",
    "rodadas['away'] = rodadas['away'].str.replace('(', '')\n",
    "rodadas['away'] = rodadas['away'].str.replace(')', '')\n",
    "rodadas['away'] = rodadas['away'].str.replace(')', '')\n",
    "\n",
    "# Especifico para o brasileirão\n",
    "rodadas['away'] = rodadas['away'].str.replace('atletico', 'atl')\n",
    "\n",
    "# Especifico para a Premier League\n",
    "rodadas['away'] = rodadas['away'].str.replace(\"nott'ham_forest\", \"nottingham_forest\")"
   ]
  },
  {
   "cell_type": "code",
   "execution_count": 177,
   "metadata": {},
   "outputs": [
    {
     "data": {
      "text/plain": [
       "[]"
      ]
     },
     "execution_count": 177,
     "metadata": {},
     "output_type": "execute_result"
    }
   ],
   "source": [
    "[item for item in rodadas['home'].unique() if item not in historico['opponent'].unique()]"
   ]
  },
  {
   "cell_type": "code",
   "execution_count": 178,
   "metadata": {},
   "outputs": [],
   "source": [
    "rodadas[['gols_casa', 'gols_fora']] = rodadas['score'].str.split('–', expand=True)\n",
    "rodadas.drop(['score'], axis= 1, inplace= True)\n",
    "rodadas.insert(5, 'gols_casa', rodadas.pop('gols_casa'))\n",
    "rodadas.insert(6, 'gols_fora', rodadas.pop('gols_fora'))\n",
    "\n",
    "rodadas = rodadas.rename(columns={'xg.1': 'xg_fora', 'xg': 'xg_casa'})\n",
    "\n",
    "rodadas['gols_casa'] = rodadas['gols_casa'].apply(convert_to_int)\n",
    "rodadas['gols_fora'] = rodadas['gols_fora'].apply(convert_to_int)\n"
   ]
  },
  {
   "cell_type": "code",
   "execution_count": 179,
   "metadata": {},
   "outputs": [
    {
     "data": {
      "text/html": [
       "<div>\n",
       "<style scoped>\n",
       "    .dataframe tbody tr th:only-of-type {\n",
       "        vertical-align: middle;\n",
       "    }\n",
       "\n",
       "    .dataframe tbody tr th {\n",
       "        vertical-align: top;\n",
       "    }\n",
       "\n",
       "    .dataframe thead th {\n",
       "        text-align: right;\n",
       "    }\n",
       "</style>\n",
       "<table border=\"1\" class=\"dataframe\">\n",
       "  <thead>\n",
       "    <tr style=\"text-align: right;\">\n",
       "      <th></th>\n",
       "      <th>wk</th>\n",
       "      <th>date</th>\n",
       "      <th>home</th>\n",
       "      <th>xg_casa</th>\n",
       "      <th>xg_fora</th>\n",
       "      <th>gols_casa</th>\n",
       "      <th>gols_fora</th>\n",
       "      <th>away</th>\n",
       "    </tr>\n",
       "  </thead>\n",
       "  <tbody>\n",
       "    <tr>\n",
       "      <th>0</th>\n",
       "      <td>1.0</td>\n",
       "      <td>2023-08-11</td>\n",
       "      <td>burnley</td>\n",
       "      <td>0.3</td>\n",
       "      <td>1.9</td>\n",
       "      <td>0</td>\n",
       "      <td>3</td>\n",
       "      <td>manchester_city</td>\n",
       "    </tr>\n",
       "    <tr>\n",
       "      <th>1</th>\n",
       "      <td>1.0</td>\n",
       "      <td>2023-08-12</td>\n",
       "      <td>arsenal</td>\n",
       "      <td>0.8</td>\n",
       "      <td>1.2</td>\n",
       "      <td>2</td>\n",
       "      <td>1</td>\n",
       "      <td>nottingham_forest</td>\n",
       "    </tr>\n",
       "    <tr>\n",
       "      <th>2</th>\n",
       "      <td>1.0</td>\n",
       "      <td>2023-08-12</td>\n",
       "      <td>everton</td>\n",
       "      <td>2.7</td>\n",
       "      <td>1.5</td>\n",
       "      <td>0</td>\n",
       "      <td>1</td>\n",
       "      <td>fulham</td>\n",
       "    </tr>\n",
       "    <tr>\n",
       "      <th>3</th>\n",
       "      <td>1.0</td>\n",
       "      <td>2023-08-12</td>\n",
       "      <td>sheffield_utd</td>\n",
       "      <td>0.5</td>\n",
       "      <td>1.9</td>\n",
       "      <td>0</td>\n",
       "      <td>1</td>\n",
       "      <td>crystal_palace</td>\n",
       "    </tr>\n",
       "    <tr>\n",
       "      <th>4</th>\n",
       "      <td>1.0</td>\n",
       "      <td>2023-08-12</td>\n",
       "      <td>brighton</td>\n",
       "      <td>4.0</td>\n",
       "      <td>1.5</td>\n",
       "      <td>4</td>\n",
       "      <td>1</td>\n",
       "      <td>luton_town</td>\n",
       "    </tr>\n",
       "  </tbody>\n",
       "</table>\n",
       "</div>"
      ],
      "text/plain": [
       "    wk        date           home  xg_casa  xg_fora gols_casa gols_fora  \\\n",
       "0  1.0  2023-08-11        burnley      0.3      1.9         0         3   \n",
       "1  1.0  2023-08-12        arsenal      0.8      1.2         2         1   \n",
       "2  1.0  2023-08-12        everton      2.7      1.5         0         1   \n",
       "3  1.0  2023-08-12  sheffield_utd      0.5      1.9         0         1   \n",
       "4  1.0  2023-08-12       brighton      4.0      1.5         4         1   \n",
       "\n",
       "                away  \n",
       "0    manchester_city  \n",
       "1  nottingham_forest  \n",
       "2             fulham  \n",
       "3     crystal_palace  \n",
       "4         luton_town  "
      ]
     },
     "execution_count": 179,
     "metadata": {},
     "output_type": "execute_result"
    }
   ],
   "source": [
    "rodadas.head()"
   ]
  },
  {
   "cell_type": "markdown",
   "metadata": {},
   "source": [
    "### Divisão e Export"
   ]
  },
  {
   "cell_type": "code",
   "execution_count": 180,
   "metadata": {},
   "outputs": [],
   "source": [
    "rodadas.to_excel(f'datasets/Brasileirao/rounds/all_rounds/rodadas.xlsx', index= False)"
   ]
  }
 ],
 "metadata": {
  "kernelspec": {
   "display_name": "base",
   "language": "python",
   "name": "python3"
  },
  "language_info": {
   "codemirror_mode": {
    "name": "ipython",
    "version": 3
   },
   "file_extension": ".py",
   "mimetype": "text/x-python",
   "name": "python",
   "nbconvert_exporter": "python",
   "pygments_lexer": "ipython3",
   "version": "3.11.6"
  }
 },
 "nbformat": 4,
 "nbformat_minor": 2
}

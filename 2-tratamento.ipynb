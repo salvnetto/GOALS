{
 "cells": [
  {
   "cell_type": "code",
   "execution_count": 2,
   "metadata": {},
   "outputs": [],
   "source": [
    "import os\n",
    "import pandas as pd\n",
    "import numpy as np\n",
    "from unidecode import unidecode\n",
    "\n",
    "import warnings\n",
    "from pandas.errors import SettingWithCopyWarning\n",
    "warnings.simplefilter(action=\"ignore\", category=SettingWithCopyWarning)\n",
    "warnings.simplefilter(action='ignore', category=FutureWarning)"
   ]
  },
  {
   "cell_type": "code",
   "execution_count": 3,
   "metadata": {},
   "outputs": [],
   "source": [
    "league = {'brasileirao_a': ['Brasileirao'],\n",
    "          'premier_league': ['Premier_League'],}\n",
    "\n",
    "\n",
    "liga = league['brasileirao_a'][0]"
   ]
  },
  {
   "cell_type": "markdown",
   "metadata": {},
   "source": [
    "# IMPORTS E FUNCOES"
   ]
  },
  {
   "cell_type": "code",
   "execution_count": 4,
   "metadata": {},
   "outputs": [],
   "source": [
    "def remover_acentos(texto):\n",
    "    return unidecode(texto)"
   ]
  },
  {
   "cell_type": "code",
   "execution_count": 5,
   "metadata": {},
   "outputs": [],
   "source": [
    "def convert_to_int(value):\n",
    "    try:\n",
    "        return int(value)\n",
    "    except (ValueError, TypeError):\n",
    "        return pd.NA"
   ]
  },
  {
   "cell_type": "code",
   "execution_count": 6,
   "metadata": {},
   "outputs": [],
   "source": [
    "historico = pd.read_excel(f'datasets/{liga}/match_history/historico-2015a2023(naotratada).xlsx')\n",
    "tabela = pd.read_excel(f'datasets/{liga}/standings/tabela-2015a2023(naotratada).xlsx')\n",
    "rodadas = pd.read_excel(f'datasets/{liga}/rounds/prox_partidas(naotratada).xlsx')"
   ]
  },
  {
   "cell_type": "code",
   "execution_count": 7,
   "metadata": {},
   "outputs": [],
   "source": [
    "season_atual = historico['season'].max()\n",
    "rodada_recente = historico[historico['season'] == season_atual]['round'].str.split(' ', expand= True)[1].astype(int).max()"
   ]
  },
  {
   "cell_type": "markdown",
   "metadata": {},
   "source": [
    "# HISTORICO"
   ]
  },
  {
   "cell_type": "markdown",
   "metadata": {},
   "source": [
    "### Data cleaning"
   ]
  },
  {
   "cell_type": "code",
   "execution_count": 8,
   "metadata": {},
   "outputs": [],
   "source": [
    "historico.drop(\n",
    "  ['notes','captain', 'formation', 'referee', 'match report', 'attendance', 'time'], \n",
    "  axis= 'columns', inplace= True)"
   ]
  },
  {
   "cell_type": "code",
   "execution_count": 9,
   "metadata": {},
   "outputs": [],
   "source": [
    "historico[['gf', 'ga']] = historico[['gf', 'ga']].astype(int)\n",
    "historico['season'] = historico['season'].astype(int)\n",
    "historico['round'] = historico['round'].str.split(' ', expand= True)[1].astype(int)"
   ]
  },
  {
   "cell_type": "code",
   "execution_count": 10,
   "metadata": {},
   "outputs": [],
   "source": [
    "historico['date'] = pd.to_datetime(historico['date'], format='%Y-%m-%d')\n",
    "historico['days'] = (max(historico['date']) - historico['date']).dt.days\n",
    "historico['time_diff'] = np.exp(-0.001*historico['days'])"
   ]
  },
  {
   "cell_type": "code",
   "execution_count": 11,
   "metadata": {},
   "outputs": [],
   "source": [
    "historico['opponent'] = historico['opponent'].apply(remover_acentos)\n",
    "historico['opponent'] = [linha.lower() for linha in historico['opponent']]\n",
    "historico['opponent'] = historico['opponent'].str.replace(' ', '_')\n",
    "historico['opponent'] = historico['opponent'].str.replace('(', '')\n",
    "historico['opponent'] = historico['opponent'].str.replace(')', '')\n",
    "historico['opponent'] = historico['opponent'].str.replace(')', '')\n",
    "\n",
    "# Especifico para o brasileirão\n",
    "historico['opponent'] = historico['opponent'].str.replace('atletico', 'atl')\n",
    "historico['team'] = historico['team'].str.replace('athletico', 'ath')\n",
    "historico['team'] = historico['team'].str.replace('atletico', 'atl')\n",
    "\n",
    "# Especifico para a Premier League\n",
    "historico['team'] = historico['team'].str.replace('_hotspur', '')\n",
    "historico['team'] = historico['team'].str.replace('rhampton_wanderers', 's')\n",
    "historico['team'] = historico['team'].str.replace('united', 'utd')\n",
    "historico['team'] = historico['team'].str.replace('west_ham_utd', 'west_ham')\n",
    "historico['team'] = historico['team'].str.replace('_and_hove_albion', '')\n",
    "historico['team'] = historico['team'].str.replace('wich_albion', '')\n",
    "historico['team'] = historico['team'].str.replace('_town', '')\n",
    "historico['team'] = historico['team'].str.replace('luton', 'luton_town')\n",
    "historico['opponent'] = historico['opponent'].str.replace('united', 'utd')\n",
    "historico['opponent'] = historico['opponent'].str.replace(\"nott'ham_forest\", \"nottingham_forest\")"
   ]
  },
  {
   "cell_type": "code",
   "execution_count": 12,
   "metadata": {},
   "outputs": [
    {
     "data": {
      "text/plain": [
       "[]"
      ]
     },
     "execution_count": 12,
     "metadata": {},
     "output_type": "execute_result"
    }
   ],
   "source": [
    "[item for item in historico['opponent'].unique() if item not in historico['team'].unique()]"
   ]
  },
  {
   "cell_type": "code",
   "execution_count": 13,
   "metadata": {},
   "outputs": [
    {
     "data": {
      "text/plain": [
       "array(['botafogo_rj', 'bragantino', 'palmeiras', 'flamengo',\n",
       "       'ath_paranaense', 'gremio', 'atl_mineiro', 'fluminense',\n",
       "       'fortaleza', 'sao_paulo', 'internacional', 'cuiaba', 'cruzeiro',\n",
       "       'corinthians', 'bahia', 'santos', 'goias', 'vasco_da_gama',\n",
       "       'coritiba', 'america_mg', 'ceara', 'atl_goianiense', 'avai',\n",
       "       'juventude', 'sport_recife', 'chapecoense', 'csa', 'vitoria',\n",
       "       'parana', 'ponte_preta', 'figueirense', 'santa_cruz', 'joinville'],\n",
       "      dtype=object)"
      ]
     },
     "execution_count": 13,
     "metadata": {},
     "output_type": "execute_result"
    }
   ],
   "source": [
    "historico['team'].unique()"
   ]
  },
  {
   "cell_type": "code",
   "execution_count": 14,
   "metadata": {},
   "outputs": [
    {
     "data": {
      "text/html": [
       "<div>\n",
       "<style scoped>\n",
       "    .dataframe tbody tr th:only-of-type {\n",
       "        vertical-align: middle;\n",
       "    }\n",
       "\n",
       "    .dataframe tbody tr th {\n",
       "        vertical-align: top;\n",
       "    }\n",
       "\n",
       "    .dataframe thead th {\n",
       "        text-align: right;\n",
       "    }\n",
       "</style>\n",
       "<table border=\"1\" class=\"dataframe\">\n",
       "  <thead>\n",
       "    <tr style=\"text-align: right;\">\n",
       "      <th></th>\n",
       "      <th>date</th>\n",
       "      <th>comp</th>\n",
       "      <th>round</th>\n",
       "      <th>day</th>\n",
       "      <th>venue</th>\n",
       "      <th>result</th>\n",
       "      <th>gf</th>\n",
       "      <th>ga</th>\n",
       "      <th>opponent</th>\n",
       "      <th>xg</th>\n",
       "      <th>xga</th>\n",
       "      <th>poss</th>\n",
       "      <th>sh</th>\n",
       "      <th>sot</th>\n",
       "      <th>season</th>\n",
       "      <th>team</th>\n",
       "      <th>days</th>\n",
       "      <th>time_diff</th>\n",
       "    </tr>\n",
       "  </thead>\n",
       "  <tbody>\n",
       "    <tr>\n",
       "      <th>0</th>\n",
       "      <td>2023-04-15</td>\n",
       "      <td>Série A</td>\n",
       "      <td>1</td>\n",
       "      <td>Sat</td>\n",
       "      <td>Home</td>\n",
       "      <td>W</td>\n",
       "      <td>2</td>\n",
       "      <td>1</td>\n",
       "      <td>sao_paulo</td>\n",
       "      <td>0.9</td>\n",
       "      <td>2.0</td>\n",
       "      <td>33.0</td>\n",
       "      <td>12.0</td>\n",
       "      <td>3.0</td>\n",
       "      <td>2023</td>\n",
       "      <td>botafogo_rj</td>\n",
       "      <td>194</td>\n",
       "      <td>0.823658</td>\n",
       "    </tr>\n",
       "    <tr>\n",
       "      <th>1</th>\n",
       "      <td>2023-04-24</td>\n",
       "      <td>Série A</td>\n",
       "      <td>2</td>\n",
       "      <td>Mon</td>\n",
       "      <td>Away</td>\n",
       "      <td>W</td>\n",
       "      <td>2</td>\n",
       "      <td>1</td>\n",
       "      <td>bahia</td>\n",
       "      <td>0.2</td>\n",
       "      <td>0.9</td>\n",
       "      <td>42.0</td>\n",
       "      <td>5.0</td>\n",
       "      <td>3.0</td>\n",
       "      <td>2023</td>\n",
       "      <td>botafogo_rj</td>\n",
       "      <td>185</td>\n",
       "      <td>0.831104</td>\n",
       "    </tr>\n",
       "    <tr>\n",
       "      <th>2</th>\n",
       "      <td>2023-04-30</td>\n",
       "      <td>Série A</td>\n",
       "      <td>3</td>\n",
       "      <td>Sun</td>\n",
       "      <td>Away</td>\n",
       "      <td>W</td>\n",
       "      <td>3</td>\n",
       "      <td>2</td>\n",
       "      <td>flamengo</td>\n",
       "      <td>1.9</td>\n",
       "      <td>3.1</td>\n",
       "      <td>26.0</td>\n",
       "      <td>11.0</td>\n",
       "      <td>5.0</td>\n",
       "      <td>2023</td>\n",
       "      <td>botafogo_rj</td>\n",
       "      <td>179</td>\n",
       "      <td>0.836106</td>\n",
       "    </tr>\n",
       "    <tr>\n",
       "      <th>3</th>\n",
       "      <td>2023-05-07</td>\n",
       "      <td>Série A</td>\n",
       "      <td>4</td>\n",
       "      <td>Sun</td>\n",
       "      <td>Home</td>\n",
       "      <td>W</td>\n",
       "      <td>2</td>\n",
       "      <td>0</td>\n",
       "      <td>atl_mineiro</td>\n",
       "      <td>2.0</td>\n",
       "      <td>0.5</td>\n",
       "      <td>39.0</td>\n",
       "      <td>22.0</td>\n",
       "      <td>7.0</td>\n",
       "      <td>2023</td>\n",
       "      <td>botafogo_rj</td>\n",
       "      <td>172</td>\n",
       "      <td>0.841979</td>\n",
       "    </tr>\n",
       "    <tr>\n",
       "      <th>4</th>\n",
       "      <td>2023-05-11</td>\n",
       "      <td>Série A</td>\n",
       "      <td>5</td>\n",
       "      <td>Thu</td>\n",
       "      <td>Home</td>\n",
       "      <td>W</td>\n",
       "      <td>3</td>\n",
       "      <td>0</td>\n",
       "      <td>corinthians</td>\n",
       "      <td>2.6</td>\n",
       "      <td>0.6</td>\n",
       "      <td>53.0</td>\n",
       "      <td>15.0</td>\n",
       "      <td>5.0</td>\n",
       "      <td>2023</td>\n",
       "      <td>botafogo_rj</td>\n",
       "      <td>168</td>\n",
       "      <td>0.845354</td>\n",
       "    </tr>\n",
       "  </tbody>\n",
       "</table>\n",
       "</div>"
      ],
      "text/plain": [
       "        date     comp  round  day venue result  gf  ga     opponent   xg  xga  \\\n",
       "0 2023-04-15  Série A      1  Sat  Home      W   2   1    sao_paulo  0.9  2.0   \n",
       "1 2023-04-24  Série A      2  Mon  Away      W   2   1        bahia  0.2  0.9   \n",
       "2 2023-04-30  Série A      3  Sun  Away      W   3   2     flamengo  1.9  3.1   \n",
       "3 2023-05-07  Série A      4  Sun  Home      W   2   0  atl_mineiro  2.0  0.5   \n",
       "4 2023-05-11  Série A      5  Thu  Home      W   3   0  corinthians  2.6  0.6   \n",
       "\n",
       "   poss    sh  sot  season         team  days  time_diff  \n",
       "0  33.0  12.0  3.0    2023  botafogo_rj   194   0.823658  \n",
       "1  42.0   5.0  3.0    2023  botafogo_rj   185   0.831104  \n",
       "2  26.0  11.0  5.0    2023  botafogo_rj   179   0.836106  \n",
       "3  39.0  22.0  7.0    2023  botafogo_rj   172   0.841979  \n",
       "4  53.0  15.0  5.0    2023  botafogo_rj   168   0.845354  "
      ]
     },
     "execution_count": 14,
     "metadata": {},
     "output_type": "execute_result"
    }
   ],
   "source": [
    "historico.head()"
   ]
  },
  {
   "cell_type": "markdown",
   "metadata": {},
   "source": [
    "### Divisão e Export"
   ]
  },
  {
   "cell_type": "markdown",
   "metadata": {},
   "source": [
    "Todos"
   ]
  },
  {
   "cell_type": "code",
   "execution_count": 15,
   "metadata": {},
   "outputs": [],
   "source": [
    "historico.to_excel(f'datasets/{liga}/match_history/all_games/historico-2015a2023.xlsx', index=False)"
   ]
  },
  {
   "cell_type": "code",
   "execution_count": 16,
   "metadata": {},
   "outputs": [],
   "source": [
    "for season in historico['season'].unique():\n",
    "  if not os.path.exists(f'datasets/{liga}/match_history/all_games/season-{season}'):\n",
    "    os.makedirs(f'datasets/{liga}/match_history/all_games/season-{season}')\n",
    "  df = historico[historico['season'] == season]\n",
    "  df.to_excel(f'datasets/{liga}/match_history/all_games/season-{season}/historico.xlsx', index= False)"
   ]
  },
  {
   "cell_type": "markdown",
   "metadata": {},
   "source": [
    "Casa"
   ]
  },
  {
   "cell_type": "code",
   "execution_count": 17,
   "metadata": {},
   "outputs": [],
   "source": [
    "historico_casa = historico[historico['venue'] == 'Home']\n",
    "historico_casa.to_excel(f'datasets/{liga}/match_history/home_only/historico-2015a2023.xlsx', index=False)"
   ]
  },
  {
   "cell_type": "code",
   "execution_count": 18,
   "metadata": {},
   "outputs": [],
   "source": [
    "for season in historico_casa['season'].unique():\n",
    "  if not os.path.exists(f'datasets/{liga}/match_history/home_only/season-{season}'):\n",
    "    os.makedirs(f'datasets/{liga}/match_history/home_only/season-{season}')\n",
    "  df = historico_casa[historico_casa['season'] == season]\n",
    "  df.to_excel(f'datasets/{liga}/match_history/home_only/season-{season}/historico.xlsx', index= False)"
   ]
  },
  {
   "cell_type": "markdown",
   "metadata": {},
   "source": [
    "Por Time"
   ]
  },
  {
   "cell_type": "code",
   "execution_count": 19,
   "metadata": {},
   "outputs": [],
   "source": [
    "for time in historico['team'].unique():\n",
    "  df = historico[historico['team'] == time]\n",
    "  df.to_excel(f'datasets/{liga}/match_history/teams/{time}.xlsx', index= False)"
   ]
  },
  {
   "cell_type": "markdown",
   "metadata": {},
   "source": [
    "# TABELA"
   ]
  },
  {
   "cell_type": "markdown",
   "metadata": {},
   "source": [
    "### Data Cleaning"
   ]
  },
  {
   "cell_type": "code",
   "execution_count": 20,
   "metadata": {},
   "outputs": [],
   "source": [
    "tabela.drop(\n",
    "  ['attendance', 'top team scorer', 'goalkeeper', 'notes', 'last 5'], \n",
    "  axis= 'columns', inplace= True)"
   ]
  },
  {
   "cell_type": "code",
   "execution_count": 21,
   "metadata": {},
   "outputs": [],
   "source": [
    "tabela['squad'] = tabela['squad'].apply(remover_acentos)\n",
    "tabela['squad'] = [linha.lower() for linha in tabela['squad']]\n",
    "tabela['squad'] = tabela['squad'].str.replace(' ', '_')\n",
    "tabela['squad'] = tabela['squad'].str.replace('(', '')\n",
    "tabela['squad'] = tabela['squad'].str.replace(')', '')\n",
    "tabela['squad'] = tabela['squad'].str.replace(')', '')\n",
    "\n",
    "# Especifico para o brasileirão\n",
    "tabela['squad'] = tabela['squad'].str.replace('atletico', 'atl')\n",
    "\n",
    "# Especifico para a Premier League\n",
    "tabela['squad'] = tabela['squad'].str.replace(\"united\", \"utd\")\n",
    "tabela['squad'] = tabela['squad'].str.replace(\"nott'ham_forest\", \"nottingham_forest\")"
   ]
  },
  {
   "cell_type": "code",
   "execution_count": 22,
   "metadata": {},
   "outputs": [
    {
     "data": {
      "text/plain": [
       "[]"
      ]
     },
     "execution_count": 22,
     "metadata": {},
     "output_type": "execute_result"
    }
   ],
   "source": [
    "[item for item in tabela['squad'].unique() if item not in historico['opponent'].unique()]"
   ]
  },
  {
   "cell_type": "code",
   "execution_count": 23,
   "metadata": {},
   "outputs": [
    {
     "data": {
      "text/plain": [
       "array(['sao_paulo', 'bahia', 'flamengo', 'atl_mineiro', 'corinthians',\n",
       "       'goias', 'fluminense', 'america_mg', 'ath_paranaense', 'fortaleza',\n",
       "       'cuiaba', 'palmeiras', 'vasco_da_gama', 'gremio', 'bragantino',\n",
       "       'santos', 'coritiba', 'cruzeiro', 'internacional', 'botafogo_rj',\n",
       "       'ceara', 'juventude', 'atl_goianiense', 'avai', 'sport_recife',\n",
       "       'chapecoense', 'csa', 'parana', 'vitoria', 'ponte_preta',\n",
       "       'santa_cruz', 'figueirense', 'joinville'], dtype=object)"
      ]
     },
     "execution_count": 23,
     "metadata": {},
     "output_type": "execute_result"
    }
   ],
   "source": [
    "historico['opponent'].unique()"
   ]
  },
  {
   "cell_type": "markdown",
   "metadata": {},
   "source": [
    "### Feature Engineering"
   ]
  },
  {
   "cell_type": "code",
   "execution_count": 24,
   "metadata": {},
   "outputs": [],
   "source": [
    "tabela['xg_conv'] = tabela['gf'] - tabela['xg']      #Conversão de xG\n",
    "tabela['xga_conv'] = tabela['ga'] - tabela['xga']    #Conversão de xGA\n",
    "tabela['att_rating'] = (tabela['gf']/tabela['mp'])/(tabela['gf']/tabela['mp']).mean()  #Media de gols por partida dividido pelo da liga\n",
    "tabela['def_rating'] = (tabela['ga']/tabela['mp'])/(tabela['gf']/tabela['mp']).mean()  #Media de gols tomados por partida dividido pelo da liga\n",
    "tabela['naive_rating'] = tabela['att_rating']*tabela['def_rating']*(tabela['gf']/tabela['mp']).mean()   #att*def*media da liga\n",
    "\n",
    "for time in tabela['squad']:\n",
    "  #xG\n",
    "  tabela.loc[tabela['squad'] == time, 'xg_casa'] = historico_casa[historico_casa['team'] == time]['xg'].mean()        #xG em casa\n",
    "  tabela.loc[tabela['squad'] == time, 'xg_fora'] = historico_casa[historico_casa['opponent'] == time]['xga'].mean()   #xG fora\n",
    "  tabela.loc[tabela['squad'] == time, 'xg_total'] = (tabela['xg_casa'] + tabela['xg_fora'])/2                         #xG total\n",
    "\n",
    "  #xGA\n",
    "  tabela.loc[tabela['squad'] == time, 'xga_casa'] = historico_casa[historico_casa['team'] == time]['xga'].mean()      #xGA em casa\n",
    "  tabela.loc[tabela['squad'] == time, 'xga_fora'] = historico_casa[historico_casa['opponent'] == time]['xg'].mean()   #xGA fora\n",
    "  tabela.loc[tabela['squad'] == time, 'xga_total'] = (tabela['xga_casa'] + tabela['xga_fora'])/2                      #xGA total\n",
    "\n",
    "  #GF\n",
    "  tabela.loc[tabela['squad'] == time, 'gf_casa'] = historico_casa[historico_casa['team'] == time]['gf'].mean()        #GF em casa\n",
    "  tabela.loc[tabela['squad'] == time, 'gf_fora'] = historico_casa[historico_casa['opponent'] == time]['ga'].mean()    #GF fora\n",
    "  tabela.loc[tabela['squad'] == time, 'gf_total'] = (tabela['gf_casa'] + tabela['gf_fora'])/2                         #GF total\n",
    "\n",
    "  #GA\n",
    "  tabela.loc[tabela['squad'] == time, 'ga_casa'] = historico_casa[historico_casa['team'] == time]['ga'].mean()        #GA em casa\n",
    "  tabela.loc[tabela['squad'] == time, 'ga_fora'] = historico_casa[historico_casa['opponent'] == time]['gf'].mean()    #GA fora\n",
    "  tabela.loc[tabela['squad'] == time, 'ga_total'] = (tabela['ga_casa'] + tabela['ga_fora'])/2                         #GA total\n",
    "\n",
    "  #Poss\n",
    "  tabela.loc[tabela['squad'] == time, 'poss_casa'] = historico[(historico['team'] == time) & (historico['venue'] == 'Home')]['poss'].mean() #Poss Casa\n",
    "  tabela.loc[tabela['squad'] == time, 'poss_fora'] = historico[(historico['team'] == time) & (historico['venue'] == 'Away')]['poss'].mean() #Poss Fora\n",
    "  tabela.loc[tabela['squad'] == time, 'poss_total'] = (tabela['poss_casa'] + tabela['poss_fora'])/2                                         #Poss Total\n",
    "  \n",
    "  #SoT\n",
    "  tabela.loc[tabela['squad'] == time, 'sot_casa'] = historico[(historico['team'] == time) & (historico['venue'] == 'Home')]['sot'].mean() #sot Casa\n",
    "  tabela.loc[tabela['squad'] == time, 'sot_fora'] = historico[(historico['team'] == time) & (historico['venue'] == 'Away')]['sot'].mean() #sot Fora\n",
    "  tabela.loc[tabela['squad'] == time, 'sot_total'] = (tabela['sot_casa'] + tabela['sot_fora'])/2                                          #sot Total\n",
    "\n",
    "  #Sh\n",
    "  tabela.loc[tabela['squad'] == time, 'sh_casa'] = historico[(historico['team'] == time) & (historico['venue'] == 'Home')]['sh'].mean() #sh Casa\n",
    "  tabela.loc[tabela['squad'] == time, 'sh_fora'] = historico[(historico['team'] == time) & (historico['venue'] == 'Away')]['sh'].mean() #sh Fora\n",
    "  tabela.loc[tabela['squad'] == time, 'sh_total'] = (tabela['sh_casa'] + tabela['sh_fora'])/2                                           #sh Total\n"
   ]
  },
  {
   "cell_type": "code",
   "execution_count": 25,
   "metadata": {},
   "outputs": [],
   "source": [
    "#Ultimos 5 jogos\n",
    "historico_5jogos = historico_casa[historico_casa['round'] > rodada_recente-5]\n",
    "\n",
    "for time in tabela['squad']:\n",
    "  #xG\n",
    "  tabela.loc[tabela['squad'] == time, 'xg_5casa'] = historico_5jogos[historico_5jogos['team'] == time]['xg'].mean()       #xG em casa\n",
    "  tabela.loc[tabela['squad'] == time, 'xg_5fora'] = historico_5jogos[historico_5jogos['opponent'] == time]['xga'].mean()  #xG fora\n",
    "  tabela.loc[tabela['squad'] == time, 'xg_5total'] = (tabela['xg_5casa'] + tabela['xg_5fora'])/2                          #xG total\n",
    "\n",
    "  #xGA\n",
    "  tabela.loc[tabela['squad'] == time, 'xga_5casa'] = historico_5jogos[historico_5jogos['team'] == time]['xga'].mean()     #xGA em casa\n",
    "  tabela.loc[tabela['squad'] == time, 'xga_5fora'] = historico_5jogos[historico_5jogos['opponent'] == time]['xg'].mean()  #xGA fora\n",
    "  tabela.loc[tabela['squad'] == time, 'xga_5total'] = (tabela['xga_5casa'] + tabela['xga_5fora'])/2                       #xGA total\n",
    "\n",
    "  #GF\n",
    "  tabela.loc[tabela['squad'] == time, 'gf_5casa'] = historico_5jogos[historico_5jogos['team'] == time]['gf'].mean()       #GF em casa\n",
    "  tabela.loc[tabela['squad'] == time, 'gf_5fora'] = historico_5jogos[historico_5jogos['opponent'] == time]['ga'].mean()   #GF fora\n",
    "  tabela.loc[tabela['squad'] == time, 'gf_5total'] = tabela['gf_5casa'] + tabela['gf_5fora']                              #GF total\n",
    "\n",
    "  #GA\n",
    "  tabela.loc[tabela['squad'] == time, 'ga_5casa'] = historico_5jogos[historico_5jogos['team'] == time]['ga'].mean()       #GA em casa\n",
    "  tabela.loc[tabela['squad'] == time, 'ga_5fora'] = historico_5jogos[historico_5jogos['opponent'] == time]['gf'].mean()   #GA fora\n",
    "  tabela.loc[tabela['squad'] == time, 'ga_5total'] = tabela['ga_5casa'] + tabela['ga_5fora']                              #GA total\n",
    "  "
   ]
  },
  {
   "cell_type": "markdown",
   "metadata": {},
   "source": [
    "### Divisões e Exports"
   ]
  },
  {
   "cell_type": "code",
   "execution_count": 26,
   "metadata": {},
   "outputs": [],
   "source": [
    "tabela_atual = tabela[tabela['season'] == 2023]"
   ]
  },
  {
   "cell_type": "code",
   "execution_count": 27,
   "metadata": {},
   "outputs": [],
   "source": [
    "for season in tabela['season'].unique()[1:]:\n",
    "  if not os.path.exists(f'datasets/{liga}/standings/all_standings/season-{season}'):\n",
    "    os.makedirs(f'datasets/{liga}/standings/all_standings/season-{season}')\n",
    "  df = tabela[tabela['season'] == season]\n",
    "  df.to_excel(f'datasets/{liga}/standings/all_standings/season-{season}/tabela.xlsx', index= False)\n",
    "\n",
    "\n",
    "if not os.path.exists(f'datasets/{liga}/standings/all_standings/season-{season_atual}'):\n",
    "  os.makedirs(f'datasets/{liga}/standings/all_standings/season-{season_atual}')\n",
    "tabela_atual.to_excel(f'datasets/{liga}/standings/all_standings/season-{season_atual}/tabela-rodada{rodada_recente}.xlsx', index= False)"
   ]
  },
  {
   "cell_type": "markdown",
   "metadata": {},
   "source": [
    "### Tabelas casa e fora"
   ]
  },
  {
   "cell_type": "code",
   "execution_count": 28,
   "metadata": {},
   "outputs": [],
   "source": [
    "historico_atual = historico[historico['season'] == season_atual]\n",
    "tabela_casa = []\n",
    "tabela_fora = []\n",
    "for time in historico_atual['team'].unique():\n",
    "  tabela_casa.append(sum(historico_atual[historico_atual['venue'] == 'Home'].loc[historico_atual['team'] == time]['result'].map({'W': 3, 'D': 1, 'L': 0})))\n",
    "  tabela_fora.append(sum(historico_atual[historico_atual['venue'] == 'Away'].loc[historico_atual['team'] == time]['result'].map({'W': 3, 'D': 1, 'L': 0})))"
   ]
  },
  {
   "cell_type": "code",
   "execution_count": 29,
   "metadata": {},
   "outputs": [],
   "source": [
    "tabela_atual['pts_casa'] = tabela_casa\n",
    "tabela_atual['pts_fora'] = tabela_fora"
   ]
  },
  {
   "cell_type": "code",
   "execution_count": 30,
   "metadata": {},
   "outputs": [],
   "source": [
    "tabela_fora = tabela_atual.sort_values(by= 'pts_fora', ascending= False, ignore_index= True)\n",
    "tabela_fora['rk'] = range(1,21)"
   ]
  },
  {
   "cell_type": "code",
   "execution_count": 31,
   "metadata": {},
   "outputs": [],
   "source": [
    "tabela_casa = tabela_atual.sort_values(by= 'pts_casa', ascending= False, ignore_index= True)\n",
    "tabela_casa['rk'] = range(1,21)"
   ]
  },
  {
   "cell_type": "code",
   "execution_count": 32,
   "metadata": {},
   "outputs": [],
   "source": [
    "if not os.path.exists(f'datasets/{liga}/standings/home_standings/season-{season_atual}'):\n",
    "  os.makedirs(f'datasets/{liga}/standings/home_standings/season-{season_atual}')\n",
    "if not os.path.exists(f'datasets/{liga}/standings/away_standings/season-{season_atual}'):\n",
    "  os.makedirs(f'datasets/{liga}/standings/away_standings/season-{season_atual}')\n",
    "\n",
    "tabela_casa.to_excel(f'datasets/{liga}/standings/home_standings/season-{season_atual}/tabela-rodada{rodada_recente}.xlsx', index= False)\n",
    "tabela_fora.to_excel(f'datasets/{liga}/standings/away_standings/season-{season_atual}/tabela-rodada{rodada_recente}.xlsx', index= False)"
   ]
  },
  {
   "cell_type": "markdown",
   "metadata": {},
   "source": [
    "# RODADAS"
   ]
  },
  {
   "cell_type": "markdown",
   "metadata": {},
   "source": [
    "### Data Cleaning"
   ]
  },
  {
   "cell_type": "code",
   "execution_count": 33,
   "metadata": {},
   "outputs": [],
   "source": [
    "rodadas = rodadas.loc[rodadas['home'].notna()]"
   ]
  },
  {
   "cell_type": "code",
   "execution_count": 34,
   "metadata": {},
   "outputs": [],
   "source": [
    "rodadas.drop(['day', 'date', 'time', 'attendance', 'venue', 'referee', 'match report', 'notes'], axis= 1, inplace= True)"
   ]
  },
  {
   "cell_type": "code",
   "execution_count": 35,
   "metadata": {},
   "outputs": [],
   "source": [
    "rodadas['home'] = rodadas['home'].apply(remover_acentos)\n",
    "rodadas['home'] = [linha.lower() for linha in rodadas['home']]\n",
    "rodadas['home'] = rodadas['home'].str.replace(' ', '_')\n",
    "rodadas['home'] = rodadas['home'].str.replace('(', '')\n",
    "rodadas['home'] = rodadas['home'].str.replace(')', '')\n",
    "rodadas['home'] = rodadas['home'].str.replace(')', '')\n",
    "\n",
    "# Especifico para o brasileirão\n",
    "rodadas['home'] = rodadas['home'].str.replace('atletico', 'atl')\n",
    "\n",
    "# Especifico para a Premier League\n",
    "rodadas['home'] = rodadas['home'].str.replace(\"nott'ham_forest\", \"nottingham_forest\")"
   ]
  },
  {
   "cell_type": "code",
   "execution_count": 36,
   "metadata": {},
   "outputs": [],
   "source": [
    "rodadas['away'] = rodadas['away'].apply(remover_acentos)\n",
    "rodadas['away'] = [linha.lower() for linha in rodadas['away']]\n",
    "rodadas['away'] = rodadas['away'].str.replace(' ', '_')\n",
    "rodadas['away'] = rodadas['away'].str.replace('(', '')\n",
    "rodadas['away'] = rodadas['away'].str.replace(')', '')\n",
    "rodadas['away'] = rodadas['away'].str.replace(')', '')\n",
    "\n",
    "# Especifico para o brasileirão\n",
    "rodadas['away'] = rodadas['away'].str.replace('atletico', 'atl')\n",
    "\n",
    "# Especifico para a Premier League\n",
    "rodadas['away'] = rodadas['away'].str.replace(\"nott'ham_forest\", \"nottingham_forest\")"
   ]
  },
  {
   "cell_type": "code",
   "execution_count": 37,
   "metadata": {},
   "outputs": [
    {
     "data": {
      "text/plain": [
       "[]"
      ]
     },
     "execution_count": 37,
     "metadata": {},
     "output_type": "execute_result"
    }
   ],
   "source": [
    "[item for item in rodadas['home'].unique() if item not in historico['opponent'].unique()]"
   ]
  },
  {
   "cell_type": "code",
   "execution_count": 38,
   "metadata": {},
   "outputs": [],
   "source": [
    "rodadas[['gols_casa', 'gols_fora']] = rodadas['score'].str.split('–', expand=True)\n",
    "rodadas.drop(['score'], axis= 1, inplace= True)\n",
    "rodadas.insert(5, 'gols_casa', rodadas.pop('gols_casa'))\n",
    "rodadas.insert(6, 'gols_fora', rodadas.pop('gols_fora'))\n",
    "\n",
    "rodadas = rodadas.rename(columns={'xg.1': 'xg_fora', 'xg': 'xg_casa'})\n",
    "\n",
    "rodadas['gols_casa'] = rodadas['gols_casa'].apply(convert_to_int)\n",
    "rodadas['gols_fora'] = rodadas['gols_fora'].apply(convert_to_int)\n"
   ]
  },
  {
   "cell_type": "code",
   "execution_count": 39,
   "metadata": {},
   "outputs": [
    {
     "data": {
      "text/html": [
       "<div>\n",
       "<style scoped>\n",
       "    .dataframe tbody tr th:only-of-type {\n",
       "        vertical-align: middle;\n",
       "    }\n",
       "\n",
       "    .dataframe tbody tr th {\n",
       "        vertical-align: top;\n",
       "    }\n",
       "\n",
       "    .dataframe thead th {\n",
       "        text-align: right;\n",
       "    }\n",
       "</style>\n",
       "<table border=\"1\" class=\"dataframe\">\n",
       "  <thead>\n",
       "    <tr style=\"text-align: right;\">\n",
       "      <th></th>\n",
       "      <th>wk</th>\n",
       "      <th>home</th>\n",
       "      <th>xg_casa</th>\n",
       "      <th>xg_fora</th>\n",
       "      <th>away</th>\n",
       "      <th>gols_casa</th>\n",
       "      <th>gols_fora</th>\n",
       "    </tr>\n",
       "  </thead>\n",
       "  <tbody>\n",
       "    <tr>\n",
       "      <th>0</th>\n",
       "      <td>1.0</td>\n",
       "      <td>america_mg</td>\n",
       "      <td>1.1</td>\n",
       "      <td>3.1</td>\n",
       "      <td>fluminense</td>\n",
       "      <td>0</td>\n",
       "      <td>3</td>\n",
       "    </tr>\n",
       "    <tr>\n",
       "      <th>1</th>\n",
       "      <td>1.0</td>\n",
       "      <td>palmeiras</td>\n",
       "      <td>3.0</td>\n",
       "      <td>1.0</td>\n",
       "      <td>cuiaba</td>\n",
       "      <td>2</td>\n",
       "      <td>1</td>\n",
       "    </tr>\n",
       "    <tr>\n",
       "      <th>2</th>\n",
       "      <td>1.0</td>\n",
       "      <td>bragantino</td>\n",
       "      <td>2.0</td>\n",
       "      <td>0.7</td>\n",
       "      <td>bahia</td>\n",
       "      <td>2</td>\n",
       "      <td>1</td>\n",
       "    </tr>\n",
       "    <tr>\n",
       "      <th>3</th>\n",
       "      <td>1.0</td>\n",
       "      <td>botafogo_rj</td>\n",
       "      <td>0.9</td>\n",
       "      <td>2.0</td>\n",
       "      <td>sao_paulo</td>\n",
       "      <td>2</td>\n",
       "      <td>1</td>\n",
       "    </tr>\n",
       "    <tr>\n",
       "      <th>4</th>\n",
       "      <td>1.0</td>\n",
       "      <td>ath_paranaense</td>\n",
       "      <td>0.8</td>\n",
       "      <td>1.0</td>\n",
       "      <td>goias</td>\n",
       "      <td>2</td>\n",
       "      <td>0</td>\n",
       "    </tr>\n",
       "  </tbody>\n",
       "</table>\n",
       "</div>"
      ],
      "text/plain": [
       "    wk            home  xg_casa  xg_fora        away gols_casa gols_fora\n",
       "0  1.0      america_mg      1.1      3.1  fluminense         0         3\n",
       "1  1.0       palmeiras      3.0      1.0      cuiaba         2         1\n",
       "2  1.0      bragantino      2.0      0.7       bahia         2         1\n",
       "3  1.0     botafogo_rj      0.9      2.0   sao_paulo         2         1\n",
       "4  1.0  ath_paranaense      0.8      1.0       goias         2         0"
      ]
     },
     "execution_count": 39,
     "metadata": {},
     "output_type": "execute_result"
    }
   ],
   "source": [
    "rodadas.head()"
   ]
  },
  {
   "cell_type": "code",
   "execution_count": 40,
   "metadata": {},
   "outputs": [],
   "source": [
    "rodadas = rodadas[['wk', 'xg_casa', 'xg_fora', 'home', 'gols_casa', 'gols_fora', 'away']]"
   ]
  },
  {
   "cell_type": "markdown",
   "metadata": {},
   "source": [
    "### Divisão e Export"
   ]
  },
  {
   "cell_type": "code",
   "execution_count": 41,
   "metadata": {},
   "outputs": [],
   "source": [
    "rodadas.to_excel(f'datasets/{liga}/rounds/all_rounds/rodadas.xlsx', index= False)"
   ]
  }
 ],
 "metadata": {
  "kernelspec": {
   "display_name": "base",
   "language": "python",
   "name": "python3"
  },
  "language_info": {
   "codemirror_mode": {
    "name": "ipython",
    "version": 3
   },
   "file_extension": ".py",
   "mimetype": "text/x-python",
   "name": "python",
   "nbconvert_exporter": "python",
   "pygments_lexer": "ipython3",
   "version": "3.11.6"
  }
 },
 "nbformat": 4,
 "nbformat_minor": 2
}

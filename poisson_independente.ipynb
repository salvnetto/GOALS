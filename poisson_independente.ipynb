{
 "cells": [
  {
   "cell_type": "code",
   "execution_count": 129,
   "metadata": {},
   "outputs": [],
   "source": [
    "import pandas as pd\n",
    "import numpy as np\n",
    "import matplotlib.pyplot as plt\n",
    "import seaborn as sns\n",
    "import statsmodels.api as sm\n",
    "from scipy import stats"
   ]
  },
  {
   "cell_type": "markdown",
   "metadata": {},
   "source": [
    "$X= ``Número\\ de\\ gols\\ do\\ time\\ de\\ casa\" \\sim Poisson(\\lambda_x)\\\\$\n",
    "$Y= ``Número\\ de\\ gols\\ do\\ time\\ visitante\" \\sim Poisson(\\lambda_x)$"
   ]
  },
  {
   "cell_type": "markdown",
   "metadata": {},
   "source": [
    "$$P(X=x)=\\frac{\\lambda^{x}_{x}e^{-\\lambda_x}}{x!}\\qquad P(Y=y)=\\frac{\\lambda^{y}_{y}e^{-\\lambda_y}}{y!}\\\\$$"
   ]
  },
  {
   "cell_type": "markdown",
   "metadata": {},
   "source": [
    "$$P(X=x, Y=y)=P(X=x)P(Y=y)=\\frac{\\lambda_{x}^{x}\\lambda_{y}^{y}e^{-(\\lambda_x+\\lambda_y)}}{x!y!}$$"
   ]
  },
  {
   "cell_type": "markdown",
   "metadata": {},
   "source": [
    "# MODELO 1\n",
    "xG esperado para a partida"
   ]
  },
  {
   "cell_type": "code",
   "execution_count": 130,
   "metadata": {},
   "outputs": [],
   "source": [
    "xg_cruzeiro_1410 = (0.14+3.87+1.63+1.56+1.74+0.35+0.66+0.58+0.88+0.97)/10\n",
    "xg_cuiaba_1410 = (9.72+1.80+0.90+1.18+2.14+0.42+0.91+0.76)/10"
   ]
  },
  {
   "cell_type": "code",
   "execution_count": 131,
   "metadata": {},
   "outputs": [],
   "source": [
    "#poisson.pmf(k, mu, loc)\n",
    "cruzeiro_model1 = []\n",
    "for k in range(0, 11):\n",
    "  cruzeiro_model1.append(stats.poisson.pmf(k, xg_cruzeiro_1410))\n",
    "\n",
    "cuiaba_model1 = []\n",
    "for k in range(0, 11):\n",
    "  cuiaba_model1.append(stats.poisson.pmf(k, xg_cuiaba_1410))"
   ]
  },
  {
   "cell_type": "code",
   "execution_count": 132,
   "metadata": {},
   "outputs": [],
   "source": [
    "df_prob1 = pd.DataFrame({'Cuiaba': cuiaba_model1, 'Cruzeiro': cruzeiro_model1})\n",
    "df_prob1_percent = df_prob1.apply(lambda x: x*100).apply(lambda x: round(x, 2))"
   ]
  },
  {
   "cell_type": "code",
   "execution_count": 133,
   "metadata": {},
   "outputs": [],
   "source": [
    "df_prob2 = pd.DataFrame()\n",
    "cuiaba_win_percent = []\n",
    "cruzeiro_win_percent = []\n",
    "\n",
    "for i in range(1, len(df_prob1) - 1):\n",
    "    cuiaba_win_percent.append(df_prob1['Cuiaba'][i + 1] * sum(df_prob1['Cruzeiro'][df_prob1['Cruzeiro'].index < i]))\n",
    "    cruzeiro_win_percent.append(df_prob1['Cruzeiro'][i + 1] * sum(df_prob1['Cuiaba'][df_prob1['Cuiaba'].index < i]))\n",
    "\n",
    "df_prob2['Cuiaba Win% if score'] = cuiaba_win_percent\n",
    "df_prob2['Cruzeiro Win% if score'] = cruzeiro_win_percent\n",
    "df_prob2.index = pd.RangeIndex(1,10)\n",
    "df_prob2_percent = df_prob2.apply(lambda x: x*100).apply(lambda x: round(x, 2))"
   ]
  },
  {
   "cell_type": "code",
   "execution_count": 134,
   "metadata": {},
   "outputs": [],
   "source": [
    "win_cuiaba = sum(df_prob2['Cuiaba Win% if score'])\n",
    "win_cruzeiro = sum(df_prob2['Cruzeiro Win% if score'])\n",
    "\n",
    "df_prob3 = pd.DataFrame({'Cuiaba Win%': [win_cuiaba], 'Cruzeiro Win%': [win_cruzeiro]})\n",
    "df_prob3_percent = df_prob3.apply(lambda x: x*100).apply(lambda x: round(x, 2))"
   ]
  },
  {
   "cell_type": "code",
   "execution_count": 149,
   "metadata": {},
   "outputs": [],
   "source": [
    "df_1410 = pd.concat([df_prob1, df_prob2, df_prob3], axis=1)\n",
    "df_1410['empate'] = 1-(df_1410['Cruzeiro Win%'][0] + df_1410['Cuiaba Win%'][0])\n",
    "df_1410.to_excel('dados/previsoes/previsao1410-cuiabavscruzeiro.xlsx')"
   ]
  },
  {
   "cell_type": "markdown",
   "metadata": {},
   "source": [
    "# MODELO 2\n",
    "ATT Rating = (Gols Feitos no campeonato/Partidas Jogadas)/Média de gols da liga\\\n",
    "DEF Rating = (Gols Sofridos no campeonato/Partidas Jogadas)/Média de gols da liga\\\n",
    "EXPECTED GOALS = ATTxDEFxAVGLeague"
   ]
  },
  {
   "cell_type": "code",
   "execution_count": null,
   "metadata": {},
   "outputs": [],
   "source": []
  }
 ],
 "metadata": {
  "kernelspec": {
   "display_name": "base",
   "language": "python",
   "name": "python3"
  },
  "language_info": {
   "codemirror_mode": {
    "name": "ipython",
    "version": 3
   },
   "file_extension": ".py",
   "mimetype": "text/x-python",
   "name": "python",
   "nbconvert_exporter": "python",
   "pygments_lexer": "ipython3",
   "version": "3.11.6"
  }
 },
 "nbformat": 4,
 "nbformat_minor": 2
}

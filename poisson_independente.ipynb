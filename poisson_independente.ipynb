{
 "cells": [
  {
   "cell_type": "code",
   "execution_count": 263,
   "metadata": {},
   "outputs": [],
   "source": [
    "import pandas as pd\n",
    "import numpy as np\n",
    "import matplotlib.pyplot as plt\n",
    "import seaborn as sns\n",
    "import statsmodels.api as sm\n",
    "from scipy import stats"
   ]
  },
  {
   "cell_type": "markdown",
   "metadata": {},
   "source": [
    "$X= ``Número\\ de\\ gols\\ do\\ time\\ de\\ casa\" \\sim Poisson(\\lambda_x)\\\\$\n",
    "$Y= ``Número\\ de\\ gols\\ do\\ time\\ visitante\" \\sim Poisson(\\lambda_x)$"
   ]
  },
  {
   "cell_type": "markdown",
   "metadata": {},
   "source": [
    "$$P(X=x)=\\frac{\\lambda^{x}_{x}e^{-\\lambda_x}}{x!}\\qquad P(Y=y)=\\frac{\\lambda^{y}_{y}e^{-\\lambda_y}}{y!}\\\\$$"
   ]
  },
  {
   "cell_type": "markdown",
   "metadata": {},
   "source": [
    "$$P(X=x, Y=y)=P(X=x)P(Y=y)=\\frac{\\lambda_{x}^{x}\\lambda_{y}^{y}e^{-(\\lambda_x+\\lambda_y)}}{x!y!}$$"
   ]
  },
  {
   "cell_type": "markdown",
   "metadata": {},
   "source": [
    "# Verificação e validação do modelo"
   ]
  },
  {
   "cell_type": "code",
   "execution_count": null,
   "metadata": {},
   "outputs": [],
   "source": [
    "tabela = pd.read_excel('dados/tabela_brasileirao(rodada-26).xlsx')\n",
    "historico = pd.read_excel('dados/historico_casa(2023-10-08).xlsx')"
   ]
  },
  {
   "cell_type": "code",
   "execution_count": 288,
   "metadata": {},
   "outputs": [
    {
     "name": "stdout",
     "output_type": "stream",
     "text": [
      "1.4517374517374517\n",
      "1.3494058842896062\n"
     ]
    },
    {
     "data": {
      "text/plain": [
       "<Axes: xlabel='GF', ylabel='Count'>"
      ]
     },
     "execution_count": 288,
     "metadata": {},
     "output_type": "execute_result"
    },
    {
     "data": {
      "image/png": "[encoded data removed]",
      "text/plain": [
       "<Figure size 640x480 with 1 Axes>"
      ]
     },
     "metadata": {},
     "output_type": "display_data"
    }
   ],
   "source": [
    "print(historico['GF'].mean())\n",
    "print(historico['GF'].var())\n",
    "sns.histplot(historico['GF'])"
   ]
  },
  {
   "cell_type": "code",
   "execution_count": 289,
   "metadata": {},
   "outputs": [
    {
     "name": "stdout",
     "output_type": "stream",
     "text": [
      "1.4907335907335908\n",
      "0.5332471341773668\n"
     ]
    },
    {
     "data": {
      "text/plain": [
       "<Axes: xlabel='xG', ylabel='Count'>"
      ]
     },
     "execution_count": 289,
     "metadata": {},
     "output_type": "execute_result"
    },
    {
     "data": {
      "image/png": "[encoded data removed]",
      "text/plain": [
       "<Figure size 640x480 with 1 Axes>"
      ]
     },
     "metadata": {},
     "output_type": "display_data"
    }
   ],
   "source": [
    "print(historico['xG'].mean())\n",
    "print(historico['xG'].var())\n",
    "sns.histplot(historico['xG'])"
   ]
  },
  {
   "cell_type": "code",
   "execution_count": 301,
   "metadata": {},
   "outputs": [
    {
     "data": {
      "text/plain": [
       "0.04307913279446908"
      ]
     },
     "execution_count": 301,
     "metadata": {},
     "output_type": "execute_result"
    }
   ],
   "source": [
    "historico['GF'].corr(historico['GF'].shift(1))"
   ]
  },
  {
   "cell_type": "code",
   "execution_count": 312,
   "metadata": {},
   "outputs": [
    {
     "data": {
      "text/plain": [
       "0.021404961417770277"
      ]
     },
     "execution_count": 312,
     "metadata": {},
     "output_type": "execute_result"
    }
   ],
   "source": [
    "historico['GF'].corr(historico['GA'])"
   ]
  },
  {
   "cell_type": "code",
   "execution_count": 319,
   "metadata": {},
   "outputs": [
    {
     "data": {
      "text/plain": [
       "TtestResult(statistic=-0.6686345765523165, pvalue=0.5043264017523823, df=258)"
      ]
     },
     "execution_count": 319,
     "metadata": {},
     "output_type": "execute_result"
    }
   ],
   "source": [
    "m, v, s, k = stats.poisson.stats(1.5, moments='mvsk')\n",
    "stats.ttest_1samp(historico['GF'], m)\n"
   ]
  },
  {
   "cell_type": "code",
   "execution_count": 334,
   "metadata": {},
   "outputs": [
    {
     "name": "stdout",
     "output_type": "stream",
     "text": [
      "0.816496580927726\n",
      "0.829957702075258\n"
     ]
    }
   ],
   "source": [
    "print(s)\n",
    "print(1/np.sqrt(historico['GF'].mean()))\n",
    "\n",
    "print\n"
   ]
  },
  {
   "cell_type": "code",
   "execution_count": 323,
   "metadata": {},
   "outputs": [
    {
     "data": {
      "text/plain": [
       "KstestResult(statistic=0.3184431609888354, pvalue=7.411608243081791e-24, statistic_location=1, statistic_sign=-1)"
      ]
     },
     "execution_count": 323,
     "metadata": {},
     "output_type": "execute_result"
    }
   ],
   "source": [
    "stats.kstest(historico['GF'], 'poisson', (1.5,))"
   ]
  },
  {
   "cell_type": "code",
   "execution_count": 332,
   "metadata": {},
   "outputs": [
    {
     "data": {
      "text/plain": [
       "((array([0., 0., 0., 0., 0., 0., 0., 0., 0., 0., 0., 0., 0., 0., 0., 0., 0.,\n",
       "         0., 0., 0., 0., 0., 0., 0., 0., 0., 0., 0., 0., 0., 0., 0., 0., 0.,\n",
       "         0., 0., 0., 0., 0., 0., 0., 0., 0., 0., 0., 0., 0., 0., 0., 0., 0.,\n",
       "         0., 0., 0., 0., 0., 0., 0., 1., 1., 1., 1., 1., 1., 1., 1., 1., 1.,\n",
       "         1., 1., 1., 1., 1., 1., 1., 1., 1., 1., 1., 1., 1., 1., 1., 1., 1.,\n",
       "         1., 1., 1., 1., 1., 1., 1., 1., 1., 1., 1., 1., 1., 1., 1., 1., 1.,\n",
       "         1., 1., 1., 1., 1., 1., 1., 1., 1., 1., 1., 1., 1., 1., 1., 1., 1.,\n",
       "         1., 1., 1., 1., 1., 1., 1., 1., 1., 1., 1., 1., 1., 1., 1., 1., 1.,\n",
       "         1., 1., 1., 1., 1., 1., 1., 1., 2., 2., 2., 2., 2., 2., 2., 2., 2.,\n",
       "         2., 2., 2., 2., 2., 2., 2., 2., 2., 2., 2., 2., 2., 2., 2., 2., 2.,\n",
       "         2., 2., 2., 2., 2., 2., 2., 2., 2., 2., 2., 2., 2., 2., 2., 2., 2.,\n",
       "         2., 2., 2., 2., 2., 2., 2., 2., 2., 2., 2., 2., 2., 2., 2., 2., 2.,\n",
       "         2., 2., 2., 2., 2., 2., 3., 3., 3., 3., 3., 3., 3., 3., 3., 3., 3.,\n",
       "         3., 3., 3., 3., 3., 3., 3., 3., 3., 3., 3., 3., 3., 3., 3., 3., 3.,\n",
       "         3., 3., 3., 3., 4., 4., 4., 4., 4., 4., 4., 4., 4., 4., 4., 4., 5.,\n",
       "         5., 5., 5., 6.]),\n",
       "  array([0, 0, 0, 0, 0, 0, 0, 0, 0, 0, 0, 0, 0, 0, 0, 0, 0, 0, 0, 0, 0, 0,\n",
       "         0, 0, 0, 0, 0, 0, 0, 0, 0, 0, 0, 0, 0, 0, 0, 0, 0, 0, 0, 0, 0, 0,\n",
       "         0, 0, 0, 0, 0, 0, 0, 0, 0, 0, 0, 0, 0, 0, 0, 0, 0, 0, 1, 1, 1, 1,\n",
       "         1, 1, 1, 1, 1, 1, 1, 1, 1, 1, 1, 1, 1, 1, 1, 1, 1, 1, 1, 1, 1, 1,\n",
       "         1, 1, 1, 1, 1, 1, 1, 1, 1, 1, 1, 1, 1, 1, 1, 1, 1, 1, 1, 1, 1, 1,\n",
       "         1, 1, 1, 1, 1, 1, 1, 1, 1, 1, 1, 1, 1, 1, 1, 1, 1, 1, 1, 1, 1, 1,\n",
       "         1, 1, 1, 1, 1, 1, 1, 1, 1, 2, 2, 2, 2, 2, 2, 2, 2, 2, 2, 2, 2, 2,\n",
       "         2, 2, 2, 2, 2, 2, 2, 2, 2, 2, 2, 2, 2, 2, 2, 2, 2, 2, 2, 2, 2, 2,\n",
       "         2, 2, 2, 2, 2, 2, 2, 2, 2, 2, 2, 2, 2, 2, 2, 2, 2, 2, 2, 2, 2, 2,\n",
       "         2, 2, 2, 2, 2, 2, 2, 2, 2, 2, 2, 2, 2, 2, 2, 2, 2, 3, 3, 3, 3, 3,\n",
       "         3, 3, 3, 3, 3, 3, 3, 3, 3, 3, 3, 3, 3, 3, 3, 3, 3, 3, 3, 3, 3, 3,\n",
       "         3, 3, 4, 4, 4, 4, 4, 4, 4, 4, 4, 4, 4, 4, 4, 5, 5], dtype=int64)),\n",
       " (0.9297641746111454, 0.05888610135473216, 0.9774182072178776))"
      ]
     },
     "execution_count": 332,
     "metadata": {},
     "output_type": "execute_result"
    },
    {
     "data": {
      "image/png": "[encoded data removed]",
      "text/plain": [
       "<Figure size 640x480 with 1 Axes>"
      ]
     },
     "metadata": {},
     "output_type": "display_data"
    }
   ],
   "source": [
    "stats.probplot(historico['GF'], dist=stats.poisson, sparams=(1.5,), plot=plt)"
   ]
  },
  {
   "cell_type": "code",
   "execution_count": 265,
   "metadata": {},
   "outputs": [],
   "source": [
    "#poisson.pmf(k, mu, loc)\n",
    "\n",
    "def gerar_prob(timex_str, timey_str, lambdax, lambday):\n",
    "  timex = []\n",
    "  for k in range(0, 11):\n",
    "    timex.append(stats.poisson.pmf(k, lambdax))\n",
    "\n",
    "  timey = []\n",
    "  for k in range(0, 11):\n",
    "    timey.append(stats.poisson.pmf(k, lambday))\n",
    "\n",
    "  df_prob1 = pd.DataFrame({timex_str: timex, timey_str: timey})\n",
    "\n",
    "  df_prob2 = pd.DataFrame()\n",
    "  x_win_percent = []\n",
    "  y_win_percent = []\n",
    "\n",
    "  for i in range(1, len(df_prob1) - 1):\n",
    "      x_win_percent.append(df_prob1['Cuiaba'][i + 1] * sum(df_prob1['Cruzeiro'][df_prob1['Cruzeiro'].index < i]))\n",
    "      y_win_percent.append(df_prob1['Cruzeiro'][i + 1] * sum(df_prob1['Cuiaba'][df_prob1['Cuiaba'].index < i]))\n",
    "\n",
    "  df_prob2[f'{timex_str} Win% if score'] = x_win_percent\n",
    "  df_prob2[f'{timey_str} Win% if score'] = y_win_percent\n",
    "  df_prob2.index = pd.RangeIndex(1,10)\n",
    "\n",
    "  win_cuiaba = sum(df_prob2[f'{timex_str} Win% if score'])\n",
    "  win_cruzeiro = sum(df_prob2[f'{timey_str} Win% if score'])\n",
    "\n",
    "  df_prob3 = pd.DataFrame({f'{timex_str} Win%': [win_cuiaba], f'{timey_str} Win%': [win_cruzeiro]})\n",
    "\n",
    "  df_final = pd.concat([df_prob1, df_prob2, df_prob3], axis=1)\n",
    "  df_final.loc[0, 'empate'] = 1-(df_final['Cruzeiro Win%'][0] + df_final['Cuiaba Win%'][0])\n",
    "  df_final.loc[1, 'empate'] = 1/df_final.loc[0, 'empate']\n",
    "  df_final.loc[1, f'{timex_str} Win%'] = 1/df_final.loc[0, f'{timex_str} Win%']\n",
    "  df_final.loc[1, f'{timey_str} Win%'] = 1/df_final.loc[0, f'{timey_str} Win%']\n",
    "\n",
    "  return df_final"
   ]
  },
  {
   "cell_type": "markdown",
   "metadata": {},
   "source": [
    "# MODELO 1\n",
    "xG esperado para a partida"
   ]
  },
  {
   "cell_type": "code",
   "execution_count": 266,
   "metadata": {},
   "outputs": [],
   "source": [
    "xg_cruzeiro_1410 = (0.14+3.87+1.63+1.56+1.74+0.35+0.66+0.58+0.88+0.97)/10\n",
    "xg_cuiaba_1410 = (9.72+1.80+0.90+1.18+2.14+0.42+0.91+0.76)/10"
   ]
  },
  {
   "cell_type": "code",
   "execution_count": 267,
   "metadata": {},
   "outputs": [],
   "source": [
    "df_1410 = gerar_prob('Cuiaba', 'Cruzeiro', xg_cuiaba_1410, xg_cruzeiro_1410)\n",
    "df_1410.to_excel('dados/previsoes/previsao1410-cuiabavscruzeiro.xlsx')"
   ]
  },
  {
   "cell_type": "code",
   "execution_count": 268,
   "metadata": {},
   "outputs": [
    {
     "data": {
      "text/html": [
       "<div>\n",
       "<style scoped>\n",
       "    .dataframe tbody tr th:only-of-type {\n",
       "        vertical-align: middle;\n",
       "    }\n",
       "\n",
       "    .dataframe tbody tr th {\n",
       "        vertical-align: top;\n",
       "    }\n",
       "\n",
       "    .dataframe thead th {\n",
       "        text-align: right;\n",
       "    }\n",
       "</style>\n",
       "<table border=\"1\" class=\"dataframe\">\n",
       "  <thead>\n",
       "    <tr style=\"text-align: right;\">\n",
       "      <th></th>\n",
       "      <th>Cuiaba</th>\n",
       "      <th>Cruzeiro</th>\n",
       "      <th>Cuiaba Win% if score</th>\n",
       "      <th>Cruzeiro Win% if score</th>\n",
       "      <th>Cuiaba Win%</th>\n",
       "      <th>Cruzeiro Win%</th>\n",
       "      <th>empate</th>\n",
       "    </tr>\n",
       "  </thead>\n",
       "  <tbody>\n",
       "    <tr>\n",
       "      <th>0</th>\n",
       "      <td>0.168133</td>\n",
       "      <td>2.899636e-01</td>\n",
       "      <td>NaN</td>\n",
       "      <td>NaN</td>\n",
       "      <td>0.276429</td>\n",
       "      <td>0.109111</td>\n",
       "      <td>0.614460</td>\n",
       "    </tr>\n",
       "    <tr>\n",
       "      <th>1</th>\n",
       "      <td>0.299781</td>\n",
       "      <td>3.589749e-01</td>\n",
       "      <td>0.077494</td>\n",
       "      <td>3.736007e-02</td>\n",
       "      <td>3.617560</td>\n",
       "      <td>9.164972</td>\n",
       "      <td>1.627447</td>\n",
       "    </tr>\n",
       "    <tr>\n",
       "      <th>2</th>\n",
       "      <td>0.267255</td>\n",
       "      <td>2.222055e-01</td>\n",
       "      <td>0.103076</td>\n",
       "      <td>4.290622e-02</td>\n",
       "      <td>NaN</td>\n",
       "      <td>NaN</td>\n",
       "      <td>NaN</td>\n",
       "    </tr>\n",
       "    <tr>\n",
       "      <th>3</th>\n",
       "      <td>0.158838</td>\n",
       "      <td>9.169679e-02</td>\n",
       "      <td>0.061679</td>\n",
       "      <td>2.086421e-02</td>\n",
       "      <td>NaN</td>\n",
       "      <td>NaN</td>\n",
       "      <td>NaN</td>\n",
       "    </tr>\n",
       "    <tr>\n",
       "      <th>4</th>\n",
       "      <td>0.070802</td>\n",
       "      <td>2.838016e-02</td>\n",
       "      <td>0.024310</td>\n",
       "      <td>6.282125e-03</td>\n",
       "      <td>NaN</td>\n",
       "      <td>NaN</td>\n",
       "      <td>NaN</td>\n",
       "    </tr>\n",
       "    <tr>\n",
       "      <th>5</th>\n",
       "      <td>0.025248</td>\n",
       "      <td>7.026926e-03</td>\n",
       "      <td>0.007437</td>\n",
       "      <td>1.398867e-03</td>\n",
       "      <td>NaN</td>\n",
       "      <td>NaN</td>\n",
       "      <td>NaN</td>\n",
       "    </tr>\n",
       "    <tr>\n",
       "      <th>6</th>\n",
       "      <td>0.007503</td>\n",
       "      <td>1.449889e-03</td>\n",
       "      <td>0.001908</td>\n",
       "      <td>2.538738e-04</td>\n",
       "      <td>NaN</td>\n",
       "      <td>NaN</td>\n",
       "      <td>NaN</td>\n",
       "    </tr>\n",
       "    <tr>\n",
       "      <th>7</th>\n",
       "      <td>0.001911</td>\n",
       "      <td>2.564233e-04</td>\n",
       "      <td>0.000426</td>\n",
       "      <td>3.958470e-05</td>\n",
       "      <td>NaN</td>\n",
       "      <td>NaN</td>\n",
       "      <td>NaN</td>\n",
       "    </tr>\n",
       "    <tr>\n",
       "      <th>8</th>\n",
       "      <td>0.000426</td>\n",
       "      <td>3.968150e-05</td>\n",
       "      <td>0.000084</td>\n",
       "      <td>5.455527e-06</td>\n",
       "      <td>NaN</td>\n",
       "      <td>NaN</td>\n",
       "      <td>NaN</td>\n",
       "    </tr>\n",
       "    <tr>\n",
       "      <th>9</th>\n",
       "      <td>0.000084</td>\n",
       "      <td>5.458411e-06</td>\n",
       "      <td>0.000015</td>\n",
       "      <td>6.756821e-07</td>\n",
       "      <td>NaN</td>\n",
       "      <td>NaN</td>\n",
       "      <td>NaN</td>\n",
       "    </tr>\n",
       "    <tr>\n",
       "      <th>10</th>\n",
       "      <td>0.000015</td>\n",
       "      <td>6.757512e-07</td>\n",
       "      <td>NaN</td>\n",
       "      <td>NaN</td>\n",
       "      <td>NaN</td>\n",
       "      <td>NaN</td>\n",
       "      <td>NaN</td>\n",
       "    </tr>\n",
       "  </tbody>\n",
       "</table>\n",
       "</div>"
      ],
      "text/plain": [
       "      Cuiaba      Cruzeiro  Cuiaba Win% if score  Cruzeiro Win% if score  \\\n",
       "0   0.168133  2.899636e-01                   NaN                     NaN   \n",
       "1   0.299781  3.589749e-01              0.077494            3.736007e-02   \n",
       "2   0.267255  2.222055e-01              0.103076            4.290622e-02   \n",
       "3   0.158838  9.169679e-02              0.061679            2.086421e-02   \n",
       "4   0.070802  2.838016e-02              0.024310            6.282125e-03   \n",
       "5   0.025248  7.026926e-03              0.007437            1.398867e-03   \n",
       "6   0.007503  1.449889e-03              0.001908            2.538738e-04   \n",
       "7   0.001911  2.564233e-04              0.000426            3.958470e-05   \n",
       "8   0.000426  3.968150e-05              0.000084            5.455527e-06   \n",
       "9   0.000084  5.458411e-06              0.000015            6.756821e-07   \n",
       "10  0.000015  6.757512e-07                   NaN                     NaN   \n",
       "\n",
       "    Cuiaba Win%  Cruzeiro Win%    empate  \n",
       "0      0.276429       0.109111  0.614460  \n",
       "1      3.617560       9.164972  1.627447  \n",
       "2           NaN            NaN       NaN  \n",
       "3           NaN            NaN       NaN  \n",
       "4           NaN            NaN       NaN  \n",
       "5           NaN            NaN       NaN  \n",
       "6           NaN            NaN       NaN  \n",
       "7           NaN            NaN       NaN  \n",
       "8           NaN            NaN       NaN  \n",
       "9           NaN            NaN       NaN  \n",
       "10          NaN            NaN       NaN  "
      ]
     },
     "execution_count": 268,
     "metadata": {},
     "output_type": "execute_result"
    }
   ],
   "source": [
    "df_1410"
   ]
  },
  {
   "cell_type": "markdown",
   "metadata": {},
   "source": [
    "# MODELO 2\n",
    "ATT Rating = (Gols Feitos no campeonato/Partidas Jogadas)/Média de gols da liga\\\n",
    "DEF Rating = (Gols Sofridos no campeonato/Partidas Jogadas)/Média de gols da liga\\\n",
    "EXPECTED GOALS = ATTxDEFxAVGLeague"
   ]
  },
  {
   "cell_type": "code",
   "execution_count": 271,
   "metadata": {},
   "outputs": [],
   "source": [
    "#ATT Rating = (Gols Feitos no campeonato/Partidas Jogadas)/gols_liga\n",
    "#DEF Rating = (Gols Sofridos no campeonato/Partidas Jogadas)/gols_liga\n",
    "#EXPECTED GOALS = ATTxDEFxAVGLeague\n",
    "\n",
    "gols_feitos = tabela['GF']/tabela['MP']\n",
    "gols_tomados = tabela['GA']/tabela['MP']\n",
    "gols_liga = tabela['GF']/tabela['MP'].mean()\n",
    "\n",
    "att_rating = gols_feitos/gols_liga\n",
    "def_rating = gols_tomados/gols_liga\n",
    "\n",
    "tabela['expG'] = att_rating*def_rating*gols_liga"
   ]
  },
  {
   "cell_type": "code",
   "execution_count": 272,
   "metadata": {},
   "outputs": [],
   "source": [
    "df_1410_modelo2 = gerar_prob('Cuiaba', 'Cruzeiro', float(tabela[tabela['Squad'] == 'Cuiabá']['expG']), float(tabela[tabela['Squad'] == 'Cruzeiro']['expG']))\n",
    "df_1410_modelo2.to_excel('dados/previsoes/previsao1410-cuiabavscruzeiro_modelo2.xlsx')"
   ]
  },
  {
   "cell_type": "code",
   "execution_count": 273,
   "metadata": {},
   "outputs": [
    {
     "data": {
      "text/html": [
       "<div>\n",
       "<style scoped>\n",
       "    .dataframe tbody tr th:only-of-type {\n",
       "        vertical-align: middle;\n",
       "    }\n",
       "\n",
       "    .dataframe tbody tr th {\n",
       "        vertical-align: top;\n",
       "    }\n",
       "\n",
       "    .dataframe thead th {\n",
       "        text-align: right;\n",
       "    }\n",
       "</style>\n",
       "<table border=\"1\" class=\"dataframe\">\n",
       "  <thead>\n",
       "    <tr style=\"text-align: right;\">\n",
       "      <th></th>\n",
       "      <th>Cuiaba</th>\n",
       "      <th>Cruzeiro</th>\n",
       "      <th>Cuiaba Win% if score</th>\n",
       "      <th>Cruzeiro Win% if score</th>\n",
       "      <th>Cuiaba Win%</th>\n",
       "      <th>Cruzeiro Win%</th>\n",
       "      <th>empate</th>\n",
       "    </tr>\n",
       "  </thead>\n",
       "  <tbody>\n",
       "    <tr>\n",
       "      <th>0</th>\n",
       "      <td>2.884597e-01</td>\n",
       "      <td>4.018486e-01</td>\n",
       "      <td>NaN</td>\n",
       "      <td>NaN</td>\n",
       "      <td>0.196215</td>\n",
       "      <td>0.093469</td>\n",
       "      <td>0.710316</td>\n",
       "    </tr>\n",
       "    <tr>\n",
       "      <th>1</th>\n",
       "      <td>3.586131e-01</td>\n",
       "      <td>3.663573e-01</td>\n",
       "      <td>8.957762e-02</td>\n",
       "      <td>4.817285e-02</td>\n",
       "      <td>5.096462</td>\n",
       "      <td>10.698693</td>\n",
       "      <td>1.407824</td>\n",
       "    </tr>\n",
       "    <tr>\n",
       "      <th>2</th>\n",
       "      <td>2.229139e-01</td>\n",
       "      <td>1.670003e-01</td>\n",
       "      <td>7.096341e-02</td>\n",
       "      <td>3.283912e-02</td>\n",
       "      <td>NaN</td>\n",
       "      <td>NaN</td>\n",
       "      <td>NaN</td>\n",
       "    </tr>\n",
       "    <tr>\n",
       "      <th>3</th>\n",
       "      <td>9.237551e-02</td>\n",
       "      <td>5.075028e-02</td>\n",
       "      <td>2.685006e-02</td>\n",
       "      <td>1.006314e-02</td>\n",
       "      <td>NaN</td>\n",
       "      <td>NaN</td>\n",
       "      <td>NaN</td>\n",
       "    </tr>\n",
       "    <tr>\n",
       "      <th>4</th>\n",
       "      <td>2.871031e-02</td>\n",
       "      <td>1.156700e-02</td>\n",
       "      <td>7.038281e-03</td>\n",
       "      <td>2.029700e-03</td>\n",
       "      <td>NaN</td>\n",
       "      <td>NaN</td>\n",
       "      <td>NaN</td>\n",
       "    </tr>\n",
       "    <tr>\n",
       "      <th>5</th>\n",
       "      <td>7.138531e-03</td>\n",
       "      <td>2.109081e-03</td>\n",
       "      <td>1.475441e-03</td>\n",
       "      <td>3.176069e-04</td>\n",
       "      <td>NaN</td>\n",
       "      <td>NaN</td>\n",
       "      <td>NaN</td>\n",
       "    </tr>\n",
       "    <tr>\n",
       "      <th>6</th>\n",
       "      <td>1.479104e-03</td>\n",
       "      <td>3.204679e-04</td>\n",
       "      <td>2.625923e-04</td>\n",
       "      <td>4.166306e-05</td>\n",
       "      <td>NaN</td>\n",
       "      <td>NaN</td>\n",
       "      <td>NaN</td>\n",
       "    </tr>\n",
       "    <tr>\n",
       "      <th>7</th>\n",
       "      <td>2.626888e-04</td>\n",
       "      <td>4.173773e-05</td>\n",
       "      <td>4.081992e-05</td>\n",
       "      <td>4.754958e-06</td>\n",
       "      <td>NaN</td>\n",
       "      <td>NaN</td>\n",
       "      <td>NaN</td>\n",
       "    </tr>\n",
       "    <tr>\n",
       "      <th>8</th>\n",
       "      <td>4.082184e-05</td>\n",
       "      <td>4.756432e-06</td>\n",
       "      <td>5.638827e-06</td>\n",
       "      <td>4.817932e-07</td>\n",
       "      <td>NaN</td>\n",
       "      <td>NaN</td>\n",
       "      <td>NaN</td>\n",
       "    </tr>\n",
       "    <tr>\n",
       "      <th>9</th>\n",
       "      <td>5.638857e-06</td>\n",
       "      <td>4.818160e-07</td>\n",
       "      <td>7.010223e-07</td>\n",
       "      <td>4.392592e-08</td>\n",
       "      <td>NaN</td>\n",
       "      <td>NaN</td>\n",
       "      <td>NaN</td>\n",
       "    </tr>\n",
       "    <tr>\n",
       "      <th>10</th>\n",
       "      <td>7.010227e-07</td>\n",
       "      <td>4.392620e-08</td>\n",
       "      <td>NaN</td>\n",
       "      <td>NaN</td>\n",
       "      <td>NaN</td>\n",
       "      <td>NaN</td>\n",
       "      <td>NaN</td>\n",
       "    </tr>\n",
       "  </tbody>\n",
       "</table>\n",
       "</div>"
      ],
      "text/plain": [
       "          Cuiaba      Cruzeiro  Cuiaba Win% if score  Cruzeiro Win% if score  \\\n",
       "0   2.884597e-01  4.018486e-01                   NaN                     NaN   \n",
       "1   3.586131e-01  3.663573e-01          8.957762e-02            4.817285e-02   \n",
       "2   2.229139e-01  1.670003e-01          7.096341e-02            3.283912e-02   \n",
       "3   9.237551e-02  5.075028e-02          2.685006e-02            1.006314e-02   \n",
       "4   2.871031e-02  1.156700e-02          7.038281e-03            2.029700e-03   \n",
       "5   7.138531e-03  2.109081e-03          1.475441e-03            3.176069e-04   \n",
       "6   1.479104e-03  3.204679e-04          2.625923e-04            4.166306e-05   \n",
       "7   2.626888e-04  4.173773e-05          4.081992e-05            4.754958e-06   \n",
       "8   4.082184e-05  4.756432e-06          5.638827e-06            4.817932e-07   \n",
       "9   5.638857e-06  4.818160e-07          7.010223e-07            4.392592e-08   \n",
       "10  7.010227e-07  4.392620e-08                   NaN                     NaN   \n",
       "\n",
       "    Cuiaba Win%  Cruzeiro Win%    empate  \n",
       "0      0.196215       0.093469  0.710316  \n",
       "1      5.096462      10.698693  1.407824  \n",
       "2           NaN            NaN       NaN  \n",
       "3           NaN            NaN       NaN  \n",
       "4           NaN            NaN       NaN  \n",
       "5           NaN            NaN       NaN  \n",
       "6           NaN            NaN       NaN  \n",
       "7           NaN            NaN       NaN  \n",
       "8           NaN            NaN       NaN  \n",
       "9           NaN            NaN       NaN  \n",
       "10          NaN            NaN       NaN  "
      ]
     },
     "execution_count": 273,
     "metadata": {},
     "output_type": "execute_result"
    }
   ],
   "source": [
    "df_1410_modelo2"
   ]
  },
  {
   "cell_type": "markdown",
   "metadata": {},
   "source": [
    "# MODELO 3\n",
    "lambda = xg(total) + xg(casa) + gols marcados(total) + gols marcados(casa) + xG(escalação)/5"
   ]
  },
  {
   "cell_type": "code",
   "execution_count": 276,
   "metadata": {},
   "outputs": [
    {
     "data": {
      "text/plain": [
       "1.7830000000000006"
      ]
     },
     "execution_count": 276,
     "metadata": {},
     "output_type": "execute_result"
    }
   ],
   "source": [
    "cruzeiro_xgfora = historico[historico['Opponent'] == 'Cruzeiro']['xG'].mean()\n",
    "cruzeiro_xgtotal = historico[(historico['Opponent'] == 'Cruzeiro') | (historico['Equipe'] == 'Cruzeiro')]['xG'].mean()\n",
    "cruzeiro_golsfora = historico[historico['Opponent'] == 'Cruzeiro']['GA'].mean()\n",
    "cruzeiro_golstotal = (cruzeiro_golsfora + historico[historico['Equipe'] == 'Cruzeiro']['GF'].mean())/2\n",
    "xg_cruzeiro_1410\n",
    "\n",
    "cuiaba_xgcasa = historico[historico['Equipe'] == 'Cuiaba']['xG'].mean()\n",
    "cuiaba_xgtotal = historico[(historico['Opponent'] == 'Cuiabá') | (historico['Equipe'] == 'Cuiaba')]['xG'].mean()\n",
    "cuiaba_golscasa = historico[historico['Equipe'] == 'Cuiaba']['GF'].mean()\n",
    "cuiaba_golstotal = (cuiaba_golscasa + historico[historico['Opponent'] == 'Cuiabá']['GA'].mean())/2\n",
    "xg_cuiaba_1410\n"
   ]
  },
  {
   "cell_type": "code",
   "execution_count": 277,
   "metadata": {},
   "outputs": [],
   "source": [
    "lambda_x =(cuiaba_xgcasa + cuiaba_xgtotal + cuiaba_golscasa + cuiaba_golstotal + xg_cuiaba_1410)/5\n",
    "lambda_y = (cruzeiro_xgfora + cruzeiro_xgtotal + cruzeiro_golsfora + cruzeiro_golstotal + xg_cruzeiro_1410)/5"
   ]
  },
  {
   "cell_type": "code",
   "execution_count": 278,
   "metadata": {},
   "outputs": [],
   "source": [
    "df_1410_madao = gerar_prob('Cuiaba', 'Cruzeiro', lambda_x, lambda_y)\n",
    "df_1410_madao.to_excel(\"dados/previsoes/previsao1410-cuiabavscruzeiro_Modelo3.xlsx\")"
   ]
  }
 ],
 "metadata": {
  "kernelspec": {
   "display_name": "base",
   "language": "python",
   "name": "python3"
  },
  "language_info": {
   "codemirror_mode": {
    "name": "ipython",
    "version": 3
   },
   "file_extension": ".py",
   "mimetype": "text/x-python",
   "name": "python",
   "nbconvert_exporter": "python",
   "pygments_lexer": "ipython3",
   "version": "3.11.6"
  }
 },
 "nbformat": 4,
 "nbformat_minor": 2
}

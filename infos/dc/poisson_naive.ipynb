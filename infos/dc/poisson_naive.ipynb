{
 "cells": [
  {
   "cell_type": "code",
   "execution_count": 294,
   "metadata": {},
   "outputs": [],
   "source": [
    "import pandas as pd\n",
    "import numpy as np\n",
    "import matplotlib.pyplot as plt\n",
    "import seaborn as sns\n",
    "import statsmodels.api as sm\n",
    "from scipy import stats\n",
    "\n",
    "import warnings\n",
    "from pandas.errors import SettingWithCopyWarning\n",
    "warnings.simplefilter(action=\"ignore\", category=SettingWithCopyWarning)\n",
    "warnings.simplefilter(action='ignore', category=FutureWarning)"
   ]
  },
  {
   "cell_type": "markdown",
   "metadata": {},
   "source": [
    "$X= ``Número\\ de\\ gols\\ do\\ time\\ de\\ casa\" \\sim Poisson(\\lambda_x)\\\\$\n",
    "$Y= ``Número\\ de\\ gols\\ do\\ time\\ visitante\" \\sim Poisson(\\lambda_x)$"
   ]
  },
  {
   "cell_type": "markdown",
   "metadata": {},
   "source": [
    "$$P(X=x)=\\frac{\\lambda^{x}_{x}e^{-\\lambda_x}}{x!}\\qquad P(Y=y)=\\frac{\\lambda^{y}_{y}e^{-\\lambda_y}}{y!}\\\\$$"
   ]
  },
  {
   "cell_type": "markdown",
   "metadata": {},
   "source": [
    "$$P(X=x, Y=y)=P(X=x)P(Y=y)=\\frac{\\lambda_{x}^{x}\\lambda_{y}^{y}e^{-(\\lambda_x+\\lambda_y)}}{x!y!}$$"
   ]
  },
  {
   "cell_type": "code",
   "execution_count": 295,
   "metadata": {},
   "outputs": [],
   "source": [
    "tabela = pd.read_excel('dados/tabela/tabela-rodada_27.xlsx')\n",
    "tabela_casa = pd.read_excel('dados/tabela/tabela_casa-rodada_27.xlsx')\n",
    "historico_casa = pd.read_excel('dados/historico/historicocasa-rodada_27.xlsx')\n",
    "historico = pd.read_excel('dados/historico/historico-rodada_27.xlsx')\n",
    "rodadas = pd.read_excel('dados/rodadas/todas_rodadas.xlsx')\n",
    "rodadas_futuras = pd.read_excel('dados/rodadas/rodadas_futuras-rodada-28.xlsx')\n",
    "\n",
    "rodada_atual = tabela['MP'].max()"
   ]
  },
  {
   "cell_type": "code",
   "execution_count": 296,
   "metadata": {},
   "outputs": [],
   "source": [
    "def gerar_lambda(par_x, par_y, peso_x, peso_y, fator_casa, rodada):\n",
    "  df = rodadas_futuras[rodadas_futuras['Wk'] == rodada]\n",
    "  dem_x = (sum(peso_x[0])+sum(peso_x[1]))\n",
    "  dem_y = (sum(peso_y[0])+sum(peso_y[1]))\n",
    "\n",
    "  for time_casa, time_fora in zip(df['Home'], df['Away']):\n",
    "    # Time alvo == Casa\n",
    "    att_x = sum(tabela.loc[tabela['Squad'] == time_casa, par_x[0][i]]*peso_x[0][i] for i in range(len(par_x[0])))/dem_x\n",
    "    def_y = sum(tabela.loc[tabela['Squad'] == time_casa, par_x[1][i]]*peso_x[1][i] for i in range(len(par_x[1])))/dem_x\n",
    "    casa_x = ((1/int(tabela_casa.loc[tabela_casa['Squad'] == time_casa, fator_casa[0]]))*0.5)+1\n",
    "    lambda_x = att_x*def_y*casa_x\n",
    "    # Time alvo == Casa\n",
    "    att_y = sum(tabela.loc[tabela['Squad'] == time_casa, par_y[0][i]]*peso_y[0][i] for i in range(len(par_y[0])))/dem_y\n",
    "    def_x = sum(tabela.loc[tabela['Squad'] == time_casa, par_y[1][i]]*peso_y[1][i] for i in range(len(par_y[1])))/dem_y\n",
    "    lambda_y = att_y*def_x\n",
    "    \n",
    "    df.loc[df['Home'] == time_casa, 'lambda_x'] = float(lambda_x)\n",
    "    df.loc[df['Away'] == time_fora, 'lambda_y'] = float(lambda_y)\n",
    "\n",
    "  return df"
   ]
  },
  {
   "cell_type": "code",
   "execution_count": 297,
   "metadata": {},
   "outputs": [],
   "source": [
    "def prob_vitoria(rodada_df, rodada, lambdas):\n",
    "  rodada_df = rodada_df.loc[rodada_df['Wk'] == rodada]\n",
    "  prob_gol = {}\n",
    "  times_casa = []\n",
    "  times_fora = []\n",
    "  \n",
    "  # Times casa\n",
    "  for time in rodada_df['Home']:\n",
    "    prob_gol[time] = []\n",
    "    times_casa.append(time)\n",
    "    for k in range(0, 6):\n",
    "      prob_gol[time].append(stats.poisson.pmf(k, lambdas.loc[lambdas['Home'] == time, 'lambda_x']))\n",
    "  \n",
    "  # Times Fora\n",
    "  for time in rodada_df['Away']:\n",
    "    prob_gol[time] = []\n",
    "    times_fora.append(time)\n",
    "    for k in range(0, 6):\n",
    "      prob_gol[time].append(stats.poisson.pmf(k, lambdas.loc[lambdas['Away'] == time, 'lambda_y']))\n",
    "\n",
    "  casa_vitoria = {}\n",
    "  fora_vitoria = {}\n",
    "\n",
    "  for time_casa, time_fora in zip(times_casa, times_fora): \n",
    "    casa_vitoria[time_casa] = []\n",
    "    fora_vitoria[time_fora] = []\n",
    "    for i in range(1, 6):\n",
    "      casa_vitoria[time_casa].append(prob_gol[time_casa][i] * sum(prob_gol[time_fora][:i]))\n",
    "      fora_vitoria[time_fora].append(prob_gol[time_fora][i] * sum(prob_gol[time_casa][:i]))\n",
    "    casa_vitoria[time_casa] = sum(casa_vitoria[time_casa])\n",
    "    fora_vitoria[time_fora] = sum(fora_vitoria[time_fora])\n",
    "    rodada_df.loc[rodada_df['Home'] == time_casa, 'vitoria_casa'] = casa_vitoria[time_casa]\n",
    "    rodada_df.loc[rodada_df['Away'] == time_fora, 'vitoria_fora'] = fora_vitoria[time_fora]\n",
    "    rodada_df.loc[rodada_df['Away'] == time_fora, 'empate'] = 1- (rodada_df.loc[rodada_df['Home'] == time_casa, 'vitoria_casa'] + rodada_df.loc[rodada_df['Away'] == time_fora, 'vitoria_fora'])\n",
    "    \n",
    "\n",
    "  return rodada_df, prob_gol"
   ]
  },
  {
   "cell_type": "code",
   "execution_count": 298,
   "metadata": {},
   "outputs": [],
   "source": [
    "def prob_gols(rodadas_prob, prob_gol):\n",
    "  rodadas_probgols = pd.DataFrame.from_dict(prob_gol, orient='index').astype(float)\n",
    "\n",
    "  df_casa = pd.DataFrame()\n",
    "  for time in rodadas_prob['Home']:\n",
    "    linha_casa = pd.DataFrame(rodadas_probgols.loc[time,]).T\n",
    "    linha_casa['Home'] = time\n",
    "    df_casa = pd.concat([df_casa, linha_casa])\n",
    "\n",
    "  df_fora = pd.DataFrame()\n",
    "  for time in rodadas_prob['Away']:\n",
    "    linha_fora = pd.DataFrame(rodadas_probgols.loc[time,]).T\n",
    "    linha_fora['Away'] = time\n",
    "    df_fora = pd.concat([df_fora, linha_fora])\n",
    "\n",
    "\n",
    "  df_qsefinal = pd.merge(rodadas_prob, df_casa, on='Home')\n",
    "  df_qsefinal = pd.merge(df_qsefinal, df_fora, on='Away')\n",
    "  df_final = pd.merge(rodadas_futuras, df_qsefinal, on= ['Wk', 'Day', 'Date', 'Home', 'xGCasa', 'gols_casa', 'gols_fora', 'xGFora', 'Away'], how='left')\n",
    "\n",
    "\n",
    "  return df_final, df_qsefinal"
   ]
  },
  {
   "cell_type": "code",
   "execution_count": 299,
   "metadata": {},
   "outputs": [],
   "source": [
    "par_x = [['xG_total', 'xG_casa', 'GF_total', 'GF_casa', 'xG_5total', 'xG_5casa', 'GF_5total', 'GF_5casa'], #Ataque casa\n",
    "        ['GA_total', 'GA_fora', 'GA_5total', 'GA_5fora', 'xG_5sofrido_fora', 'xG_sofrido_fora']]  #Defesa fora\n",
    "pes_x = [[1, 1, 1, 1, 1, 1, 1, 1, 1], [1, 1, 1, 1, 1, 1]]\n",
    "\n",
    "\n",
    "par_y = [['xG_total', 'xG_fora', 'GF_total', 'GF_fora', 'xG_5total', 'xG_5fora', 'GF_5total', 'GF_5fora'], #Ataque fora\n",
    "        ['GA_total', 'GA_casa', 'GA_5total', 'GA_5casa', 'xG_sofrido_casa', 'xG_5sofrido_casa']]  #Defesa casa\n",
    "pes_y = [[1, 1, 1, 1, 1, 1, 1, 1, 1], [1, 1, 1, 1, 1, 1]]\n",
    "\n",
    "fator_casa = ['Rk_casa']"
   ]
  },
  {
   "cell_type": "code",
   "execution_count": 300,
   "metadata": {},
   "outputs": [],
   "source": [
    "lambdas = gerar_lambda(par_x, par_y, pes_x, pes_y, fator_casa, rodada_atual+1)"
   ]
  },
  {
   "cell_type": "code",
   "execution_count": 301,
   "metadata": {},
   "outputs": [],
   "source": [
    "rodadas_prob, prob_gol = prob_vitoria(rodadas_futuras, rodada_atual+1, lambdas)"
   ]
  },
  {
   "cell_type": "code",
   "execution_count": 303,
   "metadata": {},
   "outputs": [],
   "source": [
    "rodadas_futuras_prob, rodada_futura_prob = prob_gols(rodadas_prob, prob_gol)"
   ]
  },
  {
   "cell_type": "code",
   "execution_count": 305,
   "metadata": {},
   "outputs": [],
   "source": [
    "todas_previsoes = pd.read_excel('dados/previsoes/todas_previsoes.xlsx', index_col= None)\n",
    "todas_previsoes.drop(todas_previsoes.columns[0], axis=1, inplace= True)"
   ]
  },
  {
   "cell_type": "code",
   "execution_count": 307,
   "metadata": {},
   "outputs": [],
   "source": [
    "if (todas_previsoes[todas_previsoes['Wk'] == rodada_atual+1]['vitoria_casa'] == None).all():\n",
    "  todas_previsoes = pd.concat([todas_previsoes, rodada_futura_prob], ignore_index= True)\n",
    "if (todas_previsoes[todas_previsoes['Wk'] == rodada_atual]['gols_casa'] == None).all():\n",
    "  resultados = rodadas[rodadas['Wk'] >= rodada_atual].reset_index().drop('index', axis= 1)\n",
    "  todas_previsoes.update(resultados)"
   ]
  },
  {
   "cell_type": "code",
   "execution_count": 315,
   "metadata": {},
   "outputs": [],
   "source": [
    "def compare_columns(row):\n",
    "    if row['gols_casa'] > row['gols_fora']:\n",
    "        return 'gols_casa'\n",
    "    elif row['gols_casa'] < row['gols_fora']:\n",
    "        return 'gols_fora'\n",
    "    else:\n",
    "        return 'empate'  # Handle cases when values are equal\n",
    "\n",
    "def compare_columns1(row):\n",
    "    if row['vitoria_casa'] > row['empate'] and row['vitoria_casa'] > row['vitoria_fora']:\n",
    "        return 'gols_casa'\n",
    "    elif row['vitoria_fora'] > row['empate'] and row['vitoria_fora'] > row['vitoria_casa']:\n",
    "        return 'gols_fora'\n",
    "    else:\n",
    "        return 'empate'  # Handle cases when values are equal\n",
    "\n",
    "def compare_columns2(row):\n",
    "    if row['acerto1'] == row['acerto2']:\n",
    "        return 'acerto'\n",
    "    else:\n",
    "        return 'fracasso'\n",
    "\n",
    "# Apply the custom function to create the 'Larger_Column' column\n",
    "todas_previsoes['acerto1'] = todas_previsoes.apply(compare_columns, axis=1)\n",
    "todas_previsoes['acerto2'] = todas_previsoes.apply(compare_columns1, axis=1)\n",
    "todas_previsoes['acerto'] = todas_previsoes.apply(compare_columns2, axis=1)\n",
    "\n",
    "todas_previsoes.drop(['acerto1', 'acerto2'], axis=1, inplace= True)"
   ]
  },
  {
   "cell_type": "code",
   "execution_count": 317,
   "metadata": {},
   "outputs": [],
   "source": [
    "todas_previsoes.to_excel('dados/previsoes/todas_previsoes.xlsx')\n",
    "rodada_futura_prob.to_excel(f'dados/previsoes/previsao_rodada-{rodada_atual+1}.xlsx')"
   ]
  }
 ],
 "metadata": {
  "kernelspec": {
   "display_name": "base",
   "language": "python",
   "name": "python3"
  },
  "language_info": {
   "codemirror_mode": {
    "name": "ipython",
    "version": 3
   },
   "file_extension": ".py",
   "mimetype": "text/x-python",
   "name": "python",
   "nbconvert_exporter": "python",
   "pygments_lexer": "ipython3",
   "version": "3.11.6"
  }
 },
 "nbformat": 4,
 "nbformat_minor": 2
}

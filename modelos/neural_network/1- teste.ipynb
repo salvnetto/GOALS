{
 "cells": [
  {
   "cell_type": "code",
   "execution_count": 447,
   "metadata": {},
   "outputs": [],
   "source": [
    "import pandas as pd\n",
    "import numpy as np\n",
    "import tensorflow as tf\n",
    "import psycopg2\n",
    "import matplotlib.pyplot as plt\n",
    "\n",
    "from sklearn.preprocessing import StandardScaler\n",
    "from sklearn.model_selection import train_test_split"
   ]
  },
  {
   "cell_type": "code",
   "execution_count": 448,
   "metadata": {},
   "outputs": [],
   "source": [
    "# Informações de conexão\n",
    "db_params = {\n",
    "  'user': 'postgres',\n",
    "  'password': 'postgres',\n",
    "  'host': 'localhost',\n",
    "  'dbname': 'GOALS',\n",
    "}\n",
    "\n",
    "# Conecta ao PostgreSQL\n",
    "conn = psycopg2.connect(**db_params)\n",
    "\n",
    "# Cria um cursor para executar comandos SQL\n",
    "cursor = conn.cursor()"
   ]
  },
  {
   "cell_type": "code",
   "execution_count": 449,
   "metadata": {},
   "outputs": [
    {
     "name": "stderr",
     "output_type": "stream",
     "text": [
      "C:\\Users\\salvv\\AppData\\Local\\Temp\\ipykernel_8392\\1784265378.py:3: UserWarning: pandas only supports SQLAlchemy connectable (engine/connection) or database string URI or sqlite3 DBAPI2 connection. Other DBAPI2 objects are not tested. Please consider using SQLAlchemy.\n",
      "  historico = pd.read_sql_query(query, conn)\n"
     ]
    }
   ],
   "source": [
    "# Query Historico\n",
    "query = \"\"\"SELECT * FROM futebol.match_history\"\"\"\n",
    "historico = pd.read_sql_query(query, conn)"
   ]
  },
  {
   "cell_type": "code",
   "execution_count": 450,
   "metadata": {},
   "outputs": [
    {
     "data": {
      "text/html": [
       "<div>\n",
       "<style scoped>\n",
       "    .dataframe tbody tr th:only-of-type {\n",
       "        vertical-align: middle;\n",
       "    }\n",
       "\n",
       "    .dataframe tbody tr th {\n",
       "        vertical-align: top;\n",
       "    }\n",
       "\n",
       "    .dataframe thead th {\n",
       "        text-align: right;\n",
       "    }\n",
       "</style>\n",
       "<table border=\"1\" class=\"dataframe\">\n",
       "  <thead>\n",
       "    <tr style=\"text-align: right;\">\n",
       "      <th></th>\n",
       "      <th>game_id</th>\n",
       "      <th>date</th>\n",
       "      <th>comp</th>\n",
       "      <th>round</th>\n",
       "      <th>venue</th>\n",
       "      <th>result</th>\n",
       "      <th>gf</th>\n",
       "      <th>ga</th>\n",
       "      <th>opponent</th>\n",
       "      <th>xg</th>\n",
       "      <th>...</th>\n",
       "      <th>fls</th>\n",
       "      <th>off</th>\n",
       "      <th>recov</th>\n",
       "      <th>season</th>\n",
       "      <th>team</th>\n",
       "      <th>days</th>\n",
       "      <th>time_diff</th>\n",
       "      <th>home_team_id</th>\n",
       "      <th>away_team_id</th>\n",
       "      <th>league_id</th>\n",
       "    </tr>\n",
       "  </thead>\n",
       "  <tbody>\n",
       "    <tr>\n",
       "      <th>0</th>\n",
       "      <td>0</td>\n",
       "      <td>2023-04-15</td>\n",
       "      <td>Série A</td>\n",
       "      <td>1</td>\n",
       "      <td>Home</td>\n",
       "      <td>W</td>\n",
       "      <td>2</td>\n",
       "      <td>1</td>\n",
       "      <td>sao_paulo</td>\n",
       "      <td>0.9</td>\n",
       "      <td>...</td>\n",
       "      <td>20</td>\n",
       "      <td>2</td>\n",
       "      <td>57</td>\n",
       "      <td>2023</td>\n",
       "      <td>botafogo_rj</td>\n",
       "      <td>208</td>\n",
       "      <td>0.812207</td>\n",
       "      <td>0</td>\n",
       "      <td>8</td>\n",
       "      <td>0</td>\n",
       "    </tr>\n",
       "    <tr>\n",
       "      <th>1</th>\n",
       "      <td>1</td>\n",
       "      <td>2023-04-24</td>\n",
       "      <td>Série A</td>\n",
       "      <td>2</td>\n",
       "      <td>Away</td>\n",
       "      <td>W</td>\n",
       "      <td>2</td>\n",
       "      <td>1</td>\n",
       "      <td>bahia</td>\n",
       "      <td>0.2</td>\n",
       "      <td>...</td>\n",
       "      <td>9</td>\n",
       "      <td>5</td>\n",
       "      <td>54</td>\n",
       "      <td>2023</td>\n",
       "      <td>botafogo_rj</td>\n",
       "      <td>199</td>\n",
       "      <td>0.819550</td>\n",
       "      <td>0</td>\n",
       "      <td>14</td>\n",
       "      <td>0</td>\n",
       "    </tr>\n",
       "    <tr>\n",
       "      <th>2</th>\n",
       "      <td>2</td>\n",
       "      <td>2023-04-30</td>\n",
       "      <td>Série A</td>\n",
       "      <td>3</td>\n",
       "      <td>Away</td>\n",
       "      <td>W</td>\n",
       "      <td>3</td>\n",
       "      <td>2</td>\n",
       "      <td>flamengo</td>\n",
       "      <td>1.9</td>\n",
       "      <td>...</td>\n",
       "      <td>12</td>\n",
       "      <td>1</td>\n",
       "      <td>42</td>\n",
       "      <td>2023</td>\n",
       "      <td>botafogo_rj</td>\n",
       "      <td>193</td>\n",
       "      <td>0.824482</td>\n",
       "      <td>0</td>\n",
       "      <td>4</td>\n",
       "      <td>0</td>\n",
       "    </tr>\n",
       "    <tr>\n",
       "      <th>3</th>\n",
       "      <td>3</td>\n",
       "      <td>2023-05-07</td>\n",
       "      <td>Série A</td>\n",
       "      <td>4</td>\n",
       "      <td>Home</td>\n",
       "      <td>W</td>\n",
       "      <td>2</td>\n",
       "      <td>0</td>\n",
       "      <td>atl_mineiro</td>\n",
       "      <td>2.0</td>\n",
       "      <td>...</td>\n",
       "      <td>14</td>\n",
       "      <td>0</td>\n",
       "      <td>43</td>\n",
       "      <td>2023</td>\n",
       "      <td>botafogo_rj</td>\n",
       "      <td>186</td>\n",
       "      <td>0.830274</td>\n",
       "      <td>0</td>\n",
       "      <td>5</td>\n",
       "      <td>0</td>\n",
       "    </tr>\n",
       "    <tr>\n",
       "      <th>4</th>\n",
       "      <td>4</td>\n",
       "      <td>2023-05-11</td>\n",
       "      <td>Série A</td>\n",
       "      <td>5</td>\n",
       "      <td>Home</td>\n",
       "      <td>W</td>\n",
       "      <td>3</td>\n",
       "      <td>0</td>\n",
       "      <td>corinthians</td>\n",
       "      <td>2.6</td>\n",
       "      <td>...</td>\n",
       "      <td>12</td>\n",
       "      <td>0</td>\n",
       "      <td>54</td>\n",
       "      <td>2023</td>\n",
       "      <td>botafogo_rj</td>\n",
       "      <td>182</td>\n",
       "      <td>0.833601</td>\n",
       "      <td>0</td>\n",
       "      <td>12</td>\n",
       "      <td>0</td>\n",
       "    </tr>\n",
       "  </tbody>\n",
       "</table>\n",
       "<p>5 rows × 41 columns</p>\n",
       "</div>"
      ],
      "text/plain": [
       "   game_id        date     comp  round venue result  gf  ga     opponent   xg  \\\n",
       "0        0  2023-04-15  Série A      1  Home      W   2   1    sao_paulo  0.9   \n",
       "1        1  2023-04-24  Série A      2  Away      W   2   1        bahia  0.2   \n",
       "2        2  2023-04-30  Série A      3  Away      W   3   2     flamengo  1.9   \n",
       "3        3  2023-05-07  Série A      4  Home      W   2   0  atl_mineiro  2.0   \n",
       "4        4  2023-05-11  Série A      5  Home      W   3   0  corinthians  2.6   \n",
       "\n",
       "   ...  fls  off  recov  season         team  days  time_diff  home_team_id  \\\n",
       "0  ...   20    2     57    2023  botafogo_rj   208   0.812207             0   \n",
       "1  ...    9    5     54    2023  botafogo_rj   199   0.819550             0   \n",
       "2  ...   12    1     42    2023  botafogo_rj   193   0.824482             0   \n",
       "3  ...   14    0     43    2023  botafogo_rj   186   0.830274             0   \n",
       "4  ...   12    0     54    2023  botafogo_rj   182   0.833601             0   \n",
       "\n",
       "   away_team_id  league_id  \n",
       "0             8          0  \n",
       "1            14          0  \n",
       "2             4          0  \n",
       "3             5          0  \n",
       "4            12          0  \n",
       "\n",
       "[5 rows x 41 columns]"
      ]
     },
     "execution_count": 450,
     "metadata": {},
     "output_type": "execute_result"
    }
   ],
   "source": [
    "historico.head()"
   ]
  },
  {
   "cell_type": "code",
   "execution_count": 451,
   "metadata": {},
   "outputs": [],
   "source": [
    "data = historico.drop(['game_id', 'date', 'comp', 'round', 'season', 'league_id', 'gf', 'ga', 'opponent', 'team'], axis= 1)"
   ]
  },
  {
   "cell_type": "code",
   "execution_count": 452,
   "metadata": {},
   "outputs": [],
   "source": [
    "#data = historico[['venue', 'result', 'xg', 'home_team_id', 'away_team_id', 'gf', 'ga']]"
   ]
  },
  {
   "cell_type": "code",
   "execution_count": 453,
   "metadata": {},
   "outputs": [
    {
     "data": {
      "text/plain": [
       "Index(['venue', 'result', 'xg', 'xga', 'poss', 'sh', 'sot', 'saves', 'cmp',\n",
       "       'att', 'prgp', 'kp', 'pass_3rd', 'sw', 'crs', 'sca', 'gca', 'tkl',\n",
       "       'tklw', 'tkl_def_3rd', 'tkl_att_3rd', 'blocks', 'int',\n",
       "       'touches_att_3rd', 'fls', 'off', 'recov', 'days', 'time_diff',\n",
       "       'home_team_id', 'away_team_id'],\n",
       "      dtype='object')"
      ]
     },
     "execution_count": 453,
     "metadata": {},
     "output_type": "execute_result"
    }
   ],
   "source": [
    "data.columns"
   ]
  },
  {
   "cell_type": "code",
   "execution_count": 454,
   "metadata": {},
   "outputs": [],
   "source": [
    "data['venue'] = pd.factorize(data['venue'])[0]\n",
    "data['result'] = pd.factorize(data['result'])[0]"
   ]
  },
  {
   "cell_type": "code",
   "execution_count": 455,
   "metadata": {},
   "outputs": [],
   "source": [
    "y = data.loc[:, 'result']\n",
    "X = data.drop('result', axis= 1)"
   ]
  },
  {
   "cell_type": "code",
   "execution_count": 456,
   "metadata": {},
   "outputs": [],
   "source": [
    "X_train, X_test, y_train, y_test = train_test_split(X, y, train_size=0.7, random_state=67)"
   ]
  },
  {
   "cell_type": "code",
   "execution_count": 457,
   "metadata": {},
   "outputs": [
    {
     "data": {
      "text/plain": [
       "(1508, 30)"
      ]
     },
     "execution_count": 457,
     "metadata": {},
     "output_type": "execute_result"
    }
   ],
   "source": [
    "X.shape"
   ]
  },
  {
   "cell_type": "code",
   "execution_count": 458,
   "metadata": {},
   "outputs": [
    {
     "name": "stdout",
     "output_type": "stream",
     "text": [
      "Epoch 1/20\n"
     ]
    },
    {
     "name": "stdout",
     "output_type": "stream",
     "text": [
      "27/27 [==============================] - 1s 13ms/step - loss: 9.9143 - accuracy: 0.3626 - auc: 0.4637 - val_loss: 1.8407 - val_accuracy: 0.4171 - val_auc: 0.4860 - lr: 0.0010\n",
      "Epoch 2/20\n",
      "27/27 [==============================] - 0s 5ms/step - loss: 1.2973 - accuracy: 0.3874 - auc: 0.5041 - val_loss: 0.4787 - val_accuracy: 0.4502 - val_auc: 0.6243 - lr: 0.0010\n",
      "Epoch 3/20\n",
      "27/27 [==============================] - 0s 5ms/step - loss: 0.6487 - accuracy: 0.4182 - auc: 0.5802 - val_loss: 0.6384 - val_accuracy: 0.4739 - val_auc: 0.6586 - lr: 0.0010\n",
      "Epoch 4/20\n",
      "27/27 [==============================] - 0s 3ms/step - loss: 0.5252 - accuracy: 0.4289 - auc: 0.6214 - val_loss: 0.2412 - val_accuracy: 0.4502 - val_auc: 0.6880 - lr: 0.0010\n",
      "Epoch 5/20\n",
      "27/27 [==============================] - 0s 3ms/step - loss: 0.1878 - accuracy: 0.4360 - auc: 0.6737 - val_loss: 0.1576 - val_accuracy: 0.4882 - val_auc: 0.7223 - lr: 0.0010\n",
      "Epoch 6/20\n",
      "27/27 [==============================] - 0s 3ms/step - loss: 0.2702 - accuracy: 0.4467 - auc: 0.6772 - val_loss: 0.4791 - val_accuracy: 0.5071 - val_auc: 0.7376 - lr: 0.0010\n",
      "Epoch 7/20\n",
      "27/27 [==============================] - 0s 3ms/step - loss: 0.5002 - accuracy: 0.4455 - auc: 0.6461 - val_loss: -0.0163 - val_accuracy: 0.5213 - val_auc: 0.7844 - lr: 0.0010\n",
      "Epoch 8/20\n",
      "27/27 [==============================] - 0s 3ms/step - loss: 0.2758 - accuracy: 0.4621 - auc: 0.6628 - val_loss: -0.0973 - val_accuracy: 0.5118 - val_auc: 0.8026 - lr: 0.0010\n",
      "Epoch 9/20\n",
      "27/27 [==============================] - 0s 3ms/step - loss: -0.1281 - accuracy: 0.4739 - auc: 0.7673 - val_loss: -0.0993 - val_accuracy: 0.5166 - val_auc: 0.7854 - lr: 0.0010\n",
      "Epoch 10/20\n",
      "27/27 [==============================] - 0s 3ms/step - loss: -0.1452 - accuracy: 0.4680 - auc: 0.7501 - val_loss: -0.1590 - val_accuracy: 0.5355 - val_auc: 0.7972 - lr: 0.0010\n",
      "Epoch 11/20\n",
      "27/27 [==============================] - 0s 3ms/step - loss: -0.2506 - accuracy: 0.4787 - auc: 0.7707 - val_loss: -0.2159 - val_accuracy: 0.5450 - val_auc: 0.8153 - lr: 0.0010\n",
      "Epoch 12/20\n",
      "27/27 [==============================] - 0s 3ms/step - loss: -0.3163 - accuracy: 0.4917 - auc: 0.7991 - val_loss: -0.2815 - val_accuracy: 0.5403 - val_auc: 0.8236 - lr: 0.0010\n",
      "Epoch 13/20\n",
      "27/27 [==============================] - 0s 4ms/step - loss: -0.2080 - accuracy: 0.4858 - auc: 0.7465 - val_loss: 0.0278 - val_accuracy: 0.5829 - val_auc: 0.8138 - lr: 0.0010\n",
      "Epoch 14/20\n",
      "27/27 [==============================] - 0s 3ms/step - loss: -0.1277 - accuracy: 0.4739 - auc: 0.7127 - val_loss: -0.0475 - val_accuracy: 0.4502 - val_auc: 0.7321 - lr: 0.0010\n",
      "Epoch 15/20\n",
      "27/27 [==============================] - 0s 3ms/step - loss: -0.3735 - accuracy: 0.5107 - auc: 0.7648 - val_loss: -0.2060 - val_accuracy: 0.4550 - val_auc: 0.7442 - lr: 0.0010\n",
      "Epoch 16/20\n",
      "27/27 [==============================] - 0s 4ms/step - loss: -0.4545 - accuracy: 0.4680 - auc: 0.7726 - val_loss: -0.4548 - val_accuracy: 0.5498 - val_auc: 0.8413 - lr: 0.0010\n",
      "Epoch 17/20\n",
      "27/27 [==============================] - 0s 4ms/step - loss: -0.5237 - accuracy: 0.5142 - auc: 0.7854 - val_loss: -0.1889 - val_accuracy: 0.4502 - val_auc: 0.7398 - lr: 0.0010\n",
      "Epoch 18/20\n",
      "27/27 [==============================] - 0s 4ms/step - loss: -0.5556 - accuracy: 0.5047 - auc: 0.7613 - val_loss: -0.3315 - val_accuracy: 0.4550 - val_auc: 0.7279 - lr: 0.0010\n",
      "Epoch 19/20\n",
      "27/27 [==============================] - 0s 3ms/step - loss: -0.6452 - accuracy: 0.5024 - auc: 0.7629 - val_loss: -0.5812 - val_accuracy: 0.5118 - val_auc: 0.7627 - lr: 0.0010\n",
      "Epoch 20/20\n",
      "27/27 [==============================] - 0s 3ms/step - loss: -0.8109 - accuracy: 0.4905 - auc: 0.7666 - val_loss: -0.5366 - val_accuracy: 0.5498 - val_auc: 0.7721 - lr: 0.0010\n"
     ]
    }
   ],
   "source": [
    "inputs = tf.keras.Input(shape=(30,))\n",
    "x = tf.keras.layers.Dense(32, activation='relu')(inputs)\n",
    "x = tf.keras.layers.Dense(32, activation='relu')(x)\n",
    "outputs = tf.keras.layers.Dense(1, activation='sigmoid')(x)\n",
    "\n",
    "model = tf.keras.Model(inputs, outputs)\n",
    "\n",
    "\n",
    "model.compile(\n",
    "    optimizer='adam',\n",
    "    loss='binary_crossentropy',\n",
    "    metrics=[\n",
    "        'accuracy',\n",
    "        tf.keras.metrics.AUC(name='auc')\n",
    "    ]\n",
    ")\n",
    "\n",
    "\n",
    "batch_size = 32\n",
    "epochs = 20\n",
    "\n",
    "history = model.fit(\n",
    "    X_train,\n",
    "    y_train,\n",
    "    validation_split=0.2,\n",
    "    batch_size=batch_size,\n",
    "    epochs=epochs,\n",
    "    callbacks=[tf.keras.callbacks.ReduceLROnPlateau()]\n",
    ")"
   ]
  },
  {
   "cell_type": "code",
   "execution_count": 459,
   "metadata": {},
   "outputs": [
    {
     "name": "stdout",
     "output_type": "stream",
     "text": [
      "15/15 [==============================] - 0s 3ms/step - loss: -0.9333 - accuracy: 0.4724 - auc: 0.7798\n"
     ]
    },
    {
     "data": {
      "text/plain": [
       "[-0.9333097338676453, 0.47240617871284485, 0.7797674536705017]"
      ]
     },
     "execution_count": 459,
     "metadata": {},
     "output_type": "execute_result"
    }
   ],
   "source": [
    "model.evaluate(X_test, y_test)"
   ]
  },
  {
   "cell_type": "code",
   "execution_count": null,
   "metadata": {},
   "outputs": [],
   "source": []
  }
 ],
 "metadata": {
  "kernelspec": {
   "display_name": "base",
   "language": "python",
   "name": "python3"
  },
  "language_info": {
   "codemirror_mode": {
    "name": "ipython",
    "version": 3
   },
   "file_extension": ".py",
   "mimetype": "text/x-python",
   "name": "python",
   "nbconvert_exporter": "python",
   "pygments_lexer": "ipython3",
   "version": "3.11.6"
  }
 },
 "nbformat": 4,
 "nbformat_minor": 2
}

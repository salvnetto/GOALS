{
 "cells": [
  {
   "cell_type": "code",
   "execution_count": 355,
   "metadata": {},
   "outputs": [],
   "source": [
    "import os\n",
    "import pandas as pd\n",
    "import numpy as np\n",
    "from unidecode import unidecode\n",
    "\n",
    "import warnings\n",
    "from pandas.errors import SettingWithCopyWarning\n",
    "warnings.simplefilter(action=\"ignore\", category=SettingWithCopyWarning)\n",
    "warnings.simplefilter(action='ignore', category=FutureWarning)"
   ]
  },
  {
   "cell_type": "markdown",
   "metadata": {},
   "source": [
    "# IMPORTS E FUNCOES"
   ]
  },
  {
   "cell_type": "code",
   "execution_count": 356,
   "metadata": {},
   "outputs": [],
   "source": [
    "def remover_acentos(texto):\n",
    "    return unidecode(texto)"
   ]
  },
  {
   "cell_type": "code",
   "execution_count": 357,
   "metadata": {},
   "outputs": [],
   "source": [
    "def convert_to_int(value):\n",
    "    try:\n",
    "        return int(value)\n",
    "    except (ValueError, TypeError):\n",
    "        return pd.NA"
   ]
  },
  {
   "cell_type": "code",
   "execution_count": 358,
   "metadata": {},
   "outputs": [],
   "source": [
    "historico = pd.read_excel(f'../datasets/xlsx/historico(naotratado).xlsx')\n",
    "tabela = pd.read_excel(f'../datasets/xlsx/tabela(naotratado).xlsx')\n",
    "rodadas = pd.read_excel(f'../datasets/xlsx/rodadas(naotratado).xlsx')\n",
    "elenco = pd.read_excel(f'../datasets/xlsx/elenco(naotratado).xlsx')"
   ]
  },
  {
   "cell_type": "code",
   "execution_count": 359,
   "metadata": {},
   "outputs": [],
   "source": [
    "season_atual = historico['season'].max()\n",
    "rodada_recente = historico[historico['season'] == season_atual]['round'].str.split(' ', expand= True)[1].astype(int).max()"
   ]
  },
  {
   "cell_type": "markdown",
   "metadata": {},
   "source": [
    "# HISTORICO"
   ]
  },
  {
   "cell_type": "markdown",
   "metadata": {},
   "source": [
    "### Data cleaning"
   ]
  },
  {
   "cell_type": "code",
   "execution_count": 360,
   "metadata": {},
   "outputs": [],
   "source": [
    "historico.drop(\n",
    "  ['notes','captain', 'formation', 'referee', 'match report', 'attendance', 'time', 'day',\n",
    "   'cmp.1', 'cmp.2', 'cmp.3', 'att.1', 'att.2', 'att.3', 'tkl.1'], \n",
    "  axis= 'columns', inplace= True)"
   ]
  },
  {
   "cell_type": "code",
   "execution_count": 361,
   "metadata": {},
   "outputs": [],
   "source": [
    "historico[['gf', 'ga']] = historico[['gf', 'ga']].astype(int)\n",
    "historico['season'] = historico['season'].astype(int)\n",
    "historico['round'] = historico['round'].str.split(' ', expand= True)[1].astype(int)"
   ]
  },
  {
   "cell_type": "code",
   "execution_count": 362,
   "metadata": {},
   "outputs": [],
   "source": [
    "historico['date'] = pd.to_datetime(historico['date'], format='%Y-%m-%d')\n",
    "historico['days'] = (max(historico['date']) - historico['date']).dt.days\n",
    "historico['time_diff'] = np.exp(-0.001*historico['days'])"
   ]
  },
  {
   "cell_type": "code",
   "execution_count": 363,
   "metadata": {},
   "outputs": [],
   "source": [
    "historico['opponent'] = historico['opponent'].apply(remover_acentos)\n",
    "historico['opponent'] = [linha.lower() for linha in historico['opponent']]\n",
    "historico['opponent'] = historico['opponent'].str.replace(' ', '_')\n",
    "historico['opponent'] = historico['opponent'].str.replace('(', '')\n",
    "historico['opponent'] = historico['opponent'].str.replace(')', '')\n",
    "historico['opponent'] = historico['opponent'].str.replace(')', '')\n",
    "\n",
    "# Especifico para o brasileirão\n",
    "historico['opponent'] = historico['opponent'].str.replace('atletico', 'atl')\n",
    "historico['team'] = historico['team'].str.replace('athletico', 'ath')\n",
    "historico['team'] = historico['team'].str.replace('atletico', 'atl')\n",
    "\n",
    "# Especifico para a Premier League\n",
    "historico['team'] = historico['team'].str.replace('_hotspur', '')\n",
    "historico['team'] = historico['team'].str.replace('rhampton_wanderers', 's')\n",
    "historico['team'] = historico['team'].str.replace('united', 'utd')\n",
    "historico['team'] = historico['team'].str.replace('west_ham_utd', 'west_ham')\n",
    "historico['team'] = historico['team'].str.replace('_and_hove_albion', '')\n",
    "historico['team'] = historico['team'].str.replace('wich_albion', '')\n",
    "historico['team'] = historico['team'].str.replace('_town', '')\n",
    "historico['team'] = historico['team'].str.replace('luton', 'luton_town')\n",
    "historico['opponent'] = historico['opponent'].str.replace('united', 'utd')\n",
    "historico['opponent'] = historico['opponent'].str.replace(\"nott'ham_forest\", \"nottingham_forest\")\n",
    "\n",
    "# Especifico para a Serie A TIM\n",
    "historico['team'] = historico['team'].str.replace('nazionale', '')\n",
    "\n",
    "# Especifico para a Bundesliga\n",
    "historico['opponent'] = historico['opponent'].str.replace(\"m'gladbach\", 'monchengladbach')\n",
    "historico['team'] = historico['team'].str.replace(\"bayer_leverkusen\", 'leverkusen')\n",
    "historico['team'] = historico['team'].str.replace(\"eintracht_frankfurt\", 'eint_frankfurt')\n",
    "\n",
    "# Especifico para a La Liga\n",
    "historico['team'] = historico['team'].str.replace(\"real_betis\", 'betis')\n",
    "\n"
   ]
  },
  {
   "cell_type": "code",
   "execution_count": 364,
   "metadata": {},
   "outputs": [
    {
     "data": {
      "text/plain": [
       "[]"
      ]
     },
     "execution_count": 364,
     "metadata": {},
     "output_type": "execute_result"
    }
   ],
   "source": [
    "[item for item in historico['opponent'].unique() if item not in historico['team'].unique()]"
   ]
  },
  {
   "cell_type": "code",
   "execution_count": 365,
   "metadata": {},
   "outputs": [
    {
     "data": {
      "text/plain": [
       "array(['botafogo_rj', 'palmeiras', 'bragantino', 'gremio', 'flamengo',\n",
       "       'atl_mineiro', 'ath_paranaense', 'fluminense', 'sao_paulo',\n",
       "       'fortaleza', 'internacional', 'cuiaba', 'corinthians', 'santos',\n",
       "       'bahia', 'vasco_da_gama', 'cruzeiro', 'goias', 'coritiba',\n",
       "       'america_mg', 'manchester_city', 'tottenham', 'liverpool',\n",
       "       'arsenal', 'aston_villa', 'newcastle_utd', 'brighton',\n",
       "       'manchester_utd', 'brentford', 'chelsea', 'crystal_palace',\n",
       "       'west_ham', 'nottingham_forest', 'wolves', 'fulham', 'everton',\n",
       "       'luton_town', 'bournemouth', 'burnley', 'sheffield_utd', 'inter',\n",
       "       'juventus', 'milan', 'napoli', 'atalanta', 'bologna', 'roma',\n",
       "       'fiorentina', 'monza', 'lazio', 'frosinone', 'torino', 'lecce',\n",
       "       'genoa', 'sassuolo', 'udinese', 'cagliari', 'hellas_verona',\n",
       "       'empoli', 'salernitana', 'leverkusen', 'bayern_munich',\n",
       "       'stuttgart', 'dortmund', 'rb_leipzig', 'hoffenheim',\n",
       "       'eint_frankfurt', 'freiburg', 'wolfsburg', 'augsburg',\n",
       "       'monchengladbach', 'werder_bremen', 'heidenheim', 'bochum',\n",
       "       'darmstadt_98', 'union_berlin', 'mainz_05', 'koln', 'girona',\n",
       "       'real_madrid', 'barcelona', 'atl_madrid', 'athletic_club', 'betis',\n",
       "       'real_sociedad', 'valencia', 'rayo_vallecano', 'las_palmas',\n",
       "       'getafe', 'osasuna', 'villarreal', 'alaves', 'sevilla', 'cadiz',\n",
       "       'mallorca', 'celta_vigo', 'granada', 'almeria'], dtype=object)"
      ]
     },
     "execution_count": 365,
     "metadata": {},
     "output_type": "execute_result"
    }
   ],
   "source": [
    "historico['team'].unique()"
   ]
  },
  {
   "cell_type": "markdown",
   "metadata": {},
   "source": [
    "#### Ids dos times"
   ]
  },
  {
   "cell_type": "code",
   "execution_count": 366,
   "metadata": {},
   "outputs": [],
   "source": [
    "#all_teams = pd.unique(historico[['team', 'opponent']].values.ravel('K'))\n",
    "#all_leagues = pd.unique(historico['comp'].values.ravel('K'))\n",
    "#team_mapping, _ = pd.factorize(all_teams)\n",
    "#league_mapping, _ = pd.factorize(all_leagues)\n",
    "#\n",
    "#historico['home_team_id'] = historico['team'].map(dict(zip(all_teams, team_mapping)))\n",
    "#historico['away_team_id'] = historico['opponent'].map(dict(zip(all_teams, team_mapping)))\n",
    "#historico['league_id'] = historico['comp'].map(dict(zip(all_leagues, league_mapping)))"
   ]
  },
  {
   "cell_type": "code",
   "execution_count": 369,
   "metadata": {},
   "outputs": [
    {
     "ename": "KeyError",
     "evalue": "\"['home_team_id'] not in index\"",
     "output_type": "error",
     "traceback": [
      "\u001b[1;31m---------------------------------------------------------------------------\u001b[0m",
      "\u001b[1;31mKeyError\u001b[0m                                  Traceback (most recent call last)",
      "\u001b[1;32mg:\\Meu Drive\\Bet\\scraper\\data_cleaning.ipynb Cell 19\u001b[0m line \u001b[0;36m1\n\u001b[1;32m----> <a href='vscode-notebook-cell:/g%3A/Meu%20Drive/Bet/scraper/data_cleaning.ipynb#Y112sZmlsZQ%3D%3D?line=0'>1</a>\u001b[0m teams_id \u001b[39m=\u001b[39m historico[[\u001b[39m'\u001b[39;49m\u001b[39mhome_team_id\u001b[39;49m\u001b[39m'\u001b[39;49m, \u001b[39m'\u001b[39;49m\u001b[39mteam\u001b[39;49m\u001b[39m'\u001b[39;49m, \u001b[39m'\u001b[39;49m\u001b[39mcomp\u001b[39;49m\u001b[39m'\u001b[39;49m]]\u001b[39m.\u001b[39mdrop_duplicates()\u001b[39m.\u001b[39mreset_index(drop\u001b[39m=\u001b[39m \u001b[39mTrue\u001b[39;00m)\n\u001b[0;32m      <a href='vscode-notebook-cell:/g%3A/Meu%20Drive/Bet/scraper/data_cleaning.ipynb#Y112sZmlsZQ%3D%3D?line=1'>2</a>\u001b[0m teams_id\u001b[39m.\u001b[39mrename(columns\u001b[39m=\u001b[39m{\u001b[39m'\u001b[39m\u001b[39mhome_team_id\u001b[39m\u001b[39m'\u001b[39m: \u001b[39m'\u001b[39m\u001b[39mteam_id\u001b[39m\u001b[39m'\u001b[39m,\n\u001b[0;32m      <a href='vscode-notebook-cell:/g%3A/Meu%20Drive/Bet/scraper/data_cleaning.ipynb#Y112sZmlsZQ%3D%3D?line=2'>3</a>\u001b[0m                          \u001b[39m'\u001b[39m\u001b[39mteam\u001b[39m\u001b[39m'\u001b[39m: \u001b[39m'\u001b[39m\u001b[39mteam_name\u001b[39m\u001b[39m'\u001b[39m}, inplace\u001b[39m=\u001b[39m\u001b[39mTrue\u001b[39;00m)\n\u001b[0;32m      <a href='vscode-notebook-cell:/g%3A/Meu%20Drive/Bet/scraper/data_cleaning.ipynb#Y112sZmlsZQ%3D%3D?line=3'>4</a>\u001b[0m teams_id[\u001b[39m'\u001b[39m\u001b[39mleague_id\u001b[39m\u001b[39m'\u001b[39m] \u001b[39m=\u001b[39m pd\u001b[39m.\u001b[39mfactorize(teams_id[\u001b[39m'\u001b[39m\u001b[39mcomp\u001b[39m\u001b[39m'\u001b[39m])[\u001b[39m0\u001b[39m]\n",
      "File \u001b[1;32mc:\\ProgramData\\miniconda3\\Lib\\site-packages\\pandas\\core\\frame.py:3813\u001b[0m, in \u001b[0;36mDataFrame.__getitem__\u001b[1;34m(self, key)\u001b[0m\n\u001b[0;32m   3811\u001b[0m     \u001b[39mif\u001b[39;00m is_iterator(key):\n\u001b[0;32m   3812\u001b[0m         key \u001b[39m=\u001b[39m \u001b[39mlist\u001b[39m(key)\n\u001b[1;32m-> 3813\u001b[0m     indexer \u001b[39m=\u001b[39m \u001b[39mself\u001b[39;49m\u001b[39m.\u001b[39;49mcolumns\u001b[39m.\u001b[39;49m_get_indexer_strict(key, \u001b[39m\"\u001b[39;49m\u001b[39mcolumns\u001b[39;49m\u001b[39m\"\u001b[39;49m)[\u001b[39m1\u001b[39m]\n\u001b[0;32m   3815\u001b[0m \u001b[39m# take() does not accept boolean indexers\u001b[39;00m\n\u001b[0;32m   3816\u001b[0m \u001b[39mif\u001b[39;00m \u001b[39mgetattr\u001b[39m(indexer, \u001b[39m\"\u001b[39m\u001b[39mdtype\u001b[39m\u001b[39m\"\u001b[39m, \u001b[39mNone\u001b[39;00m) \u001b[39m==\u001b[39m \u001b[39mbool\u001b[39m:\n",
      "File \u001b[1;32mc:\\ProgramData\\miniconda3\\Lib\\site-packages\\pandas\\core\\indexes\\base.py:6070\u001b[0m, in \u001b[0;36mIndex._get_indexer_strict\u001b[1;34m(self, key, axis_name)\u001b[0m\n\u001b[0;32m   6067\u001b[0m \u001b[39melse\u001b[39;00m:\n\u001b[0;32m   6068\u001b[0m     keyarr, indexer, new_indexer \u001b[39m=\u001b[39m \u001b[39mself\u001b[39m\u001b[39m.\u001b[39m_reindex_non_unique(keyarr)\n\u001b[1;32m-> 6070\u001b[0m \u001b[39mself\u001b[39;49m\u001b[39m.\u001b[39;49m_raise_if_missing(keyarr, indexer, axis_name)\n\u001b[0;32m   6072\u001b[0m keyarr \u001b[39m=\u001b[39m \u001b[39mself\u001b[39m\u001b[39m.\u001b[39mtake(indexer)\n\u001b[0;32m   6073\u001b[0m \u001b[39mif\u001b[39;00m \u001b[39misinstance\u001b[39m(key, Index):\n\u001b[0;32m   6074\u001b[0m     \u001b[39m# GH 42790 - Preserve name from an Index\u001b[39;00m\n",
      "File \u001b[1;32mc:\\ProgramData\\miniconda3\\Lib\\site-packages\\pandas\\core\\indexes\\base.py:6133\u001b[0m, in \u001b[0;36mIndex._raise_if_missing\u001b[1;34m(self, key, indexer, axis_name)\u001b[0m\n\u001b[0;32m   6130\u001b[0m     \u001b[39mraise\u001b[39;00m \u001b[39mKeyError\u001b[39;00m(\u001b[39mf\u001b[39m\u001b[39m\"\u001b[39m\u001b[39mNone of [\u001b[39m\u001b[39m{\u001b[39;00mkey\u001b[39m}\u001b[39;00m\u001b[39m] are in the [\u001b[39m\u001b[39m{\u001b[39;00maxis_name\u001b[39m}\u001b[39;00m\u001b[39m]\u001b[39m\u001b[39m\"\u001b[39m)\n\u001b[0;32m   6132\u001b[0m not_found \u001b[39m=\u001b[39m \u001b[39mlist\u001b[39m(ensure_index(key)[missing_mask\u001b[39m.\u001b[39mnonzero()[\u001b[39m0\u001b[39m]]\u001b[39m.\u001b[39munique())\n\u001b[1;32m-> 6133\u001b[0m \u001b[39mraise\u001b[39;00m \u001b[39mKeyError\u001b[39;00m(\u001b[39mf\u001b[39m\u001b[39m\"\u001b[39m\u001b[39m{\u001b[39;00mnot_found\u001b[39m}\u001b[39;00m\u001b[39m not in index\u001b[39m\u001b[39m\"\u001b[39m)\n",
      "\u001b[1;31mKeyError\u001b[0m: \"['home_team_id'] not in index\""
     ]
    }
   ],
   "source": [
    "#teams_id = historico[['home_team_id', 'team', 'comp']].drop_duplicates().reset_index(drop= True)\n",
    "#teams_id.rename(columns={'home_team_id': 'team_id',\n",
    "#                         'team': 'team_name'}, inplace=True)\n",
    "#teams_id['league_id'] = pd.factorize(teams_id['comp'])[0]\n",
    "#teams_id = teams_id.drop(['comp'], axis= 1)\n",
    "#teams_id"
   ]
  },
  {
   "cell_type": "code",
   "execution_count": 370,
   "metadata": {},
   "outputs": [],
   "source": [
    "historico.reset_index(inplace=True)\n",
    "historico.rename(columns={'index': 'game_id'}, inplace=True)"
   ]
  },
  {
   "cell_type": "code",
   "execution_count": 372,
   "metadata": {},
   "outputs": [],
   "source": [
    "teams_id = {\n",
    "    'team_id': list(range(0, 98)),\n",
    "    'team_name': [\n",
    "        'botafogo_rj', 'palmeiras', 'bragantino', 'gremio', 'flamengo', 'atl_mineiro',\n",
    "        'ath_paranaense', 'fluminense', 'sao_paulo', 'fortaleza', 'internacional',\n",
    "        'cuiaba', 'corinthians', 'santos', 'bahia', 'vasco_da_gama', 'cruzeiro',\n",
    "        'goias', 'coritiba', 'america_mg', 'manchester_city', 'tottenham', 'liverpool',\n",
    "        'arsenal', 'aston_villa', 'newcastle_utd', 'brighton', 'manchester_utd', 'brentford',\n",
    "        'chelsea', 'crystal_palace', 'west_ham', 'nottingham_forest', 'wolves', 'fulham',\n",
    "        'everton', 'luton_town', 'bournemouth', 'burnley', 'sheffield_utd', 'inter', 'juventus',\n",
    "        'milan', 'napoli', 'atalanta', 'bologna', 'roma', 'fiorentina', 'monza', 'lazio', 'frosinone',\n",
    "        'torino', 'lecce', 'genoa', 'sassuolo', 'udinese', 'cagliari', 'hellas_verona', 'empoli',\n",
    "        'salernitana', 'leverkusen', 'bayern_munich', 'stuttgart', 'dortmund', 'rb_leipzig',\n",
    "        'hoffenheim', 'eint_frankfurt', 'freiburg', 'wolfsburg', 'augsburg', 'monchengladbach',\n",
    "        'werder_bremen', 'heidenheim', 'bochum', 'darmstadt_98', 'union_berlin', 'mainz_05',\n",
    "        'koln', 'girona', 'real_madrid', 'barcelona', 'atl_madrid', 'athletic_club', 'betis',\n",
    "        'real_sociedad', 'valencia', 'rayo_vallecano', 'las_palmas', 'getafe', 'osasuna',\n",
    "        'villarreal', 'alaves', 'sevilla', 'cadiz', 'mallorca', 'celta_vigo', 'granada', 'almeria'\n",
    "    ],\n",
    "    'league_id': [0] * 20 + [1] * 20 + [2] * 20 + [3] * 16 + [4] * 22\n",
    "}\n",
    "\n",
    "teams_id = pd.DataFrame(teams_id)"
   ]
  },
  {
   "cell_type": "code",
   "execution_count": 373,
   "metadata": {},
   "outputs": [
    {
     "data": {
      "text/html": [
       "<div>\n",
       "<style scoped>\n",
       "    .dataframe tbody tr th:only-of-type {\n",
       "        vertical-align: middle;\n",
       "    }\n",
       "\n",
       "    .dataframe tbody tr th {\n",
       "        vertical-align: top;\n",
       "    }\n",
       "\n",
       "    .dataframe thead th {\n",
       "        text-align: right;\n",
       "    }\n",
       "</style>\n",
       "<table border=\"1\" class=\"dataframe\">\n",
       "  <thead>\n",
       "    <tr style=\"text-align: right;\">\n",
       "      <th></th>\n",
       "      <th>team_id</th>\n",
       "      <th>team_name</th>\n",
       "      <th>league_id</th>\n",
       "    </tr>\n",
       "  </thead>\n",
       "  <tbody>\n",
       "    <tr>\n",
       "      <th>0</th>\n",
       "      <td>0</td>\n",
       "      <td>botafogo_rj</td>\n",
       "      <td>0</td>\n",
       "    </tr>\n",
       "    <tr>\n",
       "      <th>1</th>\n",
       "      <td>1</td>\n",
       "      <td>palmeiras</td>\n",
       "      <td>0</td>\n",
       "    </tr>\n",
       "    <tr>\n",
       "      <th>2</th>\n",
       "      <td>2</td>\n",
       "      <td>bragantino</td>\n",
       "      <td>0</td>\n",
       "    </tr>\n",
       "    <tr>\n",
       "      <th>3</th>\n",
       "      <td>3</td>\n",
       "      <td>gremio</td>\n",
       "      <td>0</td>\n",
       "    </tr>\n",
       "    <tr>\n",
       "      <th>4</th>\n",
       "      <td>4</td>\n",
       "      <td>flamengo</td>\n",
       "      <td>0</td>\n",
       "    </tr>\n",
       "    <tr>\n",
       "      <th>...</th>\n",
       "      <td>...</td>\n",
       "      <td>...</td>\n",
       "      <td>...</td>\n",
       "    </tr>\n",
       "    <tr>\n",
       "      <th>93</th>\n",
       "      <td>93</td>\n",
       "      <td>cadiz</td>\n",
       "      <td>4</td>\n",
       "    </tr>\n",
       "    <tr>\n",
       "      <th>94</th>\n",
       "      <td>94</td>\n",
       "      <td>mallorca</td>\n",
       "      <td>4</td>\n",
       "    </tr>\n",
       "    <tr>\n",
       "      <th>95</th>\n",
       "      <td>95</td>\n",
       "      <td>celta_vigo</td>\n",
       "      <td>4</td>\n",
       "    </tr>\n",
       "    <tr>\n",
       "      <th>96</th>\n",
       "      <td>96</td>\n",
       "      <td>granada</td>\n",
       "      <td>4</td>\n",
       "    </tr>\n",
       "    <tr>\n",
       "      <th>97</th>\n",
       "      <td>97</td>\n",
       "      <td>almeria</td>\n",
       "      <td>4</td>\n",
       "    </tr>\n",
       "  </tbody>\n",
       "</table>\n",
       "<p>98 rows × 3 columns</p>\n",
       "</div>"
      ],
      "text/plain": [
       "    team_id    team_name  league_id\n",
       "0         0  botafogo_rj          0\n",
       "1         1    palmeiras          0\n",
       "2         2   bragantino          0\n",
       "3         3       gremio          0\n",
       "4         4     flamengo          0\n",
       "..      ...          ...        ...\n",
       "93       93        cadiz          4\n",
       "94       94     mallorca          4\n",
       "95       95   celta_vigo          4\n",
       "96       96      granada          4\n",
       "97       97      almeria          4\n",
       "\n",
       "[98 rows x 3 columns]"
      ]
     },
     "execution_count": 373,
     "metadata": {},
     "output_type": "execute_result"
    }
   ],
   "source": [
    "teams_id"
   ]
  },
  {
   "cell_type": "code",
   "execution_count": 374,
   "metadata": {},
   "outputs": [],
   "source": [
    "historico = historico.merge(teams_id, left_on= 'team', right_on= 'team_name', how='left').drop(['team_name', 'league_id'], axis= 1)\n",
    "historico = historico.rename(columns= {'team_id': 'home_team_id'})\n",
    "historico = historico.merge(teams_id, left_on= 'opponent', right_on= 'team_name', how='left').drop(['team_name',], axis= 1)\n",
    "historico = historico.rename(columns= {'team_id': 'away_team_id'})\n"
   ]
  },
  {
   "cell_type": "code",
   "execution_count": 375,
   "metadata": {},
   "outputs": [
    {
     "data": {
      "text/html": [
       "<div>\n",
       "<style scoped>\n",
       "    .dataframe tbody tr th:only-of-type {\n",
       "        vertical-align: middle;\n",
       "    }\n",
       "\n",
       "    .dataframe tbody tr th {\n",
       "        vertical-align: top;\n",
       "    }\n",
       "\n",
       "    .dataframe thead th {\n",
       "        text-align: right;\n",
       "    }\n",
       "</style>\n",
       "<table border=\"1\" class=\"dataframe\">\n",
       "  <thead>\n",
       "    <tr style=\"text-align: right;\">\n",
       "      <th></th>\n",
       "      <th>game_id</th>\n",
       "      <th>game_id</th>\n",
       "      <th>date</th>\n",
       "      <th>comp</th>\n",
       "      <th>round</th>\n",
       "      <th>venue</th>\n",
       "      <th>result</th>\n",
       "      <th>gf</th>\n",
       "      <th>ga</th>\n",
       "      <th>opponent</th>\n",
       "      <th>...</th>\n",
       "      <th>fls</th>\n",
       "      <th>off</th>\n",
       "      <th>recov</th>\n",
       "      <th>season</th>\n",
       "      <th>team</th>\n",
       "      <th>days</th>\n",
       "      <th>time_diff</th>\n",
       "      <th>home_team_id</th>\n",
       "      <th>away_team_id</th>\n",
       "      <th>league_id</th>\n",
       "    </tr>\n",
       "  </thead>\n",
       "  <tbody>\n",
       "    <tr>\n",
       "      <th>0</th>\n",
       "      <td>0</td>\n",
       "      <td>0</td>\n",
       "      <td>2023-04-15</td>\n",
       "      <td>Série A</td>\n",
       "      <td>1</td>\n",
       "      <td>Home</td>\n",
       "      <td>W</td>\n",
       "      <td>2</td>\n",
       "      <td>1</td>\n",
       "      <td>sao_paulo</td>\n",
       "      <td>...</td>\n",
       "      <td>20</td>\n",
       "      <td>2</td>\n",
       "      <td>57</td>\n",
       "      <td>2023</td>\n",
       "      <td>botafogo_rj</td>\n",
       "      <td>208</td>\n",
       "      <td>0.812207</td>\n",
       "      <td>0</td>\n",
       "      <td>8</td>\n",
       "      <td>0</td>\n",
       "    </tr>\n",
       "    <tr>\n",
       "      <th>1</th>\n",
       "      <td>1</td>\n",
       "      <td>1</td>\n",
       "      <td>2023-04-24</td>\n",
       "      <td>Série A</td>\n",
       "      <td>2</td>\n",
       "      <td>Away</td>\n",
       "      <td>W</td>\n",
       "      <td>2</td>\n",
       "      <td>1</td>\n",
       "      <td>bahia</td>\n",
       "      <td>...</td>\n",
       "      <td>9</td>\n",
       "      <td>5</td>\n",
       "      <td>54</td>\n",
       "      <td>2023</td>\n",
       "      <td>botafogo_rj</td>\n",
       "      <td>199</td>\n",
       "      <td>0.819550</td>\n",
       "      <td>0</td>\n",
       "      <td>14</td>\n",
       "      <td>0</td>\n",
       "    </tr>\n",
       "    <tr>\n",
       "      <th>2</th>\n",
       "      <td>2</td>\n",
       "      <td>2</td>\n",
       "      <td>2023-04-30</td>\n",
       "      <td>Série A</td>\n",
       "      <td>3</td>\n",
       "      <td>Away</td>\n",
       "      <td>W</td>\n",
       "      <td>3</td>\n",
       "      <td>2</td>\n",
       "      <td>flamengo</td>\n",
       "      <td>...</td>\n",
       "      <td>12</td>\n",
       "      <td>1</td>\n",
       "      <td>42</td>\n",
       "      <td>2023</td>\n",
       "      <td>botafogo_rj</td>\n",
       "      <td>193</td>\n",
       "      <td>0.824482</td>\n",
       "      <td>0</td>\n",
       "      <td>4</td>\n",
       "      <td>0</td>\n",
       "    </tr>\n",
       "    <tr>\n",
       "      <th>3</th>\n",
       "      <td>3</td>\n",
       "      <td>3</td>\n",
       "      <td>2023-05-07</td>\n",
       "      <td>Série A</td>\n",
       "      <td>4</td>\n",
       "      <td>Home</td>\n",
       "      <td>W</td>\n",
       "      <td>2</td>\n",
       "      <td>0</td>\n",
       "      <td>atl_mineiro</td>\n",
       "      <td>...</td>\n",
       "      <td>14</td>\n",
       "      <td>0</td>\n",
       "      <td>43</td>\n",
       "      <td>2023</td>\n",
       "      <td>botafogo_rj</td>\n",
       "      <td>186</td>\n",
       "      <td>0.830274</td>\n",
       "      <td>0</td>\n",
       "      <td>5</td>\n",
       "      <td>0</td>\n",
       "    </tr>\n",
       "    <tr>\n",
       "      <th>4</th>\n",
       "      <td>4</td>\n",
       "      <td>4</td>\n",
       "      <td>2023-05-11</td>\n",
       "      <td>Série A</td>\n",
       "      <td>5</td>\n",
       "      <td>Home</td>\n",
       "      <td>W</td>\n",
       "      <td>3</td>\n",
       "      <td>0</td>\n",
       "      <td>corinthians</td>\n",
       "      <td>...</td>\n",
       "      <td>12</td>\n",
       "      <td>0</td>\n",
       "      <td>54</td>\n",
       "      <td>2023</td>\n",
       "      <td>botafogo_rj</td>\n",
       "      <td>182</td>\n",
       "      <td>0.833601</td>\n",
       "      <td>0</td>\n",
       "      <td>12</td>\n",
       "      <td>0</td>\n",
       "    </tr>\n",
       "  </tbody>\n",
       "</table>\n",
       "<p>5 rows × 42 columns</p>\n",
       "</div>"
      ],
      "text/plain": [
       "   game_id  game_id       date     comp  round venue result  gf  ga  \\\n",
       "0        0        0 2023-04-15  Série A      1  Home      W   2   1   \n",
       "1        1        1 2023-04-24  Série A      2  Away      W   2   1   \n",
       "2        2        2 2023-04-30  Série A      3  Away      W   3   2   \n",
       "3        3        3 2023-05-07  Série A      4  Home      W   2   0   \n",
       "4        4        4 2023-05-11  Série A      5  Home      W   3   0   \n",
       "\n",
       "      opponent  ...  fls  off  recov  season         team  days  time_diff  \\\n",
       "0    sao_paulo  ...   20    2     57    2023  botafogo_rj   208   0.812207   \n",
       "1        bahia  ...    9    5     54    2023  botafogo_rj   199   0.819550   \n",
       "2     flamengo  ...   12    1     42    2023  botafogo_rj   193   0.824482   \n",
       "3  atl_mineiro  ...   14    0     43    2023  botafogo_rj   186   0.830274   \n",
       "4  corinthians  ...   12    0     54    2023  botafogo_rj   182   0.833601   \n",
       "\n",
       "   home_team_id  away_team_id  league_id  \n",
       "0             0             8          0  \n",
       "1             0            14          0  \n",
       "2             0             4          0  \n",
       "3             0             5          0  \n",
       "4             0            12          0  \n",
       "\n",
       "[5 rows x 42 columns]"
      ]
     },
     "execution_count": 375,
     "metadata": {},
     "output_type": "execute_result"
    }
   ],
   "source": [
    "historico.head()"
   ]
  },
  {
   "cell_type": "markdown",
   "metadata": {},
   "source": [
    "### Divisão e Export"
   ]
  },
  {
   "cell_type": "code",
   "execution_count": 319,
   "metadata": {},
   "outputs": [],
   "source": [
    "teams_id.to_excel(f'../datasets/xlsx/teams_id(tratado).xlsx')"
   ]
  },
  {
   "cell_type": "code",
   "execution_count": 320,
   "metadata": {},
   "outputs": [],
   "source": [
    "historico.to_excel(f'../datasets/xlsx/historico(tratado).xlsx')"
   ]
  },
  {
   "cell_type": "markdown",
   "metadata": {},
   "source": [
    "# TABELA"
   ]
  },
  {
   "cell_type": "markdown",
   "metadata": {},
   "source": [
    "### Data Cleaning"
   ]
  },
  {
   "cell_type": "code",
   "execution_count": 321,
   "metadata": {},
   "outputs": [],
   "source": [
    "tabela.drop(\n",
    "  ['attendance', 'top team scorer', 'goalkeeper', 'notes', 'last 5'], \n",
    "  axis= 'columns', inplace= True)"
   ]
  },
  {
   "cell_type": "code",
   "execution_count": 322,
   "metadata": {},
   "outputs": [],
   "source": [
    "tabela['squad'] = tabela['squad'].apply(remover_acentos)\n",
    "tabela['squad'] = [linha.lower() for linha in tabela['squad']]\n",
    "tabela['squad'] = tabela['squad'].str.replace(' ', '_')\n",
    "tabela['squad'] = tabela['squad'].str.replace('(', '')\n",
    "tabela['squad'] = tabela['squad'].str.replace(')', '')\n",
    "tabela['squad'] = tabela['squad'].str.replace(')', '')\n",
    "\n",
    "# Especifico para o brasileirão\n",
    "tabela['squad'] = tabela['squad'].str.replace('atletico', 'atl')\n",
    "\n",
    "# Especifico para a Premier League\n",
    "tabela['squad'] = tabela['squad'].str.replace(\"united\", \"utd\")\n",
    "tabela['squad'] = tabela['squad'].str.replace(\"nott'ham_forest\", \"nottingham_forest\")\n",
    "\n",
    "# Especifico para a Bundesliga\n",
    "tabela['squad'] = tabela['squad'].str.replace(\"m'gladbach\", 'monchengladbach')"
   ]
  },
  {
   "cell_type": "code",
   "execution_count": 323,
   "metadata": {},
   "outputs": [
    {
     "data": {
      "text/plain": [
       "[]"
      ]
     },
     "execution_count": 323,
     "metadata": {},
     "output_type": "execute_result"
    }
   ],
   "source": [
    "[item for item in tabela['squad'].unique() if item not in historico['opponent'].unique()]"
   ]
  },
  {
   "cell_type": "code",
   "execution_count": 324,
   "metadata": {},
   "outputs": [
    {
     "data": {
      "text/plain": [
       "array(['sao_paulo', 'bahia', 'flamengo', 'atl_mineiro', 'corinthians',\n",
       "       'goias', 'fluminense', 'america_mg', 'ath_paranaense', 'fortaleza',\n",
       "       'cuiaba', 'palmeiras', 'vasco_da_gama', 'gremio', 'bragantino',\n",
       "       'santos', 'coritiba', 'cruzeiro', 'internacional', 'botafogo_rj',\n",
       "       'burnley', 'newcastle_utd', 'sheffield_utd', 'fulham', 'west_ham',\n",
       "       'nottingham_forest', 'wolves', 'arsenal', 'brighton',\n",
       "       'manchester_utd', 'bournemouth', 'brentford', 'liverpool',\n",
       "       'luton_town', 'crystal_palace', 'chelsea', 'aston_villa',\n",
       "       'tottenham', 'everton', 'manchester_city', 'monza', 'cagliari',\n",
       "       'fiorentina', 'milan', 'empoli', 'sassuolo', 'salernitana',\n",
       "       'bologna', 'torino', 'roma', 'atalanta', 'udinese', 'lazio',\n",
       "       'lecce', 'hellas_verona', 'inter', 'genoa', 'juventus', 'napoli',\n",
       "       'frosinone', 'rb_leipzig', 'monchengladbach', 'darmstadt_98',\n",
       "       'bayern_munich', 'heidenheim', 'mainz_05', 'koln', 'wolfsburg',\n",
       "       'freiburg', 'hoffenheim', 'werder_bremen', 'augsburg',\n",
       "       'leverkusen', 'bochum', 'dortmund', 'union_berlin',\n",
       "       'eint_frankfurt', 'stuttgart', 'real_sociedad', 'getafe',\n",
       "       'sevilla', 'las_palmas', 'granada', 'mallorca', 'villarreal',\n",
       "       'real_madrid', 'cadiz', 'almeria', 'celta_vigo', 'osasuna',\n",
       "       'athletic_club', 'atl_madrid', 'girona', 'barcelona',\n",
       "       'rayo_vallecano', 'betis', 'valencia', 'alaves'], dtype=object)"
      ]
     },
     "execution_count": 324,
     "metadata": {},
     "output_type": "execute_result"
    }
   ],
   "source": [
    "historico['opponent'].unique()"
   ]
  },
  {
   "cell_type": "markdown",
   "metadata": {},
   "source": [
    "### Feature Engineering"
   ]
  },
  {
   "cell_type": "code",
   "execution_count": 325,
   "metadata": {},
   "outputs": [],
   "source": [
    "tabela['xg_conv'] = tabela['gf'] - tabela['xg']      #Conversão de xG\n",
    "tabela['xga_conv'] = tabela['ga'] - tabela['xga']    #Conversão de xGA\n",
    "tabela['att_rating'] = (tabela['gf']/tabela['mp'])/(tabela['gf']/tabela['mp']).mean()  #Media de gols por partida dividido pelo da liga\n",
    "tabela['def_rating'] = (tabela['ga']/tabela['mp'])/(tabela['gf']/tabela['mp']).mean()  #Media de gols tomados por partida dividido pelo da liga\n",
    "tabela['naive_rating'] = tabela['att_rating']*tabela['def_rating']*(tabela['gf']/tabela['mp']).mean()   #att*def*media da liga                                       #sh Total"
   ]
  },
  {
   "cell_type": "code",
   "execution_count": 326,
   "metadata": {},
   "outputs": [],
   "source": [
    "tabela = tabela.merge(teams_id, left_on= 'squad', right_on= 'team_name', how='left').drop(['squad'], axis= 1)\n"
   ]
  },
  {
   "cell_type": "markdown",
   "metadata": {},
   "source": [
    "### Divisões e Exports"
   ]
  },
  {
   "cell_type": "code",
   "execution_count": 327,
   "metadata": {},
   "outputs": [],
   "source": [
    "tabela.to_excel(f'../datasets/xlsx/tabela(tratado).xlsx', index= False)"
   ]
  },
  {
   "cell_type": "markdown",
   "metadata": {},
   "source": [
    "# RODADAS"
   ]
  },
  {
   "cell_type": "markdown",
   "metadata": {},
   "source": [
    "### Data Cleaning"
   ]
  },
  {
   "cell_type": "code",
   "execution_count": 328,
   "metadata": {},
   "outputs": [],
   "source": [
    "rodadas = rodadas.loc[rodadas['home'].notna()]"
   ]
  },
  {
   "cell_type": "code",
   "execution_count": 329,
   "metadata": {},
   "outputs": [],
   "source": [
    "rodadas.drop(['day', 'date', 'time', 'attendance', 'venue', 'referee', 'match report', 'notes'], axis= 1, inplace= True)"
   ]
  },
  {
   "cell_type": "code",
   "execution_count": 330,
   "metadata": {},
   "outputs": [],
   "source": [
    "rodadas['home'] = rodadas['home'].apply(remover_acentos)\n",
    "rodadas['home'] = [linha.lower() for linha in rodadas['home']]\n",
    "rodadas['home'] = rodadas['home'].str.replace(' ', '_')\n",
    "rodadas['home'] = rodadas['home'].str.replace('(', '')\n",
    "rodadas['home'] = rodadas['home'].str.replace(')', '')\n",
    "rodadas['home'] = rodadas['home'].str.replace(')', '')\n",
    "\n",
    "# Especifico para o brasileirão\n",
    "rodadas['home'] = rodadas['home'].str.replace('atletico', 'atl')\n",
    "\n",
    "# Especifico para a Premier League\n",
    "rodadas['home'] = rodadas['home'].str.replace(\"nott'ham_forest\", \"nottingham_forest\")\n",
    "\n",
    "# Especifico para a Bundesliga\n",
    "rodadas['home'] = rodadas['home'].str.replace(\"m'gladbach\", 'monchengladbach')"
   ]
  },
  {
   "cell_type": "code",
   "execution_count": 331,
   "metadata": {},
   "outputs": [],
   "source": [
    "rodadas['away'] = rodadas['away'].apply(remover_acentos)\n",
    "rodadas['away'] = [linha.lower() for linha in rodadas['away']]\n",
    "rodadas['away'] = rodadas['away'].str.replace(' ', '_')\n",
    "rodadas['away'] = rodadas['away'].str.replace('(', '')\n",
    "rodadas['away'] = rodadas['away'].str.replace(')', '')\n",
    "rodadas['away'] = rodadas['away'].str.replace(')', '')\n",
    "\n",
    "# Especifico para o brasileirão\n",
    "rodadas['away'] = rodadas['away'].str.replace('atletico', 'atl')\n",
    "\n",
    "# Especifico para a Premier League\n",
    "rodadas['away'] = rodadas['away'].str.replace(\"nott'ham_forest\", \"nottingham_forest\")\n",
    "\n",
    "# Especifico para a Bundesliga\n",
    "rodadas['away'] = rodadas['away'].str.replace(\"m'gladbach\", 'monchengladbach')"
   ]
  },
  {
   "cell_type": "code",
   "execution_count": 332,
   "metadata": {},
   "outputs": [
    {
     "data": {
      "text/plain": [
       "[]"
      ]
     },
     "execution_count": 332,
     "metadata": {},
     "output_type": "execute_result"
    }
   ],
   "source": [
    "[item for item in rodadas['home'].unique() if item not in historico['opponent'].unique()]"
   ]
  },
  {
   "cell_type": "code",
   "execution_count": 333,
   "metadata": {},
   "outputs": [],
   "source": [
    "rodadas[['gols_casa', 'gols_fora']] = rodadas['score'].str.split('–', expand=True)\n",
    "rodadas.drop(['score'], axis= 1, inplace= True)\n",
    "rodadas.insert(5, 'gols_casa', rodadas.pop('gols_casa'))\n",
    "rodadas.insert(6, 'gols_fora', rodadas.pop('gols_fora'))\n",
    "\n",
    "rodadas = rodadas.rename(columns={'xg.1': 'xg_fora', 'xg': 'xg_casa'})\n",
    "\n",
    "rodadas['gols_casa'] = rodadas['gols_casa'].apply(convert_to_int)\n",
    "rodadas['gols_fora'] = rodadas['gols_fora'].apply(convert_to_int)\n"
   ]
  },
  {
   "cell_type": "code",
   "execution_count": 343,
   "metadata": {},
   "outputs": [],
   "source": [
    "rodadas = rodadas.merge(teams_id, left_on= 'home', right_on= 'team_name', how='left').rename(columns={'team_id': 'home_id'}).drop(['team_name', 'league_id'], axis= 1)\n",
    "rodadas = rodadas.merge(teams_id, left_on= 'away', right_on= 'team_name', how='left').rename(columns={'team_id': 'away_id'}).drop(['team_name'], axis= 1)"
   ]
  },
  {
   "cell_type": "code",
   "execution_count": 344,
   "metadata": {},
   "outputs": [
    {
     "data": {
      "text/html": [
       "<div>\n",
       "<style scoped>\n",
       "    .dataframe tbody tr th:only-of-type {\n",
       "        vertical-align: middle;\n",
       "    }\n",
       "\n",
       "    .dataframe tbody tr th {\n",
       "        vertical-align: top;\n",
       "    }\n",
       "\n",
       "    .dataframe thead th {\n",
       "        text-align: right;\n",
       "    }\n",
       "</style>\n",
       "<table border=\"1\" class=\"dataframe\">\n",
       "  <thead>\n",
       "    <tr style=\"text-align: right;\">\n",
       "      <th></th>\n",
       "      <th>wk</th>\n",
       "      <th>xg_casa</th>\n",
       "      <th>xg_fora</th>\n",
       "      <th>home</th>\n",
       "      <th>gols_casa</th>\n",
       "      <th>gols_fora</th>\n",
       "      <th>away</th>\n",
       "      <th>league_name</th>\n",
       "      <th>home_id</th>\n",
       "      <th>away_id</th>\n",
       "      <th>league_id</th>\n",
       "    </tr>\n",
       "  </thead>\n",
       "  <tbody>\n",
       "    <tr>\n",
       "      <th>0</th>\n",
       "      <td>1.0</td>\n",
       "      <td>1.1</td>\n",
       "      <td>3.1</td>\n",
       "      <td>america_mg</td>\n",
       "      <td>0</td>\n",
       "      <td>3</td>\n",
       "      <td>fluminense</td>\n",
       "      <td>Brasileirao</td>\n",
       "      <td>19</td>\n",
       "      <td>7</td>\n",
       "      <td>0</td>\n",
       "    </tr>\n",
       "    <tr>\n",
       "      <th>1</th>\n",
       "      <td>1.0</td>\n",
       "      <td>3.0</td>\n",
       "      <td>1.0</td>\n",
       "      <td>palmeiras</td>\n",
       "      <td>2</td>\n",
       "      <td>1</td>\n",
       "      <td>cuiaba</td>\n",
       "      <td>Brasileirao</td>\n",
       "      <td>1</td>\n",
       "      <td>11</td>\n",
       "      <td>0</td>\n",
       "    </tr>\n",
       "    <tr>\n",
       "      <th>2</th>\n",
       "      <td>1.0</td>\n",
       "      <td>2.0</td>\n",
       "      <td>0.7</td>\n",
       "      <td>bragantino</td>\n",
       "      <td>2</td>\n",
       "      <td>1</td>\n",
       "      <td>bahia</td>\n",
       "      <td>Brasileirao</td>\n",
       "      <td>2</td>\n",
       "      <td>14</td>\n",
       "      <td>0</td>\n",
       "    </tr>\n",
       "    <tr>\n",
       "      <th>3</th>\n",
       "      <td>1.0</td>\n",
       "      <td>0.9</td>\n",
       "      <td>2.0</td>\n",
       "      <td>botafogo_rj</td>\n",
       "      <td>2</td>\n",
       "      <td>1</td>\n",
       "      <td>sao_paulo</td>\n",
       "      <td>Brasileirao</td>\n",
       "      <td>0</td>\n",
       "      <td>8</td>\n",
       "      <td>0</td>\n",
       "    </tr>\n",
       "    <tr>\n",
       "      <th>4</th>\n",
       "      <td>1.0</td>\n",
       "      <td>0.8</td>\n",
       "      <td>1.0</td>\n",
       "      <td>ath_paranaense</td>\n",
       "      <td>2</td>\n",
       "      <td>0</td>\n",
       "      <td>goias</td>\n",
       "      <td>Brasileirao</td>\n",
       "      <td>6</td>\n",
       "      <td>17</td>\n",
       "      <td>0</td>\n",
       "    </tr>\n",
       "  </tbody>\n",
       "</table>\n",
       "</div>"
      ],
      "text/plain": [
       "    wk  xg_casa  xg_fora            home gols_casa gols_fora        away  \\\n",
       "0  1.0      1.1      3.1      america_mg         0         3  fluminense   \n",
       "1  1.0      3.0      1.0       palmeiras         2         1      cuiaba   \n",
       "2  1.0      2.0      0.7      bragantino         2         1       bahia   \n",
       "3  1.0      0.9      2.0     botafogo_rj         2         1   sao_paulo   \n",
       "4  1.0      0.8      1.0  ath_paranaense         2         0       goias   \n",
       "\n",
       "   league_name  home_id  away_id  league_id  \n",
       "0  Brasileirao       19        7          0  \n",
       "1  Brasileirao        1       11          0  \n",
       "2  Brasileirao        2       14          0  \n",
       "3  Brasileirao        0        8          0  \n",
       "4  Brasileirao        6       17          0  "
      ]
     },
     "execution_count": 344,
     "metadata": {},
     "output_type": "execute_result"
    }
   ],
   "source": [
    "rodadas.head()"
   ]
  },
  {
   "cell_type": "code",
   "execution_count": 345,
   "metadata": {},
   "outputs": [],
   "source": [
    "rodadas = rodadas[['wk', 'xg_casa', 'xg_fora', 'home', 'gols_casa', 'gols_fora', 'away', 'league_name', 'home_id', 'away_id', 'league_id']]"
   ]
  },
  {
   "cell_type": "markdown",
   "metadata": {},
   "source": [
    "### Divisão e Export"
   ]
  },
  {
   "cell_type": "code",
   "execution_count": 346,
   "metadata": {},
   "outputs": [],
   "source": [
    "rodadas.to_excel(f'../datasets/xlsx/rodadas(tratado).xlsx', index= False)"
   ]
  },
  {
   "cell_type": "markdown",
   "metadata": {},
   "source": [
    "# Elencos"
   ]
  },
  {
   "cell_type": "code",
   "execution_count": null,
   "metadata": {},
   "outputs": [],
   "source": []
  }
 ],
 "metadata": {
  "kernelspec": {
   "display_name": "base",
   "language": "python",
   "name": "python3"
  },
  "language_info": {
   "codemirror_mode": {
    "name": "ipython",
    "version": 3
   },
   "file_extension": ".py",
   "mimetype": "text/x-python",
   "name": "python",
   "nbconvert_exporter": "python",
   "pygments_lexer": "ipython3",
   "version": "3.11.6"
  }
 },
 "nbformat": 4,
 "nbformat_minor": 2
}

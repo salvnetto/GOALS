{
 "cells": [
  {
   "cell_type": "code",
   "execution_count": 122,
   "metadata": {},
   "outputs": [],
   "source": [
    "import os\n",
    "import pandas as pd\n",
    "import numpy as np\n",
    "from unidecode import unidecode\n",
    "\n",
    "import warnings\n",
    "from pandas.errors import SettingWithCopyWarning\n",
    "warnings.simplefilter(action=\"ignore\", category=SettingWithCopyWarning)\n",
    "warnings.simplefilter(action='ignore', category=FutureWarning)"
   ]
  },
  {
   "cell_type": "markdown",
   "metadata": {},
   "source": [
    "# IMPORTS E FUNCOES"
   ]
  },
  {
   "cell_type": "code",
   "execution_count": 123,
   "metadata": {},
   "outputs": [],
   "source": [
    "def remover_acentos(texto):\n",
    "    return unidecode(texto)"
   ]
  },
  {
   "cell_type": "code",
   "execution_count": 124,
   "metadata": {},
   "outputs": [],
   "source": [
    "def convert_to_int(value):\n",
    "    try:\n",
    "        return int(value)\n",
    "    except (ValueError, TypeError):\n",
    "        return pd.NA"
   ]
  },
  {
   "cell_type": "code",
   "execution_count": 125,
   "metadata": {},
   "outputs": [],
   "source": [
    "historico = pd.read_excel(f'../datasets/xlsx/historico(naotratado).xlsx')\n",
    "tabela = pd.read_excel(f'../datasets/xlsx/tabela(naotratado).xlsx')\n",
    "rodadas = pd.read_excel(f'../datasets/xlsx/rodadas(naotratado).xlsx')\n",
    "elencos = pd.read_excel(f'../datasets/xlsx/elenco(naotratado).xlsx')"
   ]
  },
  {
   "cell_type": "code",
   "execution_count": 126,
   "metadata": {},
   "outputs": [],
   "source": [
    "season_atual = historico['season'].max()\n",
    "rodada_recente = historico[historico['season'] == season_atual]['round'].str.split(' ', expand= True)[1].astype(int).max()"
   ]
  },
  {
   "cell_type": "markdown",
   "metadata": {},
   "source": [
    "# HISTORICO"
   ]
  },
  {
   "cell_type": "markdown",
   "metadata": {},
   "source": [
    "### Data cleaning"
   ]
  },
  {
   "cell_type": "code",
   "execution_count": 127,
   "metadata": {},
   "outputs": [],
   "source": [
    "historico.drop(\n",
    "  ['notes','captain', 'formation', 'referee', 'match report', 'attendance', 'time', 'day',\n",
    "   'cmp.1', 'cmp.2', 'cmp.3', 'att.1', 'att.2', 'att.3', 'tkl.1'], \n",
    "  axis= 'columns', inplace= True)"
   ]
  },
  {
   "cell_type": "code",
   "execution_count": 128,
   "metadata": {},
   "outputs": [],
   "source": [
    "historico[['gf', 'ga']] = historico[['gf', 'ga']].astype(int)\n",
    "historico['season'] = historico['season'].astype(int)\n",
    "historico['round'] = historico['round'].str.split(' ', expand= True)[1].astype(int)"
   ]
  },
  {
   "cell_type": "code",
   "execution_count": 129,
   "metadata": {},
   "outputs": [],
   "source": [
    "historico['date'] = pd.to_datetime(historico['date'], format='%Y-%m-%d')\n",
    "historico['days'] = (max(historico['date']) - historico['date']).dt.days\n",
    "historico['time_diff'] = np.exp(-0.001*historico['days'])"
   ]
  },
  {
   "cell_type": "code",
   "execution_count": 130,
   "metadata": {},
   "outputs": [],
   "source": [
    "historico['opponent'] = historico['opponent'].apply(remover_acentos)\n",
    "historico['opponent'] = [linha.lower() for linha in historico['opponent']]\n",
    "historico['opponent'] = historico['opponent'].str.replace(' ', '_')\n",
    "historico['opponent'] = historico['opponent'].str.replace('(', '')\n",
    "historico['opponent'] = historico['opponent'].str.replace(')', '')\n",
    "historico['opponent'] = historico['opponent'].str.replace(')', '')\n",
    "\n",
    "# Especifico para o brasileirão\n",
    "historico['opponent'] = historico['opponent'].str.replace('atletico', 'atl')\n",
    "historico['team'] = historico['team'].str.replace('athletico', 'ath')\n",
    "historico['team'] = historico['team'].str.replace('atletico', 'atl')\n",
    "\n",
    "# Especifico para a Premier League\n",
    "historico['team'] = historico['team'].str.replace('_hotspur', '')\n",
    "historico['team'] = historico['team'].str.replace('rhampton_wanderers', 's')\n",
    "historico['team'] = historico['team'].str.replace('united', 'utd')\n",
    "historico['team'] = historico['team'].str.replace('west_ham_utd', 'west_ham')\n",
    "historico['team'] = historico['team'].str.replace('_and_hove_albion', '')\n",
    "historico['team'] = historico['team'].str.replace('wich_albion', '')\n",
    "historico['team'] = historico['team'].str.replace('_town', '')\n",
    "historico['team'] = historico['team'].str.replace('luton', 'luton_town')\n",
    "historico['opponent'] = historico['opponent'].str.replace('united', 'utd')\n",
    "historico['opponent'] = historico['opponent'].str.replace(\"nott'ham_forest\", \"nottingham_forest\")\n",
    "\n",
    "# Especifico para a Serie A TIM\n",
    "historico['team'] = historico['team'].str.replace('nazionale', '')\n",
    "\n",
    "# Especifico para a Bundesliga\n",
    "historico['opponent'] = historico['opponent'].str.replace(\"m'gladbach\", 'monchengladbach')\n",
    "historico['team'] = historico['team'].str.replace(\"bayer_leverkusen\", 'leverkusen')\n",
    "historico['team'] = historico['team'].str.replace(\"eintracht_frankfurt\", 'eint_frankfurt')\n",
    "\n",
    "# Especifico para a La Liga\n",
    "historico['team'] = historico['team'].str.replace(\"real_betis\", 'betis')\n",
    "\n"
   ]
  },
  {
   "cell_type": "code",
   "execution_count": 131,
   "metadata": {},
   "outputs": [
    {
     "data": {
      "text/plain": [
       "[]"
      ]
     },
     "execution_count": 131,
     "metadata": {},
     "output_type": "execute_result"
    }
   ],
   "source": [
    "[item for item in historico['opponent'].unique() if item not in historico['team'].unique()]"
   ]
  },
  {
   "cell_type": "code",
   "execution_count": 132,
   "metadata": {},
   "outputs": [
    {
     "data": {
      "text/plain": [
       "array(['botafogo_rj', 'palmeiras', 'bragantino', 'gremio', 'flamengo',\n",
       "       'atl_mineiro', 'ath_paranaense', 'fluminense', 'sao_paulo',\n",
       "       'fortaleza', 'internacional', 'cuiaba', 'corinthians', 'santos',\n",
       "       'bahia', 'vasco_da_gama', 'cruzeiro', 'goias', 'coritiba',\n",
       "       'america_mg', 'manchester_city', 'tottenham', 'liverpool',\n",
       "       'arsenal', 'aston_villa', 'newcastle_utd', 'brighton',\n",
       "       'manchester_utd', 'brentford', 'chelsea', 'crystal_palace',\n",
       "       'west_ham', 'nottingham_forest', 'wolves', 'fulham', 'everton',\n",
       "       'luton_town', 'bournemouth', 'burnley', 'sheffield_utd', 'inter',\n",
       "       'juventus', 'milan', 'napoli', 'atalanta', 'bologna', 'roma',\n",
       "       'fiorentina', 'monza', 'lazio', 'frosinone', 'torino', 'lecce',\n",
       "       'genoa', 'sassuolo', 'udinese', 'cagliari', 'hellas_verona',\n",
       "       'empoli', 'salernitana', 'leverkusen', 'bayern_munich',\n",
       "       'stuttgart', 'dortmund', 'rb_leipzig', 'hoffenheim',\n",
       "       'eint_frankfurt', 'freiburg', 'wolfsburg', 'augsburg',\n",
       "       'monchengladbach', 'werder_bremen', 'heidenheim', 'bochum',\n",
       "       'darmstadt_98', 'union_berlin', 'mainz_05', 'koln', 'girona',\n",
       "       'real_madrid', 'barcelona', 'atl_madrid', 'athletic_club', 'betis',\n",
       "       'real_sociedad', 'valencia', 'rayo_vallecano', 'las_palmas',\n",
       "       'getafe', 'osasuna', 'villarreal', 'alaves', 'sevilla', 'cadiz',\n",
       "       'mallorca', 'celta_vigo', 'granada', 'almeria'], dtype=object)"
      ]
     },
     "execution_count": 132,
     "metadata": {},
     "output_type": "execute_result"
    }
   ],
   "source": [
    "historico['team'].unique()"
   ]
  },
  {
   "cell_type": "markdown",
   "metadata": {},
   "source": [
    "#### Ids dos times"
   ]
  },
  {
   "cell_type": "code",
   "execution_count": 133,
   "metadata": {},
   "outputs": [],
   "source": [
    "#all_teams = pd.unique(historico[['team', 'opponent']].values.ravel('K'))\n",
    "#all_leagues = pd.unique(historico['comp'].values.ravel('K'))\n",
    "#team_mapping, _ = pd.factorize(all_teams)\n",
    "#league_mapping, _ = pd.factorize(all_leagues)\n",
    "#\n",
    "#historico['home_team_id'] = historico['team'].map(dict(zip(all_teams, team_mapping)))\n",
    "#historico['away_team_id'] = historico['opponent'].map(dict(zip(all_teams, team_mapping)))\n",
    "#historico['league_id'] = historico['comp'].map(dict(zip(all_leagues, league_mapping)))"
   ]
  },
  {
   "cell_type": "code",
   "execution_count": 134,
   "metadata": {},
   "outputs": [],
   "source": [
    "#teams_id = historico[['home_team_id', 'team', 'comp']].drop_duplicates().reset_index(drop= True)\n",
    "#teams_id.rename(columns={'home_team_id': 'team_id',\n",
    "#                         'team': 'team_name'}, inplace=True)\n",
    "#teams_id['league_id'] = pd.factorize(teams_id['comp'])[0]\n",
    "#teams_id = teams_id.drop(['comp'], axis= 1)\n",
    "#teams_id"
   ]
  },
  {
   "cell_type": "code",
   "execution_count": 135,
   "metadata": {},
   "outputs": [],
   "source": [
    "historico.reset_index(inplace=True)\n",
    "historico.rename(columns={'index': 'game_id'}, inplace=True)"
   ]
  },
  {
   "cell_type": "code",
   "execution_count": 136,
   "metadata": {},
   "outputs": [],
   "source": [
    "teams_id = {\n",
    "    'team_id': list(range(0, 98)),\n",
    "    'team_name': [\n",
    "        'botafogo_rj', 'palmeiras', 'bragantino', 'gremio', 'flamengo', 'atl_mineiro',\n",
    "        'ath_paranaense', 'fluminense', 'sao_paulo', 'fortaleza', 'internacional',\n",
    "        'cuiaba', 'corinthians', 'santos', 'bahia', 'vasco_da_gama', 'cruzeiro',\n",
    "        'goias', 'coritiba', 'america_mg', 'manchester_city', 'tottenham', 'liverpool',\n",
    "        'arsenal', 'aston_villa', 'newcastle_utd', 'brighton', 'manchester_utd', 'brentford',\n",
    "        'chelsea', 'crystal_palace', 'west_ham', 'nottingham_forest', 'wolves', 'fulham',\n",
    "        'everton', 'luton_town', 'bournemouth', 'burnley', 'sheffield_utd', 'inter', 'juventus',\n",
    "        'milan', 'napoli', 'atalanta', 'bologna', 'roma', 'fiorentina', 'monza', 'lazio', 'frosinone',\n",
    "        'torino', 'lecce', 'genoa', 'sassuolo', 'udinese', 'cagliari', 'hellas_verona', 'empoli',\n",
    "        'salernitana', 'leverkusen', 'bayern_munich', 'stuttgart', 'dortmund', 'rb_leipzig',\n",
    "        'hoffenheim', 'eint_frankfurt', 'freiburg', 'wolfsburg', 'augsburg', 'monchengladbach',\n",
    "        'werder_bremen', 'heidenheim', 'bochum', 'darmstadt_98', 'union_berlin', 'mainz_05',\n",
    "        'koln', 'girona', 'real_madrid', 'barcelona', 'atl_madrid', 'athletic_club', 'betis',\n",
    "        'real_sociedad', 'valencia', 'rayo_vallecano', 'las_palmas', 'getafe', 'osasuna',\n",
    "        'villarreal', 'alaves', 'sevilla', 'cadiz', 'mallorca', 'celta_vigo', 'granada', 'almeria'\n",
    "    ],\n",
    "    'league_id': [0] * 20 + [1] * 20 + [2] * 20 + [3] * 16 + [4] * 22\n",
    "}\n",
    "\n",
    "teams_id = pd.DataFrame(teams_id)"
   ]
  },
  {
   "cell_type": "code",
   "execution_count": 137,
   "metadata": {},
   "outputs": [
    {
     "data": {
      "text/html": [
       "<div>\n",
       "<style scoped>\n",
       "    .dataframe tbody tr th:only-of-type {\n",
       "        vertical-align: middle;\n",
       "    }\n",
       "\n",
       "    .dataframe tbody tr th {\n",
       "        vertical-align: top;\n",
       "    }\n",
       "\n",
       "    .dataframe thead th {\n",
       "        text-align: right;\n",
       "    }\n",
       "</style>\n",
       "<table border=\"1\" class=\"dataframe\">\n",
       "  <thead>\n",
       "    <tr style=\"text-align: right;\">\n",
       "      <th></th>\n",
       "      <th>team_id</th>\n",
       "      <th>team_name</th>\n",
       "      <th>league_id</th>\n",
       "    </tr>\n",
       "  </thead>\n",
       "  <tbody>\n",
       "    <tr>\n",
       "      <th>0</th>\n",
       "      <td>0</td>\n",
       "      <td>botafogo_rj</td>\n",
       "      <td>0</td>\n",
       "    </tr>\n",
       "    <tr>\n",
       "      <th>1</th>\n",
       "      <td>1</td>\n",
       "      <td>palmeiras</td>\n",
       "      <td>0</td>\n",
       "    </tr>\n",
       "    <tr>\n",
       "      <th>2</th>\n",
       "      <td>2</td>\n",
       "      <td>bragantino</td>\n",
       "      <td>0</td>\n",
       "    </tr>\n",
       "    <tr>\n",
       "      <th>3</th>\n",
       "      <td>3</td>\n",
       "      <td>gremio</td>\n",
       "      <td>0</td>\n",
       "    </tr>\n",
       "    <tr>\n",
       "      <th>4</th>\n",
       "      <td>4</td>\n",
       "      <td>flamengo</td>\n",
       "      <td>0</td>\n",
       "    </tr>\n",
       "    <tr>\n",
       "      <th>...</th>\n",
       "      <td>...</td>\n",
       "      <td>...</td>\n",
       "      <td>...</td>\n",
       "    </tr>\n",
       "    <tr>\n",
       "      <th>93</th>\n",
       "      <td>93</td>\n",
       "      <td>cadiz</td>\n",
       "      <td>4</td>\n",
       "    </tr>\n",
       "    <tr>\n",
       "      <th>94</th>\n",
       "      <td>94</td>\n",
       "      <td>mallorca</td>\n",
       "      <td>4</td>\n",
       "    </tr>\n",
       "    <tr>\n",
       "      <th>95</th>\n",
       "      <td>95</td>\n",
       "      <td>celta_vigo</td>\n",
       "      <td>4</td>\n",
       "    </tr>\n",
       "    <tr>\n",
       "      <th>96</th>\n",
       "      <td>96</td>\n",
       "      <td>granada</td>\n",
       "      <td>4</td>\n",
       "    </tr>\n",
       "    <tr>\n",
       "      <th>97</th>\n",
       "      <td>97</td>\n",
       "      <td>almeria</td>\n",
       "      <td>4</td>\n",
       "    </tr>\n",
       "  </tbody>\n",
       "</table>\n",
       "<p>98 rows × 3 columns</p>\n",
       "</div>"
      ],
      "text/plain": [
       "    team_id    team_name  league_id\n",
       "0         0  botafogo_rj          0\n",
       "1         1    palmeiras          0\n",
       "2         2   bragantino          0\n",
       "3         3       gremio          0\n",
       "4         4     flamengo          0\n",
       "..      ...          ...        ...\n",
       "93       93        cadiz          4\n",
       "94       94     mallorca          4\n",
       "95       95   celta_vigo          4\n",
       "96       96      granada          4\n",
       "97       97      almeria          4\n",
       "\n",
       "[98 rows x 3 columns]"
      ]
     },
     "execution_count": 137,
     "metadata": {},
     "output_type": "execute_result"
    }
   ],
   "source": [
    "teams_id"
   ]
  },
  {
   "cell_type": "code",
   "execution_count": 138,
   "metadata": {},
   "outputs": [],
   "source": [
    "historico = historico.merge(teams_id, left_on= 'team', right_on= 'team_name', how='left').drop(['team_name', 'league_id'], axis= 1)\n",
    "historico = historico.rename(columns= {'team_id': 'home_team_id'})\n",
    "historico = historico.merge(teams_id, left_on= 'opponent', right_on= 'team_name', how='left').drop(['team_name',], axis= 1)\n",
    "historico = historico.rename(columns= {'team_id': 'away_team_id'})\n"
   ]
  },
  {
   "cell_type": "code",
   "execution_count": 139,
   "metadata": {},
   "outputs": [
    {
     "data": {
      "text/html": [
       "<div>\n",
       "<style scoped>\n",
       "    .dataframe tbody tr th:only-of-type {\n",
       "        vertical-align: middle;\n",
       "    }\n",
       "\n",
       "    .dataframe tbody tr th {\n",
       "        vertical-align: top;\n",
       "    }\n",
       "\n",
       "    .dataframe thead th {\n",
       "        text-align: right;\n",
       "    }\n",
       "</style>\n",
       "<table border=\"1\" class=\"dataframe\">\n",
       "  <thead>\n",
       "    <tr style=\"text-align: right;\">\n",
       "      <th></th>\n",
       "      <th>game_id</th>\n",
       "      <th>date</th>\n",
       "      <th>comp</th>\n",
       "      <th>round</th>\n",
       "      <th>venue</th>\n",
       "      <th>result</th>\n",
       "      <th>gf</th>\n",
       "      <th>ga</th>\n",
       "      <th>opponent</th>\n",
       "      <th>xg</th>\n",
       "      <th>...</th>\n",
       "      <th>fls</th>\n",
       "      <th>off</th>\n",
       "      <th>recov</th>\n",
       "      <th>season</th>\n",
       "      <th>team</th>\n",
       "      <th>days</th>\n",
       "      <th>time_diff</th>\n",
       "      <th>home_team_id</th>\n",
       "      <th>away_team_id</th>\n",
       "      <th>league_id</th>\n",
       "    </tr>\n",
       "  </thead>\n",
       "  <tbody>\n",
       "    <tr>\n",
       "      <th>0</th>\n",
       "      <td>0</td>\n",
       "      <td>2023-04-15</td>\n",
       "      <td>Série A</td>\n",
       "      <td>1</td>\n",
       "      <td>Home</td>\n",
       "      <td>W</td>\n",
       "      <td>2</td>\n",
       "      <td>1</td>\n",
       "      <td>sao_paulo</td>\n",
       "      <td>0.9</td>\n",
       "      <td>...</td>\n",
       "      <td>20</td>\n",
       "      <td>2</td>\n",
       "      <td>57</td>\n",
       "      <td>2023</td>\n",
       "      <td>botafogo_rj</td>\n",
       "      <td>208</td>\n",
       "      <td>0.812207</td>\n",
       "      <td>0</td>\n",
       "      <td>8</td>\n",
       "      <td>0</td>\n",
       "    </tr>\n",
       "    <tr>\n",
       "      <th>1</th>\n",
       "      <td>1</td>\n",
       "      <td>2023-04-24</td>\n",
       "      <td>Série A</td>\n",
       "      <td>2</td>\n",
       "      <td>Away</td>\n",
       "      <td>W</td>\n",
       "      <td>2</td>\n",
       "      <td>1</td>\n",
       "      <td>bahia</td>\n",
       "      <td>0.2</td>\n",
       "      <td>...</td>\n",
       "      <td>9</td>\n",
       "      <td>5</td>\n",
       "      <td>54</td>\n",
       "      <td>2023</td>\n",
       "      <td>botafogo_rj</td>\n",
       "      <td>199</td>\n",
       "      <td>0.819550</td>\n",
       "      <td>0</td>\n",
       "      <td>14</td>\n",
       "      <td>0</td>\n",
       "    </tr>\n",
       "    <tr>\n",
       "      <th>2</th>\n",
       "      <td>2</td>\n",
       "      <td>2023-04-30</td>\n",
       "      <td>Série A</td>\n",
       "      <td>3</td>\n",
       "      <td>Away</td>\n",
       "      <td>W</td>\n",
       "      <td>3</td>\n",
       "      <td>2</td>\n",
       "      <td>flamengo</td>\n",
       "      <td>1.9</td>\n",
       "      <td>...</td>\n",
       "      <td>12</td>\n",
       "      <td>1</td>\n",
       "      <td>42</td>\n",
       "      <td>2023</td>\n",
       "      <td>botafogo_rj</td>\n",
       "      <td>193</td>\n",
       "      <td>0.824482</td>\n",
       "      <td>0</td>\n",
       "      <td>4</td>\n",
       "      <td>0</td>\n",
       "    </tr>\n",
       "    <tr>\n",
       "      <th>3</th>\n",
       "      <td>3</td>\n",
       "      <td>2023-05-07</td>\n",
       "      <td>Série A</td>\n",
       "      <td>4</td>\n",
       "      <td>Home</td>\n",
       "      <td>W</td>\n",
       "      <td>2</td>\n",
       "      <td>0</td>\n",
       "      <td>atl_mineiro</td>\n",
       "      <td>2.0</td>\n",
       "      <td>...</td>\n",
       "      <td>14</td>\n",
       "      <td>0</td>\n",
       "      <td>43</td>\n",
       "      <td>2023</td>\n",
       "      <td>botafogo_rj</td>\n",
       "      <td>186</td>\n",
       "      <td>0.830274</td>\n",
       "      <td>0</td>\n",
       "      <td>5</td>\n",
       "      <td>0</td>\n",
       "    </tr>\n",
       "    <tr>\n",
       "      <th>4</th>\n",
       "      <td>4</td>\n",
       "      <td>2023-05-11</td>\n",
       "      <td>Série A</td>\n",
       "      <td>5</td>\n",
       "      <td>Home</td>\n",
       "      <td>W</td>\n",
       "      <td>3</td>\n",
       "      <td>0</td>\n",
       "      <td>corinthians</td>\n",
       "      <td>2.6</td>\n",
       "      <td>...</td>\n",
       "      <td>12</td>\n",
       "      <td>0</td>\n",
       "      <td>54</td>\n",
       "      <td>2023</td>\n",
       "      <td>botafogo_rj</td>\n",
       "      <td>182</td>\n",
       "      <td>0.833601</td>\n",
       "      <td>0</td>\n",
       "      <td>12</td>\n",
       "      <td>0</td>\n",
       "    </tr>\n",
       "  </tbody>\n",
       "</table>\n",
       "<p>5 rows × 41 columns</p>\n",
       "</div>"
      ],
      "text/plain": [
       "   game_id       date     comp  round venue result  gf  ga     opponent   xg  \\\n",
       "0        0 2023-04-15  Série A      1  Home      W   2   1    sao_paulo  0.9   \n",
       "1        1 2023-04-24  Série A      2  Away      W   2   1        bahia  0.2   \n",
       "2        2 2023-04-30  Série A      3  Away      W   3   2     flamengo  1.9   \n",
       "3        3 2023-05-07  Série A      4  Home      W   2   0  atl_mineiro  2.0   \n",
       "4        4 2023-05-11  Série A      5  Home      W   3   0  corinthians  2.6   \n",
       "\n",
       "   ...  fls  off  recov  season         team  days  time_diff  home_team_id  \\\n",
       "0  ...   20    2     57    2023  botafogo_rj   208   0.812207             0   \n",
       "1  ...    9    5     54    2023  botafogo_rj   199   0.819550             0   \n",
       "2  ...   12    1     42    2023  botafogo_rj   193   0.824482             0   \n",
       "3  ...   14    0     43    2023  botafogo_rj   186   0.830274             0   \n",
       "4  ...   12    0     54    2023  botafogo_rj   182   0.833601             0   \n",
       "\n",
       "   away_team_id  league_id  \n",
       "0             8          0  \n",
       "1            14          0  \n",
       "2             4          0  \n",
       "3             5          0  \n",
       "4            12          0  \n",
       "\n",
       "[5 rows x 41 columns]"
      ]
     },
     "execution_count": 139,
     "metadata": {},
     "output_type": "execute_result"
    }
   ],
   "source": [
    "historico.head()"
   ]
  },
  {
   "cell_type": "markdown",
   "metadata": {},
   "source": [
    "### Divisão e Export"
   ]
  },
  {
   "cell_type": "code",
   "execution_count": 140,
   "metadata": {},
   "outputs": [],
   "source": [
    "teams_id.to_excel(f'../datasets/xlsx/teams_id(tratado).xlsx')"
   ]
  },
  {
   "cell_type": "code",
   "execution_count": 141,
   "metadata": {},
   "outputs": [],
   "source": [
    "historico.to_excel(f'../datasets/xlsx/historico(tratado).xlsx')"
   ]
  },
  {
   "cell_type": "markdown",
   "metadata": {},
   "source": [
    "# TABELA"
   ]
  },
  {
   "cell_type": "markdown",
   "metadata": {},
   "source": [
    "### Data Cleaning"
   ]
  },
  {
   "cell_type": "code",
   "execution_count": 142,
   "metadata": {},
   "outputs": [],
   "source": [
    "tabela.drop(\n",
    "  ['attendance', 'top team scorer', 'goalkeeper', 'notes', 'last 5'], \n",
    "  axis= 'columns', inplace= True)"
   ]
  },
  {
   "cell_type": "code",
   "execution_count": 143,
   "metadata": {},
   "outputs": [],
   "source": [
    "tabela['squad'] = tabela['squad'].apply(remover_acentos)\n",
    "tabela['squad'] = [linha.lower() for linha in tabela['squad']]\n",
    "tabela['squad'] = tabela['squad'].str.replace(' ', '_')\n",
    "tabela['squad'] = tabela['squad'].str.replace('(', '')\n",
    "tabela['squad'] = tabela['squad'].str.replace(')', '')\n",
    "tabela['squad'] = tabela['squad'].str.replace(')', '')\n",
    "\n",
    "# Especifico para o brasileirão\n",
    "tabela['squad'] = tabela['squad'].str.replace('atletico', 'atl')\n",
    "\n",
    "# Especifico para a Premier League\n",
    "tabela['squad'] = tabela['squad'].str.replace(\"united\", \"utd\")\n",
    "tabela['squad'] = tabela['squad'].str.replace(\"nott'ham_forest\", \"nottingham_forest\")\n",
    "\n",
    "# Especifico para a Bundesliga\n",
    "tabela['squad'] = tabela['squad'].str.replace(\"m'gladbach\", 'monchengladbach')"
   ]
  },
  {
   "cell_type": "code",
   "execution_count": 144,
   "metadata": {},
   "outputs": [
    {
     "data": {
      "text/plain": [
       "[]"
      ]
     },
     "execution_count": 144,
     "metadata": {},
     "output_type": "execute_result"
    }
   ],
   "source": [
    "[item for item in tabela['squad'].unique() if item not in historico['opponent'].unique()]"
   ]
  },
  {
   "cell_type": "code",
   "execution_count": 145,
   "metadata": {},
   "outputs": [
    {
     "data": {
      "text/plain": [
       "array(['sao_paulo', 'bahia', 'flamengo', 'atl_mineiro', 'corinthians',\n",
       "       'goias', 'fluminense', 'america_mg', 'ath_paranaense', 'fortaleza',\n",
       "       'cuiaba', 'palmeiras', 'vasco_da_gama', 'gremio', 'bragantino',\n",
       "       'santos', 'coritiba', 'cruzeiro', 'internacional', 'botafogo_rj',\n",
       "       'burnley', 'newcastle_utd', 'sheffield_utd', 'fulham', 'west_ham',\n",
       "       'nottingham_forest', 'wolves', 'arsenal', 'brighton',\n",
       "       'manchester_utd', 'bournemouth', 'brentford', 'liverpool',\n",
       "       'luton_town', 'crystal_palace', 'chelsea', 'aston_villa',\n",
       "       'tottenham', 'everton', 'manchester_city', 'monza', 'cagliari',\n",
       "       'fiorentina', 'milan', 'empoli', 'sassuolo', 'salernitana',\n",
       "       'bologna', 'torino', 'roma', 'atalanta', 'udinese', 'lazio',\n",
       "       'lecce', 'hellas_verona', 'inter', 'genoa', 'juventus', 'napoli',\n",
       "       'frosinone', 'rb_leipzig', 'monchengladbach', 'darmstadt_98',\n",
       "       'bayern_munich', 'heidenheim', 'mainz_05', 'koln', 'wolfsburg',\n",
       "       'freiburg', 'hoffenheim', 'werder_bremen', 'augsburg',\n",
       "       'leverkusen', 'bochum', 'dortmund', 'union_berlin',\n",
       "       'eint_frankfurt', 'stuttgart', 'real_sociedad', 'getafe',\n",
       "       'sevilla', 'las_palmas', 'granada', 'mallorca', 'villarreal',\n",
       "       'real_madrid', 'cadiz', 'almeria', 'celta_vigo', 'osasuna',\n",
       "       'athletic_club', 'atl_madrid', 'girona', 'barcelona',\n",
       "       'rayo_vallecano', 'betis', 'valencia', 'alaves'], dtype=object)"
      ]
     },
     "execution_count": 145,
     "metadata": {},
     "output_type": "execute_result"
    }
   ],
   "source": [
    "historico['opponent'].unique()"
   ]
  },
  {
   "cell_type": "markdown",
   "metadata": {},
   "source": [
    "### Feature Engineering"
   ]
  },
  {
   "cell_type": "code",
   "execution_count": 146,
   "metadata": {},
   "outputs": [],
   "source": [
    "tabela['xg_conv'] = tabela['gf'] - tabela['xg']      #Conversão de xG\n",
    "tabela['xga_conv'] = tabela['ga'] - tabela['xga']    #Conversão de xGA\n",
    "tabela['att_rating'] = (tabela['gf']/tabela['mp'])/(tabela['gf']/tabela['mp']).mean()  #Media de gols por partida dividido pelo da liga\n",
    "tabela['def_rating'] = (tabela['ga']/tabela['mp'])/(tabela['gf']/tabela['mp']).mean()  #Media de gols tomados por partida dividido pelo da liga\n",
    "tabela['naive_rating'] = tabela['att_rating']*tabela['def_rating']*(tabela['gf']/tabela['mp']).mean()   #att*def*media da liga                                       #sh Total"
   ]
  },
  {
   "cell_type": "code",
   "execution_count": 147,
   "metadata": {},
   "outputs": [],
   "source": [
    "tabela = tabela.merge(teams_id, left_on= 'squad', right_on= 'team_name', how='left').drop(['squad'], axis= 1)\n"
   ]
  },
  {
   "cell_type": "markdown",
   "metadata": {},
   "source": [
    "### Divisões e Exports"
   ]
  },
  {
   "cell_type": "code",
   "execution_count": 148,
   "metadata": {},
   "outputs": [],
   "source": [
    "tabela.to_excel(f'../datasets/xlsx/tabela(tratado).xlsx', index= False)"
   ]
  },
  {
   "cell_type": "markdown",
   "metadata": {},
   "source": [
    "# RODADAS"
   ]
  },
  {
   "cell_type": "markdown",
   "metadata": {},
   "source": [
    "### Data Cleaning"
   ]
  },
  {
   "cell_type": "code",
   "execution_count": 149,
   "metadata": {},
   "outputs": [],
   "source": [
    "rodadas = rodadas.loc[rodadas['home'].notna()]"
   ]
  },
  {
   "cell_type": "code",
   "execution_count": 150,
   "metadata": {},
   "outputs": [],
   "source": [
    "rodadas.drop(['day', 'date', 'time', 'attendance', 'venue', 'referee', 'match report', 'notes'], axis= 1, inplace= True)"
   ]
  },
  {
   "cell_type": "code",
   "execution_count": 151,
   "metadata": {},
   "outputs": [],
   "source": [
    "rodadas['home'] = rodadas['home'].apply(remover_acentos)\n",
    "rodadas['home'] = [linha.lower() for linha in rodadas['home']]\n",
    "rodadas['home'] = rodadas['home'].str.replace(' ', '_')\n",
    "rodadas['home'] = rodadas['home'].str.replace('(', '')\n",
    "rodadas['home'] = rodadas['home'].str.replace(')', '')\n",
    "rodadas['home'] = rodadas['home'].str.replace(')', '')\n",
    "\n",
    "# Especifico para o brasileirão\n",
    "rodadas['home'] = rodadas['home'].str.replace('atletico', 'atl')\n",
    "\n",
    "# Especifico para a Premier League\n",
    "rodadas['home'] = rodadas['home'].str.replace(\"nott'ham_forest\", \"nottingham_forest\")\n",
    "\n",
    "# Especifico para a Bundesliga\n",
    "rodadas['home'] = rodadas['home'].str.replace(\"m'gladbach\", 'monchengladbach')"
   ]
  },
  {
   "cell_type": "code",
   "execution_count": 152,
   "metadata": {},
   "outputs": [],
   "source": [
    "rodadas['away'] = rodadas['away'].apply(remover_acentos)\n",
    "rodadas['away'] = [linha.lower() for linha in rodadas['away']]\n",
    "rodadas['away'] = rodadas['away'].str.replace(' ', '_')\n",
    "rodadas['away'] = rodadas['away'].str.replace('(', '')\n",
    "rodadas['away'] = rodadas['away'].str.replace(')', '')\n",
    "rodadas['away'] = rodadas['away'].str.replace(')', '')\n",
    "\n",
    "# Especifico para o brasileirão\n",
    "rodadas['away'] = rodadas['away'].str.replace('atletico', 'atl')\n",
    "\n",
    "# Especifico para a Premier League\n",
    "rodadas['away'] = rodadas['away'].str.replace(\"nott'ham_forest\", \"nottingham_forest\")\n",
    "\n",
    "# Especifico para a Bundesliga\n",
    "rodadas['away'] = rodadas['away'].str.replace(\"m'gladbach\", 'monchengladbach')"
   ]
  },
  {
   "cell_type": "code",
   "execution_count": 153,
   "metadata": {},
   "outputs": [
    {
     "data": {
      "text/plain": [
       "[]"
      ]
     },
     "execution_count": 153,
     "metadata": {},
     "output_type": "execute_result"
    }
   ],
   "source": [
    "[item for item in rodadas['home'].unique() if item not in historico['opponent'].unique()]"
   ]
  },
  {
   "cell_type": "code",
   "execution_count": 154,
   "metadata": {},
   "outputs": [],
   "source": [
    "rodadas[['gols_casa', 'gols_fora']] = rodadas['score'].str.split('–', expand=True)\n",
    "rodadas.drop(['score'], axis= 1, inplace= True)\n",
    "rodadas.insert(5, 'gols_casa', rodadas.pop('gols_casa'))\n",
    "rodadas.insert(6, 'gols_fora', rodadas.pop('gols_fora'))\n",
    "\n",
    "rodadas = rodadas.rename(columns={'xg.1': 'xg_fora', 'xg': 'xg_casa'})\n",
    "\n",
    "rodadas['gols_casa'] = rodadas['gols_casa'].apply(convert_to_int)\n",
    "rodadas['gols_fora'] = rodadas['gols_fora'].apply(convert_to_int)\n"
   ]
  },
  {
   "cell_type": "code",
   "execution_count": 155,
   "metadata": {},
   "outputs": [],
   "source": [
    "rodadas = rodadas.merge(teams_id, left_on= 'home', right_on= 'team_name', how='left').rename(columns={'team_id': 'home_id'}).drop(['team_name', 'league_id'], axis= 1)\n",
    "rodadas = rodadas.merge(teams_id, left_on= 'away', right_on= 'team_name', how='left').rename(columns={'team_id': 'away_id'}).drop(['team_name'], axis= 1)"
   ]
  },
  {
   "cell_type": "code",
   "execution_count": 156,
   "metadata": {},
   "outputs": [
    {
     "data": {
      "text/html": [
       "<div>\n",
       "<style scoped>\n",
       "    .dataframe tbody tr th:only-of-type {\n",
       "        vertical-align: middle;\n",
       "    }\n",
       "\n",
       "    .dataframe tbody tr th {\n",
       "        vertical-align: top;\n",
       "    }\n",
       "\n",
       "    .dataframe thead th {\n",
       "        text-align: right;\n",
       "    }\n",
       "</style>\n",
       "<table border=\"1\" class=\"dataframe\">\n",
       "  <thead>\n",
       "    <tr style=\"text-align: right;\">\n",
       "      <th></th>\n",
       "      <th>wk</th>\n",
       "      <th>home</th>\n",
       "      <th>xg_casa</th>\n",
       "      <th>xg_fora</th>\n",
       "      <th>away</th>\n",
       "      <th>gols_casa</th>\n",
       "      <th>gols_fora</th>\n",
       "      <th>league_name</th>\n",
       "      <th>home_id</th>\n",
       "      <th>away_id</th>\n",
       "      <th>league_id</th>\n",
       "    </tr>\n",
       "  </thead>\n",
       "  <tbody>\n",
       "    <tr>\n",
       "      <th>0</th>\n",
       "      <td>1.0</td>\n",
       "      <td>america_mg</td>\n",
       "      <td>1.1</td>\n",
       "      <td>3.1</td>\n",
       "      <td>fluminense</td>\n",
       "      <td>0</td>\n",
       "      <td>3</td>\n",
       "      <td>Brasileirao</td>\n",
       "      <td>19</td>\n",
       "      <td>7</td>\n",
       "      <td>0</td>\n",
       "    </tr>\n",
       "    <tr>\n",
       "      <th>1</th>\n",
       "      <td>1.0</td>\n",
       "      <td>palmeiras</td>\n",
       "      <td>3.0</td>\n",
       "      <td>1.0</td>\n",
       "      <td>cuiaba</td>\n",
       "      <td>2</td>\n",
       "      <td>1</td>\n",
       "      <td>Brasileirao</td>\n",
       "      <td>1</td>\n",
       "      <td>11</td>\n",
       "      <td>0</td>\n",
       "    </tr>\n",
       "    <tr>\n",
       "      <th>2</th>\n",
       "      <td>1.0</td>\n",
       "      <td>bragantino</td>\n",
       "      <td>2.0</td>\n",
       "      <td>0.7</td>\n",
       "      <td>bahia</td>\n",
       "      <td>2</td>\n",
       "      <td>1</td>\n",
       "      <td>Brasileirao</td>\n",
       "      <td>2</td>\n",
       "      <td>14</td>\n",
       "      <td>0</td>\n",
       "    </tr>\n",
       "    <tr>\n",
       "      <th>3</th>\n",
       "      <td>1.0</td>\n",
       "      <td>botafogo_rj</td>\n",
       "      <td>0.9</td>\n",
       "      <td>2.0</td>\n",
       "      <td>sao_paulo</td>\n",
       "      <td>2</td>\n",
       "      <td>1</td>\n",
       "      <td>Brasileirao</td>\n",
       "      <td>0</td>\n",
       "      <td>8</td>\n",
       "      <td>0</td>\n",
       "    </tr>\n",
       "    <tr>\n",
       "      <th>4</th>\n",
       "      <td>1.0</td>\n",
       "      <td>ath_paranaense</td>\n",
       "      <td>0.8</td>\n",
       "      <td>1.0</td>\n",
       "      <td>goias</td>\n",
       "      <td>2</td>\n",
       "      <td>0</td>\n",
       "      <td>Brasileirao</td>\n",
       "      <td>6</td>\n",
       "      <td>17</td>\n",
       "      <td>0</td>\n",
       "    </tr>\n",
       "  </tbody>\n",
       "</table>\n",
       "</div>"
      ],
      "text/plain": [
       "    wk            home  xg_casa  xg_fora        away gols_casa gols_fora  \\\n",
       "0  1.0      america_mg      1.1      3.1  fluminense         0         3   \n",
       "1  1.0       palmeiras      3.0      1.0      cuiaba         2         1   \n",
       "2  1.0      bragantino      2.0      0.7       bahia         2         1   \n",
       "3  1.0     botafogo_rj      0.9      2.0   sao_paulo         2         1   \n",
       "4  1.0  ath_paranaense      0.8      1.0       goias         2         0   \n",
       "\n",
       "   league_name  home_id  away_id  league_id  \n",
       "0  Brasileirao       19        7          0  \n",
       "1  Brasileirao        1       11          0  \n",
       "2  Brasileirao        2       14          0  \n",
       "3  Brasileirao        0        8          0  \n",
       "4  Brasileirao        6       17          0  "
      ]
     },
     "execution_count": 156,
     "metadata": {},
     "output_type": "execute_result"
    }
   ],
   "source": [
    "rodadas.head()"
   ]
  },
  {
   "cell_type": "code",
   "execution_count": 157,
   "metadata": {},
   "outputs": [],
   "source": [
    "rodadas = rodadas[['wk', 'xg_casa', 'xg_fora', 'home', 'gols_casa', 'gols_fora', 'away', 'league_name', 'home_id', 'away_id', 'league_id']]"
   ]
  },
  {
   "cell_type": "markdown",
   "metadata": {},
   "source": [
    "### Divisão e Export"
   ]
  },
  {
   "cell_type": "code",
   "execution_count": 158,
   "metadata": {},
   "outputs": [],
   "source": [
    "rodadas.to_excel(f'../datasets/xlsx/rodadas(tratado).xlsx', index= False)"
   ]
  },
  {
   "cell_type": "markdown",
   "metadata": {},
   "source": [
    "# ELENCOS"
   ]
  },
  {
   "cell_type": "code",
   "execution_count": 159,
   "metadata": {},
   "outputs": [],
   "source": [
    "elencos = elencos.drop(['nation', 'age', 'g+a', 'g-pk', 'pk', 'pkatt', 'npxg+xag', 'gls.1', 'ast.1', 'g+a.1',\n",
    "                        'g-pk.1', 'g+a-pk', 'xg.1', 'xag.1', 'xg+xag', 'npxg.1', 'npxg+xag.1', 'matches'], axis= 1)"
   ]
  },
  {
   "cell_type": "code",
   "execution_count": 160,
   "metadata": {},
   "outputs": [],
   "source": [
    "elencos['team'] = elencos['team'].apply(remover_acentos)\n",
    "elencos['team'] = [linha.lower() for linha in elencos['team']]\n",
    "elencos['team'] = elencos['team'].str.replace(' ', '_')\n",
    "elencos['team'] = elencos['team'].str.replace('(', '')\n",
    "elencos['team'] = elencos['team'].str.replace(')', '')\n",
    "elencos['team'] = elencos['team'].str.replace(')', '')\n",
    "\n",
    "# Especifico para o brasileirão\n",
    "elencos['team'] = elencos['team'].str.replace('atletico', 'atl')\n",
    "elencos['team'] = elencos['team'].str.replace('athletico', 'ath')\n",
    "elencos['team'] = elencos['team'].str.replace('atletico', 'atl')\n",
    "\n",
    "# Especifico para a Premier League\n",
    "elencos['team'] = elencos['team'].str.replace('_hotspur', '')\n",
    "elencos['team'] = elencos['team'].str.replace('rhampton_wanderers', 's')\n",
    "elencos['team'] = elencos['team'].str.replace('united', 'utd')\n",
    "elencos['team'] = elencos['team'].str.replace('west_ham_utd', 'west_ham')\n",
    "elencos['team'] = elencos['team'].str.replace('_and_hove_albion', '')\n",
    "elencos['team'] = elencos['team'].str.replace('wich_albion', '')\n",
    "elencos['team'] = elencos['team'].str.replace('_town', '')\n",
    "elencos['team'] = elencos['team'].str.replace('luton', 'luton_town')\n",
    "elencos['team'] = elencos['team'].str.replace(\"nott'ham_forest\", \"nottingham_forest\")\n",
    "\n",
    "# Especifico para a Serie A TIM\n",
    "elencos['team'] = elencos['team'].str.replace('nazionale', '')\n",
    "\n",
    "elencos['team'] = elencos['team'].str.replace(\"m'gladbach\", 'monchengladbach')\n",
    "elencos['team'] = elencos['team'].str.replace(\"bayer_leverkusen\", 'leverkusen')\n",
    "elencos['team'] = elencos['team'].str.replace(\"eintracht_frankfurt\", 'eint_frankfurt')\n",
    "\n",
    "# Especifico para a La Liga\n",
    "elencos['team'] = elencos['team'].str.replace(\"real_betis\", 'betis')"
   ]
  },
  {
   "cell_type": "code",
   "execution_count": 161,
   "metadata": {},
   "outputs": [
    {
     "data": {
      "text/plain": [
       "[]"
      ]
     },
     "execution_count": 161,
     "metadata": {},
     "output_type": "execute_result"
    }
   ],
   "source": [
    "[item for item in elencos['team'].unique() if item not in historico['opponent'].unique()]"
   ]
  },
  {
   "cell_type": "code",
   "execution_count": 162,
   "metadata": {},
   "outputs": [],
   "source": [
    "elencos = elencos.merge(teams_id, left_on= 'team', right_on= 'team_name', how='left').drop(['team_name'], axis= 1)"
   ]
  },
  {
   "cell_type": "code",
   "execution_count": 165,
   "metadata": {},
   "outputs": [
    {
     "data": {
      "text/html": [
       "<div>\n",
       "<style scoped>\n",
       "    .dataframe tbody tr th:only-of-type {\n",
       "        vertical-align: middle;\n",
       "    }\n",
       "\n",
       "    .dataframe tbody tr th {\n",
       "        vertical-align: top;\n",
       "    }\n",
       "\n",
       "    .dataframe thead th {\n",
       "        text-align: right;\n",
       "    }\n",
       "</style>\n",
       "<table border=\"1\" class=\"dataframe\">\n",
       "  <thead>\n",
       "    <tr style=\"text-align: right;\">\n",
       "      <th></th>\n",
       "      <th>player</th>\n",
       "      <th>pos</th>\n",
       "      <th>mp</th>\n",
       "      <th>starts</th>\n",
       "      <th>min</th>\n",
       "      <th>90s</th>\n",
       "      <th>gls</th>\n",
       "      <th>ast</th>\n",
       "      <th>crdy</th>\n",
       "      <th>crdr</th>\n",
       "      <th>...</th>\n",
       "      <th>xag</th>\n",
       "      <th>prgc</th>\n",
       "      <th>prgp</th>\n",
       "      <th>prgr</th>\n",
       "      <th>season</th>\n",
       "      <th>team</th>\n",
       "      <th>league</th>\n",
       "      <th>coach</th>\n",
       "      <th>team_id</th>\n",
       "      <th>league_id</th>\n",
       "    </tr>\n",
       "  </thead>\n",
       "  <tbody>\n",
       "    <tr>\n",
       "      <th>0</th>\n",
       "      <td>Lucas Perri</td>\n",
       "      <td>GK</td>\n",
       "      <td>32</td>\n",
       "      <td>32</td>\n",
       "      <td>2835.0</td>\n",
       "      <td>31.5</td>\n",
       "      <td>0.0</td>\n",
       "      <td>0.0</td>\n",
       "      <td>1.0</td>\n",
       "      <td>0.0</td>\n",
       "      <td>...</td>\n",
       "      <td>0.1</td>\n",
       "      <td>0.0</td>\n",
       "      <td>2.0</td>\n",
       "      <td>0.0</td>\n",
       "      <td>2023</td>\n",
       "      <td>botafogo_rj</td>\n",
       "      <td>Brasileirao</td>\n",
       "      <td>Lúcio Flávio</td>\n",
       "      <td>0</td>\n",
       "      <td>0</td>\n",
       "    </tr>\n",
       "    <tr>\n",
       "      <th>1</th>\n",
       "      <td>Adryelson</td>\n",
       "      <td>DF</td>\n",
       "      <td>30</td>\n",
       "      <td>30</td>\n",
       "      <td>2562.0</td>\n",
       "      <td>28.5</td>\n",
       "      <td>1.0</td>\n",
       "      <td>1.0</td>\n",
       "      <td>5.0</td>\n",
       "      <td>1.0</td>\n",
       "      <td>...</td>\n",
       "      <td>0.3</td>\n",
       "      <td>2.0</td>\n",
       "      <td>49.0</td>\n",
       "      <td>3.0</td>\n",
       "      <td>2023</td>\n",
       "      <td>botafogo_rj</td>\n",
       "      <td>Brasileirao</td>\n",
       "      <td>Lúcio Flávio</td>\n",
       "      <td>0</td>\n",
       "      <td>0</td>\n",
       "    </tr>\n",
       "    <tr>\n",
       "      <th>2</th>\n",
       "      <td>Víctor Cuesta</td>\n",
       "      <td>DF</td>\n",
       "      <td>29</td>\n",
       "      <td>29</td>\n",
       "      <td>2610.0</td>\n",
       "      <td>29.0</td>\n",
       "      <td>1.0</td>\n",
       "      <td>1.0</td>\n",
       "      <td>9.0</td>\n",
       "      <td>0.0</td>\n",
       "      <td>...</td>\n",
       "      <td>0.7</td>\n",
       "      <td>7.0</td>\n",
       "      <td>86.0</td>\n",
       "      <td>6.0</td>\n",
       "      <td>2023</td>\n",
       "      <td>botafogo_rj</td>\n",
       "      <td>Brasileirao</td>\n",
       "      <td>Lúcio Flávio</td>\n",
       "      <td>0</td>\n",
       "      <td>0</td>\n",
       "    </tr>\n",
       "    <tr>\n",
       "      <th>3</th>\n",
       "      <td>Marlon Freitas</td>\n",
       "      <td>MF</td>\n",
       "      <td>30</td>\n",
       "      <td>27</td>\n",
       "      <td>2440.0</td>\n",
       "      <td>27.1</td>\n",
       "      <td>1.0</td>\n",
       "      <td>1.0</td>\n",
       "      <td>3.0</td>\n",
       "      <td>0.0</td>\n",
       "      <td>...</td>\n",
       "      <td>1.6</td>\n",
       "      <td>24.0</td>\n",
       "      <td>176.0</td>\n",
       "      <td>16.0</td>\n",
       "      <td>2023</td>\n",
       "      <td>botafogo_rj</td>\n",
       "      <td>Brasileirao</td>\n",
       "      <td>Lúcio Flávio</td>\n",
       "      <td>0</td>\n",
       "      <td>0</td>\n",
       "    </tr>\n",
       "    <tr>\n",
       "      <th>4</th>\n",
       "      <td>Carlos Eduardo</td>\n",
       "      <td>MF</td>\n",
       "      <td>29</td>\n",
       "      <td>27</td>\n",
       "      <td>2352.0</td>\n",
       "      <td>26.1</td>\n",
       "      <td>5.0</td>\n",
       "      <td>5.0</td>\n",
       "      <td>5.0</td>\n",
       "      <td>0.0</td>\n",
       "      <td>...</td>\n",
       "      <td>5.5</td>\n",
       "      <td>28.0</td>\n",
       "      <td>139.0</td>\n",
       "      <td>80.0</td>\n",
       "      <td>2023</td>\n",
       "      <td>botafogo_rj</td>\n",
       "      <td>Brasileirao</td>\n",
       "      <td>Lúcio Flávio</td>\n",
       "      <td>0</td>\n",
       "      <td>0</td>\n",
       "    </tr>\n",
       "  </tbody>\n",
       "</table>\n",
       "<p>5 rows × 22 columns</p>\n",
       "</div>"
      ],
      "text/plain": [
       "           player pos  mp  starts     min   90s  gls  ast  crdy  crdr  ...  \\\n",
       "0     Lucas Perri  GK  32      32  2835.0  31.5  0.0  0.0   1.0   0.0  ...   \n",
       "1       Adryelson  DF  30      30  2562.0  28.5  1.0  1.0   5.0   1.0  ...   \n",
       "2   Víctor Cuesta  DF  29      29  2610.0  29.0  1.0  1.0   9.0   0.0  ...   \n",
       "3  Marlon Freitas  MF  30      27  2440.0  27.1  1.0  1.0   3.0   0.0  ...   \n",
       "4  Carlos Eduardo  MF  29      27  2352.0  26.1  5.0  5.0   5.0   0.0  ...   \n",
       "\n",
       "   xag  prgc   prgp  prgr  season         team       league         coach  \\\n",
       "0  0.1   0.0    2.0   0.0    2023  botafogo_rj  Brasileirao  Lúcio Flávio   \n",
       "1  0.3   2.0   49.0   3.0    2023  botafogo_rj  Brasileirao  Lúcio Flávio   \n",
       "2  0.7   7.0   86.0   6.0    2023  botafogo_rj  Brasileirao  Lúcio Flávio   \n",
       "3  1.6  24.0  176.0  16.0    2023  botafogo_rj  Brasileirao  Lúcio Flávio   \n",
       "4  5.5  28.0  139.0  80.0    2023  botafogo_rj  Brasileirao  Lúcio Flávio   \n",
       "\n",
       "  team_id league_id  \n",
       "0       0         0  \n",
       "1       0         0  \n",
       "2       0         0  \n",
       "3       0         0  \n",
       "4       0         0  \n",
       "\n",
       "[5 rows x 22 columns]"
      ]
     },
     "execution_count": 165,
     "metadata": {},
     "output_type": "execute_result"
    }
   ],
   "source": [
    "elencos.head()"
   ]
  },
  {
   "cell_type": "code",
   "execution_count": 176,
   "metadata": {},
   "outputs": [],
   "source": [
    "elencos['pos'] = elencos['pos'].str.split(',').str[0]"
   ]
  },
  {
   "cell_type": "code",
   "execution_count": 177,
   "metadata": {},
   "outputs": [],
   "source": [
    "elencos.to_excel(f'../datasets/xlsx/elencos(tratado).xlsx', index= False)"
   ]
  }
 ],
 "metadata": {
  "kernelspec": {
   "display_name": "base",
   "language": "python",
   "name": "python3"
  },
  "language_info": {
   "codemirror_mode": {
    "name": "ipython",
    "version": 3
   },
   "file_extension": ".py",
   "mimetype": "text/x-python",
   "name": "python",
   "nbconvert_exporter": "python",
   "pygments_lexer": "ipython3",
   "version": "3.11.6"
  }
 },
 "nbformat": 4,
 "nbformat_minor": 2
}

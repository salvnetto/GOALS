{
 "cells": [
  {
   "cell_type": "code",
   "execution_count": 59,
   "metadata": {},
   "outputs": [],
   "source": [
    "import os\n",
    "import pandas as pd\n",
    "import numpy as np\n",
    "from unidecode import unidecode\n",
    "\n",
    "import warnings\n",
    "from pandas.errors import SettingWithCopyWarning\n",
    "warnings.simplefilter(action=\"ignore\", category=SettingWithCopyWarning)\n",
    "warnings.simplefilter(action='ignore', category=FutureWarning)"
   ]
  },
  {
   "cell_type": "markdown",
   "metadata": {},
   "source": [
    "# IMPORTS E FUNCOES"
   ]
  },
  {
   "cell_type": "code",
   "execution_count": 60,
   "metadata": {},
   "outputs": [],
   "source": [
    "def remover_acentos(texto):\n",
    "    return unidecode(texto)"
   ]
  },
  {
   "cell_type": "code",
   "execution_count": 61,
   "metadata": {},
   "outputs": [],
   "source": [
    "def convert_to_int(value):\n",
    "    try:\n",
    "        return int(value)\n",
    "    except (ValueError, TypeError):\n",
    "        return pd.NA"
   ]
  },
  {
   "cell_type": "code",
   "execution_count": 62,
   "metadata": {},
   "outputs": [],
   "source": [
    "historico = pd.read_excel(f'../datasets/xlsx/historico(naotratado).xlsx')\n",
    "tabela = pd.read_excel(f'../datasets/xlsx/tabela(naotratado).xlsx')\n",
    "#rodadas = pd.read_excel(f'datasets/xlsx/rounds/prox_partidas(naotratado).xlsx')"
   ]
  },
  {
   "cell_type": "code",
   "execution_count": 63,
   "metadata": {},
   "outputs": [],
   "source": [
    "season_atual = historico['season'].max()\n",
    "rodada_recente = historico[historico['season'] == season_atual]['round'].str.split(' ', expand= True)[1].astype(int).max()"
   ]
  },
  {
   "cell_type": "markdown",
   "metadata": {},
   "source": [
    "# HISTORICO"
   ]
  },
  {
   "cell_type": "markdown",
   "metadata": {},
   "source": [
    "### Data cleaning"
   ]
  },
  {
   "cell_type": "code",
   "execution_count": 64,
   "metadata": {},
   "outputs": [],
   "source": [
    "historico.drop(\n",
    "  ['notes','captain', 'formation', 'referee', 'match report', 'attendance', 'time'], \n",
    "  axis= 'columns', inplace= True)"
   ]
  },
  {
   "cell_type": "code",
   "execution_count": 65,
   "metadata": {},
   "outputs": [],
   "source": [
    "historico[['gf', 'ga']] = historico[['gf', 'ga']].astype(int)\n",
    "historico['season'] = historico['season'].astype(int)\n",
    "historico['round'] = historico['round'].str.split(' ', expand= True)[1].astype(int)"
   ]
  },
  {
   "cell_type": "code",
   "execution_count": 66,
   "metadata": {},
   "outputs": [],
   "source": [
    "historico['date'] = pd.to_datetime(historico['date'], format='%Y-%m-%d')\n",
    "historico['days'] = (max(historico['date']) - historico['date']).dt.days\n",
    "historico['time_diff'] = np.exp(-0.001*historico['days'])"
   ]
  },
  {
   "cell_type": "code",
   "execution_count": 67,
   "metadata": {},
   "outputs": [],
   "source": [
    "historico['opponent'] = historico['opponent'].apply(remover_acentos)\n",
    "historico['opponent'] = [linha.lower() for linha in historico['opponent']]\n",
    "historico['opponent'] = historico['opponent'].str.replace(' ', '_')\n",
    "historico['opponent'] = historico['opponent'].str.replace('(', '')\n",
    "historico['opponent'] = historico['opponent'].str.replace(')', '')\n",
    "historico['opponent'] = historico['opponent'].str.replace(')', '')\n",
    "\n",
    "# Especifico para o brasileirão\n",
    "historico['opponent'] = historico['opponent'].str.replace('atletico', 'atl')\n",
    "historico['team'] = historico['team'].str.replace('athletico', 'ath')\n",
    "historico['team'] = historico['team'].str.replace('atletico', 'atl')\n",
    "\n",
    "# Especifico para a Premier League\n",
    "historico['team'] = historico['team'].str.replace('_hotspur', '')\n",
    "historico['team'] = historico['team'].str.replace('rhampton_wanderers', 's')\n",
    "historico['team'] = historico['team'].str.replace('united', 'utd')\n",
    "historico['team'] = historico['team'].str.replace('west_ham_utd', 'west_ham')\n",
    "historico['team'] = historico['team'].str.replace('_and_hove_albion', '')\n",
    "historico['team'] = historico['team'].str.replace('wich_albion', '')\n",
    "historico['team'] = historico['team'].str.replace('_town', '')\n",
    "historico['team'] = historico['team'].str.replace('luton', 'luton_town')\n",
    "historico['opponent'] = historico['opponent'].str.replace('united', 'utd')\n",
    "historico['opponent'] = historico['opponent'].str.replace(\"nott'ham_forest\", \"nottingham_forest\")"
   ]
  },
  {
   "cell_type": "code",
   "execution_count": 68,
   "metadata": {},
   "outputs": [
    {
     "data": {
      "text/plain": [
       "[]"
      ]
     },
     "execution_count": 68,
     "metadata": {},
     "output_type": "execute_result"
    }
   ],
   "source": [
    "[item for item in historico['opponent'].unique() if item not in historico['team'].unique()]"
   ]
  },
  {
   "cell_type": "code",
   "execution_count": 69,
   "metadata": {},
   "outputs": [
    {
     "data": {
      "text/plain": [
       "array(['tottenham', 'manchester_city', 'arsenal', 'liverpool',\n",
       "       'aston_villa', 'newcastle_utd', 'brighton', 'manchester_utd',\n",
       "       'west_ham', 'chelsea', 'crystal_palace', 'wolves', 'fulham',\n",
       "       'brentford', 'nottingham_forest', 'everton', 'luton_town',\n",
       "       'burnley', 'bournemouth', 'sheffield_utd', 'leicester_city',\n",
       "       'leeds_utd', 'southampton', 'watford', 'norwich_city', 'west_brom',\n",
       "       'cardiff_city', 'huddersfield', 'swansea_city', 'stoke_city',\n",
       "       'hull_city', 'middlesbrough', 'sunderland'], dtype=object)"
      ]
     },
     "execution_count": 69,
     "metadata": {},
     "output_type": "execute_result"
    }
   ],
   "source": [
    "historico['team'].unique()"
   ]
  },
  {
   "cell_type": "code",
   "execution_count": 70,
   "metadata": {},
   "outputs": [],
   "source": [
    "all_teams = pd.unique(historico[['team', 'opponent']].values.ravel('K'))\n",
    "team_mapping, _ = pd.factorize(all_teams)\n",
    "\n",
    "historico['home_team_id'] = historico['team'].map(dict(zip(all_teams, team_mapping)))\n",
    "historico['away_team_id'] = historico['opponent'].map(dict(zip(all_teams, team_mapping)))"
   ]
  },
  {
   "cell_type": "code",
   "execution_count": 71,
   "metadata": {},
   "outputs": [],
   "source": [
    "historico.reset_index(inplace=True)\n",
    "historico.rename(columns={'index': 'game_id'}, inplace=True)"
   ]
  },
  {
   "cell_type": "code",
   "execution_count": 72,
   "metadata": {},
   "outputs": [
    {
     "data": {
      "text/html": [
       "<div>\n",
       "<style scoped>\n",
       "    .dataframe tbody tr th:only-of-type {\n",
       "        vertical-align: middle;\n",
       "    }\n",
       "\n",
       "    .dataframe tbody tr th {\n",
       "        vertical-align: top;\n",
       "    }\n",
       "\n",
       "    .dataframe thead th {\n",
       "        text-align: right;\n",
       "    }\n",
       "</style>\n",
       "<table border=\"1\" class=\"dataframe\">\n",
       "  <thead>\n",
       "    <tr style=\"text-align: right;\">\n",
       "      <th></th>\n",
       "      <th>game_id</th>\n",
       "      <th>date</th>\n",
       "      <th>comp</th>\n",
       "      <th>round</th>\n",
       "      <th>day</th>\n",
       "      <th>venue</th>\n",
       "      <th>result</th>\n",
       "      <th>gf</th>\n",
       "      <th>ga</th>\n",
       "      <th>opponent</th>\n",
       "      <th>...</th>\n",
       "      <th>xga</th>\n",
       "      <th>poss</th>\n",
       "      <th>sh</th>\n",
       "      <th>sot</th>\n",
       "      <th>season</th>\n",
       "      <th>team</th>\n",
       "      <th>days</th>\n",
       "      <th>time_diff</th>\n",
       "      <th>home_team_id</th>\n",
       "      <th>away_team_id</th>\n",
       "    </tr>\n",
       "  </thead>\n",
       "  <tbody>\n",
       "    <tr>\n",
       "      <th>0</th>\n",
       "      <td>0</td>\n",
       "      <td>2023-08-13</td>\n",
       "      <td>Premier League</td>\n",
       "      <td>1</td>\n",
       "      <td>Sun</td>\n",
       "      <td>Away</td>\n",
       "      <td>D</td>\n",
       "      <td>2</td>\n",
       "      <td>2</td>\n",
       "      <td>brentford</td>\n",
       "      <td>...</td>\n",
       "      <td>2.2</td>\n",
       "      <td>69</td>\n",
       "      <td>18</td>\n",
       "      <td>6</td>\n",
       "      <td>2023</td>\n",
       "      <td>tottenham</td>\n",
       "      <td>75</td>\n",
       "      <td>0.927743</td>\n",
       "      <td>0</td>\n",
       "      <td>13</td>\n",
       "    </tr>\n",
       "    <tr>\n",
       "      <th>1</th>\n",
       "      <td>1</td>\n",
       "      <td>2023-08-19</td>\n",
       "      <td>Premier League</td>\n",
       "      <td>2</td>\n",
       "      <td>Sat</td>\n",
       "      <td>Home</td>\n",
       "      <td>W</td>\n",
       "      <td>2</td>\n",
       "      <td>0</td>\n",
       "      <td>manchester_utd</td>\n",
       "      <td>...</td>\n",
       "      <td>2.1</td>\n",
       "      <td>55</td>\n",
       "      <td>17</td>\n",
       "      <td>6</td>\n",
       "      <td>2023</td>\n",
       "      <td>tottenham</td>\n",
       "      <td>69</td>\n",
       "      <td>0.933327</td>\n",
       "      <td>0</td>\n",
       "      <td>7</td>\n",
       "    </tr>\n",
       "    <tr>\n",
       "      <th>2</th>\n",
       "      <td>2</td>\n",
       "      <td>2023-08-26</td>\n",
       "      <td>Premier League</td>\n",
       "      <td>3</td>\n",
       "      <td>Sat</td>\n",
       "      <td>Away</td>\n",
       "      <td>W</td>\n",
       "      <td>2</td>\n",
       "      <td>0</td>\n",
       "      <td>bournemouth</td>\n",
       "      <td>...</td>\n",
       "      <td>0.7</td>\n",
       "      <td>56</td>\n",
       "      <td>17</td>\n",
       "      <td>6</td>\n",
       "      <td>2023</td>\n",
       "      <td>tottenham</td>\n",
       "      <td>62</td>\n",
       "      <td>0.939883</td>\n",
       "      <td>0</td>\n",
       "      <td>18</td>\n",
       "    </tr>\n",
       "    <tr>\n",
       "      <th>3</th>\n",
       "      <td>3</td>\n",
       "      <td>2023-09-02</td>\n",
       "      <td>Premier League</td>\n",
       "      <td>4</td>\n",
       "      <td>Sat</td>\n",
       "      <td>Away</td>\n",
       "      <td>W</td>\n",
       "      <td>5</td>\n",
       "      <td>2</td>\n",
       "      <td>burnley</td>\n",
       "      <td>...</td>\n",
       "      <td>1.3</td>\n",
       "      <td>53</td>\n",
       "      <td>21</td>\n",
       "      <td>11</td>\n",
       "      <td>2023</td>\n",
       "      <td>tottenham</td>\n",
       "      <td>55</td>\n",
       "      <td>0.946485</td>\n",
       "      <td>0</td>\n",
       "      <td>17</td>\n",
       "    </tr>\n",
       "    <tr>\n",
       "      <th>4</th>\n",
       "      <td>4</td>\n",
       "      <td>2023-09-16</td>\n",
       "      <td>Premier League</td>\n",
       "      <td>5</td>\n",
       "      <td>Sat</td>\n",
       "      <td>Home</td>\n",
       "      <td>W</td>\n",
       "      <td>2</td>\n",
       "      <td>1</td>\n",
       "      <td>sheffield_utd</td>\n",
       "      <td>...</td>\n",
       "      <td>0.7</td>\n",
       "      <td>70</td>\n",
       "      <td>28</td>\n",
       "      <td>10</td>\n",
       "      <td>2023</td>\n",
       "      <td>tottenham</td>\n",
       "      <td>41</td>\n",
       "      <td>0.959829</td>\n",
       "      <td>0</td>\n",
       "      <td>19</td>\n",
       "    </tr>\n",
       "  </tbody>\n",
       "</table>\n",
       "<p>5 rows × 21 columns</p>\n",
       "</div>"
      ],
      "text/plain": [
       "   game_id       date            comp  round  day venue result  gf  ga  \\\n",
       "0        0 2023-08-13  Premier League      1  Sun  Away      D   2   2   \n",
       "1        1 2023-08-19  Premier League      2  Sat  Home      W   2   0   \n",
       "2        2 2023-08-26  Premier League      3  Sat  Away      W   2   0   \n",
       "3        3 2023-09-02  Premier League      4  Sat  Away      W   5   2   \n",
       "4        4 2023-09-16  Premier League      5  Sat  Home      W   2   1   \n",
       "\n",
       "         opponent  ...  xga  poss  sh  sot  season       team days  time_diff  \\\n",
       "0       brentford  ...  2.2    69  18    6    2023  tottenham   75   0.927743   \n",
       "1  manchester_utd  ...  2.1    55  17    6    2023  tottenham   69   0.933327   \n",
       "2     bournemouth  ...  0.7    56  17    6    2023  tottenham   62   0.939883   \n",
       "3         burnley  ...  1.3    53  21   11    2023  tottenham   55   0.946485   \n",
       "4   sheffield_utd  ...  0.7    70  28   10    2023  tottenham   41   0.959829   \n",
       "\n",
       "   home_team_id  away_team_id  \n",
       "0             0            13  \n",
       "1             0             7  \n",
       "2             0            18  \n",
       "3             0            17  \n",
       "4             0            19  \n",
       "\n",
       "[5 rows x 21 columns]"
      ]
     },
     "execution_count": 72,
     "metadata": {},
     "output_type": "execute_result"
    }
   ],
   "source": [
    "historico.head()"
   ]
  },
  {
   "cell_type": "code",
   "execution_count": 77,
   "metadata": {},
   "outputs": [
    {
     "data": {
      "text/html": [
       "<div>\n",
       "<style scoped>\n",
       "    .dataframe tbody tr th:only-of-type {\n",
       "        vertical-align: middle;\n",
       "    }\n",
       "\n",
       "    .dataframe tbody tr th {\n",
       "        vertical-align: top;\n",
       "    }\n",
       "\n",
       "    .dataframe thead th {\n",
       "        text-align: right;\n",
       "    }\n",
       "</style>\n",
       "<table border=\"1\" class=\"dataframe\">\n",
       "  <thead>\n",
       "    <tr style=\"text-align: right;\">\n",
       "      <th></th>\n",
       "      <th>team_id</th>\n",
       "      <th>team_name</th>\n",
       "      <th>league_id</th>\n",
       "    </tr>\n",
       "  </thead>\n",
       "  <tbody>\n",
       "    <tr>\n",
       "      <th>0</th>\n",
       "      <td>0</td>\n",
       "      <td>tottenham</td>\n",
       "      <td>2</td>\n",
       "    </tr>\n",
       "    <tr>\n",
       "      <th>1</th>\n",
       "      <td>1</td>\n",
       "      <td>manchester_city</td>\n",
       "      <td>2</td>\n",
       "    </tr>\n",
       "    <tr>\n",
       "      <th>2</th>\n",
       "      <td>2</td>\n",
       "      <td>arsenal</td>\n",
       "      <td>2</td>\n",
       "    </tr>\n",
       "    <tr>\n",
       "      <th>3</th>\n",
       "      <td>3</td>\n",
       "      <td>liverpool</td>\n",
       "      <td>2</td>\n",
       "    </tr>\n",
       "    <tr>\n",
       "      <th>4</th>\n",
       "      <td>4</td>\n",
       "      <td>aston_villa</td>\n",
       "      <td>2</td>\n",
       "    </tr>\n",
       "  </tbody>\n",
       "</table>\n",
       "</div>"
      ],
      "text/plain": [
       "   team_id        team_name  league_id\n",
       "0        0        tottenham          2\n",
       "1        1  manchester_city          2\n",
       "2        2          arsenal          2\n",
       "3        3        liverpool          2\n",
       "4        4      aston_villa          2"
      ]
     },
     "execution_count": 77,
     "metadata": {},
     "output_type": "execute_result"
    }
   ],
   "source": [
    "teams_id = historico[['home_team_id', 'team']].drop_duplicates().reset_index(drop= True)\n",
    "teams_id.rename(columns={'home_team_id': 'team_id',\n",
    "                         'team': 'team_name'}, inplace=True)\n",
    "teams_id['league_id'] = 2\n",
    "teams_id.head()"
   ]
  },
  {
   "cell_type": "markdown",
   "metadata": {},
   "source": [
    "### Divisão e Export"
   ]
  },
  {
   "cell_type": "code",
   "execution_count": 78,
   "metadata": {},
   "outputs": [],
   "source": [
    "teams_id.to_excel(f'../datasets/xlsx/teams_id(tratado).xlsx')"
   ]
  },
  {
   "cell_type": "code",
   "execution_count": 74,
   "metadata": {},
   "outputs": [],
   "source": [
    "historico.to_excel(f'../datasets/xlsx/historico(tratado).xlsx')"
   ]
  },
  {
   "cell_type": "markdown",
   "metadata": {},
   "source": [
    "# TABELA"
   ]
  },
  {
   "cell_type": "markdown",
   "metadata": {},
   "source": [
    "### Data Cleaning"
   ]
  },
  {
   "cell_type": "code",
   "execution_count": 51,
   "metadata": {},
   "outputs": [],
   "source": [
    "tabela.drop(\n",
    "  ['attendance', 'top team scorer', 'goalkeeper', 'notes', 'last 5'], \n",
    "  axis= 'columns', inplace= True)"
   ]
  },
  {
   "cell_type": "code",
   "execution_count": 52,
   "metadata": {},
   "outputs": [],
   "source": [
    "tabela['squad'] = tabela['squad'].apply(remover_acentos)\n",
    "tabela['squad'] = [linha.lower() for linha in tabela['squad']]\n",
    "tabela['squad'] = tabela['squad'].str.replace(' ', '_')\n",
    "tabela['squad'] = tabela['squad'].str.replace('(', '')\n",
    "tabela['squad'] = tabela['squad'].str.replace(')', '')\n",
    "tabela['squad'] = tabela['squad'].str.replace(')', '')\n",
    "\n",
    "# Especifico para o brasileirão\n",
    "tabela['squad'] = tabela['squad'].str.replace('atletico', 'atl')\n",
    "\n",
    "# Especifico para a Premier League\n",
    "tabela['squad'] = tabela['squad'].str.replace(\"united\", \"utd\")\n",
    "tabela['squad'] = tabela['squad'].str.replace(\"nott'ham_forest\", \"nottingham_forest\")"
   ]
  },
  {
   "cell_type": "code",
   "execution_count": 53,
   "metadata": {},
   "outputs": [
    {
     "data": {
      "text/plain": [
       "['botafogo_rj',\n",
       " 'bragantino',\n",
       " 'palmeiras',\n",
       " 'flamengo',\n",
       " 'ath_paranaense',\n",
       " 'gremio',\n",
       " 'atl_mineiro',\n",
       " 'fluminense',\n",
       " 'fortaleza',\n",
       " 'sao_paulo',\n",
       " 'internacional',\n",
       " 'cuiaba',\n",
       " 'cruzeiro',\n",
       " 'corinthians',\n",
       " 'bahia',\n",
       " 'santos',\n",
       " 'goias',\n",
       " 'vasco_da_gama',\n",
       " 'coritiba',\n",
       " 'america_mg',\n",
       " 'ceara',\n",
       " 'atl_goianiense',\n",
       " 'avai',\n",
       " 'juventude',\n",
       " 'sport_recife',\n",
       " 'chapecoense',\n",
       " 'csa',\n",
       " 'vitoria',\n",
       " 'parana',\n",
       " 'ponte_preta',\n",
       " 'figueirense',\n",
       " 'santa_cruz',\n",
       " 'joinville']"
      ]
     },
     "execution_count": 53,
     "metadata": {},
     "output_type": "execute_result"
    }
   ],
   "source": [
    "[item for item in tabela['squad'].unique() if item not in historico['opponent'].unique()]"
   ]
  },
  {
   "cell_type": "code",
   "execution_count": 54,
   "metadata": {},
   "outputs": [
    {
     "data": {
      "text/plain": [
       "array(['Brentford', 'Manchester Utd', 'Bournemouth', 'Burnley',\n",
       "       'Sheffield Utd', 'Arsenal', 'Liverpool', 'Luton Town', 'Fulham',\n",
       "       'Crystal Palace', 'Newcastle Utd', 'West Ham', \"Nott'ham Forest\",\n",
       "       'Wolves', 'Brighton', 'Everton', 'Tottenham', 'Manchester City',\n",
       "       'Chelsea', 'Aston Villa', 'Southampton', 'Leicester City',\n",
       "       'Leeds United', 'Norwich City', 'Watford', 'West Brom',\n",
       "       'Huddersfield', 'Cardiff City', 'Stoke City', 'Swansea City',\n",
       "       'Hull City', 'Middlesbrough', 'Sunderland'], dtype=object)"
      ]
     },
     "execution_count": 54,
     "metadata": {},
     "output_type": "execute_result"
    }
   ],
   "source": [
    "historico['opponent'].unique()"
   ]
  },
  {
   "cell_type": "markdown",
   "metadata": {},
   "source": [
    "### Feature Engineering"
   ]
  },
  {
   "cell_type": "code",
   "execution_count": 98,
   "metadata": {},
   "outputs": [],
   "source": [
    "tabela['xg_conv'] = tabela['gf'] - tabela['xg']      #Conversão de xG\n",
    "tabela['xga_conv'] = tabela['ga'] - tabela['xga']    #Conversão de xGA\n",
    "tabela['att_rating'] = (tabela['gf']/tabela['mp'])/(tabela['gf']/tabela['mp']).mean()  #Media de gols por partida dividido pelo da liga\n",
    "tabela['def_rating'] = (tabela['ga']/tabela['mp'])/(tabela['gf']/tabela['mp']).mean()  #Media de gols tomados por partida dividido pelo da liga\n",
    "tabela['naive_rating'] = tabela['att_rating']*tabela['def_rating']*(tabela['gf']/tabela['mp']).mean()   #att*def*media da liga                                       #sh Total"
   ]
  },
  {
   "cell_type": "markdown",
   "metadata": {},
   "source": [
    "### Divisões e Exports"
   ]
  },
  {
   "cell_type": "code",
   "execution_count": 106,
   "metadata": {},
   "outputs": [],
   "source": [
    "tabela.to_excel(f'datasets/xlsx/tabela(tratado).xlsx', index= False)"
   ]
  },
  {
   "cell_type": "markdown",
   "metadata": {},
   "source": [
    "# RODADAS"
   ]
  },
  {
   "cell_type": "markdown",
   "metadata": {},
   "source": [
    "### Data Cleaning"
   ]
  },
  {
   "cell_type": "code",
   "execution_count": 107,
   "metadata": {},
   "outputs": [],
   "source": [
    "rodadas = rodadas.loc[rodadas['home'].notna()]"
   ]
  },
  {
   "cell_type": "code",
   "execution_count": 108,
   "metadata": {},
   "outputs": [],
   "source": [
    "rodadas.drop(['day', 'date', 'time', 'attendance', 'venue', 'referee', 'match report', 'notes'], axis= 1, inplace= True)"
   ]
  },
  {
   "cell_type": "code",
   "execution_count": 109,
   "metadata": {},
   "outputs": [],
   "source": [
    "rodadas['home'] = rodadas['home'].apply(remover_acentos)\n",
    "rodadas['home'] = [linha.lower() for linha in rodadas['home']]\n",
    "rodadas['home'] = rodadas['home'].str.replace(' ', '_')\n",
    "rodadas['home'] = rodadas['home'].str.replace('(', '')\n",
    "rodadas['home'] = rodadas['home'].str.replace(')', '')\n",
    "rodadas['home'] = rodadas['home'].str.replace(')', '')\n",
    "\n",
    "# Especifico para o brasileirão\n",
    "rodadas['home'] = rodadas['home'].str.replace('atletico', 'atl')\n",
    "\n",
    "# Especifico para a Premier League\n",
    "rodadas['home'] = rodadas['home'].str.replace(\"nott'ham_forest\", \"nottingham_forest\")"
   ]
  },
  {
   "cell_type": "code",
   "execution_count": 110,
   "metadata": {},
   "outputs": [],
   "source": [
    "rodadas['away'] = rodadas['away'].apply(remover_acentos)\n",
    "rodadas['away'] = [linha.lower() for linha in rodadas['away']]\n",
    "rodadas['away'] = rodadas['away'].str.replace(' ', '_')\n",
    "rodadas['away'] = rodadas['away'].str.replace('(', '')\n",
    "rodadas['away'] = rodadas['away'].str.replace(')', '')\n",
    "rodadas['away'] = rodadas['away'].str.replace(')', '')\n",
    "\n",
    "# Especifico para o brasileirão\n",
    "rodadas['away'] = rodadas['away'].str.replace('atletico', 'atl')\n",
    "\n",
    "# Especifico para a Premier League\n",
    "rodadas['away'] = rodadas['away'].str.replace(\"nott'ham_forest\", \"nottingham_forest\")"
   ]
  },
  {
   "cell_type": "code",
   "execution_count": 111,
   "metadata": {},
   "outputs": [
    {
     "data": {
      "text/plain": [
       "[]"
      ]
     },
     "execution_count": 111,
     "metadata": {},
     "output_type": "execute_result"
    }
   ],
   "source": [
    "[item for item in rodadas['home'].unique() if item not in historico['opponent'].unique()]"
   ]
  },
  {
   "cell_type": "code",
   "execution_count": 112,
   "metadata": {},
   "outputs": [],
   "source": [
    "rodadas[['gols_casa', 'gols_fora']] = rodadas['score'].str.split('–', expand=True)\n",
    "rodadas.drop(['score'], axis= 1, inplace= True)\n",
    "rodadas.insert(5, 'gols_casa', rodadas.pop('gols_casa'))\n",
    "rodadas.insert(6, 'gols_fora', rodadas.pop('gols_fora'))\n",
    "\n",
    "rodadas = rodadas.rename(columns={'xg.1': 'xg_fora', 'xg': 'xg_casa'})\n",
    "\n",
    "rodadas['gols_casa'] = rodadas['gols_casa'].apply(convert_to_int)\n",
    "rodadas['gols_fora'] = rodadas['gols_fora'].apply(convert_to_int)\n"
   ]
  },
  {
   "cell_type": "code",
   "execution_count": 113,
   "metadata": {},
   "outputs": [
    {
     "data": {
      "text/html": [
       "<div>\n",
       "<style scoped>\n",
       "    .dataframe tbody tr th:only-of-type {\n",
       "        vertical-align: middle;\n",
       "    }\n",
       "\n",
       "    .dataframe tbody tr th {\n",
       "        vertical-align: top;\n",
       "    }\n",
       "\n",
       "    .dataframe thead th {\n",
       "        text-align: right;\n",
       "    }\n",
       "</style>\n",
       "<table border=\"1\" class=\"dataframe\">\n",
       "  <thead>\n",
       "    <tr style=\"text-align: right;\">\n",
       "      <th></th>\n",
       "      <th>wk</th>\n",
       "      <th>home</th>\n",
       "      <th>xg_casa</th>\n",
       "      <th>xg_fora</th>\n",
       "      <th>away</th>\n",
       "      <th>gols_casa</th>\n",
       "      <th>gols_fora</th>\n",
       "    </tr>\n",
       "  </thead>\n",
       "  <tbody>\n",
       "    <tr>\n",
       "      <th>0</th>\n",
       "      <td>1.0</td>\n",
       "      <td>america_mg</td>\n",
       "      <td>1.1</td>\n",
       "      <td>3.1</td>\n",
       "      <td>fluminense</td>\n",
       "      <td>0</td>\n",
       "      <td>3</td>\n",
       "    </tr>\n",
       "    <tr>\n",
       "      <th>1</th>\n",
       "      <td>1.0</td>\n",
       "      <td>palmeiras</td>\n",
       "      <td>3.0</td>\n",
       "      <td>1.0</td>\n",
       "      <td>cuiaba</td>\n",
       "      <td>2</td>\n",
       "      <td>1</td>\n",
       "    </tr>\n",
       "    <tr>\n",
       "      <th>2</th>\n",
       "      <td>1.0</td>\n",
       "      <td>bragantino</td>\n",
       "      <td>2.0</td>\n",
       "      <td>0.7</td>\n",
       "      <td>bahia</td>\n",
       "      <td>2</td>\n",
       "      <td>1</td>\n",
       "    </tr>\n",
       "    <tr>\n",
       "      <th>3</th>\n",
       "      <td>1.0</td>\n",
       "      <td>botafogo_rj</td>\n",
       "      <td>0.9</td>\n",
       "      <td>2.0</td>\n",
       "      <td>sao_paulo</td>\n",
       "      <td>2</td>\n",
       "      <td>1</td>\n",
       "    </tr>\n",
       "    <tr>\n",
       "      <th>4</th>\n",
       "      <td>1.0</td>\n",
       "      <td>ath_paranaense</td>\n",
       "      <td>0.8</td>\n",
       "      <td>1.0</td>\n",
       "      <td>goias</td>\n",
       "      <td>2</td>\n",
       "      <td>0</td>\n",
       "    </tr>\n",
       "  </tbody>\n",
       "</table>\n",
       "</div>"
      ],
      "text/plain": [
       "    wk            home  xg_casa  xg_fora        away gols_casa gols_fora\n",
       "0  1.0      america_mg      1.1      3.1  fluminense         0         3\n",
       "1  1.0       palmeiras      3.0      1.0      cuiaba         2         1\n",
       "2  1.0      bragantino      2.0      0.7       bahia         2         1\n",
       "3  1.0     botafogo_rj      0.9      2.0   sao_paulo         2         1\n",
       "4  1.0  ath_paranaense      0.8      1.0       goias         2         0"
      ]
     },
     "execution_count": 113,
     "metadata": {},
     "output_type": "execute_result"
    }
   ],
   "source": [
    "rodadas.head()"
   ]
  },
  {
   "cell_type": "code",
   "execution_count": 114,
   "metadata": {},
   "outputs": [],
   "source": [
    "rodadas = rodadas[['wk', 'xg_casa', 'xg_fora', 'home', 'gols_casa', 'gols_fora', 'away']]"
   ]
  },
  {
   "cell_type": "markdown",
   "metadata": {},
   "source": [
    "### Divisão e Export"
   ]
  },
  {
   "cell_type": "code",
   "execution_count": 115,
   "metadata": {},
   "outputs": [],
   "source": [
    "rodadas.to_excel(f'datasets/{liga}/rounds/all_rounds/rodadas.xlsx', index= False)"
   ]
  }
 ],
 "metadata": {
  "kernelspec": {
   "display_name": "base",
   "language": "python",
   "name": "python3"
  },
  "language_info": {
   "codemirror_mode": {
    "name": "ipython",
    "version": 3
   },
   "file_extension": ".py",
   "mimetype": "text/x-python",
   "name": "python",
   "nbconvert_exporter": "python",
   "pygments_lexer": "ipython3",
   "version": "3.11.6"
  }
 },
 "nbformat": 4,
 "nbformat_minor": 2
}

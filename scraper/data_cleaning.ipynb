{
 "cells": [
  {
   "cell_type": "code",
   "execution_count": 82,
   "metadata": {},
   "outputs": [],
   "source": [
    "import os\n",
    "import pandas as pd\n",
    "import numpy as np\n",
    "from unidecode import unidecode\n",
    "\n",
    "import warnings\n",
    "from pandas.errors import SettingWithCopyWarning\n",
    "warnings.simplefilter(action=\"ignore\", category=SettingWithCopyWarning)\n",
    "warnings.simplefilter(action='ignore', category=FutureWarning)"
   ]
  },
  {
   "cell_type": "markdown",
   "metadata": {},
   "source": [
    "# IMPORTS E FUNCOES"
   ]
  },
  {
   "cell_type": "code",
   "execution_count": 83,
   "metadata": {},
   "outputs": [],
   "source": [
    "def remover_acentos(texto):\n",
    "    return unidecode(texto)"
   ]
  },
  {
   "cell_type": "code",
   "execution_count": 84,
   "metadata": {},
   "outputs": [],
   "source": [
    "def convert_to_int(value):\n",
    "    try:\n",
    "        return int(value)\n",
    "    except (ValueError, TypeError):\n",
    "        return pd.NA"
   ]
  },
  {
   "cell_type": "code",
   "execution_count": 85,
   "metadata": {},
   "outputs": [],
   "source": [
    "historico = pd.read_excel(f'../datasets/xlsx/raw/historico.xlsx')\n",
    "tabela = pd.read_excel(f'../datasets/xlsx/raw/tabela.xlsx')\n",
    "rodadas = pd.read_excel(f'../datasets/xlsx/raw/rodadas.xlsx')\n",
    "elencos = pd.read_excel(f'../datasets/xlsx/raw/elenco.xlsx')"
   ]
  },
  {
   "cell_type": "code",
   "execution_count": 86,
   "metadata": {},
   "outputs": [],
   "source": [
    "season_atual = historico['season'].max()\n",
    "rodada_recente = historico[historico['season'] == season_atual]['round'].str.split(' ', expand= True)[1].astype(int).max()"
   ]
  },
  {
   "cell_type": "markdown",
   "metadata": {},
   "source": [
    "# HISTORICO"
   ]
  },
  {
   "cell_type": "markdown",
   "metadata": {},
   "source": [
    "### Data cleaning"
   ]
  },
  {
   "cell_type": "code",
   "execution_count": 87,
   "metadata": {},
   "outputs": [],
   "source": [
    "historico.drop(\n",
    "  ['notes','captain', 'formation', 'referee', 'match report', 'attendance', 'time', 'day',\n",
    "   'cmp.1', 'cmp.2', 'cmp.3', 'att.1', 'att.2', 'att.3', 'tkl.1'], \n",
    "  axis= 'columns', inplace= True)"
   ]
  },
  {
   "cell_type": "code",
   "execution_count": 88,
   "metadata": {},
   "outputs": [],
   "source": [
    "historico[['gf', 'ga']] = historico[['gf', 'ga']].astype(int)\n",
    "historico['season'] = historico['season'].astype(int)\n",
    "historico = historico.drop(historico[historico['round'] == 'Relegation tie-breaker'].index, axis= 0)\n",
    "historico['round'] = historico['round'].str.split(' ', expand= True)[1].astype(int)\n",
    "historico['comp'] = historico['comp'].replace('Série A', 'Brasileirao')"
   ]
  },
  {
   "cell_type": "code",
   "execution_count": 89,
   "metadata": {},
   "outputs": [],
   "source": [
    "historico['date'] = pd.to_datetime(historico['date'], format='%Y-%m-%d')\n",
    "historico['days'] = (max(historico['date']) - historico['date']).dt.days\n",
    "historico['time_diff'] = np.exp(-0.001*historico['days'])"
   ]
  },
  {
   "cell_type": "code",
   "execution_count": 90,
   "metadata": {},
   "outputs": [],
   "source": [
    "historico['opponent'] = historico['opponent'].apply(remover_acentos)\n",
    "historico['opponent'] = [linha.lower() for linha in historico['opponent']]\n",
    "historico['opponent'] = historico['opponent'].str.replace(' ', '_')\n",
    "historico['opponent'] = historico['opponent'].str.replace('(', '')\n",
    "historico['opponent'] = historico['opponent'].str.replace(')', '')\n",
    "historico['opponent'] = historico['opponent'].str.replace(')', '')\n",
    "\n",
    "# Especifico para o brasileirão\n",
    "historico['opponent'] = historico['opponent'].str.replace('atletico', 'atl')\n",
    "historico['team'] = historico['team'].str.replace('athletico', 'ath')\n",
    "historico['team'] = historico['team'].str.replace('atletico', 'atl')\n",
    "\n",
    "# Especifico para a Premier League\n",
    "historico['team'] = historico['team'].str.replace('_hotspur', '')\n",
    "historico['team'] = historico['team'].str.replace('rhampton_wanderers', 's')\n",
    "historico['team'] = historico['team'].str.replace('united', 'utd')\n",
    "historico['team'] = historico['team'].str.replace('west_ham_utd', 'west_ham')\n",
    "historico['team'] = historico['team'].str.replace('_and_hove_albion', '')\n",
    "historico['team'] = historico['team'].str.replace('wich_albion', '')\n",
    "historico['team'] = historico['team'].str.replace('_town', '')\n",
    "historico['team'] = historico['team'].str.replace('luton', 'luton_town')\n",
    "historico['opponent'] = historico['opponent'].str.replace('united', 'utd')\n",
    "historico['opponent'] = historico['opponent'].str.replace(\"nott'ham_forest\", \"nottingham_forest\")\n",
    "\n",
    "# Especifico para a Serie A TIM\n",
    "historico['team'] = historico['team'].str.replace('nazionale', '')\n",
    "\n",
    "# Especifico para a Bundesliga\n",
    "historico['opponent'] = historico['opponent'].str.replace(\"m'gladbach\", 'monchengladbach')\n",
    "historico['team'] = historico['team'].str.replace(\"bayer_leverkusen\", 'leverkusen')\n",
    "historico['team'] = historico['team'].str.replace(\"eintracht_frankfurt\", 'eint_frankfurt')\n",
    "\n",
    "# Especifico para a La Liga\n",
    "historico['team'] = historico['team'].str.replace(\"real_betis\", 'betis')\n",
    "\n"
   ]
  },
  {
   "cell_type": "code",
   "execution_count": 91,
   "metadata": {},
   "outputs": [
    {
     "data": {
      "text/plain": [
       "[]"
      ]
     },
     "execution_count": 91,
     "metadata": {},
     "output_type": "execute_result"
    }
   ],
   "source": [
    "[item for item in historico['opponent'].unique() if item not in historico['team'].unique()]"
   ]
  },
  {
   "cell_type": "code",
   "execution_count": 92,
   "metadata": {},
   "outputs": [
    {
     "data": {
      "text/plain": [
       "array(['palmeiras', 'botafogo_rj', 'gremio', 'bragantino', 'atl_mineiro',\n",
       "       'flamengo', 'ath_paranaense', 'fluminense', 'cuiaba', 'sao_paulo',\n",
       "       'corinthians', 'fortaleza', 'internacional', 'santos',\n",
       "       'vasco_da_gama', 'bahia', 'cruzeiro', 'goias', 'coritiba',\n",
       "       'america_mg', 'ceara', 'atl_goianiense', 'avai', 'juventude',\n",
       "       'sport_recife', 'chapecoense', 'csa', 'manchester_city',\n",
       "       'liverpool', 'arsenal', 'tottenham', 'aston_villa',\n",
       "       'manchester_utd', 'newcastle_utd', 'brighton', 'west_ham',\n",
       "       'chelsea', 'brentford', 'wolves', 'crystal_palace', 'everton',\n",
       "       'nottingham_forest', 'fulham', 'bournemouth', 'luton_town',\n",
       "       'sheffield_utd', 'burnley', 'leicester_city', 'leeds_utd',\n",
       "       'southampton', 'watford', 'norwich_city', 'west_brom',\n",
       "       'cardiff_city', 'huddersfield', 'swansea_city', 'stoke_city',\n",
       "       'inter', 'juventus', 'milan', 'napoli', 'atalanta', 'fiorentina',\n",
       "       'roma', 'bologna', 'monza', 'lazio', 'torino', 'frosinone',\n",
       "       'lecce', 'genoa', 'sassuolo', 'udinese', 'empoli', 'cagliari',\n",
       "       'hellas_verona', 'salernitana', 'spezia', 'cremonese', 'sampdoria',\n",
       "       'venezia', 'benevento', 'crotone', 'parma', 'brescia', 'spal',\n",
       "       'chievo', 'leverkusen', 'bayern_munich', 'stuttgart', 'rb_leipzig',\n",
       "       'dortmund', 'hoffenheim', 'eint_frankfurt', 'freiburg',\n",
       "       'monchengladbach', 'augsburg', 'wolfsburg', 'werder_bremen',\n",
       "       'heidenheim', 'bochum', 'darmstadt_98', 'mainz_05', 'koln',\n",
       "       'union_berlin', 'schalke_04', 'hertha_bsc', 'arminia',\n",
       "       'greuther_furth', 'dusseldorf', 'paderborn_07', 'hannover_96',\n",
       "       'nurnberg', 'hamburger_sv', 'vitoria', 'parana', 'ponte_preta',\n",
       "       'figueirense', 'santa_cruz', 'joinville', 'hull_city',\n",
       "       'middlesbrough', 'sunderland', 'palermo', 'pescara', 'carpi',\n",
       "       'ingolstadt_04'], dtype=object)"
      ]
     },
     "execution_count": 92,
     "metadata": {},
     "output_type": "execute_result"
    }
   ],
   "source": [
    "historico['team'].unique()"
   ]
  },
  {
   "cell_type": "markdown",
   "metadata": {},
   "source": [
    "#### Ids dos times"
   ]
  },
  {
   "cell_type": "markdown",
   "metadata": {},
   "source": [
    "CTRL+K  +  CTRL+C  = Comenta\\\n",
    "CTRL+K  +  CTRL+U  = Descomenta"
   ]
  },
  {
   "cell_type": "code",
   "execution_count": 93,
   "metadata": {},
   "outputs": [],
   "source": [
    "# all_teams = pd.unique(historico[['team', 'opponent']].values.ravel('K'))\n",
    "# all_leagues = pd.unique(historico['comp'].values.ravel('K'))\n",
    "# team_mapping, _ = pd.factorize(all_teams)\n",
    "# league_mapping, _ = pd.factorize(all_leagues)\n",
    "\n",
    "# historico['home_team_id'] = historico['team'].map(dict(zip(all_teams, team_mapping)))\n",
    "# historico['away_team_id'] = historico['opponent'].map(dict(zip(all_teams, team_mapping)))\n",
    "# historico['league_id'] = historico['comp'].map(dict(zip(all_leagues, league_mapping)))"
   ]
  },
  {
   "cell_type": "code",
   "execution_count": 94,
   "metadata": {},
   "outputs": [],
   "source": [
    "# teams_id = historico[['home_team_id', 'team', 'comp']].drop_duplicates().reset_index(drop= True)\n",
    "# teams_id.rename(columns={'home_team_id': 'team_id',\n",
    "#                          'team': 'team_name'}, inplace=True)\n",
    "# teams_id['league_id'] = pd.factorize(teams_id['comp'])[0]\n",
    "# teams_id = teams_id.drop(['comp'], axis= 1)\n",
    "# teams_id"
   ]
  },
  {
   "cell_type": "code",
   "execution_count": 95,
   "metadata": {},
   "outputs": [],
   "source": [
    "i = 0\n",
    "venue = historico['venue'].unique()\n",
    "historico['game_id'] = np.nan\n",
    "\n",
    "for index, row in historico[['team', 'opponent']].iterrows():\n",
    "    casa, fora = row['team'], row['opponent']\n",
    "    filter1 = (historico['team'] == casa) & (historico['opponent'] == fora) & (historico['venue'] == venue[0])\n",
    "    filter2 = (historico['team'] == fora) & (historico['opponent'] == casa) & (historico['venue'] == venue[1])\n",
    "    if historico.loc[filter1, 'game_id'].isna().any():\n",
    "        historico.loc[filter1, 'game_id'] = i\n",
    "        historico.loc[filter2, 'game_id'] = i\n",
    "        i+=1\n",
    "\n",
    "historico['game_id'] = historico['game_id'].astype(int)"
   ]
  },
  {
   "cell_type": "code",
   "execution_count": 96,
   "metadata": {},
   "outputs": [],
   "source": [
    "# teams_id = {\n",
    "#     'team_id': list(range(0, 98)),\n",
    "#     'team_name': [\n",
    "#         'botafogo_rj', 'palmeiras', 'bragantino', 'gremio', 'flamengo', 'atl_mineiro',\n",
    "#         'ath_paranaense', 'fluminense', 'sao_paulo', 'fortaleza', 'internacional',\n",
    "#         'cuiaba', 'corinthians', 'santos', 'bahia', 'vasco_da_gama', 'cruzeiro',\n",
    "#         'goias', 'coritiba', 'america_mg', 'manchester_city', 'tottenham', 'liverpool',\n",
    "#         'arsenal', 'aston_villa', 'newcastle_utd', 'brighton', 'manchester_utd', 'brentford',\n",
    "#         'chelsea', 'crystal_palace', 'west_ham', 'nottingham_forest', 'wolves', 'fulham',\n",
    "#         'everton', 'luton_town', 'bournemouth', 'burnley', 'sheffield_utd', 'inter', 'juventus',\n",
    "#         'milan', 'napoli', 'atalanta', 'bologna', 'roma', 'fiorentina', 'monza', 'lazio', 'frosinone',\n",
    "#         'torino', 'lecce', 'genoa', 'sassuolo', 'udinese', 'cagliari', 'hellas_verona', 'empoli',\n",
    "#         'salernitana', 'leverkusen', 'bayern_munich', 'stuttgart', 'dortmund', 'rb_leipzig',\n",
    "#         'hoffenheim', 'eint_frankfurt', 'freiburg', 'wolfsburg', 'augsburg', 'monchengladbach',\n",
    "#         'werder_bremen', 'heidenheim', 'bochum', 'darmstadt_98', 'union_berlin', 'mainz_05',\n",
    "#         'koln', 'girona', 'real_madrid', 'barcelona', 'atl_madrid', 'athletic_club', 'betis',\n",
    "#         'real_sociedad', 'valencia', 'rayo_vallecano', 'las_palmas', 'getafe', 'osasuna',\n",
    "#         'villarreal', 'alaves', 'sevilla', 'cadiz', 'mallorca', 'celta_vigo', 'granada', 'almeria'\n",
    "#     ],\n",
    "#     'league_id': [0] * 20 + [1] * 20 + [2] * 20 + [3] * 16 + [4] * 22\n",
    "# }\n",
    "\n",
    "# teams_id = pd.DataFrame(teams_id)"
   ]
  },
  {
   "cell_type": "code",
   "execution_count": 97,
   "metadata": {},
   "outputs": [
    {
     "data": {
      "text/html": [
       "<div>\n",
       "<style scoped>\n",
       "    .dataframe tbody tr th:only-of-type {\n",
       "        vertical-align: middle;\n",
       "    }\n",
       "\n",
       "    .dataframe tbody tr th {\n",
       "        vertical-align: top;\n",
       "    }\n",
       "\n",
       "    .dataframe thead th {\n",
       "        text-align: right;\n",
       "    }\n",
       "</style>\n",
       "<table border=\"1\" class=\"dataframe\">\n",
       "  <thead>\n",
       "    <tr style=\"text-align: right;\">\n",
       "      <th></th>\n",
       "      <th>team_id</th>\n",
       "      <th>team_name</th>\n",
       "      <th>league_id</th>\n",
       "    </tr>\n",
       "  </thead>\n",
       "  <tbody>\n",
       "    <tr>\n",
       "      <th>0</th>\n",
       "      <td>0</td>\n",
       "      <td>palmeiras</td>\n",
       "      <td>0</td>\n",
       "    </tr>\n",
       "    <tr>\n",
       "      <th>1</th>\n",
       "      <td>1</td>\n",
       "      <td>botafogo_rj</td>\n",
       "      <td>0</td>\n",
       "    </tr>\n",
       "    <tr>\n",
       "      <th>2</th>\n",
       "      <td>2</td>\n",
       "      <td>gremio</td>\n",
       "      <td>0</td>\n",
       "    </tr>\n",
       "    <tr>\n",
       "      <th>3</th>\n",
       "      <td>3</td>\n",
       "      <td>bragantino</td>\n",
       "      <td>0</td>\n",
       "    </tr>\n",
       "    <tr>\n",
       "      <th>4</th>\n",
       "      <td>4</td>\n",
       "      <td>atl_mineiro</td>\n",
       "      <td>0</td>\n",
       "    </tr>\n",
       "    <tr>\n",
       "      <th>...</th>\n",
       "      <td>...</td>\n",
       "      <td>...</td>\n",
       "      <td>...</td>\n",
       "    </tr>\n",
       "    <tr>\n",
       "      <th>109</th>\n",
       "      <td>109</td>\n",
       "      <td>dusseldorf</td>\n",
       "      <td>3</td>\n",
       "    </tr>\n",
       "    <tr>\n",
       "      <th>110</th>\n",
       "      <td>110</td>\n",
       "      <td>paderborn_07</td>\n",
       "      <td>3</td>\n",
       "    </tr>\n",
       "    <tr>\n",
       "      <th>111</th>\n",
       "      <td>111</td>\n",
       "      <td>hannover_96</td>\n",
       "      <td>3</td>\n",
       "    </tr>\n",
       "    <tr>\n",
       "      <th>112</th>\n",
       "      <td>112</td>\n",
       "      <td>nurnberg</td>\n",
       "      <td>3</td>\n",
       "    </tr>\n",
       "    <tr>\n",
       "      <th>113</th>\n",
       "      <td>113</td>\n",
       "      <td>hamburger_sv</td>\n",
       "      <td>3</td>\n",
       "    </tr>\n",
       "  </tbody>\n",
       "</table>\n",
       "<p>114 rows × 3 columns</p>\n",
       "</div>"
      ],
      "text/plain": [
       "     team_id     team_name  league_id\n",
       "0          0     palmeiras          0\n",
       "1          1   botafogo_rj          0\n",
       "2          2        gremio          0\n",
       "3          3    bragantino          0\n",
       "4          4   atl_mineiro          0\n",
       "..       ...           ...        ...\n",
       "109      109    dusseldorf          3\n",
       "110      110  paderborn_07          3\n",
       "111      111   hannover_96          3\n",
       "112      112      nurnberg          3\n",
       "113      113  hamburger_sv          3\n",
       "\n",
       "[114 rows x 3 columns]"
      ]
     },
     "execution_count": 97,
     "metadata": {},
     "output_type": "execute_result"
    }
   ],
   "source": [
    "teams_id"
   ]
  },
  {
   "cell_type": "code",
   "execution_count": 98,
   "metadata": {},
   "outputs": [],
   "source": [
    "historico = historico.merge(teams_id, left_on= 'team', right_on= 'team_name', how='left').drop(['team_name', 'league_id'], axis= 1)\n",
    "historico = historico.rename(columns= {'team_id': 'home_team_id'})\n",
    "historico = historico.merge(teams_id, left_on= 'opponent', right_on= 'team_name', how='left').drop(['team_name',], axis= 1)\n",
    "historico = historico.rename(columns= {'team_id': 'away_team_id'})\n"
   ]
  },
  {
   "cell_type": "markdown",
   "metadata": {},
   "source": [
    "### Divisão e Export"
   ]
  },
  {
   "cell_type": "code",
   "execution_count": 99,
   "metadata": {},
   "outputs": [],
   "source": [
    "teams_id.to_excel(f'../datasets/xlsx/teams_id.xlsx')"
   ]
  },
  {
   "cell_type": "code",
   "execution_count": 100,
   "metadata": {},
   "outputs": [],
   "source": [
    "historico.to_excel(f'../datasets/xlsx/historico.xlsx')"
   ]
  },
  {
   "cell_type": "markdown",
   "metadata": {},
   "source": [
    "# TABELA"
   ]
  },
  {
   "cell_type": "markdown",
   "metadata": {},
   "source": [
    "### Data Cleaning"
   ]
  },
  {
   "cell_type": "code",
   "execution_count": 101,
   "metadata": {},
   "outputs": [],
   "source": [
    "tabela.drop(\n",
    "  ['attendance', 'top team scorer', 'goalkeeper', 'notes', 'last 5'], \n",
    "  axis= 'columns', inplace= True)"
   ]
  },
  {
   "cell_type": "code",
   "execution_count": 102,
   "metadata": {},
   "outputs": [],
   "source": [
    "tabela['squad'] = tabela['squad'].apply(remover_acentos)\n",
    "tabela['squad'] = [linha.lower() for linha in tabela['squad']]\n",
    "tabela['squad'] = tabela['squad'].str.replace(' ', '_')\n",
    "tabela['squad'] = tabela['squad'].str.replace('(', '')\n",
    "tabela['squad'] = tabela['squad'].str.replace(')', '')\n",
    "tabela['squad'] = tabela['squad'].str.replace(')', '')\n",
    "\n",
    "# Especifico para o brasileirão\n",
    "tabela['squad'] = tabela['squad'].str.replace('atletico', 'atl')\n",
    "\n",
    "# Especifico para a Premier League\n",
    "tabela['squad'] = tabela['squad'].str.replace(\"united\", \"utd\")\n",
    "tabela['squad'] = tabela['squad'].str.replace(\"nott'ham_forest\", \"nottingham_forest\")\n",
    "\n",
    "# Especifico para a Bundesliga\n",
    "tabela['squad'] = tabela['squad'].str.replace(\"m'gladbach\", 'monchengladbach')"
   ]
  },
  {
   "cell_type": "code",
   "execution_count": 103,
   "metadata": {},
   "outputs": [
    {
     "data": {
      "text/plain": [
       "['girona',\n",
       " 'real_madrid',\n",
       " 'barcelona',\n",
       " 'atl_madrid',\n",
       " 'athletic_club',\n",
       " 'real_sociedad',\n",
       " 'betis',\n",
       " 'las_palmas',\n",
       " 'valencia',\n",
       " 'rayo_vallecano',\n",
       " 'getafe',\n",
       " 'osasuna',\n",
       " 'sevilla',\n",
       " 'villarreal',\n",
       " 'alaves',\n",
       " 'cadiz',\n",
       " 'mallorca',\n",
       " 'celta_vigo',\n",
       " 'granada',\n",
       " 'almeria',\n",
       " 'valladolid',\n",
       " 'espanyol',\n",
       " 'elche',\n",
       " 'levante']"
      ]
     },
     "execution_count": 103,
     "metadata": {},
     "output_type": "execute_result"
    }
   ],
   "source": [
    "[item for item in tabela['squad'].unique() if item not in historico['opponent'].unique()]"
   ]
  },
  {
   "cell_type": "code",
   "execution_count": 104,
   "metadata": {},
   "outputs": [
    {
     "data": {
      "text/plain": [
       "array(['cuiaba', 'vasco_da_gama', 'corinthians', 'goias', 'gremio',\n",
       "       'bragantino', 'santos', 'atl_mineiro', 'coritiba', 'sao_paulo',\n",
       "       'bahia', 'botafogo_rj', 'ath_paranaense', 'flamengo',\n",
       "       'internacional', 'fortaleza', 'america_mg', 'fluminense',\n",
       "       'cruzeiro', 'palmeiras', 'ceara', 'juventude', 'atl_goianiense',\n",
       "       'avai', 'sport_recife', 'chapecoense', 'csa', 'burnley',\n",
       "       'newcastle_utd', 'sheffield_utd', 'fulham', 'west_ham',\n",
       "       'nottingham_forest', 'wolves', 'arsenal', 'brighton',\n",
       "       'manchester_utd', 'bournemouth', 'chelsea', 'aston_villa',\n",
       "       'tottenham', 'everton', 'luton_town', 'brentford',\n",
       "       'crystal_palace', 'manchester_city', 'liverpool', 'southampton',\n",
       "       'leicester_city', 'leeds_utd', 'norwich_city', 'watford',\n",
       "       'west_brom', 'huddersfield', 'cardiff_city', 'stoke_city',\n",
       "       'swansea_city', 'monza', 'cagliari', 'fiorentina', 'milan',\n",
       "       'empoli', 'sassuolo', 'salernitana', 'bologna', 'torino', 'roma',\n",
       "       'atalanta', 'frosinone', 'udinese', 'lazio', 'lecce',\n",
       "       'hellas_verona', 'inter', 'genoa', 'juventus', 'napoli', 'spezia',\n",
       "       'cremonese', 'sampdoria', 'venezia', 'benevento', 'parma',\n",
       "       'crotone', 'brescia', 'spal', 'chievo', 'rb_leipzig',\n",
       "       'monchengladbach', 'darmstadt_98', 'bayern_munich', 'heidenheim',\n",
       "       'mainz_05', 'koln', 'wolfsburg', 'freiburg', 'hoffenheim',\n",
       "       'union_berlin', 'werder_bremen', 'augsburg', 'leverkusen',\n",
       "       'bochum', 'dortmund', 'stuttgart', 'eint_frankfurt', 'hertha_bsc',\n",
       "       'schalke_04', 'greuther_furth', 'arminia', 'paderborn_07',\n",
       "       'dusseldorf', 'nurnberg', 'hannover_96', 'hamburger_sv', 'parana',\n",
       "       'vitoria', 'ponte_preta', 'santa_cruz', 'figueirense', 'joinville',\n",
       "       'hull_city', 'middlesbrough', 'sunderland', 'palermo', 'pescara',\n",
       "       'carpi', 'ingolstadt_04'], dtype=object)"
      ]
     },
     "execution_count": 104,
     "metadata": {},
     "output_type": "execute_result"
    }
   ],
   "source": [
    "historico['opponent'].unique()"
   ]
  },
  {
   "cell_type": "markdown",
   "metadata": {},
   "source": [
    "### Feature Engineering"
   ]
  },
  {
   "cell_type": "code",
   "execution_count": 105,
   "metadata": {},
   "outputs": [],
   "source": [
    "tabela['xg_conv'] = tabela['gf'] - tabela['xg']      #Conversão de xG\n",
    "tabela['xga_conv'] = tabela['ga'] - tabela['xga']    #Conversão de xGA\n",
    "tabela['att_rating'] = (tabela['gf']/tabela['mp'])/(tabela['gf']/tabela['mp']).mean()  #Media de gols por partida dividido pelo da liga\n",
    "tabela['def_rating'] = (tabela['ga']/tabela['mp'])/(tabela['gf']/tabela['mp']).mean()  #Media de gols tomados por partida dividido pelo da liga\n",
    "tabela['naive_rating'] = tabela['att_rating']*tabela['def_rating']*(tabela['gf']/tabela['mp']).mean()   #att*def*media da liga                                       #sh Total"
   ]
  },
  {
   "cell_type": "code",
   "execution_count": 106,
   "metadata": {},
   "outputs": [],
   "source": [
    "tabela = tabela.merge(teams_id, left_on= 'squad', right_on= 'team_name', how='left').drop(['squad'], axis= 1)\n"
   ]
  },
  {
   "cell_type": "markdown",
   "metadata": {},
   "source": [
    "### Divisões e Exports"
   ]
  },
  {
   "cell_type": "code",
   "execution_count": 107,
   "metadata": {},
   "outputs": [],
   "source": [
    "tabela.to_excel(f'../datasets/xlsx/tabela.xlsx', index= False)"
   ]
  },
  {
   "cell_type": "markdown",
   "metadata": {},
   "source": [
    "# RODADAS"
   ]
  },
  {
   "cell_type": "markdown",
   "metadata": {},
   "source": [
    "### Data Cleaning"
   ]
  },
  {
   "cell_type": "code",
   "execution_count": 108,
   "metadata": {},
   "outputs": [],
   "source": [
    "rodadas = rodadas.loc[rodadas['home'].notna()]"
   ]
  },
  {
   "cell_type": "code",
   "execution_count": 109,
   "metadata": {},
   "outputs": [],
   "source": [
    "rodadas.drop(['day', 'date', 'time', 'attendance', 'venue', 'referee', 'match report', 'notes'], axis= 1, inplace= True)"
   ]
  },
  {
   "cell_type": "code",
   "execution_count": 110,
   "metadata": {},
   "outputs": [],
   "source": [
    "rodadas['home'] = rodadas['home'].apply(remover_acentos)\n",
    "rodadas['home'] = [linha.lower() for linha in rodadas['home']]\n",
    "rodadas['home'] = rodadas['home'].str.replace(' ', '_')\n",
    "rodadas['home'] = rodadas['home'].str.replace('(', '')\n",
    "rodadas['home'] = rodadas['home'].str.replace(')', '')\n",
    "rodadas['home'] = rodadas['home'].str.replace(')', '')\n",
    "\n",
    "# Especifico para o brasileirão\n",
    "rodadas['home'] = rodadas['home'].str.replace('atletico', 'atl')\n",
    "\n",
    "# Especifico para a Premier League\n",
    "rodadas['home'] = rodadas['home'].str.replace(\"nott'ham_forest\", \"nottingham_forest\")\n",
    "\n",
    "# Especifico para a Bundesliga\n",
    "rodadas['home'] = rodadas['home'].str.replace(\"m'gladbach\", 'monchengladbach')"
   ]
  },
  {
   "cell_type": "code",
   "execution_count": 111,
   "metadata": {},
   "outputs": [],
   "source": [
    "rodadas['away'] = rodadas['away'].apply(remover_acentos)\n",
    "rodadas['away'] = [linha.lower() for linha in rodadas['away']]\n",
    "rodadas['away'] = rodadas['away'].str.replace(' ', '_')\n",
    "rodadas['away'] = rodadas['away'].str.replace('(', '')\n",
    "rodadas['away'] = rodadas['away'].str.replace(')', '')\n",
    "rodadas['away'] = rodadas['away'].str.replace(')', '')\n",
    "\n",
    "# Especifico para o brasileirão\n",
    "rodadas['away'] = rodadas['away'].str.replace('atletico', 'atl')\n",
    "\n",
    "# Especifico para a Premier League\n",
    "rodadas['away'] = rodadas['away'].str.replace(\"nott'ham_forest\", \"nottingham_forest\")\n",
    "\n",
    "# Especifico para a Bundesliga\n",
    "rodadas['away'] = rodadas['away'].str.replace(\"m'gladbach\", 'monchengladbach')"
   ]
  },
  {
   "cell_type": "code",
   "execution_count": 112,
   "metadata": {},
   "outputs": [
    {
     "data": {
      "text/plain": [
       "['almeria',\n",
       " 'sevilla',\n",
       " 'real_sociedad',\n",
       " 'las_palmas',\n",
       " 'athletic_club',\n",
       " 'celta_vigo',\n",
       " 'villarreal',\n",
       " 'getafe',\n",
       " 'cadiz',\n",
       " 'atl_madrid',\n",
       " 'mallorca',\n",
       " 'valencia',\n",
       " 'osasuna',\n",
       " 'girona',\n",
       " 'barcelona',\n",
       " 'betis',\n",
       " 'alaves',\n",
       " 'granada',\n",
       " 'rayo_vallecano',\n",
       " 'real_madrid']"
      ]
     },
     "execution_count": 112,
     "metadata": {},
     "output_type": "execute_result"
    }
   ],
   "source": [
    "[item for item in rodadas['home'].unique() if item not in historico['opponent'].unique()]"
   ]
  },
  {
   "cell_type": "code",
   "execution_count": 113,
   "metadata": {},
   "outputs": [],
   "source": [
    "rodadas[['gols_casa', 'gols_fora']] = rodadas['score'].str.split('–', expand=True)\n",
    "rodadas.drop(['score'], axis= 1, inplace= True)\n",
    "rodadas.insert(5, 'gols_casa', rodadas.pop('gols_casa'))\n",
    "rodadas.insert(6, 'gols_fora', rodadas.pop('gols_fora'))\n",
    "\n",
    "rodadas = rodadas.rename(columns={'xg.1': 'xg_fora', 'xg': 'xg_casa'})\n",
    "\n",
    "rodadas['gols_casa'] = rodadas['gols_casa'].apply(convert_to_int)\n",
    "rodadas['gols_fora'] = rodadas['gols_fora'].apply(convert_to_int)\n"
   ]
  },
  {
   "cell_type": "code",
   "execution_count": 114,
   "metadata": {},
   "outputs": [],
   "source": [
    "rodadas = rodadas.merge(teams_id, left_on= 'home', right_on= 'team_name', how='left').rename(columns={'team_id': 'home_id'}).drop(['team_name', 'league_id'], axis= 1)\n",
    "rodadas = rodadas.merge(teams_id, left_on= 'away', right_on= 'team_name', how='left').rename(columns={'team_id': 'away_id'}).drop(['team_name'], axis= 1)"
   ]
  },
  {
   "cell_type": "code",
   "execution_count": 115,
   "metadata": {},
   "outputs": [
    {
     "data": {
      "text/html": [
       "<div>\n",
       "<style scoped>\n",
       "    .dataframe tbody tr th:only-of-type {\n",
       "        vertical-align: middle;\n",
       "    }\n",
       "\n",
       "    .dataframe tbody tr th {\n",
       "        vertical-align: top;\n",
       "    }\n",
       "\n",
       "    .dataframe thead th {\n",
       "        text-align: right;\n",
       "    }\n",
       "</style>\n",
       "<table border=\"1\" class=\"dataframe\">\n",
       "  <thead>\n",
       "    <tr style=\"text-align: right;\">\n",
       "      <th></th>\n",
       "      <th>wk</th>\n",
       "      <th>home</th>\n",
       "      <th>xg_casa</th>\n",
       "      <th>xg_fora</th>\n",
       "      <th>away</th>\n",
       "      <th>gols_casa</th>\n",
       "      <th>gols_fora</th>\n",
       "      <th>league_name</th>\n",
       "      <th>home_id</th>\n",
       "      <th>away_id</th>\n",
       "      <th>league_id</th>\n",
       "    </tr>\n",
       "  </thead>\n",
       "  <tbody>\n",
       "    <tr>\n",
       "      <th>0</th>\n",
       "      <td>1.0</td>\n",
       "      <td>america_mg</td>\n",
       "      <td>1.1</td>\n",
       "      <td>3.1</td>\n",
       "      <td>fluminense</td>\n",
       "      <td>0</td>\n",
       "      <td>3</td>\n",
       "      <td>Brasileirao</td>\n",
       "      <td>19.0</td>\n",
       "      <td>7.0</td>\n",
       "      <td>0.0</td>\n",
       "    </tr>\n",
       "    <tr>\n",
       "      <th>1</th>\n",
       "      <td>1.0</td>\n",
       "      <td>palmeiras</td>\n",
       "      <td>3.0</td>\n",
       "      <td>1.0</td>\n",
       "      <td>cuiaba</td>\n",
       "      <td>2</td>\n",
       "      <td>1</td>\n",
       "      <td>Brasileirao</td>\n",
       "      <td>0.0</td>\n",
       "      <td>8.0</td>\n",
       "      <td>0.0</td>\n",
       "    </tr>\n",
       "    <tr>\n",
       "      <th>2</th>\n",
       "      <td>1.0</td>\n",
       "      <td>bragantino</td>\n",
       "      <td>2.0</td>\n",
       "      <td>0.7</td>\n",
       "      <td>bahia</td>\n",
       "      <td>2</td>\n",
       "      <td>1</td>\n",
       "      <td>Brasileirao</td>\n",
       "      <td>3.0</td>\n",
       "      <td>15.0</td>\n",
       "      <td>0.0</td>\n",
       "    </tr>\n",
       "    <tr>\n",
       "      <th>3</th>\n",
       "      <td>1.0</td>\n",
       "      <td>botafogo_rj</td>\n",
       "      <td>0.9</td>\n",
       "      <td>2.0</td>\n",
       "      <td>sao_paulo</td>\n",
       "      <td>2</td>\n",
       "      <td>1</td>\n",
       "      <td>Brasileirao</td>\n",
       "      <td>1.0</td>\n",
       "      <td>9.0</td>\n",
       "      <td>0.0</td>\n",
       "    </tr>\n",
       "    <tr>\n",
       "      <th>4</th>\n",
       "      <td>1.0</td>\n",
       "      <td>ath_paranaense</td>\n",
       "      <td>0.8</td>\n",
       "      <td>1.0</td>\n",
       "      <td>goias</td>\n",
       "      <td>2</td>\n",
       "      <td>0</td>\n",
       "      <td>Brasileirao</td>\n",
       "      <td>6.0</td>\n",
       "      <td>17.0</td>\n",
       "      <td>0.0</td>\n",
       "    </tr>\n",
       "  </tbody>\n",
       "</table>\n",
       "</div>"
      ],
      "text/plain": [
       "    wk            home  xg_casa  xg_fora        away gols_casa gols_fora  \\\n",
       "0  1.0      america_mg      1.1      3.1  fluminense         0         3   \n",
       "1  1.0       palmeiras      3.0      1.0      cuiaba         2         1   \n",
       "2  1.0      bragantino      2.0      0.7       bahia         2         1   \n",
       "3  1.0     botafogo_rj      0.9      2.0   sao_paulo         2         1   \n",
       "4  1.0  ath_paranaense      0.8      1.0       goias         2         0   \n",
       "\n",
       "   league_name  home_id  away_id  league_id  \n",
       "0  Brasileirao     19.0      7.0        0.0  \n",
       "1  Brasileirao      0.0      8.0        0.0  \n",
       "2  Brasileirao      3.0     15.0        0.0  \n",
       "3  Brasileirao      1.0      9.0        0.0  \n",
       "4  Brasileirao      6.0     17.0        0.0  "
      ]
     },
     "execution_count": 115,
     "metadata": {},
     "output_type": "execute_result"
    }
   ],
   "source": [
    "rodadas.head()"
   ]
  },
  {
   "cell_type": "code",
   "execution_count": 116,
   "metadata": {},
   "outputs": [],
   "source": [
    "rodadas = rodadas[['wk', 'xg_casa', 'xg_fora', 'home', 'gols_casa', 'gols_fora', 'away', 'league_name', 'home_id', 'away_id', 'league_id']]"
   ]
  },
  {
   "cell_type": "markdown",
   "metadata": {},
   "source": [
    "### Divisão e Export"
   ]
  },
  {
   "cell_type": "code",
   "execution_count": 117,
   "metadata": {},
   "outputs": [],
   "source": [
    "rodadas.to_excel(f'../datasets/xlsx/rodadas.xlsx', index= False)"
   ]
  },
  {
   "cell_type": "markdown",
   "metadata": {},
   "source": [
    "# ELENCOS"
   ]
  },
  {
   "cell_type": "code",
   "execution_count": 118,
   "metadata": {},
   "outputs": [],
   "source": [
    "elencos = elencos.drop(['nation', 'age', 'g+a', 'g-pk', 'pk', 'pkatt', 'npxg+xag', 'gls.1', 'ast.1', 'g+a.1',\n",
    "                        'g-pk.1', 'g+a-pk', 'xg.1', 'xag.1', 'xg+xag', 'npxg.1', 'npxg+xag.1', 'matches'], axis= 1)"
   ]
  },
  {
   "cell_type": "code",
   "execution_count": 119,
   "metadata": {},
   "outputs": [],
   "source": [
    "elencos['team'] = elencos['team'].apply(remover_acentos)\n",
    "elencos['team'] = [linha.lower() for linha in elencos['team']]\n",
    "elencos['team'] = elencos['team'].str.replace(' ', '_')\n",
    "elencos['team'] = elencos['team'].str.replace('(', '')\n",
    "elencos['team'] = elencos['team'].str.replace(')', '')\n",
    "elencos['team'] = elencos['team'].str.replace(')', '')\n",
    "\n",
    "# Especifico para o brasileirão\n",
    "elencos['team'] = elencos['team'].str.replace('atletico', 'atl')\n",
    "elencos['team'] = elencos['team'].str.replace('athletico', 'ath')\n",
    "elencos['team'] = elencos['team'].str.replace('atletico', 'atl')\n",
    "\n",
    "# Especifico para a Premier League\n",
    "elencos['team'] = elencos['team'].str.replace('_hotspur', '')\n",
    "elencos['team'] = elencos['team'].str.replace('rhampton_wanderers', 's')\n",
    "elencos['team'] = elencos['team'].str.replace('united', 'utd')\n",
    "elencos['team'] = elencos['team'].str.replace('west_ham_utd', 'west_ham')\n",
    "elencos['team'] = elencos['team'].str.replace('_and_hove_albion', '')\n",
    "elencos['team'] = elencos['team'].str.replace('wich_albion', '')\n",
    "elencos['team'] = elencos['team'].str.replace('_town', '')\n",
    "elencos['team'] = elencos['team'].str.replace('luton', 'luton_town')\n",
    "elencos['team'] = elencos['team'].str.replace(\"nott'ham_forest\", \"nottingham_forest\")\n",
    "\n",
    "# Especifico para a Serie A TIM\n",
    "elencos['team'] = elencos['team'].str.replace('nazionale', '')\n",
    "\n",
    "elencos['team'] = elencos['team'].str.replace(\"m'gladbach\", 'monchengladbach')\n",
    "elencos['team'] = elencos['team'].str.replace(\"bayer_leverkusen\", 'leverkusen')\n",
    "elencos['team'] = elencos['team'].str.replace(\"eintracht_frankfurt\", 'eint_frankfurt')\n",
    "\n",
    "# Especifico para a La Liga\n",
    "elencos['team'] = elencos['team'].str.replace(\"real_betis\", 'betis')"
   ]
  },
  {
   "cell_type": "code",
   "execution_count": 120,
   "metadata": {},
   "outputs": [
    {
     "data": {
      "text/plain": [
       "['girona',\n",
       " 'real_madrid',\n",
       " 'barcelona',\n",
       " 'atl_madrid',\n",
       " 'athletic_club',\n",
       " 'betis',\n",
       " 'real_sociedad',\n",
       " 'valencia',\n",
       " 'rayo_vallecano',\n",
       " 'las_palmas',\n",
       " 'getafe',\n",
       " 'osasuna',\n",
       " 'villarreal',\n",
       " 'alaves',\n",
       " 'sevilla',\n",
       " 'cadiz',\n",
       " 'mallorca',\n",
       " 'celta_vigo',\n",
       " 'granada',\n",
       " 'almeria']"
      ]
     },
     "execution_count": 120,
     "metadata": {},
     "output_type": "execute_result"
    }
   ],
   "source": [
    "[item for item in elencos['team'].unique() if item not in historico['opponent'].unique()]"
   ]
  },
  {
   "cell_type": "code",
   "execution_count": 121,
   "metadata": {},
   "outputs": [],
   "source": [
    "elencos = elencos.merge(teams_id, left_on= 'team', right_on= 'team_name', how='left').drop(['team_name'], axis= 1)"
   ]
  },
  {
   "cell_type": "code",
   "execution_count": 122,
   "metadata": {},
   "outputs": [
    {
     "data": {
      "text/html": [
       "<div>\n",
       "<style scoped>\n",
       "    .dataframe tbody tr th:only-of-type {\n",
       "        vertical-align: middle;\n",
       "    }\n",
       "\n",
       "    .dataframe tbody tr th {\n",
       "        vertical-align: top;\n",
       "    }\n",
       "\n",
       "    .dataframe thead th {\n",
       "        text-align: right;\n",
       "    }\n",
       "</style>\n",
       "<table border=\"1\" class=\"dataframe\">\n",
       "  <thead>\n",
       "    <tr style=\"text-align: right;\">\n",
       "      <th></th>\n",
       "      <th>player</th>\n",
       "      <th>pos</th>\n",
       "      <th>mp</th>\n",
       "      <th>starts</th>\n",
       "      <th>min</th>\n",
       "      <th>90s</th>\n",
       "      <th>gls</th>\n",
       "      <th>ast</th>\n",
       "      <th>crdy</th>\n",
       "      <th>crdr</th>\n",
       "      <th>...</th>\n",
       "      <th>xag</th>\n",
       "      <th>prgc</th>\n",
       "      <th>prgp</th>\n",
       "      <th>prgr</th>\n",
       "      <th>season</th>\n",
       "      <th>team</th>\n",
       "      <th>league</th>\n",
       "      <th>coach</th>\n",
       "      <th>team_id</th>\n",
       "      <th>league_id</th>\n",
       "    </tr>\n",
       "  </thead>\n",
       "  <tbody>\n",
       "    <tr>\n",
       "      <th>0</th>\n",
       "      <td>Lucas Perri</td>\n",
       "      <td>GK</td>\n",
       "      <td>32</td>\n",
       "      <td>32</td>\n",
       "      <td>2835.0</td>\n",
       "      <td>31.5</td>\n",
       "      <td>0.0</td>\n",
       "      <td>0.0</td>\n",
       "      <td>1.0</td>\n",
       "      <td>0.0</td>\n",
       "      <td>...</td>\n",
       "      <td>0.1</td>\n",
       "      <td>0.0</td>\n",
       "      <td>2.0</td>\n",
       "      <td>0.0</td>\n",
       "      <td>2023</td>\n",
       "      <td>botafogo_rj</td>\n",
       "      <td>Brasileirao</td>\n",
       "      <td>Lúcio Flávio</td>\n",
       "      <td>1.0</td>\n",
       "      <td>0.0</td>\n",
       "    </tr>\n",
       "    <tr>\n",
       "      <th>1</th>\n",
       "      <td>Adryelson</td>\n",
       "      <td>DF</td>\n",
       "      <td>30</td>\n",
       "      <td>30</td>\n",
       "      <td>2562.0</td>\n",
       "      <td>28.5</td>\n",
       "      <td>1.0</td>\n",
       "      <td>1.0</td>\n",
       "      <td>5.0</td>\n",
       "      <td>1.0</td>\n",
       "      <td>...</td>\n",
       "      <td>0.3</td>\n",
       "      <td>2.0</td>\n",
       "      <td>49.0</td>\n",
       "      <td>3.0</td>\n",
       "      <td>2023</td>\n",
       "      <td>botafogo_rj</td>\n",
       "      <td>Brasileirao</td>\n",
       "      <td>Lúcio Flávio</td>\n",
       "      <td>1.0</td>\n",
       "      <td>0.0</td>\n",
       "    </tr>\n",
       "    <tr>\n",
       "      <th>2</th>\n",
       "      <td>Víctor Cuesta</td>\n",
       "      <td>DF</td>\n",
       "      <td>29</td>\n",
       "      <td>29</td>\n",
       "      <td>2610.0</td>\n",
       "      <td>29.0</td>\n",
       "      <td>1.0</td>\n",
       "      <td>1.0</td>\n",
       "      <td>9.0</td>\n",
       "      <td>0.0</td>\n",
       "      <td>...</td>\n",
       "      <td>0.7</td>\n",
       "      <td>7.0</td>\n",
       "      <td>86.0</td>\n",
       "      <td>6.0</td>\n",
       "      <td>2023</td>\n",
       "      <td>botafogo_rj</td>\n",
       "      <td>Brasileirao</td>\n",
       "      <td>Lúcio Flávio</td>\n",
       "      <td>1.0</td>\n",
       "      <td>0.0</td>\n",
       "    </tr>\n",
       "    <tr>\n",
       "      <th>3</th>\n",
       "      <td>Marlon Freitas</td>\n",
       "      <td>MF</td>\n",
       "      <td>30</td>\n",
       "      <td>27</td>\n",
       "      <td>2440.0</td>\n",
       "      <td>27.1</td>\n",
       "      <td>1.0</td>\n",
       "      <td>1.0</td>\n",
       "      <td>3.0</td>\n",
       "      <td>0.0</td>\n",
       "      <td>...</td>\n",
       "      <td>1.6</td>\n",
       "      <td>24.0</td>\n",
       "      <td>176.0</td>\n",
       "      <td>16.0</td>\n",
       "      <td>2023</td>\n",
       "      <td>botafogo_rj</td>\n",
       "      <td>Brasileirao</td>\n",
       "      <td>Lúcio Flávio</td>\n",
       "      <td>1.0</td>\n",
       "      <td>0.0</td>\n",
       "    </tr>\n",
       "    <tr>\n",
       "      <th>4</th>\n",
       "      <td>Carlos Eduardo</td>\n",
       "      <td>MF</td>\n",
       "      <td>29</td>\n",
       "      <td>27</td>\n",
       "      <td>2352.0</td>\n",
       "      <td>26.1</td>\n",
       "      <td>5.0</td>\n",
       "      <td>5.0</td>\n",
       "      <td>5.0</td>\n",
       "      <td>0.0</td>\n",
       "      <td>...</td>\n",
       "      <td>5.5</td>\n",
       "      <td>28.0</td>\n",
       "      <td>139.0</td>\n",
       "      <td>80.0</td>\n",
       "      <td>2023</td>\n",
       "      <td>botafogo_rj</td>\n",
       "      <td>Brasileirao</td>\n",
       "      <td>Lúcio Flávio</td>\n",
       "      <td>1.0</td>\n",
       "      <td>0.0</td>\n",
       "    </tr>\n",
       "  </tbody>\n",
       "</table>\n",
       "<p>5 rows × 22 columns</p>\n",
       "</div>"
      ],
      "text/plain": [
       "           player pos  mp  starts     min   90s  gls  ast  crdy  crdr  ...  \\\n",
       "0     Lucas Perri  GK  32      32  2835.0  31.5  0.0  0.0   1.0   0.0  ...   \n",
       "1       Adryelson  DF  30      30  2562.0  28.5  1.0  1.0   5.0   1.0  ...   \n",
       "2   Víctor Cuesta  DF  29      29  2610.0  29.0  1.0  1.0   9.0   0.0  ...   \n",
       "3  Marlon Freitas  MF  30      27  2440.0  27.1  1.0  1.0   3.0   0.0  ...   \n",
       "4  Carlos Eduardo  MF  29      27  2352.0  26.1  5.0  5.0   5.0   0.0  ...   \n",
       "\n",
       "   xag  prgc   prgp  prgr  season         team       league         coach  \\\n",
       "0  0.1   0.0    2.0   0.0    2023  botafogo_rj  Brasileirao  Lúcio Flávio   \n",
       "1  0.3   2.0   49.0   3.0    2023  botafogo_rj  Brasileirao  Lúcio Flávio   \n",
       "2  0.7   7.0   86.0   6.0    2023  botafogo_rj  Brasileirao  Lúcio Flávio   \n",
       "3  1.6  24.0  176.0  16.0    2023  botafogo_rj  Brasileirao  Lúcio Flávio   \n",
       "4  5.5  28.0  139.0  80.0    2023  botafogo_rj  Brasileirao  Lúcio Flávio   \n",
       "\n",
       "  team_id league_id  \n",
       "0     1.0       0.0  \n",
       "1     1.0       0.0  \n",
       "2     1.0       0.0  \n",
       "3     1.0       0.0  \n",
       "4     1.0       0.0  \n",
       "\n",
       "[5 rows x 22 columns]"
      ]
     },
     "execution_count": 122,
     "metadata": {},
     "output_type": "execute_result"
    }
   ],
   "source": [
    "elencos.head()"
   ]
  },
  {
   "cell_type": "code",
   "execution_count": 123,
   "metadata": {},
   "outputs": [],
   "source": [
    "elencos['pos'] = elencos['pos'].str.split(',').str[0]"
   ]
  },
  {
   "cell_type": "code",
   "execution_count": 124,
   "metadata": {},
   "outputs": [],
   "source": [
    "elencos.to_excel(f'../datasets/xlsx/elencos.xlsx', index= False)"
   ]
  }
 ],
 "metadata": {
  "kernelspec": {
   "display_name": "base",
   "language": "python",
   "name": "python3"
  },
  "language_info": {
   "codemirror_mode": {
    "name": "ipython",
    "version": 3
   },
   "file_extension": ".py",
   "mimetype": "text/x-python",
   "name": "python",
   "nbconvert_exporter": "python",
   "pygments_lexer": "ipython3",
   "version": "3.11.6"
  }
 },
 "nbformat": 4,
 "nbformat_minor": 2
}

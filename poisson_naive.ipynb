{
 "cells": [
  {
   "cell_type": "code",
   "execution_count": 44,
   "metadata": {},
   "outputs": [],
   "source": [
    "import pandas as pd\n",
    "import numpy as np\n",
    "import matplotlib.pyplot as plt\n",
    "import seaborn as sns\n",
    "import statsmodels.api as sm\n",
    "from scipy import stats\n",
    "\n",
    "import warnings\n",
    "from pandas.errors import SettingWithCopyWarning\n",
    "warnings.simplefilter(action=\"ignore\", category=SettingWithCopyWarning)\n",
    "warnings.simplefilter(action='ignore', category=FutureWarning)"
   ]
  },
  {
   "cell_type": "markdown",
   "metadata": {},
   "source": [
    "$X= ``Número\\ de\\ gols\\ do\\ time\\ de\\ casa\" \\sim Poisson(\\lambda_x)\\\\$\n",
    "$Y= ``Número\\ de\\ gols\\ do\\ time\\ visitante\" \\sim Poisson(\\lambda_x)$"
   ]
  },
  {
   "cell_type": "markdown",
   "metadata": {},
   "source": [
    "$$P(X=x)=\\frac{\\lambda^{x}_{x}e^{-\\lambda_x}}{x!}\\qquad P(Y=y)=\\frac{\\lambda^{y}_{y}e^{-\\lambda_y}}{y!}\\\\$$"
   ]
  },
  {
   "cell_type": "markdown",
   "metadata": {},
   "source": [
    "$$P(X=x, Y=y)=P(X=x)P(Y=y)=\\frac{\\lambda_{x}^{x}\\lambda_{y}^{y}e^{-(\\lambda_x+\\lambda_y)}}{x!y!}$$"
   ]
  },
  {
   "cell_type": "code",
   "execution_count": 45,
   "metadata": {},
   "outputs": [],
   "source": [
    "tabela = pd.read_excel('dados/tabela/tabela-rodada_26.xlsx')\n",
    "historico_casa = pd.read_excel('dados/historico/historicocasa-rodada_26.xlsx')\n",
    "historico = pd.read_excel('dados/historico/historico-rodada_26.xlsx')\n",
    "rodadas = pd.read_excel('dados/previsoes/todas_rodadas.xlsx')\n",
    "\n",
    "rodada_atual = tabela['MP'].max()\n",
    "rodadas_futuras = rodadas[rodadas['gols_fora'].isna()]\n",
    "#rodadas_antigas = "
   ]
  },
  {
   "cell_type": "code",
   "execution_count": 46,
   "metadata": {},
   "outputs": [],
   "source": [
    "rodadas = rodadas.loc[rodadas['Home'].notna()]\n",
    "rodadas_futuras = rodadas[rodadas['gols_fora'].isna()]"
   ]
  },
  {
   "cell_type": "code",
   "execution_count": 47,
   "metadata": {},
   "outputs": [],
   "source": [
    "def preparar_estatisticas():\n",
    "  #ATT Rating = (Gols Feitos no campeonato/Partidas Jogadas)/gols_liga\n",
    "  #DEF Rating = (Gols Sofridos no campeonato/Partidas Jogadas)/gols_liga\n",
    "  #EXPECTED GOALS = ATTxDEFxAVGLeague\n",
    "\n",
    "  gols_feitos = tabela['GF']/tabela['MP']\n",
    "  gols_tomados = tabela['GA']/tabela['MP']\n",
    "  gols_liga = tabela['GF']/tabela['MP'].mean()\n",
    "\n",
    "  att_rating = gols_feitos/gols_liga\n",
    "  def_rating = gols_tomados/gols_liga\n",
    "\n",
    "  tabela['expG'] = att_rating*def_rating*gols_liga\n",
    "\n",
    "  #xG e Gols, fora e dentro de casa\n",
    "  for time in tabela['Squad']:\n",
    "    tabela.loc[tabela['Squad'] == time, 'xG_casa'] = historico_casa[historico_casa['Equipe'] == time]['xG'].mean()\n",
    "    tabela.loc[tabela['Squad'] == time, 'xG_fora'] = historico_casa[historico_casa['Opponent'] == time]['xGA'].mean()\n",
    "    tabela.loc[tabela['Squad'] == time, 'xG_total'] = tabela['xG_casa'] + tabela['xG_fora']\n",
    "    tabela.loc[tabela['Squad'] == time, 'GF_casa'] = historico_casa[historico_casa['Equipe'] == time]['GF'].mean()\n",
    "    tabela.loc[tabela['Squad'] == time, 'GF_fora'] = historico_casa[historico_casa['Opponent'] == time]['GA'].mean()\n",
    "    tabela.loc[tabela['Squad'] == time, 'GF_total'] = tabela['GF_casa'] + tabela['GF_fora']\n",
    "    tabela.loc[tabela['Squad'] == time, 'GA_casa'] = historico_casa[historico_casa['Equipe'] == time]['GA'].mean()\n",
    "    tabela.loc[tabela['Squad'] == time, 'GA_fora'] = historico_casa[historico_casa['Opponent'] == time]['GF'].mean()\n",
    "    tabela.loc[tabela['Squad'] == time, 'GA_total'] = tabela['GA_casa'] + tabela['GA_fora']\n",
    "    tabela.loc[tabela['Squad'] == time, 'xG_sofrido_casa'] = historico_casa[historico_casa['Equipe'] == time]['xGA'].mean()\n",
    "    tabela.loc[tabela['Squad'] == time, 'xG_sofrido_fora'] = historico_casa[historico_casa['Opponent'] == time]['xG'].mean()\n",
    "    \n",
    "\n",
    "  #Ultimos 5 jogos, xG e Gols, fora e dentro de casa\n",
    "  historico_5jogos = historico_casa[historico_casa['Round'] > rodada_atual-5]\n",
    "\n",
    "  for time in tabela['Squad']:\n",
    "    tabela.loc[tabela['Squad'] == time, 'xG_5casa'] = historico_5jogos[historico_5jogos['Equipe'] == time]['xG'].mean()\n",
    "    tabela.loc[tabela['Squad'] == time, 'xG_5fora'] = historico_5jogos[historico_5jogos['Opponent'] == time]['xGA'].mean()\n",
    "    tabela.loc[tabela['Squad'] == time, 'xG_5total'] = tabela['xG_casa'] + tabela['xG_fora']\n",
    "    tabela.loc[tabela['Squad'] == time, 'GF_5casa'] = historico_5jogos[historico_5jogos['Equipe'] == time]['GF'].mean()\n",
    "    tabela.loc[tabela['Squad'] == time, 'GF_5fora'] = historico_5jogos[historico_5jogos['Opponent'] == time]['GA'].mean()\n",
    "    tabela.loc[tabela['Squad'] == time, 'GF_5total'] = tabela['GF_5casa'] + tabela['GF_5fora']\n",
    "    tabela.loc[tabela['Squad'] == time, 'GA_5casa'] = historico_5jogos[historico_5jogos['Equipe'] == time]['GA'].mean()\n",
    "    tabela.loc[tabela['Squad'] == time, 'GA_5fora'] = historico_5jogos[historico_5jogos['Opponent'] == time]['GF'].mean()\n",
    "    tabela.loc[tabela['Squad'] == time, 'GA_5total'] = tabela['GA_5casa'] + tabela['GA_5fora']\n",
    "    tabela.loc[tabela['Squad'] == time, 'xG_sofrido_casa'] = historico_5jogos[historico_5jogos['Equipe'] == time]['xGA'].mean()\n",
    "    tabela.loc[tabela['Squad'] == time, 'xG_sofrido_fora'] = historico_5jogos[historico_5jogos['Opponent'] == time]['xG'].mean()"
   ]
  },
  {
   "cell_type": "code",
   "execution_count": 48,
   "metadata": {},
   "outputs": [],
   "source": [
    "def gerar_lambda(par_x, par_y, peso_x, peso_y, rodada):\n",
    "  df = rodadas_futuras[rodadas_futuras['Wk'] == rodada]\n",
    "  dem_x = (sum(peso_x[0])+sum(peso_x[1]))\n",
    "  dem_y = (sum(peso_y[0])+sum(peso_y[1]))\n",
    "\n",
    "  for time_casa, time_fora in zip(df['Home'], df['Away']):\n",
    "    # Time alvo == Casa\n",
    "    lambda_x0 = sum(tabela.loc[tabela['Squad'] == time_casa, par_x[0][i]]*peso_x[0][i] for i in range(len(par_x[0])))\n",
    "    lambda_x1 = sum(tabela.loc[tabela['Squad'] == time_fora, par_x[1][i]]*peso_x[1][i] for i in range(len(par_x[1])))\n",
    "    lambda_x = (float(lambda_x0) + float(lambda_x1))/dem_x\n",
    "    # Time alvo == Casa\n",
    "    lambda_y0 = sum(tabela.loc[tabela['Squad'] == time_fora, par_y[0][i]]*peso_y[0][i] for i in range(len(par_y[0])))\n",
    "    lambda_y1 = sum(tabela.loc[tabela['Squad'] == time_casa, par_y[1][i]]*peso_y[1][i] for i in range(len(par_y[1])))\n",
    "    lambda_y = (float(lambda_y0) + float(lambda_y1))/dem_y\n",
    "    \n",
    "    df.loc[df['Home'] == time_casa, 'lambda_x'] = float(lambda_x)\n",
    "    df.loc[df['Away'] == time_fora, 'lambda_y'] = float(lambda_y)\n",
    "\n",
    "  return df"
   ]
  },
  {
   "cell_type": "code",
   "execution_count": 49,
   "metadata": {},
   "outputs": [],
   "source": [
    "def prob_vitoria(rodada_df, rodada, lambdas):\n",
    "  rodada_df = rodada_df.loc[rodada_df['Wk'] == rodada]\n",
    "  prob_gol = {}\n",
    "  times_casa = []\n",
    "  times_fora = []\n",
    "  \n",
    "  # Times casa\n",
    "  for time in rodada_df['Home']:\n",
    "    prob_gol[time] = []\n",
    "    times_casa.append(time)\n",
    "    for k in range(0, 16):\n",
    "      prob_gol[time].append(stats.poisson.pmf(k, lambdas.loc[lambdas['Home'] == time, 'lambda_x']))\n",
    "  \n",
    "  # Times Fora\n",
    "  for time in rodada_df['Away']:\n",
    "    prob_gol[time] = []\n",
    "    times_fora.append(time)\n",
    "    for k in range(0, 16):\n",
    "      prob_gol[time].append(stats.poisson.pmf(k, lambdas.loc[lambdas['Away'] == time, 'lambda_y']))\n",
    "\n",
    "  casa_vitoria = {}\n",
    "  fora_vitoria = {}\n",
    "\n",
    "  for time_casa, time_fora in zip(times_casa, times_fora): \n",
    "    casa_vitoria[time_casa] = []\n",
    "    fora_vitoria[time_fora] = []\n",
    "    for i in range(1, 11):\n",
    "      casa_vitoria[time_casa].append(prob_gol[time_casa][i] * sum(prob_gol[time_fora][:i]))\n",
    "      fora_vitoria[time_fora].append(prob_gol[time_fora][i] * sum(prob_gol[time_casa][:i]))\n",
    "    casa_vitoria[time_casa] = sum(casa_vitoria[time_casa])\n",
    "    fora_vitoria[time_fora] = sum(fora_vitoria[time_fora])\n",
    "    rodada_df.loc[rodada_df['Home'] == time_casa, 'vitoria_casa'] = casa_vitoria[time_casa]\n",
    "    rodada_df.loc[rodada_df['Away'] == time_fora, 'vitoria_fora'] = fora_vitoria[time_fora]\n",
    "    rodada_df.loc[rodada_df['Away'] == time_fora, 'empate'] = 1- (rodada_df.loc[rodada_df['Home'] == time_casa, 'vitoria_casa'] + rodada_df.loc[rodada_df['Away'] == time_fora, 'vitoria_fora'])\n",
    "    \n",
    "\n",
    "  return rodada_df, prob_gol"
   ]
  },
  {
   "cell_type": "code",
   "execution_count": 50,
   "metadata": {},
   "outputs": [],
   "source": [
    "def prob_gols(rodadas_prob, prob_gol):\n",
    "  rodadas_probgols = pd.DataFrame.from_dict(prob_gol, orient='index').astype(float)\n",
    "\n",
    "  df_casa = pd.DataFrame()\n",
    "  for time in rodadas_prob['Home']:\n",
    "    linha_casa = pd.DataFrame(rodadas_probgols.loc[time,]).T\n",
    "    linha_casa['Home'] = time\n",
    "    df_casa = pd.concat([df_casa, linha_casa])\n",
    "\n",
    "  df_fora = pd.DataFrame()\n",
    "  for time in rodadas_prob['Away']:\n",
    "    linha_fora = pd.DataFrame(rodadas_probgols.loc[time,]).T\n",
    "    linha_fora['Away'] = time\n",
    "    df_fora = pd.concat([df_fora, linha_fora])\n",
    "\n",
    "\n",
    "  df_qsefinal = pd.merge(rodadas_prob, df_casa, on='Home')\n",
    "  df_qsefinal = pd.merge(df_qsefinal, df_fora, on='Away')\n",
    "  df_final = pd.merge(rodadas_futuras, df_qsefinal, on= ['Wk', 'Day', 'Date', 'Home', 'xGCasa', 'gols_casa', 'gols_fora', 'xGFora', 'Away'], how='left')\n",
    "\n",
    "\n",
    "  return df_final, df_qsefinal"
   ]
  },
  {
   "cell_type": "code",
   "execution_count": 53,
   "metadata": {},
   "outputs": [],
   "source": [
    "par_x = [['xG_total', 'xG_casa', 'GF_total', 'GF_casa', 'xG_5total', 'xG_5casa', 'GF_5total', 'GF_5casa'], #Ataque casa\n",
    "        ['GA_total', 'GA_fora', 'xG_total', 'xG_fora', 'xG_5total', 'xG_5fora', 'GA_5total', 'GA_5fora']]  #Defesa fora\n",
    "pes_x = [[1, 1, 1, 1, 1, 1, 1, 1, 1], [1, 1, 1, 1, 1, 1, 1, 1, 1]]\n",
    "\n",
    "\n",
    "par_y = [['xG_total', 'xG_fora', 'GF_total', 'GF_fora', 'xG_5total', 'xG_5fora', 'GF_5total', 'GF_5fora'], #Ataque fora\n",
    "        ['GA_total', 'GA_casa', 'xG_total', 'xG_casa', 'xG_5total', 'xG_5casa', 'GA_5total', 'GA_5casa']]  #Defesa casa\n",
    "pes_y = [[1, 1, 1, 1, 1, 1, 1, 1, 1], [1, 1, 1, 1, 1, 1, 1, 1, 1]]"
   ]
  },
  {
   "cell_type": "code",
   "execution_count": 54,
   "metadata": {},
   "outputs": [],
   "source": [
    "preparar_estatisticas()"
   ]
  },
  {
   "cell_type": "code",
   "execution_count": 55,
   "metadata": {},
   "outputs": [],
   "source": [
    "lambdas = gerar_lambda(par_x, par_y, pes_x, pes_y, rodada_atual+1)"
   ]
  },
  {
   "cell_type": "code",
   "execution_count": 56,
   "metadata": {},
   "outputs": [],
   "source": [
    "rodadas_prob, prob_gol = prob_vitoria(rodadas_futuras, rodada_atual+1, lambdas)"
   ]
  },
  {
   "cell_type": "code",
   "execution_count": 57,
   "metadata": {},
   "outputs": [],
   "source": [
    "rodadas_futuras_prob, rodada_futura_prob = prob_gols(rodadas_prob, prob_gol)"
   ]
  },
  {
   "cell_type": "code",
   "execution_count": 59,
   "metadata": {},
   "outputs": [],
   "source": [
    "rodadas_futuras_prob.to_excel('dados/previsoes/todas_previsoes.xlsx')\n",
    "rodada_futura_prob.to_excel(f'dados/previsoes/previsao_rodada-{rodada_atual+1}.xlsx')"
   ]
  }
 ],
 "metadata": {
  "kernelspec": {
   "display_name": "base",
   "language": "python",
   "name": "python3"
  },
  "language_info": {
   "codemirror_mode": {
    "name": "ipython",
    "version": 3
   },
   "file_extension": ".py",
   "mimetype": "text/x-python",
   "name": "python",
   "nbconvert_exporter": "python",
   "pygments_lexer": "ipython3",
   "version": "3.11.6"
  }
 },
 "nbformat": 4,
 "nbformat_minor": 2
}

{
 "cells": [
  {
   "cell_type": "code",
   "execution_count": 806,
   "metadata": {},
   "outputs": [],
   "source": [
    "import pandas as pd\n",
    "import numpy as np\n",
    "import statsmodels.api as sm\n",
    "import statsmodels.formula.api as smf\n",
    "\n",
    "from scipy import stats"
   ]
  },
  {
   "cell_type": "code",
   "execution_count": 807,
   "metadata": {},
   "outputs": [],
   "source": [
    "league = {'brasileirao_a': ['Brasileirao'],\n",
    "          'premier_league': ['Premier_League'],}\n",
    "\n",
    "\n",
    "liga = league['brasileirao_a'][0]"
   ]
  },
  {
   "cell_type": "code",
   "execution_count": 808,
   "metadata": {},
   "outputs": [],
   "source": [
    "historico = pd.read_excel(f'../datasets/{liga}/match_history/all_games/historico-2015a2023.xlsx')\n",
    "rodadas = pd.read_excel(f'../datasets/{liga}/rounds/all_rounds/rodadas.xlsx')\n",
    "tabela = pd.read_excel(f'../datasets/{liga}/standings/all_standings/season-2023/tabela-rodada29.xlsx')"
   ]
  },
  {
   "cell_type": "code",
   "execution_count": 809,
   "metadata": {},
   "outputs": [],
   "source": [
    "historico['date'] = pd.to_datetime(historico['date'], format='%Y-%m-%d')\n",
    "historico['days'] = (max(historico['date']) - historico['date']).dt.days\n",
    "historico['time_diff'] = np.exp(-0.005*historico['days'])"
   ]
  },
  {
   "cell_type": "code",
   "execution_count": 810,
   "metadata": {},
   "outputs": [],
   "source": [
    "#historico = historico[historico['season'] == 2023]"
   ]
  },
  {
   "cell_type": "code",
   "execution_count": 811,
   "metadata": {},
   "outputs": [],
   "source": [
    "train = historico[historico['date'] < '2023-10-01'].dropna()\n",
    "test = rodadas[rodadas['wk'] > 24].dropna()"
   ]
  },
  {
   "cell_type": "code",
   "execution_count": 812,
   "metadata": {},
   "outputs": [],
   "source": [
    "class Modelagem:\n",
    "  # Fit no modelo\n",
    "  def __init__(self, formula, data, max_goals= 5, output= None):\n",
    "    self.modelo = smf.glm(formula= formula, data= data, family= sm.families.Poisson()).fit()\n",
    "    self.max_goals = max_goals\n",
    "    if output is not None:\n",
    "      print(self.modelo.summary())\n",
    "\n",
    "  # Gerar Lambda\n",
    "  def lambd(self, team, opponent, venue, stat, fator_casa= None):\n",
    "    if fator_casa is True:\n",
    "      string = 'casa' if venue == 'Home' else 'fora'\n",
    "    else:\n",
    "      string = 'total'\n",
    "\n",
    "    data = {\n",
    "        'team': team,\n",
    "        'opponent': opponent,\n",
    "        'venue': venue,\n",
    "        'xg': float(stat[f'xg_{string}']),\n",
    "        'xga': float(stat[f'xga_{string}']),\n",
    "        'poss': float(stat[f'poss_{string}']),\n",
    "        'sot': float(stat[f'sot_{string}']),\n",
    "        'sh': float(stat[f'sh_{string}']),\n",
    "        'time_diff': 1\n",
    "    }\n",
    "    return self.modelo.predict(pd.DataFrame(data, index=[0])).values[0]\n",
    "\n",
    "  # Matriz de gols\n",
    "  def matrix(self, lambda_x, lambda_y):\n",
    "    prob_x = [stats.poisson.pmf(i, lambda_x) for i in range(0, self.max_goals+1)]\n",
    "    prob_y = [stats.poisson.pmf(i, lambda_y) for i in range(0, self.max_goals+1)]\n",
    "\n",
    "    return np.outer(prob_x, prob_y)\n",
    "  \n",
    "  # Função Final de Previsao de rodadas\n",
    "  def predict_scores(self, matches, stats):\n",
    "    for index, match in matches.iterrows():\n",
    "      lambda_x = self.lambd(match['home'], match['away'], 'Home', stats.loc[stats['squad'] == match['home']], fator_casa= True)\n",
    "      lambda_y = self.lambd(match['away'], match['home'], 'Away', stats.loc[stats['squad'] == match['away']], fator_casa= True)\n",
    "      matrix_scores = self.matrix(lambda_x, lambda_y)\n",
    "      \n",
    "      matches.loc[index, 'vit_casa'] = np.sum(np.tril(matrix_scores, -1))\n",
    "      matches.loc[index, 'empate'] = np.sum(np.diag(matrix_scores))\n",
    "      matches.loc[index, 'vit_fora'] = np.sum(np.triu(matrix_scores, 1))\n",
    "    \n",
    "    return matches[['wk','xg_casa','xg_fora','home','gols_casa','gols_fora','away','vit_casa','empate','vit_fora']]\n",
    "  \n",
    "  # Teste acuracia\n",
    "  def accuracy_score(self, matches):\n",
    "    for index, match in matches.iterrows():\n",
    "      #Gols\n",
    "      if match['gols_casa'] > match['gols_fora']:\n",
    "        matches.loc[index, 'resultado1'] = 'casa'\n",
    "      elif match['gols_fora'] > match['gols_casa']:\n",
    "        matches.loc[index, 'resultado1'] = 'fora'\n",
    "      else:\n",
    "        matches.loc[index, 'resultado1'] = 'empate'\n",
    "      \n",
    "      #Probabilidade\n",
    "      if match['vit_casa'] > match['vit_fora'] and match['vit_casa'] > match['empate']:\n",
    "        matches.loc[index, 'resultado2'] = 'casa'\n",
    "      elif match['vit_fora'] > match['vit_casa'] and match['vit_fora'] > match['empate']:\n",
    "        matches.loc[index, 'resultado2'] = 'fora'\n",
    "      else:\n",
    "        matches.loc[index, 'resultado2'] = 'empate'\n",
    "\n",
    "    #Conclusao\n",
    "    for index, match in matches.iterrows():\n",
    "      if match['resultado1'] == match['resultado2']:\n",
    "        matches.loc[index, 'resultado'] = 'acerto'\n",
    "      else:\n",
    "        matches.loc[index, 'resultado'] = 'fracasso'\n",
    "\n",
    "    matches = matches.drop(['resultado1', 'resultado2'], axis= 1)\n",
    "    score = matches['resultado'].value_counts()['acerto']/len(matches['resultado'])\n",
    "\n",
    "    return matches, score\n",
    "        "
   ]
  },
  {
   "cell_type": "code",
   "execution_count": 813,
   "metadata": {},
   "outputs": [
    {
     "data": {
      "text/plain": [
       "Index(['date', 'comp', 'round', 'day', 'venue', 'result', 'gf', 'ga',\n",
       "       'opponent', 'xg', 'xga', 'poss', 'sh', 'sot', 'season', 'team', 'days',\n",
       "       'time_diff'],\n",
       "      dtype='object')"
      ]
     },
     "execution_count": 813,
     "metadata": {},
     "output_type": "execute_result"
    }
   ],
   "source": [
    "train.columns"
   ]
  },
  {
   "cell_type": "code",
   "execution_count": 814,
   "metadata": {},
   "outputs": [],
   "source": [
    "model = Modelagem(formula= 'gf ~ team*venue*poss*xg*sh + time_diff + opponent', data= train) #"
   ]
  },
  {
   "cell_type": "code",
   "execution_count": 815,
   "metadata": {},
   "outputs": [],
   "source": [
    "pred = model.predict_scores(test, tabela)"
   ]
  },
  {
   "cell_type": "code",
   "execution_count": 816,
   "metadata": {},
   "outputs": [],
   "source": [
    "pred, score = model.accuracy_score(pred)"
   ]
  },
  {
   "cell_type": "code",
   "execution_count": 817,
   "metadata": {},
   "outputs": [
    {
     "data": {
      "text/plain": [
       "0.40816326530612246"
      ]
     },
     "execution_count": 817,
     "metadata": {},
     "output_type": "execute_result"
    }
   ],
   "source": [
    "score"
   ]
  },
  {
   "cell_type": "code",
   "execution_count": 818,
   "metadata": {},
   "outputs": [
    {
     "data": {
      "text/html": [
       "<div>\n",
       "<style scoped>\n",
       "    .dataframe tbody tr th:only-of-type {\n",
       "        vertical-align: middle;\n",
       "    }\n",
       "\n",
       "    .dataframe tbody tr th {\n",
       "        vertical-align: top;\n",
       "    }\n",
       "\n",
       "    .dataframe thead th {\n",
       "        text-align: right;\n",
       "    }\n",
       "</style>\n",
       "<table border=\"1\" class=\"dataframe\">\n",
       "  <thead>\n",
       "    <tr style=\"text-align: right;\">\n",
       "      <th></th>\n",
       "      <th>wk</th>\n",
       "      <th>xg_casa</th>\n",
       "      <th>xg_fora</th>\n",
       "      <th>home</th>\n",
       "      <th>gols_casa</th>\n",
       "      <th>gols_fora</th>\n",
       "      <th>away</th>\n",
       "      <th>vit_casa</th>\n",
       "      <th>empate</th>\n",
       "      <th>vit_fora</th>\n",
       "      <th>resultado</th>\n",
       "    </tr>\n",
       "  </thead>\n",
       "  <tbody>\n",
       "    <tr>\n",
       "      <th>240</th>\n",
       "      <td>25</td>\n",
       "      <td>1.9</td>\n",
       "      <td>1.5</td>\n",
       "      <td>fortaleza</td>\n",
       "      <td>1.0</td>\n",
       "      <td>1.0</td>\n",
       "      <td>gremio</td>\n",
       "      <td>0.422261</td>\n",
       "      <td>0.271207</td>\n",
       "      <td>0.302945</td>\n",
       "      <td>fracasso</td>\n",
       "    </tr>\n",
       "    <tr>\n",
       "      <th>241</th>\n",
       "      <td>25</td>\n",
       "      <td>1.4</td>\n",
       "      <td>0.5</td>\n",
       "      <td>flamengo</td>\n",
       "      <td>1.0</td>\n",
       "      <td>0.0</td>\n",
       "      <td>bahia</td>\n",
       "      <td>0.675898</td>\n",
       "      <td>0.171334</td>\n",
       "      <td>0.118160</td>\n",
       "      <td>acerto</td>\n",
       "    </tr>\n",
       "    <tr>\n",
       "      <th>242</th>\n",
       "      <td>25</td>\n",
       "      <td>1.2</td>\n",
       "      <td>0.2</td>\n",
       "      <td>cuiaba</td>\n",
       "      <td>3.0</td>\n",
       "      <td>0.0</td>\n",
       "      <td>fluminense</td>\n",
       "      <td>0.303272</td>\n",
       "      <td>0.284955</td>\n",
       "      <td>0.409389</td>\n",
       "      <td>fracasso</td>\n",
       "    </tr>\n",
       "    <tr>\n",
       "      <th>243</th>\n",
       "      <td>25</td>\n",
       "      <td>2.3</td>\n",
       "      <td>0.2</td>\n",
       "      <td>sao_paulo</td>\n",
       "      <td>2.0</td>\n",
       "      <td>1.0</td>\n",
       "      <td>corinthians</td>\n",
       "      <td>0.520575</td>\n",
       "      <td>0.273576</td>\n",
       "      <td>0.202403</td>\n",
       "      <td>acerto</td>\n",
       "    </tr>\n",
       "    <tr>\n",
       "      <th>244</th>\n",
       "      <td>25</td>\n",
       "      <td>0.5</td>\n",
       "      <td>0.9</td>\n",
       "      <td>coritiba</td>\n",
       "      <td>2.0</td>\n",
       "      <td>0.0</td>\n",
       "      <td>ath_paranaense</td>\n",
       "      <td>0.231126</td>\n",
       "      <td>0.275529</td>\n",
       "      <td>0.490079</td>\n",
       "      <td>fracasso</td>\n",
       "    </tr>\n",
       "  </tbody>\n",
       "</table>\n",
       "</div>"
      ],
      "text/plain": [
       "     wk  xg_casa  xg_fora       home  gols_casa  gols_fora            away  \\\n",
       "240  25      1.9      1.5  fortaleza        1.0        1.0          gremio   \n",
       "241  25      1.4      0.5   flamengo        1.0        0.0           bahia   \n",
       "242  25      1.2      0.2     cuiaba        3.0        0.0      fluminense   \n",
       "243  25      2.3      0.2  sao_paulo        2.0        1.0     corinthians   \n",
       "244  25      0.5      0.9   coritiba        2.0        0.0  ath_paranaense   \n",
       "\n",
       "     vit_casa    empate  vit_fora resultado  \n",
       "240  0.422261  0.271207  0.302945  fracasso  \n",
       "241  0.675898  0.171334  0.118160    acerto  \n",
       "242  0.303272  0.284955  0.409389  fracasso  \n",
       "243  0.520575  0.273576  0.202403    acerto  \n",
       "244  0.231126  0.275529  0.490079  fracasso  "
      ]
     },
     "execution_count": 818,
     "metadata": {},
     "output_type": "execute_result"
    }
   ],
   "source": [
    "pred.head()"
   ]
  }
 ],
 "metadata": {
  "kernelspec": {
   "display_name": "base",
   "language": "python",
   "name": "python3"
  },
  "language_info": {
   "codemirror_mode": {
    "name": "ipython",
    "version": 3
   },
   "file_extension": ".py",
   "mimetype": "text/x-python",
   "name": "python",
   "nbconvert_exporter": "python",
   "pygments_lexer": "ipython3",
   "version": "3.11.6"
  }
 },
 "nbformat": 4,
 "nbformat_minor": 2
}
